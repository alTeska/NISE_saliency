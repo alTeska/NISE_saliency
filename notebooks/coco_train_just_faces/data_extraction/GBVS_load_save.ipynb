{
 "cells": [
  {
   "cell_type": "code",
   "execution_count": 1,
   "metadata": {},
   "outputs": [],
   "source": [
    "import pickle\n",
    "import numpy as np\n",
    "import pandas as pd"
   ]
  },
  {
   "cell_type": "code",
   "execution_count": 2,
   "metadata": {},
   "outputs": [],
   "source": [
    "(results, cxt, mod, labels) = pickle.load(open( \"2019-10-01_gbvs.p\", \"rb\"))\n"
   ]
  },
  {
   "cell_type": "code",
   "execution_count": 3,
   "metadata": {},
   "outputs": [
    {
     "data": {
      "text/plain": [
       "array([[[0.93324565, 0.45689922, 4.23052611, 0.7522482 , 0.41921356,\n",
       "         0.09100666, 2.65707753, 0.0873414 ],\n",
       "        [1.06897753, 0.47726121, 4.30413074, 0.76864232, 0.45725376,\n",
       "         0.08933909, 2.63914747, 0.0870795 ],\n",
       "        [1.18157322, 0.50038677, 4.3475507 , 0.77309718, 0.52174059,\n",
       "         0.08745727, 2.61981812, 0.08655833],\n",
       "        [1.26681666, 0.53877329, 4.35425926, 0.77475771, 0.63411961,\n",
       "         0.08177701, 2.59230966, 0.08552728]],\n",
       "\n",
       "       [[0.94067248, 0.45354017, 4.18441597, 0.7538697 , 0.41901184,\n",
       "         0.08731551, 2.63215748, 0.08680436],\n",
       "        [1.08010098, 0.47443088, 4.25993642, 0.77067076, 0.4551697 ,\n",
       "         0.08628847, 2.6137551 , 0.08620804],\n",
       "        [1.19639737, 0.4982593 , 4.30509388, 0.77526336, 0.51784257,\n",
       "         0.08512725, 2.59420613, 0.0855576 ],\n",
       "        [1.28615678, 0.53807532, 4.31369735, 0.77700933, 0.62844861,\n",
       "         0.08029445, 2.56591053, 0.08446677]],\n",
       "\n",
       "       [[0.70210459, 0.56144085, 5.66558636, 0.7017833 , 0.35476678,\n",
       "         0.13223954, 3.00610698, 0.08894193],\n",
       "        [0.72278853, 0.56534798, 5.67956594, 0.70551246, 0.38021618,\n",
       "         0.12902492, 3.02716295, 0.09038408],\n",
       "        [0.7202092 , 0.5665989 , 5.66891091, 0.70568041, 0.42265239,\n",
       "         0.12505602, 3.03603245, 0.09034291],\n",
       "        [0.66490503, 0.56049571, 5.61664534, 0.70468175, 0.50100522,\n",
       "         0.11695551, 3.05176494, 0.08864117]],\n",
       "\n",
       "       [[0.93448776, 0.43963202, 4.21789624, 0.75379711, 0.40120172,\n",
       "         0.07702715, 2.93025411, 0.0871984 ],\n",
       "        [1.03859196, 0.45552383, 4.27826774, 0.76663031, 0.41048525,\n",
       "         0.07569268, 2.95093935, 0.08448261],\n",
       "        [1.12691035, 0.47446313, 4.31648935, 0.77013312, 0.4465931 ,\n",
       "         0.07443555, 2.95561547, 0.08369337],\n",
       "        [1.19014186, 0.50834248, 4.32872035, 0.77189991, 0.53894207,\n",
       "         0.07095379, 2.96177012, 0.08215753]],\n",
       "\n",
       "       [[1.00384463, 0.45595568, 4.39362957, 0.76103586, 0.4146621 ,\n",
       "         0.08843901, 2.55787296, 0.08731011],\n",
       "        [1.13906871, 0.474417  , 4.43989536, 0.77439434, 0.46390277,\n",
       "         0.08769803, 2.51519291, 0.08906991],\n",
       "        [1.25502891, 0.49600327, 4.47149722, 0.77843457, 0.54063667,\n",
       "         0.08689772, 2.47646614, 0.08925277],\n",
       "        [1.34908625, 0.53446685, 4.45790103, 0.78071439, 0.66695583,\n",
       "         0.08331507, 2.4297246 , 0.08818349]],\n",
       "\n",
       "       [[0.95283782, 0.45162432, 4.24537675, 0.75691103, 0.43675825,\n",
       "         0.08029911, 2.69211689, 0.08701123],\n",
       "        [1.08424188, 0.47148614, 4.31383497, 0.77183323, 0.47103725,\n",
       "         0.07981375, 2.67554499, 0.0869308 ],\n",
       "        [1.19483251, 0.49435948, 4.35537574, 0.77598588, 0.52819225,\n",
       "         0.07926918, 2.65011228, 0.08615203],\n",
       "        [1.28032587, 0.53304951, 4.35813534, 0.77764562, 0.63124212,\n",
       "         0.07650595, 2.61401639, 0.08480277]]])"
      ]
     },
     "execution_count": 3,
     "metadata": {},
     "output_type": "execute_result"
    }
   ],
   "source": [
    "results"
   ]
  },
  {
   "cell_type": "code",
   "execution_count": 4,
   "metadata": {},
   "outputs": [
    {
     "data": {
      "text/plain": [
       "['all', 'person', 'no person', 'animal', 'sports', 'electronic']"
      ]
     },
     "execution_count": 4,
     "metadata": {},
     "output_type": "execute_result"
    }
   ],
   "source": [
    "cxt"
   ]
  },
  {
   "cell_type": "code",
   "execution_count": 5,
   "metadata": {},
   "outputs": [
    {
     "data": {
      "text/plain": [
       "['gbvs', 'gbvs_face_03', 'gbvs_face_05', 'gbvs_face_07']"
      ]
     },
     "execution_count": 5,
     "metadata": {},
     "output_type": "execute_result"
    }
   ],
   "source": [
    "mod"
   ]
  },
  {
   "cell_type": "code",
   "execution_count": 6,
   "metadata": {},
   "outputs": [
    {
     "data": {
      "text/plain": [
       "['nss mean',\n",
       " 'sim mean',\n",
       " 'ig mean',\n",
       " 'auc mean',\n",
       " 'nss std',\n",
       " 'sim std',\n",
       " 'ig std',\n",
       " 'auc std']"
      ]
     },
     "execution_count": 6,
     "metadata": {},
     "output_type": "execute_result"
    }
   ],
   "source": [
    "labels"
   ]
  },
  {
   "cell_type": "code",
   "execution_count": 7,
   "metadata": {},
   "outputs": [
    {
     "data": {
      "text/plain": [
       "(6, 4, 8)"
      ]
     },
     "execution_count": 7,
     "metadata": {},
     "output_type": "execute_result"
    }
   ],
   "source": [
    "np.shape(results)"
   ]
  },
  {
   "cell_type": "markdown",
   "metadata": {},
   "source": [
    "## Split by metric"
   ]
  },
  {
   "cell_type": "code",
   "execution_count": 8,
   "metadata": {},
   "outputs": [],
   "source": [
    "gbvs_nss_mean = results[:,:,0]\n",
    "gbvs_sim_mean = results[:,:,1]\n",
    "gbvs_ig_mean = results[:,:,2]\n",
    "gbvs_auc_mean = results[:,:,3]\n",
    "gbvs_nss_std = results[:,:,4]\n",
    "gbvs_sim_std = results[:,:,5]\n",
    "gbvs_ig_std = results[:,:,6]\n",
    "gbvs_auc_std = results[:,:,7]"
   ]
  },
  {
   "cell_type": "code",
   "execution_count": 9,
   "metadata": {},
   "outputs": [],
   "source": [
    "GBVS_nss_m = pd.DataFrame(data=gbvs_nss_mean, columns=mod, index=cxt)\n",
    "GBVS_sim_m = pd.DataFrame(data=gbvs_sim_mean, columns=mod, index=cxt)\n",
    "GBVS_ig_m = pd.DataFrame(data=gbvs_ig_mean, columns=mod, index=cxt)\n",
    "GBVS_auc_m = pd.DataFrame(data=gbvs_auc_mean, columns=mod, index=cxt)\n",
    "GBVS_nss_s = pd.DataFrame(data=gbvs_nss_std, columns=mod, index=cxt)\n",
    "GBVS_sim_s = pd.DataFrame(data=gbvs_sim_std, columns=mod, index=cxt)\n",
    "GBVS_ig_s  = pd.DataFrame(data=gbvs_ig_std, columns=mod, index=cxt)\n",
    "GBVS_auc_s = pd.DataFrame(data=gbvs_auc_std, columns=mod, index=cxt)\n"
   ]
  },
  {
   "cell_type": "code",
   "execution_count": 10,
   "metadata": {},
   "outputs": [],
   "source": [
    "GBVS_nss_m.to_csv('GBVS_nss_m.csv')\n",
    "GBVS_sim_m.to_csv('GBVS_sim_m.csv')\n",
    "GBVS_ig_m.to_csv('GBVS_ig_m.csv')\n",
    "GBVS_auc_m.to_csv('GBVS_auc_m.csv')\n",
    "GBVS_nss_s.to_csv('GBVS_nss_s.csv')\n",
    "GBVS_sim_s.to_csv('GBVS_sim_s.csv')\n",
    "GBVS_ig_s.to_csv('GBVS_ig_s.csv')\n",
    "GBVS_auc_s.to_csv('GBVS_auc_s.csv')"
   ]
  },
  {
   "cell_type": "code",
   "execution_count": null,
   "metadata": {},
   "outputs": [],
   "source": []
  }
 ],
 "metadata": {
  "kernelspec": {
   "display_name": "saliency",
   "language": "python",
   "name": "myenv"
  },
  "language_info": {
   "codemirror_mode": {
    "name": "ipython",
    "version": 3
   },
   "file_extension": ".py",
   "mimetype": "text/x-python",
   "name": "python",
   "nbconvert_exporter": "python",
   "pygments_lexer": "ipython3",
   "version": "3.7.1"
  }
 },
 "nbformat": 4,
 "nbformat_minor": 2
}
