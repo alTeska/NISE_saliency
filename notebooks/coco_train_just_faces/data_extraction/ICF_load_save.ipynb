{
 "cells": [
  {
   "cell_type": "code",
   "execution_count": 1,
   "metadata": {},
   "outputs": [],
   "source": [
    "import pickle\n",
    "import numpy as np\n",
    "import pandas as pd"
   ]
  },
  {
   "cell_type": "code",
   "execution_count": 2,
   "metadata": {},
   "outputs": [],
   "source": [
    "(results, cxt, mod, labels) = pickle.load(open( \"2019-10-01_icf_dg.p\", \"rb\"))\n"
   ]
  },
  {
   "cell_type": "code",
   "execution_count": 3,
   "metadata": {},
   "outputs": [
    {
     "data": {
      "text/plain": [
       "array([[[0.91573729, 0.46368494, 4.0501977 , 0.72817196, 0.56104372,\n",
       "         0.09575357, 2.82253747, 0.09876789],\n",
       "        [1.06219881, 0.49370948, 4.06814194, 0.73869825, 0.60460617,\n",
       "         0.09570423, 2.82199498, 0.09765679],\n",
       "        [1.15487252, 0.51995341, 4.04532938, 0.74205674, 0.66029769,\n",
       "         0.09285002, 2.86126261, 0.09699785],\n",
       "        [1.19739054, 0.54884506, 3.81840542, 0.74608513, 0.73209646,\n",
       "         0.08521321, 2.99582979, 0.09532446],\n",
       "        [1.32906477, 0.62760501, 2.85717431, 0.79405609, 0.8278465 ,\n",
       "         0.07357418, 3.65809657, 0.08149218]],\n",
       "\n",
       "       [[0.92736511, 0.46169433, 4.00628163, 0.7302131 , 0.55952976,\n",
       "         0.09352076, 2.79278587, 0.09751636],\n",
       "        [1.07732425, 0.49249246, 4.02519065, 0.74091619, 0.60071872,\n",
       "         0.09407467, 2.79050737, 0.09619758],\n",
       "        [1.17290103, 0.51957085, 4.00242915, 0.74438693, 0.65501384,\n",
       "         0.09146345, 2.83074699, 0.09547288],\n",
       "        [1.21856236, 0.54973144, 3.77531368, 0.74852335, 0.72632733,\n",
       "         0.08361741, 2.96165333, 0.09371019],\n",
       "        [1.34434591, 0.62713451, 2.80733102, 0.79596887, 0.82754056,\n",
       "         0.07305032, 3.63836597, 0.08042029]],\n",
       "\n",
       "       [[0.553851  , 0.52563737, 5.41697333, 0.66464671, 0.48207828,\n",
       "         0.13549924, 3.35232542, 0.11504521],\n",
       "        [0.59145813, 0.53158616, 5.4048911 , 0.66967047, 0.53165804,\n",
       "         0.13154211, 3.40872931, 0.11585613],\n",
       "        [0.59378093, 0.53185972, 5.38048949, 0.66953569, 0.57214639,\n",
       "         0.12817395, 3.42822276, 0.11452116],\n",
       "        [0.53847158, 0.52125879, 5.15952606, 0.6702018 , 0.59135398,\n",
       "         0.121905  , 3.66814769, 0.11243039],\n",
       "        [0.85347834, 0.64224786, 4.40841926, 0.73452569, 0.6838433 ,\n",
       "         0.08707681, 3.92154162, 0.09156733]],\n",
       "\n",
       "       [[0.84776909, 0.4394576 , 3.95414167, 0.71194392, 0.55019831,\n",
       "         0.08788886, 3.16300248, 0.10209388],\n",
       "        [0.95434182, 0.46275081, 3.9388237 , 0.71952013, 0.5728477 ,\n",
       "         0.08598161, 3.20758041, 0.09956234],\n",
       "        [1.02669438, 0.48150141, 3.89318443, 0.72272819, 0.60158845,\n",
       "         0.08164707, 3.21344711, 0.09793985],\n",
       "        [1.06216929, 0.50454905, 3.45082579, 0.72806031, 0.64111606,\n",
       "         0.07452335, 3.58820824, 0.09547568],\n",
       "        [1.30913177, 0.61088898, 2.89224235, 0.79439793, 0.71783737,\n",
       "         0.07754075, 4.00543027, 0.08593291]],\n",
       "\n",
       "       [[1.03698486, 0.47572461, 4.07208488, 0.75356014, 0.56970157,\n",
       "         0.09792246, 2.93277805, 0.09090194],\n",
       "        [1.18147715, 0.50613352, 4.07468711, 0.76267899, 0.62763477,\n",
       "         0.09879839, 2.94128865, 0.09060703],\n",
       "        [1.27742134, 0.53365479, 3.98903271, 0.76651755, 0.6974039 ,\n",
       "         0.09701863, 3.04164554, 0.0893675 ],\n",
       "        [1.32061629, 0.56307816, 3.59694183, 0.77125203, 0.78574353,\n",
       "         0.08836471, 3.37228274, 0.0868237 ],\n",
       "        [1.47832188, 0.6376476 , 2.15727347, 0.81488716, 0.92911011,\n",
       "         0.07663137, 4.88424783, 0.07688437]],\n",
       "\n",
       "       [[0.92173684, 0.45583734, 4.05613448, 0.72947581, 0.55190989,\n",
       "         0.08910116, 2.83519279, 0.09995555],\n",
       "        [1.07320409, 0.4856588 , 4.0707663 , 0.73984065, 0.59567938,\n",
       "         0.08953539, 2.84368304, 0.09784079],\n",
       "        [1.17020572, 0.51261766, 4.03855364, 0.74320014, 0.65251346,\n",
       "         0.08695814, 2.91553553, 0.0968604 ],\n",
       "        [1.21236418, 0.54249957, 3.82165836, 0.74744001, 0.72235641,\n",
       "         0.07898703, 3.02251999, 0.09473363],\n",
       "        [1.34157098, 0.62371014, 2.97946718, 0.79569141, 0.77399886,\n",
       "         0.072778  , 3.42489228, 0.07732781]]])"
      ]
     },
     "execution_count": 3,
     "metadata": {},
     "output_type": "execute_result"
    }
   ],
   "source": [
    "results"
   ]
  },
  {
   "cell_type": "code",
   "execution_count": 4,
   "metadata": {},
   "outputs": [
    {
     "data": {
      "text/plain": [
       "['all', 'person', 'no person', 'animal', 'sports', 'electronic']"
      ]
     },
     "execution_count": 4,
     "metadata": {},
     "output_type": "execute_result"
    }
   ],
   "source": [
    "cxt"
   ]
  },
  {
   "cell_type": "code",
   "execution_count": 5,
   "metadata": {},
   "outputs": [
    {
     "data": {
      "text/plain": [
       "['icf', 'icf_face_03', 'icf_face_05', 'icf_face_07', 'dg']"
      ]
     },
     "execution_count": 5,
     "metadata": {},
     "output_type": "execute_result"
    }
   ],
   "source": [
    "mod"
   ]
  },
  {
   "cell_type": "code",
   "execution_count": 6,
   "metadata": {},
   "outputs": [
    {
     "data": {
      "text/plain": [
       "['nss mean',\n",
       " 'sim mean',\n",
       " 'ig mean',\n",
       " 'auc mean',\n",
       " 'nss std',\n",
       " 'sim std',\n",
       " 'ig std',\n",
       " 'auc std']"
      ]
     },
     "execution_count": 6,
     "metadata": {},
     "output_type": "execute_result"
    }
   ],
   "source": [
    "labels"
   ]
  },
  {
   "cell_type": "code",
   "execution_count": 7,
   "metadata": {},
   "outputs": [
    {
     "data": {
      "text/plain": [
       "(6, 5, 8)"
      ]
     },
     "execution_count": 7,
     "metadata": {},
     "output_type": "execute_result"
    }
   ],
   "source": [
    "np.shape(results)"
   ]
  },
  {
   "cell_type": "markdown",
   "metadata": {},
   "source": [
    "## Split by metric"
   ]
  },
  {
   "cell_type": "code",
   "execution_count": 8,
   "metadata": {},
   "outputs": [],
   "source": [
    "icf_nss_mean = results[:,:,0]\n",
    "icf_sim_mean = results[:,:,1]\n",
    "icf_ig_mean = results[:,:,2]\n",
    "icf_auc_mean = results[:,:,3]\n",
    "icf_nss_std = results[:,:,4]\n",
    "icf_sim_std = results[:,:,5]\n",
    "icf_ig_std = results[:,:,6]\n",
    "icf_auc_std = results[:,:,7]"
   ]
  },
  {
   "cell_type": "code",
   "execution_count": 9,
   "metadata": {},
   "outputs": [
    {
     "data": {
      "text/plain": [
       "array([[0.91573729, 1.06219881, 1.15487252, 1.19739054, 1.32906477],\n",
       "       [0.92736511, 1.07732425, 1.17290103, 1.21856236, 1.34434591],\n",
       "       [0.553851  , 0.59145813, 0.59378093, 0.53847158, 0.85347834],\n",
       "       [0.84776909, 0.95434182, 1.02669438, 1.06216929, 1.30913177],\n",
       "       [1.03698486, 1.18147715, 1.27742134, 1.32061629, 1.47832188],\n",
       "       [0.92173684, 1.07320409, 1.17020572, 1.21236418, 1.34157098]])"
      ]
     },
     "execution_count": 9,
     "metadata": {},
     "output_type": "execute_result"
    }
   ],
   "source": [
    "icf_nss_mean"
   ]
  },
  {
   "cell_type": "code",
   "execution_count": 10,
   "metadata": {},
   "outputs": [],
   "source": [
    "ICF_nss_m = pd.DataFrame(data=icf_nss_mean, columns=mod, index=cxt)\n",
    "ICF_sim_m = pd.DataFrame(data=icf_sim_mean, columns=mod, index=cxt)\n",
    "ICF_ig_m = pd.DataFrame(data=icf_ig_mean, columns=mod, index=cxt)\n",
    "ICF_auc_m = pd.DataFrame(data=icf_auc_mean, columns=mod, index=cxt)\n",
    "ICF_nss_s = pd.DataFrame(data=icf_nss_std, columns=mod, index=cxt)\n",
    "ICF_sim_s = pd.DataFrame(data=icf_sim_std, columns=mod, index=cxt)\n",
    "ICF_ig_s  = pd.DataFrame(data=icf_ig_std, columns=mod, index=cxt)\n",
    "ICF_auc_s = pd.DataFrame(data=icf_auc_std, columns=mod, index=cxt)\n"
   ]
  },
  {
   "cell_type": "code",
   "execution_count": 11,
   "metadata": {},
   "outputs": [],
   "source": [
    "ICF_nss_m.to_csv('ICF_nss_m.csv')\n",
    "ICF_sim_m.to_csv('ICF_sim_m.csv')\n",
    "ICF_ig_m.to_csv('ICF_ig_m.csv')\n",
    "ICF_auc_m.to_csv('ICF_auc_m.csv')\n",
    "ICF_nss_s.to_csv('ICF_nss_s.csv')\n",
    "ICF_sim_s.to_csv('ICF_sim_s.csv')\n",
    "ICF_ig_s.to_csv('ICF_ig_s.csv')\n",
    "ICF_auc_s.to_csv('ICF_auc_s.csv')"
   ]
  },
  {
   "cell_type": "code",
   "execution_count": null,
   "metadata": {},
   "outputs": [],
   "source": []
  }
 ],
 "metadata": {
  "kernelspec": {
   "display_name": "saliency",
   "language": "python",
   "name": "myenv"
  },
  "language_info": {
   "codemirror_mode": {
    "name": "ipython",
    "version": 3
   },
   "file_extension": ".py",
   "mimetype": "text/x-python",
   "name": "python",
   "nbconvert_exporter": "python",
   "pygments_lexer": "ipython3",
   "version": "3.7.1"
  }
 },
 "nbformat": 4,
 "nbformat_minor": 2
}
