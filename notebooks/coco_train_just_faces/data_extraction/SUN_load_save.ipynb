{
 "cells": [
  {
   "cell_type": "code",
   "execution_count": 1,
   "metadata": {},
   "outputs": [],
   "source": [
    "import pickle\n",
    "import numpy as np\n",
    "import pandas as pd"
   ]
  },
  {
   "cell_type": "code",
   "execution_count": 2,
   "metadata": {},
   "outputs": [],
   "source": [
    "(results, cxt, mod, labels) = pickle.load(open( \"2019-10-01_sun.p\", \"rb\"))\n"
   ]
  },
  {
   "cell_type": "code",
   "execution_count": 3,
   "metadata": {},
   "outputs": [
    {
     "data": {
      "text/plain": [
       "array([[[0.3905765 , 0.34975999, 3.62894796, 0.61870298, 0.36737343,\n",
       "         0.08705271, 2.91593746, 0.09085204],\n",
       "        [0.66046811, 0.38121154, 3.80682369, 0.66282845, 0.44190102,\n",
       "         0.08701018, 2.87126035, 0.09261447],\n",
       "        [0.87591223, 0.41525528, 3.86774731, 0.67423752, 0.55872626,\n",
       "         0.08815524, 2.84816286, 0.09379349],\n",
       "        [1.04325356, 0.46628857, 3.86099832, 0.68017911, 0.69427403,\n",
       "         0.08685038, 2.82438008, 0.0943332 ]],\n",
       "\n",
       "       [[0.39389096, 0.34609175, 3.58029969, 0.61969658, 0.36876458,\n",
       "         0.08304281, 2.88770057, 0.09103879],\n",
       "        [0.67038898, 0.37827609, 3.76372498, 0.66489834, 0.4404947 ,\n",
       "         0.0841063 , 2.84284997, 0.09205278],\n",
       "        [0.89175819, 0.413365  , 3.82771195, 0.67661076, 0.55478953,\n",
       "         0.08653885, 2.82017103, 0.09296106],\n",
       "        [1.06464764, 0.46628773, 3.82529455, 0.68270204, 0.68827183,\n",
       "         0.08628632, 2.79476929, 0.09336585]],\n",
       "\n",
       "       [[0.28742224, 0.46392434, 5.14300154, 0.58777964, 0.30349409,\n",
       "         0.12390904, 3.35215173, 0.07880335],\n",
       "        [0.35170619, 0.47256986, 5.14816109, 0.59840814, 0.36810374,\n",
       "         0.12008758, 3.38224177, 0.08673137],\n",
       "        [0.38274728, 0.47408521, 5.11374557, 0.60037648, 0.44449652,\n",
       "         0.11396209, 3.38345117, 0.0894692 ],\n",
       "        [0.37741737, 0.46631464, 4.97218701, 0.60165915, 0.53169323,\n",
       "         0.10287079, 3.44689639, 0.09047764]],\n",
       "\n",
       "       [[0.27427132, 0.32274116, 3.4724844 , 0.58421564, 0.36133568,\n",
       "         0.07509098, 3.19295572, 0.10003749],\n",
       "        [0.48670448, 0.34647227, 3.60205519, 0.62208019, 0.38260399,\n",
       "         0.07628652, 3.18329377, 0.0925233 ],\n",
       "        [0.67765797, 0.37363926, 3.63560072, 0.63250361, 0.44968569,\n",
       "         0.0780372 , 3.18640983, 0.0898229 ],\n",
       "        [0.85763497, 0.41723283, 3.61406668, 0.63836042, 0.55783238,\n",
       "         0.07478189, 3.19697279, 0.08914419]],\n",
       "\n",
       "       [[0.38320769, 0.33107161, 3.74119347, 0.61434369, 0.372054  ,\n",
       "         0.08561541, 2.87736678, 0.09764093],\n",
       "        [0.63234594, 0.35699372, 3.8958275 , 0.65242938, 0.48449571,\n",
       "         0.09040339, 2.83230671, 0.10298343],\n",
       "        [0.85084009, 0.38618039, 3.95843572, 0.66436842, 0.62172098,\n",
       "         0.09583766, 2.79981759, 0.10383196],\n",
       "        [1.05741961, 0.43438719, 3.95781175, 0.67090387, 0.76494507,\n",
       "         0.0990332 , 2.76929966, 0.1039853 ]],\n",
       "\n",
       "       [[0.42607202, 0.34765496, 3.64728455, 0.62876513, 0.35832046,\n",
       "         0.07293622, 2.92467173, 0.08768496],\n",
       "        [0.69368784, 0.37919153, 3.81192434, 0.66738423, 0.43778864,\n",
       "         0.07401461, 2.88374872, 0.09048877],\n",
       "        [0.90397124, 0.41399252, 3.86353481, 0.67673214, 0.55410692,\n",
       "         0.07625264, 2.85320935, 0.09185621],\n",
       "        [1.06094045, 0.46450291, 3.83583709, 0.68223661, 0.68838288,\n",
       "         0.07525115, 2.81686002, 0.09232858]]])"
      ]
     },
     "execution_count": 3,
     "metadata": {},
     "output_type": "execute_result"
    }
   ],
   "source": [
    "results"
   ]
  },
  {
   "cell_type": "code",
   "execution_count": 4,
   "metadata": {},
   "outputs": [
    {
     "data": {
      "text/plain": [
       "['all', 'person', 'no person', 'animal', 'sports', 'electronic']"
      ]
     },
     "execution_count": 4,
     "metadata": {},
     "output_type": "execute_result"
    }
   ],
   "source": [
    "cxt"
   ]
  },
  {
   "cell_type": "code",
   "execution_count": 5,
   "metadata": {},
   "outputs": [
    {
     "data": {
      "text/plain": [
       "['sun', 'sun_face_03', 'sun_face_05', 'sun_face_07']"
      ]
     },
     "execution_count": 5,
     "metadata": {},
     "output_type": "execute_result"
    }
   ],
   "source": [
    "mod"
   ]
  },
  {
   "cell_type": "code",
   "execution_count": 6,
   "metadata": {},
   "outputs": [
    {
     "data": {
      "text/plain": [
       "['nss mean',\n",
       " 'sim mean',\n",
       " 'ig mean',\n",
       " 'auc mean',\n",
       " 'nss std',\n",
       " 'sim std',\n",
       " 'ig std',\n",
       " 'auc std']"
      ]
     },
     "execution_count": 6,
     "metadata": {},
     "output_type": "execute_result"
    }
   ],
   "source": [
    "labels"
   ]
  },
  {
   "cell_type": "code",
   "execution_count": 7,
   "metadata": {},
   "outputs": [
    {
     "data": {
      "text/plain": [
       "(6, 4, 8)"
      ]
     },
     "execution_count": 7,
     "metadata": {},
     "output_type": "execute_result"
    }
   ],
   "source": [
    "np.shape(results)"
   ]
  },
  {
   "cell_type": "markdown",
   "metadata": {},
   "source": [
    "## Split by metric"
   ]
  },
  {
   "cell_type": "code",
   "execution_count": 8,
   "metadata": {},
   "outputs": [],
   "source": [
    "sun_nss_mean = results[:,:,0]\n",
    "sun_sim_mean = results[:,:,1]\n",
    "sun_ig_mean = results[:,:,2]\n",
    "sun_auc_mean = results[:,:,3]\n",
    "sun_nss_std = results[:,:,4]\n",
    "sun_sim_std = results[:,:,5]\n",
    "sun_ig_std = results[:,:,6]\n",
    "sun_auc_std = results[:,:,7]"
   ]
  },
  {
   "cell_type": "code",
   "execution_count": 9,
   "metadata": {},
   "outputs": [
    {
     "data": {
      "text/plain": [
       "array([[0.3905765 , 0.66046811, 0.87591223, 1.04325356],\n",
       "       [0.39389096, 0.67038898, 0.89175819, 1.06464764],\n",
       "       [0.28742224, 0.35170619, 0.38274728, 0.37741737],\n",
       "       [0.27427132, 0.48670448, 0.67765797, 0.85763497],\n",
       "       [0.38320769, 0.63234594, 0.85084009, 1.05741961],\n",
       "       [0.42607202, 0.69368784, 0.90397124, 1.06094045]])"
      ]
     },
     "execution_count": 9,
     "metadata": {},
     "output_type": "execute_result"
    }
   ],
   "source": [
    "sun_nss_mean"
   ]
  },
  {
   "cell_type": "code",
   "execution_count": 10,
   "metadata": {},
   "outputs": [],
   "source": [
    "SUN_nss_m = pd.DataFrame(data=sun_nss_mean, columns=mod, index=cxt)\n",
    "SUN_sim_m = pd.DataFrame(data=sun_sim_mean, columns=mod, index=cxt)\n",
    "SUN_ig_m = pd.DataFrame(data=sun_ig_mean, columns=mod, index=cxt)\n",
    "SUN_auc_m = pd.DataFrame(data=sun_auc_mean, columns=mod, index=cxt)\n",
    "SUN_nss_s = pd.DataFrame(data=sun_nss_std, columns=mod, index=cxt)\n",
    "SUN_sim_s = pd.DataFrame(data=sun_sim_std, columns=mod, index=cxt)\n",
    "SUN_ig_s  = pd.DataFrame(data=sun_ig_std, columns=mod, index=cxt)\n",
    "SUN_auc_s = pd.DataFrame(data=sun_auc_std, columns=mod, index=cxt)"
   ]
  },
  {
   "cell_type": "code",
   "execution_count": 11,
   "metadata": {},
   "outputs": [],
   "source": [
    "SUN_nss_m.to_csv('SUN_nss_m.csv')\n",
    "SUN_sim_m.to_csv('SUN_sim_m.csv')\n",
    "SUN_ig_m.to_csv('SUN_ig_m.csv')\n",
    "SUN_auc_m.to_csv('SUN_auc_m.csv')\n",
    "SUN_nss_s.to_csv('SUN_nss_s.csv')\n",
    "SUN_sim_s.to_csv('SUN_sim_s.csv')\n",
    "SUN_ig_s.to_csv('SUN_ig_s.csv')\n",
    "SUN_auc_s.to_csv('SUN_auc_s.csv')"
   ]
  },
  {
   "cell_type": "code",
   "execution_count": null,
   "metadata": {},
   "outputs": [],
   "source": []
  }
 ],
 "metadata": {
  "kernelspec": {
   "display_name": "saliency",
   "language": "python",
   "name": "myenv"
  },
  "language_info": {
   "codemirror_mode": {
    "name": "ipython",
    "version": 3
   },
   "file_extension": ".py",
   "mimetype": "text/x-python",
   "name": "python",
   "nbconvert_exporter": "python",
   "pygments_lexer": "ipython3",
   "version": "3.7.1"
  }
 },
 "nbformat": 4,
 "nbformat_minor": 2
}
