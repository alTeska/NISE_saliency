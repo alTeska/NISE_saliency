{
 "cells": [
  {
   "cell_type": "code",
   "execution_count": 1,
   "metadata": {},
   "outputs": [],
   "source": [
    "import pickle\n",
    "import numpy as np\n",
    "import pandas as pd"
   ]
  },
  {
   "cell_type": "code",
   "execution_count": 2,
   "metadata": {},
   "outputs": [],
   "source": [
    "cxt = ['all', 'person', 'no person', 'animal', 'sports', 'electronic']"
   ]
  },
  {
   "cell_type": "code",
   "execution_count": 3,
   "metadata": {},
   "outputs": [],
   "source": [
    "AIM_nss_m = pd.read_csv('AIM_nss_m.csv', index_col=[0])\n",
    "CAS_nss_m = pd.read_csv('CAS_nss_m.csv', index_col=[0])\n",
    "COVSAL_nss_m = pd.read_csv('COVSAL_nss_m.csv', index_col=[0])\n",
    "GBVS_nss_m = pd.read_csv('GBVS_nss_m.csv', index_col=[0])\n",
    "ICF_nss_m = pd.read_csv('ICF_nss_m.csv', index_col=[0])\n",
    "IK_nss_m = pd.read_csv('IK_nss_m.csv', index_col=[0])\n",
    "SUN_nss_m = pd.read_csv('SUN_nss_m.csv', index_col=[0])\n",
    "\n",
    "AIM_nss_s = pd.read_csv('AIM_nss_s.csv', index_col=[0])\n",
    "CAS_nss_s = pd.read_csv('CAS_nss_s.csv', index_col=[0])\n",
    "COVSAL_nss_s = pd.read_csv('COVSAL_nss_s.csv', index_col=[0])\n",
    "GBVS_nss_s = pd.read_csv('GBVS_nss_s.csv', index_col=[0])\n",
    "ICF_nss_s = pd.read_csv('ICF_nss_s.csv', index_col=[0])\n",
    "IK_nss_s = pd.read_csv('IK_nss_s.csv', index_col=[0])\n",
    "SUN_nss_s = pd.read_csv('SUN_nss_s.csv', index_col=[0])"
   ]
  },
  {
   "cell_type": "code",
   "execution_count": 4,
   "metadata": {},
   "outputs": [
    {
     "data": {
      "text/html": [
       "<div>\n",
       "<style scoped>\n",
       "    .dataframe tbody tr th:only-of-type {\n",
       "        vertical-align: middle;\n",
       "    }\n",
       "\n",
       "    .dataframe tbody tr th {\n",
       "        vertical-align: top;\n",
       "    }\n",
       "\n",
       "    .dataframe thead th {\n",
       "        text-align: right;\n",
       "    }\n",
       "</style>\n",
       "<table border=\"1\" class=\"dataframe\">\n",
       "  <thead>\n",
       "    <tr style=\"text-align: right;\">\n",
       "      <th></th>\n",
       "      <th>cas</th>\n",
       "      <th>cas_face_03</th>\n",
       "      <th>cas_face_05</th>\n",
       "      <th>cas_face_07</th>\n",
       "    </tr>\n",
       "  </thead>\n",
       "  <tbody>\n",
       "    <tr>\n",
       "      <td>all</td>\n",
       "      <td>0.652920</td>\n",
       "      <td>0.812454</td>\n",
       "      <td>0.962956</td>\n",
       "      <td>1.117061</td>\n",
       "    </tr>\n",
       "    <tr>\n",
       "      <td>person</td>\n",
       "      <td>0.659682</td>\n",
       "      <td>0.823245</td>\n",
       "      <td>0.978111</td>\n",
       "      <td>1.137702</td>\n",
       "    </tr>\n",
       "    <tr>\n",
       "      <td>no person</td>\n",
       "      <td>0.442462</td>\n",
       "      <td>0.476627</td>\n",
       "      <td>0.491278</td>\n",
       "      <td>0.474658</td>\n",
       "    </tr>\n",
       "    <tr>\n",
       "      <td>animal</td>\n",
       "      <td>0.621640</td>\n",
       "      <td>0.745935</td>\n",
       "      <td>0.864759</td>\n",
       "      <td>0.990519</td>\n",
       "    </tr>\n",
       "    <tr>\n",
       "      <td>sports</td>\n",
       "      <td>0.894343</td>\n",
       "      <td>1.030670</td>\n",
       "      <td>1.154866</td>\n",
       "      <td>1.274021</td>\n",
       "    </tr>\n",
       "    <tr>\n",
       "      <td>electronic</td>\n",
       "      <td>0.655160</td>\n",
       "      <td>0.809661</td>\n",
       "      <td>0.956888</td>\n",
       "      <td>1.111828</td>\n",
       "    </tr>\n",
       "  </tbody>\n",
       "</table>\n",
       "</div>"
      ],
      "text/plain": [
       "                 cas  cas_face_03  cas_face_05  cas_face_07\n",
       "all         0.652920     0.812454     0.962956     1.117061\n",
       "person      0.659682     0.823245     0.978111     1.137702\n",
       "no person   0.442462     0.476627     0.491278     0.474658\n",
       "animal      0.621640     0.745935     0.864759     0.990519\n",
       "sports      0.894343     1.030670     1.154866     1.274021\n",
       "electronic  0.655160     0.809661     0.956888     1.111828"
      ]
     },
     "execution_count": 4,
     "metadata": {},
     "output_type": "execute_result"
    }
   ],
   "source": [
    "CAS_nss_m"
   ]
  },
  {
   "cell_type": "markdown",
   "metadata": {},
   "source": [
    "## Save per metric"
   ]
  },
  {
   "cell_type": "markdown",
   "metadata": {},
   "source": [
    "### Mean value"
   ]
  },
  {
   "cell_type": "code",
   "execution_count": 5,
   "metadata": {},
   "outputs": [],
   "source": [
    "labels = ['aim', 'cas','covsal','gbvs','icf','ik','sun',]"
   ]
  },
  {
   "cell_type": "code",
   "execution_count": 6,
   "metadata": {},
   "outputs": [],
   "source": [
    "no_face = [\n",
    "  AIM_nss_m['aim'].tolist(), \n",
    "  CAS_nss_m['cas'].tolist(),\n",
    "  COVSAL_nss_m['covsal'].tolist(),\n",
    "  GBVS_nss_m['gbvs'].tolist(),\n",
    "  ICF_nss_m['icf'].tolist(),\n",
    "  IK_nss_m['ik'].tolist(),\n",
    "  SUN_nss_m['sun'].tolist(),\n",
    "  ICF_nss_m['dg'].tolist(),\n",
    "  ]\n",
    "\n",
    "face_03 = [\n",
    "  AIM_nss_m['aim_face_03'].tolist(), \n",
    "  CAS_nss_m['cas_face_03'].tolist(),\n",
    "  COVSAL_nss_m['covsal_face_03'].tolist(),\n",
    "  GBVS_nss_m['gbvs_face_03'].tolist(),\n",
    "  ICF_nss_m['icf_face_03'].tolist(),\n",
    "  IK_nss_m['ik_face_03'].tolist(),\n",
    "  SUN_nss_m['sun_face_03'].tolist(),\n",
    "  ]\n",
    "\n",
    "face_05 = [\n",
    "  AIM_nss_m['aim_face_05'].tolist(), \n",
    "  CAS_nss_m['cas_face_05'].tolist(),\n",
    "  COVSAL_nss_m['covsal_face_05'].tolist(),\n",
    "  GBVS_nss_m['gbvs_face_05'].tolist(),\n",
    "  ICF_nss_m['icf_face_05'].tolist(),\n",
    "  IK_nss_m['ik_face_05'].tolist(),\n",
    "  SUN_nss_m['sun_face_05'].tolist(),\n",
    "  ]\n",
    "\n",
    "face_07 = [\n",
    "  AIM_nss_m['aim_face_07'].tolist(), \n",
    "  CAS_nss_m['cas_face_07'].tolist(),\n",
    "  COVSAL_nss_m['covsal_face_07'].tolist(),\n",
    "  GBVS_nss_m['gbvs_face_07'].tolist(),\n",
    "  ICF_nss_m['icf_face_07'].tolist(),\n",
    "  IK_nss_m['ik_face_07'].tolist(),\n",
    "  SUN_nss_m['sun_face_07'].tolist(),\n",
    "  ]"
   ]
  },
  {
   "cell_type": "code",
   "execution_count": 7,
   "metadata": {},
   "outputs": [
    {
     "data": {
      "text/html": [
       "<div>\n",
       "<style scoped>\n",
       "    .dataframe tbody tr th:only-of-type {\n",
       "        vertical-align: middle;\n",
       "    }\n",
       "\n",
       "    .dataframe tbody tr th {\n",
       "        vertical-align: top;\n",
       "    }\n",
       "\n",
       "    .dataframe thead th {\n",
       "        text-align: right;\n",
       "    }\n",
       "</style>\n",
       "<table border=\"1\" class=\"dataframe\">\n",
       "  <thead>\n",
       "    <tr style=\"text-align: right;\">\n",
       "      <th></th>\n",
       "      <th>icf</th>\n",
       "      <th>icf_face_03</th>\n",
       "      <th>icf_face_05</th>\n",
       "      <th>icf_face_07</th>\n",
       "      <th>dg</th>\n",
       "    </tr>\n",
       "  </thead>\n",
       "  <tbody>\n",
       "    <tr>\n",
       "      <td>all</td>\n",
       "      <td>0.915737</td>\n",
       "      <td>1.062199</td>\n",
       "      <td>1.154873</td>\n",
       "      <td>1.197391</td>\n",
       "      <td>1.329065</td>\n",
       "    </tr>\n",
       "    <tr>\n",
       "      <td>person</td>\n",
       "      <td>0.927365</td>\n",
       "      <td>1.077324</td>\n",
       "      <td>1.172901</td>\n",
       "      <td>1.218562</td>\n",
       "      <td>1.344346</td>\n",
       "    </tr>\n",
       "    <tr>\n",
       "      <td>no person</td>\n",
       "      <td>0.553851</td>\n",
       "      <td>0.591458</td>\n",
       "      <td>0.593781</td>\n",
       "      <td>0.538472</td>\n",
       "      <td>0.853478</td>\n",
       "    </tr>\n",
       "    <tr>\n",
       "      <td>animal</td>\n",
       "      <td>0.847769</td>\n",
       "      <td>0.954342</td>\n",
       "      <td>1.026694</td>\n",
       "      <td>1.062169</td>\n",
       "      <td>1.309132</td>\n",
       "    </tr>\n",
       "    <tr>\n",
       "      <td>sports</td>\n",
       "      <td>1.036985</td>\n",
       "      <td>1.181477</td>\n",
       "      <td>1.277421</td>\n",
       "      <td>1.320616</td>\n",
       "      <td>1.478322</td>\n",
       "    </tr>\n",
       "    <tr>\n",
       "      <td>electronic</td>\n",
       "      <td>0.921737</td>\n",
       "      <td>1.073204</td>\n",
       "      <td>1.170206</td>\n",
       "      <td>1.212364</td>\n",
       "      <td>1.341571</td>\n",
       "    </tr>\n",
       "  </tbody>\n",
       "</table>\n",
       "</div>"
      ],
      "text/plain": [
       "                 icf  icf_face_03  icf_face_05  icf_face_07        dg\n",
       "all         0.915737     1.062199     1.154873     1.197391  1.329065\n",
       "person      0.927365     1.077324     1.172901     1.218562  1.344346\n",
       "no person   0.553851     0.591458     0.593781     0.538472  0.853478\n",
       "animal      0.847769     0.954342     1.026694     1.062169  1.309132\n",
       "sports      1.036985     1.181477     1.277421     1.320616  1.478322\n",
       "electronic  0.921737     1.073204     1.170206     1.212364  1.341571"
      ]
     },
     "execution_count": 7,
     "metadata": {},
     "output_type": "execute_result"
    }
   ],
   "source": [
    "ICF_nss_m"
   ]
  },
  {
   "cell_type": "code",
   "execution_count": 8,
   "metadata": {},
   "outputs": [],
   "source": [
    "NSS_mean_noface = pd.DataFrame(data=no_face, index=labels+['dg'], columns=cxt)\n",
    "NSS_mean_face_03 = pd.DataFrame(data=face_03, index=labels, columns=cxt)\n",
    "NSS_mean_face_05 = pd.DataFrame(data=face_05, index=labels, columns=cxt)\n",
    "NSS_mean_face_07 = pd.DataFrame(data=face_07, index=labels, columns=cxt)"
   ]
  },
  {
   "cell_type": "code",
   "execution_count": 9,
   "metadata": {},
   "outputs": [
    {
     "data": {
      "text/html": [
       "<div>\n",
       "<style scoped>\n",
       "    .dataframe tbody tr th:only-of-type {\n",
       "        vertical-align: middle;\n",
       "    }\n",
       "\n",
       "    .dataframe tbody tr th {\n",
       "        vertical-align: top;\n",
       "    }\n",
       "\n",
       "    .dataframe thead th {\n",
       "        text-align: right;\n",
       "    }\n",
       "</style>\n",
       "<table border=\"1\" class=\"dataframe\">\n",
       "  <thead>\n",
       "    <tr style=\"text-align: right;\">\n",
       "      <th></th>\n",
       "      <th>all</th>\n",
       "      <th>person</th>\n",
       "      <th>no person</th>\n",
       "      <th>animal</th>\n",
       "      <th>sports</th>\n",
       "      <th>electronic</th>\n",
       "    </tr>\n",
       "  </thead>\n",
       "  <tbody>\n",
       "    <tr>\n",
       "      <td>aim</td>\n",
       "      <td>0.588971</td>\n",
       "      <td>0.594158</td>\n",
       "      <td>0.427543</td>\n",
       "      <td>0.532391</td>\n",
       "      <td>0.678230</td>\n",
       "      <td>0.605716</td>\n",
       "    </tr>\n",
       "    <tr>\n",
       "      <td>cas</td>\n",
       "      <td>0.652920</td>\n",
       "      <td>0.659682</td>\n",
       "      <td>0.442462</td>\n",
       "      <td>0.621640</td>\n",
       "      <td>0.894343</td>\n",
       "      <td>0.655160</td>\n",
       "    </tr>\n",
       "    <tr>\n",
       "      <td>covsal</td>\n",
       "      <td>0.791076</td>\n",
       "      <td>0.800697</td>\n",
       "      <td>0.491619</td>\n",
       "      <td>0.823930</td>\n",
       "      <td>0.759261</td>\n",
       "      <td>0.807721</td>\n",
       "    </tr>\n",
       "    <tr>\n",
       "      <td>gbvs</td>\n",
       "      <td>0.933246</td>\n",
       "      <td>0.940672</td>\n",
       "      <td>0.702105</td>\n",
       "      <td>0.934488</td>\n",
       "      <td>1.003845</td>\n",
       "      <td>0.952838</td>\n",
       "    </tr>\n",
       "    <tr>\n",
       "      <td>icf</td>\n",
       "      <td>0.915737</td>\n",
       "      <td>0.927365</td>\n",
       "      <td>0.553851</td>\n",
       "      <td>0.847769</td>\n",
       "      <td>1.036985</td>\n",
       "      <td>0.921737</td>\n",
       "    </tr>\n",
       "    <tr>\n",
       "      <td>ik</td>\n",
       "      <td>0.554114</td>\n",
       "      <td>0.560610</td>\n",
       "      <td>0.354069</td>\n",
       "      <td>0.538079</td>\n",
       "      <td>0.679347</td>\n",
       "      <td>0.602399</td>\n",
       "    </tr>\n",
       "    <tr>\n",
       "      <td>sun</td>\n",
       "      <td>0.390576</td>\n",
       "      <td>0.393891</td>\n",
       "      <td>0.287422</td>\n",
       "      <td>0.274271</td>\n",
       "      <td>0.383208</td>\n",
       "      <td>0.426072</td>\n",
       "    </tr>\n",
       "    <tr>\n",
       "      <td>dg</td>\n",
       "      <td>1.329065</td>\n",
       "      <td>1.344346</td>\n",
       "      <td>0.853478</td>\n",
       "      <td>1.309132</td>\n",
       "      <td>1.478322</td>\n",
       "      <td>1.341571</td>\n",
       "    </tr>\n",
       "  </tbody>\n",
       "</table>\n",
       "</div>"
      ],
      "text/plain": [
       "             all    person  no person    animal    sports  electronic\n",
       "aim     0.588971  0.594158   0.427543  0.532391  0.678230    0.605716\n",
       "cas     0.652920  0.659682   0.442462  0.621640  0.894343    0.655160\n",
       "covsal  0.791076  0.800697   0.491619  0.823930  0.759261    0.807721\n",
       "gbvs    0.933246  0.940672   0.702105  0.934488  1.003845    0.952838\n",
       "icf     0.915737  0.927365   0.553851  0.847769  1.036985    0.921737\n",
       "ik      0.554114  0.560610   0.354069  0.538079  0.679347    0.602399\n",
       "sun     0.390576  0.393891   0.287422  0.274271  0.383208    0.426072\n",
       "dg      1.329065  1.344346   0.853478  1.309132  1.478322    1.341571"
      ]
     },
     "execution_count": 9,
     "metadata": {},
     "output_type": "execute_result"
    }
   ],
   "source": [
    "NSS_mean_noface"
   ]
  },
  {
   "cell_type": "markdown",
   "metadata": {},
   "source": [
    "### Std"
   ]
  },
  {
   "cell_type": "code",
   "execution_count": 10,
   "metadata": {},
   "outputs": [],
   "source": [
    "no_face = [\n",
    "  AIM_nss_s['aim'].tolist(), \n",
    "  CAS_nss_s['cas'].tolist(),\n",
    "  COVSAL_nss_s['covsal'].tolist(),\n",
    "  GBVS_nss_s['gbvs'].tolist(),\n",
    "  ICF_nss_s['icf'].tolist(),\n",
    "  IK_nss_s['ik'].tolist(),\n",
    "  SUN_nss_s['sun'].tolist(),\n",
    "  ICF_nss_s['dg'].tolist(),\n",
    "  ]\n",
    "\n",
    "face_03 = [\n",
    "  AIM_nss_s['aim_face_03'].tolist(), \n",
    "  CAS_nss_s['cas_face_03'].tolist(),\n",
    "  COVSAL_nss_s['covsal_face_03'].tolist(),\n",
    "  GBVS_nss_s['gbvs_face_03'].tolist(),\n",
    "  ICF_nss_s['icf_face_03'].tolist(),\n",
    "  IK_nss_s['ik_face_03'].tolist(),\n",
    "  SUN_nss_s['sun_face_03'].tolist(),\n",
    "  ]\n",
    "\n",
    "face_05 = [\n",
    "  AIM_nss_s['aim_face_05'].tolist(), \n",
    "  CAS_nss_s['cas_face_05'].tolist(),\n",
    "  COVSAL_nss_s['covsal_face_05'].tolist(),\n",
    "  GBVS_nss_s['gbvs_face_05'].tolist(),\n",
    "  ICF_nss_s['icf_face_05'].tolist(),\n",
    "  IK_nss_s['ik_face_05'].tolist(),\n",
    "  SUN_nss_s['sun_face_05'].tolist(),\n",
    "  ]\n",
    "\n",
    "face_07 = [\n",
    "  AIM_nss_s['aim_face_07'].tolist(), \n",
    "  CAS_nss_s['cas_face_07'].tolist(),\n",
    "  COVSAL_nss_s['covsal_face_07'].tolist(),\n",
    "  GBVS_nss_s['gbvs_face_07'].tolist(),\n",
    "  ICF_nss_s['icf_face_07'].tolist(),\n",
    "  IK_nss_s['ik_face_07'].tolist(),\n",
    "  SUN_nss_s['sun_face_07'].tolist(),\n",
    "  ]"
   ]
  },
  {
   "cell_type": "code",
   "execution_count": 11,
   "metadata": {},
   "outputs": [],
   "source": [
    "NSS_std_noface = pd.DataFrame(data=no_face, index=labels+['dg'], columns=cxt)\n",
    "NSS_std_face_03 = pd.DataFrame(data=face_03, index=labels, columns=cxt)\n",
    "NSS_std_face_05 = pd.DataFrame(data=face_05, index=labels, columns=cxt)\n",
    "NSS_std_face_07 = pd.DataFrame(data=face_07, index=labels, columns=cxt)"
   ]
  },
  {
   "cell_type": "code",
   "execution_count": 12,
   "metadata": {},
   "outputs": [
    {
     "data": {
      "text/html": [
       "<div>\n",
       "<style scoped>\n",
       "    .dataframe tbody tr th:only-of-type {\n",
       "        vertical-align: middle;\n",
       "    }\n",
       "\n",
       "    .dataframe tbody tr th {\n",
       "        vertical-align: top;\n",
       "    }\n",
       "\n",
       "    .dataframe thead th {\n",
       "        text-align: right;\n",
       "    }\n",
       "</style>\n",
       "<table border=\"1\" class=\"dataframe\">\n",
       "  <thead>\n",
       "    <tr style=\"text-align: right;\">\n",
       "      <th></th>\n",
       "      <th>all</th>\n",
       "      <th>person</th>\n",
       "      <th>no person</th>\n",
       "      <th>animal</th>\n",
       "      <th>sports</th>\n",
       "      <th>electronic</th>\n",
       "    </tr>\n",
       "  </thead>\n",
       "  <tbody>\n",
       "    <tr>\n",
       "      <td>aim</td>\n",
       "      <td>0.304032</td>\n",
       "      <td>0.304162</td>\n",
       "      <td>0.251159</td>\n",
       "      <td>0.258691</td>\n",
       "      <td>0.298060</td>\n",
       "      <td>0.314687</td>\n",
       "    </tr>\n",
       "    <tr>\n",
       "      <td>cas</td>\n",
       "      <td>0.446702</td>\n",
       "      <td>0.446172</td>\n",
       "      <td>0.410531</td>\n",
       "      <td>0.386785</td>\n",
       "      <td>0.484784</td>\n",
       "      <td>0.442085</td>\n",
       "    </tr>\n",
       "    <tr>\n",
       "      <td>covsal</td>\n",
       "      <td>0.594008</td>\n",
       "      <td>0.594127</td>\n",
       "      <td>0.505879</td>\n",
       "      <td>0.549387</td>\n",
       "      <td>0.514655</td>\n",
       "      <td>0.621515</td>\n",
       "    </tr>\n",
       "    <tr>\n",
       "      <td>gbvs</td>\n",
       "      <td>0.419214</td>\n",
       "      <td>0.419012</td>\n",
       "      <td>0.354767</td>\n",
       "      <td>0.401202</td>\n",
       "      <td>0.414662</td>\n",
       "      <td>0.436758</td>\n",
       "    </tr>\n",
       "    <tr>\n",
       "      <td>icf</td>\n",
       "      <td>0.561044</td>\n",
       "      <td>0.559530</td>\n",
       "      <td>0.482078</td>\n",
       "      <td>0.550198</td>\n",
       "      <td>0.569702</td>\n",
       "      <td>0.551910</td>\n",
       "    </tr>\n",
       "    <tr>\n",
       "      <td>ik</td>\n",
       "      <td>0.422493</td>\n",
       "      <td>0.423894</td>\n",
       "      <td>0.317294</td>\n",
       "      <td>0.428196</td>\n",
       "      <td>0.401011</td>\n",
       "      <td>0.448801</td>\n",
       "    </tr>\n",
       "    <tr>\n",
       "      <td>sun</td>\n",
       "      <td>0.367373</td>\n",
       "      <td>0.368765</td>\n",
       "      <td>0.303494</td>\n",
       "      <td>0.361336</td>\n",
       "      <td>0.372054</td>\n",
       "      <td>0.358320</td>\n",
       "    </tr>\n",
       "    <tr>\n",
       "      <td>dg</td>\n",
       "      <td>0.827847</td>\n",
       "      <td>0.827541</td>\n",
       "      <td>0.683843</td>\n",
       "      <td>0.717837</td>\n",
       "      <td>0.929110</td>\n",
       "      <td>0.773999</td>\n",
       "    </tr>\n",
       "  </tbody>\n",
       "</table>\n",
       "</div>"
      ],
      "text/plain": [
       "             all    person  no person    animal    sports  electronic\n",
       "aim     0.304032  0.304162   0.251159  0.258691  0.298060    0.314687\n",
       "cas     0.446702  0.446172   0.410531  0.386785  0.484784    0.442085\n",
       "covsal  0.594008  0.594127   0.505879  0.549387  0.514655    0.621515\n",
       "gbvs    0.419214  0.419012   0.354767  0.401202  0.414662    0.436758\n",
       "icf     0.561044  0.559530   0.482078  0.550198  0.569702    0.551910\n",
       "ik      0.422493  0.423894   0.317294  0.428196  0.401011    0.448801\n",
       "sun     0.367373  0.368765   0.303494  0.361336  0.372054    0.358320\n",
       "dg      0.827847  0.827541   0.683843  0.717837  0.929110    0.773999"
      ]
     },
     "execution_count": 12,
     "metadata": {},
     "output_type": "execute_result"
    }
   ],
   "source": [
    "NSS_std_noface"
   ]
  },
  {
   "cell_type": "code",
   "execution_count": 13,
   "metadata": {},
   "outputs": [],
   "source": [
    "NSS_std_noface.to_csv('NSS_std_noface.csv')\n",
    "NSS_std_face_03.to_csv('NSS_std_face_03.csv')\n",
    "NSS_std_face_05.to_csv('NSS_std_face_05.csv')\n",
    "NSS_std_face_07.to_csv('NSS_std_face_07.csv')\n",
    "\n",
    "NSS_mean_noface.to_csv('NSS_mean_noface.csv')\n",
    "NSS_mean_face_03.to_csv('NSS_mean_face_03.csv')\n",
    "NSS_mean_face_05.to_csv('NSS_mean_face_05.csv')\n",
    "NSS_mean_face_07.to_csv('NSS_mean_face_07.csv')"
   ]
  },
  {
   "cell_type": "markdown",
   "metadata": {},
   "source": [
    "## Calculate means"
   ]
  },
  {
   "cell_type": "code",
   "execution_count": 14,
   "metadata": {},
   "outputs": [],
   "source": [
    "A = NSS_mean_noface.values\n",
    "A = A[:-1,:]\n",
    "B = NSS_mean_face_03.values\n",
    "C = NSS_mean_face_05.values\n",
    "D = NSS_mean_face_07.values"
   ]
  },
  {
   "cell_type": "code",
   "execution_count": 15,
   "metadata": {},
   "outputs": [],
   "source": [
    "X = np.dstack([A, B, C, D])"
   ]
  },
  {
   "cell_type": "code",
   "execution_count": 16,
   "metadata": {},
   "outputs": [
    {
     "data": {
      "text/plain": [
       "(7, 6, 4)"
      ]
     },
     "execution_count": 16,
     "metadata": {},
     "output_type": "execute_result"
    }
   ],
   "source": [
    "np.shape(X)"
   ]
  },
  {
   "cell_type": "code",
   "execution_count": 17,
   "metadata": {},
   "outputs": [
    {
     "data": {
      "text/plain": [
       "['all', 'person', 'no person', 'animal', 'sports', 'electronic']"
      ]
     },
     "execution_count": 17,
     "metadata": {},
     "output_type": "execute_result"
    }
   ],
   "source": [
    "cxt"
   ]
  },
  {
   "cell_type": "code",
   "execution_count": 18,
   "metadata": {},
   "outputs": [
    {
     "data": {
      "text/plain": [
       "['aim', 'cas', 'covsal', 'gbvs', 'icf', 'ik', 'sun']"
      ]
     },
     "execution_count": 18,
     "metadata": {},
     "output_type": "execute_result"
    }
   ],
   "source": [
    "labels"
   ]
  },
  {
   "cell_type": "markdown",
   "metadata": {},
   "source": [
    "### Mean over contexts"
   ]
  },
  {
   "cell_type": "code",
   "execution_count": 19,
   "metadata": {},
   "outputs": [
    {
     "data": {
      "text/html": [
       "<div>\n",
       "<style scoped>\n",
       "    .dataframe tbody tr th:only-of-type {\n",
       "        vertical-align: middle;\n",
       "    }\n",
       "\n",
       "    .dataframe tbody tr th {\n",
       "        vertical-align: top;\n",
       "    }\n",
       "\n",
       "    .dataframe thead th {\n",
       "        text-align: right;\n",
       "    }\n",
       "</style>\n",
       "<table border=\"1\" class=\"dataframe\">\n",
       "  <thead>\n",
       "    <tr style=\"text-align: right;\">\n",
       "      <th></th>\n",
       "      <th>0.0</th>\n",
       "      <th>0.3</th>\n",
       "      <th>0.5</th>\n",
       "      <th>0.7</th>\n",
       "    </tr>\n",
       "  </thead>\n",
       "  <tbody>\n",
       "    <tr>\n",
       "      <td>aim</td>\n",
       "      <td>0.571168</td>\n",
       "      <td>0.762150</td>\n",
       "      <td>0.905719</td>\n",
       "      <td>1.000455</td>\n",
       "    </tr>\n",
       "    <tr>\n",
       "      <td>cas</td>\n",
       "      <td>0.654368</td>\n",
       "      <td>0.783099</td>\n",
       "      <td>0.901476</td>\n",
       "      <td>1.017632</td>\n",
       "    </tr>\n",
       "    <tr>\n",
       "      <td>covsal</td>\n",
       "      <td>0.745717</td>\n",
       "      <td>0.902421</td>\n",
       "      <td>1.025310</td>\n",
       "      <td>1.098120</td>\n",
       "    </tr>\n",
       "    <tr>\n",
       "      <td>gbvs</td>\n",
       "      <td>0.911199</td>\n",
       "      <td>1.022295</td>\n",
       "      <td>1.112492</td>\n",
       "      <td>1.172905</td>\n",
       "    </tr>\n",
       "    <tr>\n",
       "      <td>icf</td>\n",
       "      <td>0.867241</td>\n",
       "      <td>0.990001</td>\n",
       "      <td>1.065979</td>\n",
       "      <td>1.091596</td>\n",
       "    </tr>\n",
       "    <tr>\n",
       "      <td>ik</td>\n",
       "      <td>0.548103</td>\n",
       "      <td>0.763869</td>\n",
       "      <td>0.915956</td>\n",
       "      <td>1.002372</td>\n",
       "    </tr>\n",
       "    <tr>\n",
       "      <td>sun</td>\n",
       "      <td>0.359240</td>\n",
       "      <td>0.582550</td>\n",
       "      <td>0.763815</td>\n",
       "      <td>0.910219</td>\n",
       "    </tr>\n",
       "  </tbody>\n",
       "</table>\n",
       "</div>"
      ],
      "text/plain": [
       "             0.0       0.3       0.5       0.7\n",
       "aim     0.571168  0.762150  0.905719  1.000455\n",
       "cas     0.654368  0.783099  0.901476  1.017632\n",
       "covsal  0.745717  0.902421  1.025310  1.098120\n",
       "gbvs    0.911199  1.022295  1.112492  1.172905\n",
       "icf     0.867241  0.990001  1.065979  1.091596\n",
       "ik      0.548103  0.763869  0.915956  1.002372\n",
       "sun     0.359240  0.582550  0.763815  0.910219"
      ]
     },
     "execution_count": 19,
     "metadata": {},
     "output_type": "execute_result"
    }
   ],
   "source": [
    "mean_models = (X.mean(axis=1))\n",
    "\n",
    "NSS_mean_models = pd.DataFrame(data=mean_models, columns=[0, 0.3, 0.5, 0.7], index=labels)\n",
    "NSS_mean_models"
   ]
  },
  {
   "cell_type": "markdown",
   "metadata": {},
   "source": [
    "### Mean over models"
   ]
  },
  {
   "cell_type": "code",
   "execution_count": 20,
   "metadata": {},
   "outputs": [
    {
     "data": {
      "text/html": [
       "<div>\n",
       "<style scoped>\n",
       "    .dataframe tbody tr th:only-of-type {\n",
       "        vertical-align: middle;\n",
       "    }\n",
       "\n",
       "    .dataframe tbody tr th {\n",
       "        vertical-align: top;\n",
       "    }\n",
       "\n",
       "    .dataframe thead th {\n",
       "        text-align: right;\n",
       "    }\n",
       "</style>\n",
       "<table border=\"1\" class=\"dataframe\">\n",
       "  <thead>\n",
       "    <tr style=\"text-align: right;\">\n",
       "      <th></th>\n",
       "      <th>0.0</th>\n",
       "      <th>0.3</th>\n",
       "      <th>0.5</th>\n",
       "      <th>0.7</th>\n",
       "    </tr>\n",
       "  </thead>\n",
       "  <tbody>\n",
       "    <tr>\n",
       "      <td>all</td>\n",
       "      <td>0.689520</td>\n",
       "      <td>0.888323</td>\n",
       "      <td>1.042354</td>\n",
       "      <td>1.152752</td>\n",
       "    </tr>\n",
       "    <tr>\n",
       "      <td>person</td>\n",
       "      <td>0.696725</td>\n",
       "      <td>0.900495</td>\n",
       "      <td>1.059050</td>\n",
       "      <td>1.174065</td>\n",
       "    </tr>\n",
       "    <tr>\n",
       "      <td>no person</td>\n",
       "      <td>0.465581</td>\n",
       "      <td>0.509514</td>\n",
       "      <td>0.522746</td>\n",
       "      <td>0.489451</td>\n",
       "    </tr>\n",
       "    <tr>\n",
       "      <td>animal</td>\n",
       "      <td>0.653224</td>\n",
       "      <td>0.809741</td>\n",
       "      <td>0.938645</td>\n",
       "      <td>1.035777</td>\n",
       "    </tr>\n",
       "    <tr>\n",
       "      <td>sports</td>\n",
       "      <td>0.776460</td>\n",
       "      <td>0.965182</td>\n",
       "      <td>1.117180</td>\n",
       "      <td>1.235340</td>\n",
       "    </tr>\n",
       "    <tr>\n",
       "      <td>electronic</td>\n",
       "      <td>0.710235</td>\n",
       "      <td>0.903645</td>\n",
       "      <td>1.054950</td>\n",
       "      <td>1.164014</td>\n",
       "    </tr>\n",
       "  </tbody>\n",
       "</table>\n",
       "</div>"
      ],
      "text/plain": [
       "                 0.0       0.3       0.5       0.7\n",
       "all         0.689520  0.888323  1.042354  1.152752\n",
       "person      0.696725  0.900495  1.059050  1.174065\n",
       "no person   0.465581  0.509514  0.522746  0.489451\n",
       "animal      0.653224  0.809741  0.938645  1.035777\n",
       "sports      0.776460  0.965182  1.117180  1.235340\n",
       "electronic  0.710235  0.903645  1.054950  1.164014"
      ]
     },
     "execution_count": 20,
     "metadata": {},
     "output_type": "execute_result"
    }
   ],
   "source": [
    "mean_cxt = (X.mean(axis=0))\n",
    "\n",
    "NSS_mean_cxt = pd.DataFrame(data=mean_cxt, columns=[0, 0.3, 0.5, 0.7], index=cxt)\n",
    "NSS_mean_cxt"
   ]
  },
  {
   "cell_type": "code",
   "execution_count": 21,
   "metadata": {},
   "outputs": [],
   "source": [
    "NSS_mean_cxt.to_csv('NSS_mean_cxt.csv')\n",
    "NSS_mean_models.to_csv('NSS_mean_models.csv')\n"
   ]
  },
  {
   "cell_type": "code",
   "execution_count": null,
   "metadata": {},
   "outputs": [],
   "source": []
  }
 ],
 "metadata": {
  "kernelspec": {
   "display_name": "saliency",
   "language": "python",
   "name": "myenv"
  },
  "language_info": {
   "codemirror_mode": {
    "name": "ipython",
    "version": 3
   },
   "file_extension": ".py",
   "mimetype": "text/x-python",
   "name": "python",
   "nbconvert_exporter": "python",
   "pygments_lexer": "ipython3",
   "version": "3.7.1"
  }
 },
 "nbformat": 4,
 "nbformat_minor": 2
}
