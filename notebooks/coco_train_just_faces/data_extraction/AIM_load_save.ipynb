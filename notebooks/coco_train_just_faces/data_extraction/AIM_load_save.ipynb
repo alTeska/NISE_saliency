{
 "cells": [
  {
   "cell_type": "code",
   "execution_count": 1,
   "metadata": {},
   "outputs": [],
   "source": [
    "import pickle\n",
    "import numpy as np\n",
    "import pandas as pd"
   ]
  },
  {
   "cell_type": "code",
   "execution_count": 2,
   "metadata": {},
   "outputs": [],
   "source": [
    "(results, cxt, mod, labels) = pickle.load(open( \"2019-10-01_aim.p\", \"rb\"))\n"
   ]
  },
  {
   "cell_type": "code",
   "execution_count": 3,
   "metadata": {},
   "outputs": [
    {
     "data": {
      "text/plain": [
       "array([[[0.588971  , 0.        , 0.        , 0.        , 0.304032  ,\n",
       "         0.        , 0.        , 0.        ],\n",
       "        [0.81978708, 0.        , 0.        , 0.        , 0.38912681,\n",
       "         0.        , 0.        , 0.        ],\n",
       "        [0.99416538, 0.        , 0.        , 0.        , 0.5228742 ,\n",
       "         0.        , 0.        , 0.        ],\n",
       "        [1.11387773, 0.        , 0.        , 0.        , 0.6769767 ,\n",
       "         0.        , 0.        , 0.        ]],\n",
       "\n",
       "       [[0.59415787, 0.        , 0.        , 0.        , 0.30416188,\n",
       "         0.        , 0.        , 0.        ],\n",
       "        [0.83068283, 0.        , 0.        , 0.        , 0.38624893,\n",
       "         0.        , 0.        , 0.        ],\n",
       "        [1.01014922, 0.        , 0.        , 0.        , 0.51840397,\n",
       "         0.        , 0.        , 0.        ],\n",
       "        [1.13487258, 0.        , 0.        , 0.        , 0.67148144,\n",
       "         0.        , 0.        , 0.        ]],\n",
       "\n",
       "       [[0.42754275, 0.        , 0.        , 0.        , 0.25115857,\n",
       "         0.        , 0.        , 0.        ],\n",
       "        [0.48068453, 0.        , 0.        , 0.        , 0.31965972,\n",
       "         0.        , 0.        , 0.        ],\n",
       "        [0.49670909, 0.        , 0.        , 0.        , 0.40354783,\n",
       "         0.        , 0.        , 0.        ],\n",
       "        [0.46046673, 0.        , 0.        , 0.        , 0.49825172,\n",
       "         0.        , 0.        , 0.        ]],\n",
       "\n",
       "       [[0.53239101, 0.        , 0.        , 0.        , 0.25869138,\n",
       "         0.        , 0.        , 0.        ],\n",
       "        [0.73037775, 0.        , 0.        , 0.        , 0.32205154,\n",
       "         0.        , 0.        , 0.        ],\n",
       "        [0.88388962, 0.        , 0.        , 0.        , 0.43597985,\n",
       "         0.        , 0.        , 0.        ],\n",
       "        [0.98911093, 0.        , 0.        , 0.        , 0.5684667 ,\n",
       "         0.        , 0.        , 0.        ]],\n",
       "\n",
       "       [[0.67823003, 0.        , 0.        , 0.        , 0.29805993,\n",
       "         0.        , 0.        , 0.        ],\n",
       "        [0.89142103, 0.        , 0.        , 0.        , 0.40719382,\n",
       "         0.        , 0.        , 0.        ],\n",
       "        [1.05934052, 0.        , 0.        , 0.        , 0.54918518,\n",
       "         0.        , 0.        , 0.        ],\n",
       "        [1.18813773, 0.        , 0.        , 0.        , 0.71510857,\n",
       "         0.        , 0.        , 0.        ]],\n",
       "\n",
       "       [[0.60571641, 0.        , 0.        , 0.        , 0.31468733,\n",
       "         0.        , 0.        , 0.        ],\n",
       "        [0.81994511, 0.        , 0.        , 0.        , 0.3875568 ,\n",
       "         0.        , 0.        , 0.        ],\n",
       "        [0.99005862, 0.        , 0.        , 0.        , 0.50380507,\n",
       "         0.        , 0.        , 0.        ],\n",
       "        [1.11626657, 0.        , 0.        , 0.        , 0.6551833 ,\n",
       "         0.        , 0.        , 0.        ]]])"
      ]
     },
     "execution_count": 3,
     "metadata": {},
     "output_type": "execute_result"
    }
   ],
   "source": [
    "results"
   ]
  },
  {
   "cell_type": "code",
   "execution_count": 4,
   "metadata": {},
   "outputs": [
    {
     "data": {
      "text/plain": [
       "['all', 'person', 'no person', 'animal', 'sports', 'electronic']"
      ]
     },
     "execution_count": 4,
     "metadata": {},
     "output_type": "execute_result"
    }
   ],
   "source": [
    "cxt"
   ]
  },
  {
   "cell_type": "code",
   "execution_count": 5,
   "metadata": {},
   "outputs": [
    {
     "data": {
      "text/plain": [
       "['aim', 'aim_face_03', 'aim_face_05', 'aim_face_07']"
      ]
     },
     "execution_count": 5,
     "metadata": {},
     "output_type": "execute_result"
    }
   ],
   "source": [
    "mod"
   ]
  },
  {
   "cell_type": "code",
   "execution_count": 6,
   "metadata": {},
   "outputs": [
    {
     "data": {
      "text/plain": [
       "['nss mean',\n",
       " 'sim mean',\n",
       " 'ig mean',\n",
       " 'auc mean',\n",
       " 'nss std',\n",
       " 'sim std',\n",
       " 'ig std',\n",
       " 'auc std']"
      ]
     },
     "execution_count": 6,
     "metadata": {},
     "output_type": "execute_result"
    }
   ],
   "source": [
    "labels"
   ]
  },
  {
   "cell_type": "code",
   "execution_count": 7,
   "metadata": {},
   "outputs": [
    {
     "data": {
      "text/plain": [
       "(6, 4, 8)"
      ]
     },
     "execution_count": 7,
     "metadata": {},
     "output_type": "execute_result"
    }
   ],
   "source": [
    "np.shape(results)"
   ]
  },
  {
   "cell_type": "markdown",
   "metadata": {},
   "source": [
    "## Split by metric"
   ]
  },
  {
   "cell_type": "code",
   "execution_count": 8,
   "metadata": {},
   "outputs": [],
   "source": [
    "aim_nss_mean = results[:,:,0]\n",
    "aim_sim_mean = results[:,:,1]\n",
    "aim_ig_mean = results[:,:,2]\n",
    "aim_auc_mean = results[:,:,3]\n",
    "aim_nss_std = results[:,:,4]\n",
    "aim_sim_std = results[:,:,5]\n",
    "aim_ig_std = results[:,:,6]\n",
    "aim_auc_std = results[:,:,7]"
   ]
  },
  {
   "cell_type": "code",
   "execution_count": 9,
   "metadata": {},
   "outputs": [
    {
     "data": {
      "text/plain": [
       "array([[0.588971  , 0.81978708, 0.99416538, 1.11387773],\n",
       "       [0.59415787, 0.83068283, 1.01014922, 1.13487258],\n",
       "       [0.42754275, 0.48068453, 0.49670909, 0.46046673],\n",
       "       [0.53239101, 0.73037775, 0.88388962, 0.98911093],\n",
       "       [0.67823003, 0.89142103, 1.05934052, 1.18813773],\n",
       "       [0.60571641, 0.81994511, 0.99005862, 1.11626657]])"
      ]
     },
     "execution_count": 9,
     "metadata": {},
     "output_type": "execute_result"
    }
   ],
   "source": [
    "aim_nss_mean"
   ]
  },
  {
   "cell_type": "code",
   "execution_count": 10,
   "metadata": {},
   "outputs": [],
   "source": [
    "AIM_nss_m = pd.DataFrame(data=aim_nss_mean, columns=mod, index=cxt)\n",
    "AIM_sim_m = pd.DataFrame(data=aim_sim_mean, columns=mod, index=cxt)\n",
    "AIM_ig_m = pd.DataFrame(data=aim_ig_mean, columns=mod, index=cxt)\n",
    "AIM_auc_m = pd.DataFrame(data=aim_auc_mean, columns=mod, index=cxt)\n",
    "AIM_nss_s = pd.DataFrame(data=aim_nss_std, columns=mod, index=cxt)\n",
    "AIM_sim_s = pd.DataFrame(data=aim_sim_std, columns=mod, index=cxt)\n",
    "AIM_ig_s  = pd.DataFrame(data=aim_ig_std, columns=mod, index=cxt)\n",
    "AIM_auc_s = pd.DataFrame(data=aim_auc_std, columns=mod, index=cxt)\n"
   ]
  },
  {
   "cell_type": "code",
   "execution_count": 11,
   "metadata": {},
   "outputs": [],
   "source": [
    "AIM_nss_m.to_csv('AIM_nss_m.csv')\n",
    "AIM_sim_m.to_csv('AIM_sim_m.csv')\n",
    "AIM_ig_m.to_csv('AIM_ig_m.csv')\n",
    "AIM_auc_m.to_csv('AIM_auc_m.csv')\n",
    "AIM_nss_s.to_csv('AIM_nss_s.csv')\n",
    "AIM_sim_s.to_csv('AIM_sim_s.csv')\n",
    "AIM_ig_s.to_csv('AIM_ig_s.csv')\n",
    "AIM_auc_s.to_csv('AIM_auc_s.csv')"
   ]
  },
  {
   "cell_type": "code",
   "execution_count": 12,
   "metadata": {},
   "outputs": [
    {
     "data": {
      "text/html": [
       "<div>\n",
       "<style scoped>\n",
       "    .dataframe tbody tr th:only-of-type {\n",
       "        vertical-align: middle;\n",
       "    }\n",
       "\n",
       "    .dataframe tbody tr th {\n",
       "        vertical-align: top;\n",
       "    }\n",
       "\n",
       "    .dataframe thead th {\n",
       "        text-align: right;\n",
       "    }\n",
       "</style>\n",
       "<table border=\"1\" class=\"dataframe\">\n",
       "  <thead>\n",
       "    <tr style=\"text-align: right;\">\n",
       "      <th></th>\n",
       "      <th>aim</th>\n",
       "      <th>aim_face_03</th>\n",
       "      <th>aim_face_05</th>\n",
       "      <th>aim_face_07</th>\n",
       "    </tr>\n",
       "  </thead>\n",
       "  <tbody>\n",
       "    <tr>\n",
       "      <td>all</td>\n",
       "      <td>0.588971</td>\n",
       "      <td>0.819787</td>\n",
       "      <td>0.994165</td>\n",
       "      <td>1.113878</td>\n",
       "    </tr>\n",
       "    <tr>\n",
       "      <td>person</td>\n",
       "      <td>0.594158</td>\n",
       "      <td>0.830683</td>\n",
       "      <td>1.010149</td>\n",
       "      <td>1.134873</td>\n",
       "    </tr>\n",
       "    <tr>\n",
       "      <td>no person</td>\n",
       "      <td>0.427543</td>\n",
       "      <td>0.480685</td>\n",
       "      <td>0.496709</td>\n",
       "      <td>0.460467</td>\n",
       "    </tr>\n",
       "    <tr>\n",
       "      <td>animal</td>\n",
       "      <td>0.532391</td>\n",
       "      <td>0.730378</td>\n",
       "      <td>0.883890</td>\n",
       "      <td>0.989111</td>\n",
       "    </tr>\n",
       "    <tr>\n",
       "      <td>sports</td>\n",
       "      <td>0.678230</td>\n",
       "      <td>0.891421</td>\n",
       "      <td>1.059341</td>\n",
       "      <td>1.188138</td>\n",
       "    </tr>\n",
       "    <tr>\n",
       "      <td>electronic</td>\n",
       "      <td>0.605716</td>\n",
       "      <td>0.819945</td>\n",
       "      <td>0.990059</td>\n",
       "      <td>1.116267</td>\n",
       "    </tr>\n",
       "  </tbody>\n",
       "</table>\n",
       "</div>"
      ],
      "text/plain": [
       "                 aim  aim_face_03  aim_face_05  aim_face_07\n",
       "all         0.588971     0.819787     0.994165     1.113878\n",
       "person      0.594158     0.830683     1.010149     1.134873\n",
       "no person   0.427543     0.480685     0.496709     0.460467\n",
       "animal      0.532391     0.730378     0.883890     0.989111\n",
       "sports      0.678230     0.891421     1.059341     1.188138\n",
       "electronic  0.605716     0.819945     0.990059     1.116267"
      ]
     },
     "execution_count": 12,
     "metadata": {},
     "output_type": "execute_result"
    }
   ],
   "source": [
    "AIM_nss_m"
   ]
  },
  {
   "cell_type": "code",
   "execution_count": null,
   "metadata": {},
   "outputs": [],
   "source": []
  }
 ],
 "metadata": {
  "kernelspec": {
   "display_name": "saliency",
   "language": "python",
   "name": "myenv"
  },
  "language_info": {
   "codemirror_mode": {
    "name": "ipython",
    "version": 3
   },
   "file_extension": ".py",
   "mimetype": "text/x-python",
   "name": "python",
   "nbconvert_exporter": "python",
   "pygments_lexer": "ipython3",
   "version": "3.7.1"
  }
 },
 "nbformat": 4,
 "nbformat_minor": 2
}
