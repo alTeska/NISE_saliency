{
 "cells": [
  {
   "cell_type": "code",
   "execution_count": 1,
   "metadata": {},
   "outputs": [],
   "source": [
    "import pickle\n",
    "import numpy as np\n",
    "import pandas as pd"
   ]
  },
  {
   "cell_type": "code",
   "execution_count": 2,
   "metadata": {},
   "outputs": [],
   "source": [
    "(results, cxt, mod, labels) = pickle.load(open( \"2019-10-01_ik.p\", \"rb\"))\n"
   ]
  },
  {
   "cell_type": "code",
   "execution_count": 3,
   "metadata": {},
   "outputs": [
    {
     "data": {
      "text/plain": [
       "array([[[0.5541142 , 0.38709246, 3.64678027, 0.6655885 , 0.42249289,\n",
       "         0.0829489 , 2.80358956, 0.10338183],\n",
       "        [0.81768773, 0.42549475, 3.53720248, 0.69973284, 0.48758249,\n",
       "         0.08169856, 3.72549234, 0.0983646 ],\n",
       "        [1.00441098, 0.4648264 , 3.47760971, 0.7073731 , 0.59232087,\n",
       "         0.08167763, 3.73944575, 0.09883566],\n",
       "        [1.11598085, 0.51163111, 3.29376713, 0.71252324, 0.71246487,\n",
       "         0.07965081, 3.77803355, 0.09778966]],\n",
       "\n",
       "       [[0.56061004, 0.38482877, 3.59759587, 0.66731783, 0.4238935 ,\n",
       "         0.08066149, 2.77415246, 0.10341781],\n",
       "        [0.83067271, 0.42414171, 3.48434585, 0.70223923, 0.48536401,\n",
       "         0.08027562, 3.72691194, 0.09758334],\n",
       "        [1.02276487, 0.4646517 , 3.42756799, 0.71007838, 0.58765308,\n",
       "         0.08083331, 3.74098564, 0.0978645 ],\n",
       "        [1.13873643, 0.51323152, 3.245409  , 0.71532398, 0.70640745,\n",
       "         0.07835065, 3.77808061, 0.0966905 ]],\n",
       "\n",
       "       [[0.3540687 , 0.45680465, 5.16145895, 0.6117676 , 0.31729351,\n",
       "         0.11570708, 3.24774172, 0.0864089 ],\n",
       "        [0.41356334, 0.46760451, 5.18223031, 0.62172782, 0.36925532,\n",
       "         0.10962466, 3.27978147, 0.09033134],\n",
       "        [0.43319305, 0.47026369, 5.03503039, 0.62317816, 0.43068346,\n",
       "         0.10445623, 3.33488513, 0.09163607],\n",
       "        [0.4077714 , 0.46182267, 4.79879051, 0.62535713, 0.50736369,\n",
       "         0.1008815 , 3.45320054, 0.09150768]],\n",
       "\n",
       "       [[0.53807877, 0.36922578, 3.54556624, 0.65648762, 0.42819621,\n",
       "         0.07377271, 3.21368037, 0.10168184],\n",
       "        [0.74041533, 0.39921204, 3.61917438, 0.68321618, 0.43967937,\n",
       "         0.07100387, 3.29957128, 0.095205  ],\n",
       "        [0.90000983, 0.43283447, 3.52017209, 0.68989427, 0.5009917 ,\n",
       "         0.07036119, 3.4136506 , 0.09297142],\n",
       "        [1.00466924, 0.47562588, 3.32629412, 0.69594418, 0.60409299,\n",
       "         0.0669839 , 3.56679405, 0.08939069]],\n",
       "\n",
       "       [[0.67934685, 0.39353219, 3.82650756, 0.69518016, 0.40101052,\n",
       "         0.08341914, 2.67287391, 0.10500199],\n",
       "        [0.92687813, 0.42436233, 3.03781259, 0.7190786 , 0.48831731,\n",
       "         0.08358433, 5.66932925, 0.10071452],\n",
       "        [1.10391871, 0.45991059, 2.94673285, 0.72564945, 0.61524847,\n",
       "         0.08551237, 5.64132164, 0.10150233],\n",
       "        [1.21159937, 0.50584749, 2.76016418, 0.73077953, 0.75482922,\n",
       "         0.0843488 , 5.64985787, 0.10053103]],\n",
       "\n",
       "       [[0.60239868, 0.38709099, 3.63782051, 0.67456077, 0.4488011 ,\n",
       "         0.07676323, 2.85751357, 0.10140115],\n",
       "        [0.85399861, 0.42493482, 3.59239644, 0.70389665, 0.51111027,\n",
       "         0.07732457, 3.36675158, 0.09718031],\n",
       "        [1.03143565, 0.46388393, 3.50624876, 0.7106107 , 0.59859113,\n",
       "         0.07838534, 3.39362291, 0.09671379],\n",
       "        [1.13547241, 0.50895132, 3.26775263, 0.71561421, 0.70605659,\n",
       "         0.07536987, 3.46839613, 0.09507837]]])"
      ]
     },
     "execution_count": 3,
     "metadata": {},
     "output_type": "execute_result"
    }
   ],
   "source": [
    "results"
   ]
  },
  {
   "cell_type": "code",
   "execution_count": 4,
   "metadata": {},
   "outputs": [
    {
     "data": {
      "text/plain": [
       "['all', 'person', 'no person', 'animal', 'sports', 'electronic']"
      ]
     },
     "execution_count": 4,
     "metadata": {},
     "output_type": "execute_result"
    }
   ],
   "source": [
    "cxt"
   ]
  },
  {
   "cell_type": "code",
   "execution_count": 5,
   "metadata": {},
   "outputs": [
    {
     "data": {
      "text/plain": [
       "['ik', 'ik_face_03', 'ik_face_05', 'ik_face_07']"
      ]
     },
     "execution_count": 5,
     "metadata": {},
     "output_type": "execute_result"
    }
   ],
   "source": [
    "mod"
   ]
  },
  {
   "cell_type": "code",
   "execution_count": 6,
   "metadata": {},
   "outputs": [
    {
     "data": {
      "text/plain": [
       "['nss mean',\n",
       " 'sim mean',\n",
       " 'ig mean',\n",
       " 'auc mean',\n",
       " 'nss std',\n",
       " 'sim std',\n",
       " 'ig std',\n",
       " 'auc std']"
      ]
     },
     "execution_count": 6,
     "metadata": {},
     "output_type": "execute_result"
    }
   ],
   "source": [
    "labels"
   ]
  },
  {
   "cell_type": "code",
   "execution_count": 7,
   "metadata": {},
   "outputs": [
    {
     "data": {
      "text/plain": [
       "(6, 4, 8)"
      ]
     },
     "execution_count": 7,
     "metadata": {},
     "output_type": "execute_result"
    }
   ],
   "source": [
    "np.shape(results)"
   ]
  },
  {
   "cell_type": "markdown",
   "metadata": {},
   "source": [
    "## Split by metric"
   ]
  },
  {
   "cell_type": "code",
   "execution_count": 8,
   "metadata": {},
   "outputs": [],
   "source": [
    "ik_nss_mean = results[:,:,0]\n",
    "ik_sim_mean = results[:,:,1]\n",
    "ik_ig_mean = results[:,:,2]\n",
    "ik_auc_mean = results[:,:,3]\n",
    "ik_nss_std = results[:,:,4]\n",
    "ik_sim_std = results[:,:,5]\n",
    "ik_ig_std = results[:,:,6]\n",
    "ik_auc_std = results[:,:,7]"
   ]
  },
  {
   "cell_type": "code",
   "execution_count": 9,
   "metadata": {},
   "outputs": [
    {
     "data": {
      "text/plain": [
       "array([[0.5541142 , 0.81768773, 1.00441098, 1.11598085],\n",
       "       [0.56061004, 0.83067271, 1.02276487, 1.13873643],\n",
       "       [0.3540687 , 0.41356334, 0.43319305, 0.4077714 ],\n",
       "       [0.53807877, 0.74041533, 0.90000983, 1.00466924],\n",
       "       [0.67934685, 0.92687813, 1.10391871, 1.21159937],\n",
       "       [0.60239868, 0.85399861, 1.03143565, 1.13547241]])"
      ]
     },
     "execution_count": 9,
     "metadata": {},
     "output_type": "execute_result"
    }
   ],
   "source": [
    "ik_nss_mean"
   ]
  },
  {
   "cell_type": "code",
   "execution_count": 10,
   "metadata": {},
   "outputs": [],
   "source": [
    "IK_nss_m = pd.DataFrame(data=ik_nss_mean, columns=mod, index=cxt)\n",
    "IK_sim_m = pd.DataFrame(data=ik_sim_mean, columns=mod, index=cxt)\n",
    "IK_ig_m = pd.DataFrame(data=ik_ig_mean, columns=mod, index=cxt)\n",
    "IK_auc_m = pd.DataFrame(data=ik_auc_mean, columns=mod, index=cxt)\n",
    "IK_nss_s = pd.DataFrame(data=ik_nss_std, columns=mod, index=cxt)\n",
    "IK_sim_s = pd.DataFrame(data=ik_sim_std, columns=mod, index=cxt)\n",
    "IK_ig_s  = pd.DataFrame(data=ik_ig_std, columns=mod, index=cxt)\n",
    "IK_auc_s = pd.DataFrame(data=ik_auc_std, columns=mod, index=cxt)\n"
   ]
  },
  {
   "cell_type": "code",
   "execution_count": 11,
   "metadata": {},
   "outputs": [],
   "source": [
    "IK_nss_m.to_csv('IK_nss_m.csv')\n",
    "IK_sim_m.to_csv('IK_sim_m.csv')\n",
    "IK_ig_m.to_csv('IK_ig_m.csv')\n",
    "IK_auc_m.to_csv('IK_auc_m.csv')\n",
    "IK_nss_s.to_csv('IK_nss_s.csv')\n",
    "IK_sim_s.to_csv('IK_sim_s.csv')\n",
    "IK_ig_s.to_csv('IK_ig_s.csv')\n",
    "IK_auc_s.to_csv('IK_auc_s.csv')"
   ]
  },
  {
   "cell_type": "code",
   "execution_count": null,
   "metadata": {},
   "outputs": [],
   "source": []
  }
 ],
 "metadata": {
  "kernelspec": {
   "display_name": "saliency",
   "language": "python",
   "name": "myenv"
  },
  "language_info": {
   "codemirror_mode": {
    "name": "ipython",
    "version": 3
   },
   "file_extension": ".py",
   "mimetype": "text/x-python",
   "name": "python",
   "nbconvert_exporter": "python",
   "pygments_lexer": "ipython3",
   "version": "3.7.1"
  }
 },
 "nbformat": 4,
 "nbformat_minor": 2
}
