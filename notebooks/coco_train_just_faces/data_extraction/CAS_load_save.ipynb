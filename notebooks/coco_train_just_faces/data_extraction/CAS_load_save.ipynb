{
 "cells": [
  {
   "cell_type": "code",
   "execution_count": 1,
   "metadata": {},
   "outputs": [],
   "source": [
    "import pickle\n",
    "import numpy as np\n",
    "import pandas as pd"
   ]
  },
  {
   "cell_type": "code",
   "execution_count": 2,
   "metadata": {},
   "outputs": [],
   "source": [
    "(results, cxt, mod, labels) = pickle.load(open( \"2019-10-01_cas.p\", \"rb\"))\n"
   ]
  },
  {
   "cell_type": "code",
   "execution_count": 3,
   "metadata": {},
   "outputs": [
    {
     "data": {
      "text/plain": [
       "array([[[0.65292006, 0.4108645 , 3.92717913, 0.68458375, 0.44670164,\n",
       "         0.08824862, 2.83962899, 0.10171634],\n",
       "        [0.81245422, 0.43119612, 4.02785455, 0.70992353, 0.47107415,\n",
       "         0.08643803, 2.81343988, 0.09828162],\n",
       "        [0.96295587, 0.45469289, 4.07811219, 0.72024588, 0.52972287,\n",
       "         0.08510433, 2.79517879, 0.09784596],\n",
       "        [1.11706133, 0.49576516, 4.09355271, 0.72524164, 0.64504775,\n",
       "         0.08250162, 2.77093454, 0.09728321]],\n",
       "\n",
       "       [[0.65968231, 0.40791197, 3.88175086, 0.68634197, 0.44617231,\n",
       "         0.08457801, 2.81284852, 0.10117988],\n",
       "        [0.82324474, 0.42870696, 3.98551832, 0.7123383 , 0.46772028,\n",
       "         0.08326725, 2.78674041, 0.09706819],\n",
       "        [0.97811143, 0.45285558, 4.03782674, 0.72295053, 0.52382831,\n",
       "         0.08255868, 2.76838581, 0.09634632],\n",
       "        [1.13770248, 0.49530861, 4.05614636, 0.72806991, 0.63728047,\n",
       "         0.08072296, 2.74306319, 0.09565788]],\n",
       "\n",
       "       [[0.44246225, 0.5027547 , 5.34101816, 0.62986352, 0.41053111,\n",
       "         0.13717191, 3.27284538, 0.1031662 ],\n",
       "        [0.47662681, 0.50866483, 5.34546157, 0.63477011, 0.45110863,\n",
       "         0.13425441, 3.28284308, 0.10586372],\n",
       "        [0.49127758, 0.51187441, 5.33189413, 0.63607049, 0.49422125,\n",
       "         0.13096325, 3.29086597, 0.10641483],\n",
       "        [0.47465814, 0.50997436, 5.25772992, 0.637219  , 0.54784175,\n",
       "         0.12503461, 3.32598843, 0.10595686]],\n",
       "\n",
       "       [[0.62164037, 0.39105959, 3.86039015, 0.67929008, 0.38678491,\n",
       "         0.08033898, 3.13653135, 0.09259559],\n",
       "        [0.74593468, 0.4065559 , 3.92664977, 0.69602195, 0.4121607 ,\n",
       "         0.07940247, 3.13755233, 0.08875047],\n",
       "        [0.8647586 , 0.42531127, 3.95728389, 0.70277027, 0.45979509,\n",
       "         0.07870042, 3.13955055, 0.08624094],\n",
       "        [0.99051905, 0.45975845, 3.93679187, 0.70701898, 0.54815874,\n",
       "         0.0767731 , 3.15442039, 0.08405133]],\n",
       "\n",
       "       [[0.89434262, 0.43816727, 4.27343121, 0.7326085 , 0.48478398,\n",
       "         0.08356904, 2.75403785, 0.09436428],\n",
       "        [1.03066976, 0.45656378, 4.34460126, 0.74709668, 0.52873269,\n",
       "         0.08228953, 2.73370006, 0.09407585],\n",
       "        [1.15486586, 0.47778291, 4.38939064, 0.75261476, 0.59746824,\n",
       "         0.08121569, 2.71595634, 0.09384446],\n",
       "        [1.27402122, 0.51675453, 4.35415661, 0.75586493, 0.7121936 ,\n",
       "         0.07960338, 2.66782204, 0.09327072]],\n",
       "\n",
       "       [[0.65516013, 0.40562787, 3.92129216, 0.68733861, 0.44208471,\n",
       "         0.07690999, 2.85126626, 0.10130597],\n",
       "        [0.80966108, 0.42540175, 4.01147066, 0.71005492, 0.46764225,\n",
       "         0.07622812, 2.82743151, 0.09806882],\n",
       "        [0.95688848, 0.44875282, 4.04719751, 0.71887225, 0.52255324,\n",
       "         0.07609009, 2.81034605, 0.09723624],\n",
       "        [1.11182795, 0.48995943, 4.0476613 , 0.72356294, 0.63190465,\n",
       "         0.07556879, 2.79202192, 0.09626535]]])"
      ]
     },
     "execution_count": 3,
     "metadata": {},
     "output_type": "execute_result"
    }
   ],
   "source": [
    "results"
   ]
  },
  {
   "cell_type": "code",
   "execution_count": 4,
   "metadata": {},
   "outputs": [
    {
     "data": {
      "text/plain": [
       "['all', 'person', 'no person', 'animal', 'sports', 'electronic']"
      ]
     },
     "execution_count": 4,
     "metadata": {},
     "output_type": "execute_result"
    }
   ],
   "source": [
    "cxt"
   ]
  },
  {
   "cell_type": "code",
   "execution_count": 5,
   "metadata": {},
   "outputs": [
    {
     "data": {
      "text/plain": [
       "['cas', 'cas_face_03', 'cas_face_05', 'cas_face_07']"
      ]
     },
     "execution_count": 5,
     "metadata": {},
     "output_type": "execute_result"
    }
   ],
   "source": [
    "mod"
   ]
  },
  {
   "cell_type": "code",
   "execution_count": 6,
   "metadata": {},
   "outputs": [
    {
     "data": {
      "text/plain": [
       "['nss mean',\n",
       " 'sim mean',\n",
       " 'ig mean',\n",
       " 'auc mean',\n",
       " 'nss std',\n",
       " 'sim std',\n",
       " 'ig std',\n",
       " 'auc std']"
      ]
     },
     "execution_count": 6,
     "metadata": {},
     "output_type": "execute_result"
    }
   ],
   "source": [
    "labels"
   ]
  },
  {
   "cell_type": "code",
   "execution_count": 7,
   "metadata": {},
   "outputs": [
    {
     "data": {
      "text/plain": [
       "(6, 4, 8)"
      ]
     },
     "execution_count": 7,
     "metadata": {},
     "output_type": "execute_result"
    }
   ],
   "source": [
    "np.shape(results)"
   ]
  },
  {
   "cell_type": "markdown",
   "metadata": {},
   "source": [
    "## Split by metric"
   ]
  },
  {
   "cell_type": "code",
   "execution_count": 8,
   "metadata": {},
   "outputs": [],
   "source": [
    "cas_nss_mean = results[:,:,0]\n",
    "cas_sim_mean = results[:,:,1]\n",
    "cas_ig_mean = results[:,:,2]\n",
    "cas_auc_mean = results[:,:,3]\n",
    "cas_nss_std = results[:,:,4]\n",
    "cas_sim_std = results[:,:,5]\n",
    "cas_ig_std = results[:,:,6]\n",
    "cas_auc_std = results[:,:,7]"
   ]
  },
  {
   "cell_type": "code",
   "execution_count": 9,
   "metadata": {},
   "outputs": [
    {
     "data": {
      "text/plain": [
       "array([[0.65292006, 0.81245422, 0.96295587, 1.11706133],\n",
       "       [0.65968231, 0.82324474, 0.97811143, 1.13770248],\n",
       "       [0.44246225, 0.47662681, 0.49127758, 0.47465814],\n",
       "       [0.62164037, 0.74593468, 0.8647586 , 0.99051905],\n",
       "       [0.89434262, 1.03066976, 1.15486586, 1.27402122],\n",
       "       [0.65516013, 0.80966108, 0.95688848, 1.11182795]])"
      ]
     },
     "execution_count": 9,
     "metadata": {},
     "output_type": "execute_result"
    }
   ],
   "source": [
    "cas_nss_mean"
   ]
  },
  {
   "cell_type": "code",
   "execution_count": 10,
   "metadata": {},
   "outputs": [],
   "source": [
    "CAS_nss_m = pd.DataFrame(data=cas_nss_mean, columns=mod, index=cxt)\n",
    "CAS_sim_m = pd.DataFrame(data=cas_sim_mean, columns=mod, index=cxt)\n",
    "CAS_ig_m = pd.DataFrame(data=cas_ig_mean, columns=mod, index=cxt)\n",
    "CAS_auc_m = pd.DataFrame(data=cas_auc_mean, columns=mod, index=cxt)\n",
    "CAS_nss_s = pd.DataFrame(data=cas_nss_std, columns=mod, index=cxt)\n",
    "CAS_sim_s = pd.DataFrame(data=cas_sim_std, columns=mod, index=cxt)\n",
    "CAS_ig_s  = pd.DataFrame(data=cas_ig_std, columns=mod, index=cxt)\n",
    "CAS_auc_s = pd.DataFrame(data=cas_auc_std, columns=mod, index=cxt)"
   ]
  },
  {
   "cell_type": "code",
   "execution_count": 11,
   "metadata": {},
   "outputs": [
    {
     "data": {
      "text/html": [
       "<div>\n",
       "<style scoped>\n",
       "    .dataframe tbody tr th:only-of-type {\n",
       "        vertical-align: middle;\n",
       "    }\n",
       "\n",
       "    .dataframe tbody tr th {\n",
       "        vertical-align: top;\n",
       "    }\n",
       "\n",
       "    .dataframe thead th {\n",
       "        text-align: right;\n",
       "    }\n",
       "</style>\n",
       "<table border=\"1\" class=\"dataframe\">\n",
       "  <thead>\n",
       "    <tr style=\"text-align: right;\">\n",
       "      <th></th>\n",
       "      <th>cas</th>\n",
       "      <th>cas_face_03</th>\n",
       "      <th>cas_face_05</th>\n",
       "      <th>cas_face_07</th>\n",
       "    </tr>\n",
       "  </thead>\n",
       "  <tbody>\n",
       "    <tr>\n",
       "      <td>all</td>\n",
       "      <td>0.652920</td>\n",
       "      <td>0.812454</td>\n",
       "      <td>0.962956</td>\n",
       "      <td>1.117061</td>\n",
       "    </tr>\n",
       "    <tr>\n",
       "      <td>person</td>\n",
       "      <td>0.659682</td>\n",
       "      <td>0.823245</td>\n",
       "      <td>0.978111</td>\n",
       "      <td>1.137702</td>\n",
       "    </tr>\n",
       "    <tr>\n",
       "      <td>no person</td>\n",
       "      <td>0.442462</td>\n",
       "      <td>0.476627</td>\n",
       "      <td>0.491278</td>\n",
       "      <td>0.474658</td>\n",
       "    </tr>\n",
       "    <tr>\n",
       "      <td>animal</td>\n",
       "      <td>0.621640</td>\n",
       "      <td>0.745935</td>\n",
       "      <td>0.864759</td>\n",
       "      <td>0.990519</td>\n",
       "    </tr>\n",
       "    <tr>\n",
       "      <td>sports</td>\n",
       "      <td>0.894343</td>\n",
       "      <td>1.030670</td>\n",
       "      <td>1.154866</td>\n",
       "      <td>1.274021</td>\n",
       "    </tr>\n",
       "    <tr>\n",
       "      <td>electronic</td>\n",
       "      <td>0.655160</td>\n",
       "      <td>0.809661</td>\n",
       "      <td>0.956888</td>\n",
       "      <td>1.111828</td>\n",
       "    </tr>\n",
       "  </tbody>\n",
       "</table>\n",
       "</div>"
      ],
      "text/plain": [
       "                 cas  cas_face_03  cas_face_05  cas_face_07\n",
       "all         0.652920     0.812454     0.962956     1.117061\n",
       "person      0.659682     0.823245     0.978111     1.137702\n",
       "no person   0.442462     0.476627     0.491278     0.474658\n",
       "animal      0.621640     0.745935     0.864759     0.990519\n",
       "sports      0.894343     1.030670     1.154866     1.274021\n",
       "electronic  0.655160     0.809661     0.956888     1.111828"
      ]
     },
     "execution_count": 11,
     "metadata": {},
     "output_type": "execute_result"
    }
   ],
   "source": [
    "CAS_nss_m"
   ]
  },
  {
   "cell_type": "code",
   "execution_count": 12,
   "metadata": {},
   "outputs": [],
   "source": [
    "CAS_nss_m.to_csv('CAS_nss_m.csv')\n",
    "CAS_sim_m.to_csv('CAS_sim_m.csv')\n",
    "CAS_ig_m.to_csv('CAS_ig_m.csv')\n",
    "CAS_auc_m.to_csv('CAS_auc_m.csv')\n",
    "CAS_nss_s.to_csv('CAS_nss_s.csv')\n",
    "CAS_sim_s.to_csv('CAS_sim_s.csv')\n",
    "CAS_ig_s.to_csv('CAS_ig_s.csv')\n",
    "CAS_auc_s.to_csv('CAS_auc_s.csv')"
   ]
  },
  {
   "cell_type": "code",
   "execution_count": null,
   "metadata": {},
   "outputs": [],
   "source": []
  }
 ],
 "metadata": {
  "kernelspec": {
   "display_name": "saliency",
   "language": "python",
   "name": "myenv"
  },
  "language_info": {
   "codemirror_mode": {
    "name": "ipython",
    "version": 3
   },
   "file_extension": ".py",
   "mimetype": "text/x-python",
   "name": "python",
   "nbconvert_exporter": "python",
   "pygments_lexer": "ipython3",
   "version": "3.7.1"
  }
 },
 "nbformat": 4,
 "nbformat_minor": 2
}
