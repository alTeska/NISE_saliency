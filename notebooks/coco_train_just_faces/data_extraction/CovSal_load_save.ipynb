{
 "cells": [
  {
   "cell_type": "code",
   "execution_count": 1,
   "metadata": {},
   "outputs": [],
   "source": [
    "import pickle\n",
    "import numpy as np\n",
    "import pandas as pd"
   ]
  },
  {
   "cell_type": "code",
   "execution_count": 2,
   "metadata": {},
   "outputs": [],
   "source": [
    "(results, cxt, mod, labels) = pickle.load(open( \"2019-10-01_covsal.p\", \"rb\"))\n"
   ]
  },
  {
   "cell_type": "code",
   "execution_count": 3,
   "metadata": {},
   "outputs": [
    {
     "data": {
      "text/plain": [
       "array([[[0.79107555, 0.4370977 , 3.31140668, 0.74548165, 0.59400829,\n",
       "         0.10736193, 1.75265117, 0.0911854 ],\n",
       "        [0.97669074, 0.48768276, 3.37484478, 0.76511789, 0.62207799,\n",
       "         0.1026641 , 1.92998896, 0.08991417],\n",
       "        [1.1225895 , 0.53182721, 2.82230832, 0.7721814 , 0.66690509,\n",
       "         0.09895592, 1.89399307, 0.08798505],\n",
       "        [1.21488406, 0.56671169, 1.93602988, 0.77968858, 0.73603862,\n",
       "         0.0951265 , 2.20170605, 0.0822994 ]],\n",
       "\n",
       "       [[0.80069743, 0.43589234, 3.27644292, 0.74713515, 0.59412664,\n",
       "         0.10638455, 1.73041887, 0.09041277],\n",
       "        [0.9910509 , 0.4876695 , 3.34691717, 0.76727354, 0.62014407,\n",
       "         0.10181066, 1.90840565, 0.08879997],\n",
       "        [1.14126684, 0.53330145, 2.80616457, 0.77450885, 0.66310575,\n",
       "         0.09789514, 1.87877945, 0.08673368],\n",
       "        [1.23777495, 0.56978239, 1.94420141, 0.78201534, 0.73056987,\n",
       "         0.09290534, 2.18667461, 0.0810198 ]],\n",
       "\n",
       "       [[0.49161886, 0.47461142, 4.39956472, 0.69402059, 0.5058793 ,\n",
       "         0.12874758, 2.06389705, 0.09974035],\n",
       "        [0.52976753, 0.48809536, 4.24402036, 0.69802888, 0.50555909,\n",
       "         0.12637577, 2.3502051 , 0.09816423],\n",
       "        [0.54130505, 0.48594526, 3.32474148, 0.69974553, 0.50327013,\n",
       "         0.11882056, 2.26119704, 0.09555301],\n",
       "        [0.50246373, 0.47114399, 1.68171175, 0.70727418, 0.51722344,\n",
       "         0.11234158, 2.61413557, 0.0886842 ]],\n",
       "\n",
       "       [[0.82392951, 0.4314934 , 3.25333119, 0.7489343 , 0.54938654,\n",
       "         0.10967777, 1.87584792, 0.09751141],\n",
       "        [0.97182404, 0.47108346, 3.50255948, 0.76803431, 0.5506041 ,\n",
       "         0.10596774, 2.31352273, 0.09078924],\n",
       "        [1.09059183, 0.51061806, 2.97931373, 0.77438744, 0.5700572 ,\n",
       "         0.10352134, 2.19975799, 0.08836929],\n",
       "        [1.15619462, 0.54408305, 2.15765967, 0.78207457, 0.62514154,\n",
       "         0.0990309 , 2.32606229, 0.08209651]],\n",
       "\n",
       "       [[0.75926059, 0.43212459, 3.27814449, 0.74346659, 0.51465463,\n",
       "         0.11345427, 1.68423609, 0.08734032],\n",
       "        [0.95441588, 0.47805261, 3.27572346, 0.76127616, 0.54746871,\n",
       "         0.11023658, 1.80793475, 0.08919743],\n",
       "        [1.11884724, 0.52256089, 2.60819314, 0.76883131, 0.62193278,\n",
       "         0.10671638, 1.71667107, 0.08779798],\n",
       "        [1.2465004 , 0.56382365, 1.63556329, 0.77825178, 0.73854953,\n",
       "         0.10056774, 2.25375537, 0.0813867 ]],\n",
       "\n",
       "       [[0.80772132, 0.43150388, 3.32606332, 0.7477591 , 0.62151491,\n",
       "         0.10745303, 1.77788111, 0.09164415],\n",
       "        [0.99077969, 0.48049784, 3.38323497, 0.76715528, 0.64895064,\n",
       "         0.10354131, 1.93529677, 0.09054663],\n",
       "        [1.13725782, 0.5249702 , 2.85887618, 0.77434138, 0.68605966,\n",
       "         0.10003317, 1.870025  , 0.08808431],\n",
       "        [1.23090062, 0.56029115, 1.98662222, 0.78192314, 0.74271733,\n",
       "         0.09432708, 2.12965201, 0.08222682]]])"
      ]
     },
     "execution_count": 3,
     "metadata": {},
     "output_type": "execute_result"
    }
   ],
   "source": [
    "results"
   ]
  },
  {
   "cell_type": "code",
   "execution_count": 4,
   "metadata": {},
   "outputs": [
    {
     "data": {
      "text/plain": [
       "['all', 'person', 'no person', 'animal', 'sports', 'electronic']"
      ]
     },
     "execution_count": 4,
     "metadata": {},
     "output_type": "execute_result"
    }
   ],
   "source": [
    "cxt"
   ]
  },
  {
   "cell_type": "code",
   "execution_count": 5,
   "metadata": {},
   "outputs": [
    {
     "data": {
      "text/plain": [
       "['covsal', 'covsal_face_03', 'covsal_face_05', 'covsal_face_07']"
      ]
     },
     "execution_count": 5,
     "metadata": {},
     "output_type": "execute_result"
    }
   ],
   "source": [
    "mod"
   ]
  },
  {
   "cell_type": "code",
   "execution_count": 6,
   "metadata": {},
   "outputs": [
    {
     "data": {
      "text/plain": [
       "['nss mean',\n",
       " 'sim mean',\n",
       " 'ig mean',\n",
       " 'auc mean',\n",
       " 'nss std',\n",
       " 'sim std',\n",
       " 'ig std',\n",
       " 'auc std']"
      ]
     },
     "execution_count": 6,
     "metadata": {},
     "output_type": "execute_result"
    }
   ],
   "source": [
    "labels"
   ]
  },
  {
   "cell_type": "code",
   "execution_count": 7,
   "metadata": {},
   "outputs": [
    {
     "data": {
      "text/plain": [
       "(6, 4, 8)"
      ]
     },
     "execution_count": 7,
     "metadata": {},
     "output_type": "execute_result"
    }
   ],
   "source": [
    "np.shape(results)"
   ]
  },
  {
   "cell_type": "markdown",
   "metadata": {},
   "source": [
    "## Split by metric"
   ]
  },
  {
   "cell_type": "code",
   "execution_count": 8,
   "metadata": {},
   "outputs": [],
   "source": [
    "covsal_nss_mean = results[:,:,0]\n",
    "covsal_sim_mean = results[:,:,1]\n",
    "covsal_ig_mean = results[:,:,2]\n",
    "covsal_auc_mean = results[:,:,3]\n",
    "covsal_nss_std = results[:,:,4]\n",
    "covsal_sim_std = results[:,:,5]\n",
    "covsal_ig_std = results[:,:,6]\n",
    "covsal_auc_std = results[:,:,7]"
   ]
  },
  {
   "cell_type": "code",
   "execution_count": 9,
   "metadata": {},
   "outputs": [],
   "source": [
    "COVSAL_nss_m = pd.DataFrame(data=covsal_nss_mean, columns=mod, index=cxt)\n",
    "COVSAL_sim_m = pd.DataFrame(data=covsal_sim_mean, columns=mod, index=cxt)\n",
    "COVSAL_ig_m = pd.DataFrame(data=covsal_ig_mean, columns=mod, index=cxt)\n",
    "COVSAL_auc_m = pd.DataFrame(data=covsal_auc_mean, columns=mod, index=cxt)\n",
    "COVSAL_nss_s = pd.DataFrame(data=covsal_nss_std, columns=mod, index=cxt)\n",
    "COVSAL_sim_s = pd.DataFrame(data=covsal_sim_std, columns=mod, index=cxt)\n",
    "COVSAL_ig_s  = pd.DataFrame(data=covsal_ig_std, columns=mod, index=cxt)\n",
    "COVSAL_auc_s = pd.DataFrame(data=covsal_auc_std, columns=mod, index=cxt)\n"
   ]
  },
  {
   "cell_type": "code",
   "execution_count": 10,
   "metadata": {},
   "outputs": [],
   "source": [
    "COVSAL_nss_m.to_csv('COVSAL_nss_m.csv')\n",
    "COVSAL_sim_m.to_csv('COVSAL_sim_m.csv')\n",
    "COVSAL_ig_m.to_csv('COVSAL_ig_m.csv')\n",
    "COVSAL_auc_m.to_csv('COVSAL_auc_m.csv')\n",
    "COVSAL_nss_s.to_csv('COVSAL_nss_s.csv')\n",
    "COVSAL_sim_s.to_csv('COVSAL_sim_s.csv')\n",
    "COVSAL_ig_s.to_csv('COVSAL_ig_s.csv')\n",
    "COVSAL_auc_s.to_csv('COVSAL_auc_s.csv')"
   ]
  },
  {
   "cell_type": "code",
   "execution_count": null,
   "metadata": {},
   "outputs": [],
   "source": []
  }
 ],
 "metadata": {
  "kernelspec": {
   "display_name": "saliency",
   "language": "python",
   "name": "myenv"
  },
  "language_info": {
   "codemirror_mode": {
    "name": "ipython",
    "version": 3
   },
   "file_extension": ".py",
   "mimetype": "text/x-python",
   "name": "python",
   "nbconvert_exporter": "python",
   "pygments_lexer": "ipython3",
   "version": "3.7.1"
  }
 },
 "nbformat": 4,
 "nbformat_minor": 2
}
