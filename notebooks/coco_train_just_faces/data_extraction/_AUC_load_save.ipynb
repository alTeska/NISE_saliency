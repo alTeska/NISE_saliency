{
 "cells": [
  {
   "cell_type": "code",
   "execution_count": 1,
   "metadata": {},
   "outputs": [],
   "source": [
    "import pickle\n",
    "import numpy as np\n",
    "import pandas as pd"
   ]
  },
  {
   "cell_type": "code",
   "execution_count": 2,
   "metadata": {},
   "outputs": [],
   "source": [
    "cxt = ['all', 'person', 'no person', 'animal', 'sports', 'electronic']"
   ]
  },
  {
   "cell_type": "code",
   "execution_count": 3,
   "metadata": {},
   "outputs": [],
   "source": [
    "AIM_auc_m = pd.read_csv('AIM_auc_m.csv', index_col=[0])\n",
    "CAS_auc_m = pd.read_csv('CAS_auc_m.csv', index_col=[0])\n",
    "COVSAL_auc_m = pd.read_csv('COVSAL_auc_m.csv', index_col=[0])\n",
    "GBVS_auc_m = pd.read_csv('GBVS_auc_m.csv', index_col=[0])\n",
    "ICF_auc_m = pd.read_csv('ICF_auc_m.csv', index_col=[0])\n",
    "IK_auc_m = pd.read_csv('IK_auc_m.csv', index_col=[0])\n",
    "SUN_auc_m = pd.read_csv('SUN_auc_m.csv', index_col=[0])\n",
    "\n",
    "AIM_auc_s = pd.read_csv('AIM_auc_s.csv', index_col=[0])\n",
    "CAS_auc_s = pd.read_csv('CAS_auc_s.csv', index_col=[0])\n",
    "COVSAL_auc_s = pd.read_csv('COVSAL_auc_s.csv', index_col=[0])\n",
    "GBVS_auc_s = pd.read_csv('GBVS_auc_s.csv', index_col=[0])\n",
    "ICF_auc_s = pd.read_csv('ICF_auc_s.csv', index_col=[0])\n",
    "IK_auc_s = pd.read_csv('IK_auc_s.csv', index_col=[0])\n",
    "SUN_auc_s = pd.read_csv('SUN_auc_s.csv', index_col=[0])"
   ]
  },
  {
   "cell_type": "code",
   "execution_count": 4,
   "metadata": {},
   "outputs": [
    {
     "data": {
      "text/html": [
       "<div>\n",
       "<style scoped>\n",
       "    .dataframe tbody tr th:only-of-type {\n",
       "        vertical-align: middle;\n",
       "    }\n",
       "\n",
       "    .dataframe tbody tr th {\n",
       "        vertical-align: top;\n",
       "    }\n",
       "\n",
       "    .dataframe thead th {\n",
       "        text-align: right;\n",
       "    }\n",
       "</style>\n",
       "<table border=\"1\" class=\"dataframe\">\n",
       "  <thead>\n",
       "    <tr style=\"text-align: right;\">\n",
       "      <th></th>\n",
       "      <th>cas</th>\n",
       "      <th>cas_face_03</th>\n",
       "      <th>cas_face_05</th>\n",
       "      <th>cas_face_07</th>\n",
       "    </tr>\n",
       "  </thead>\n",
       "  <tbody>\n",
       "    <tr>\n",
       "      <td>all</td>\n",
       "      <td>0.684584</td>\n",
       "      <td>0.709924</td>\n",
       "      <td>0.720246</td>\n",
       "      <td>0.725242</td>\n",
       "    </tr>\n",
       "    <tr>\n",
       "      <td>person</td>\n",
       "      <td>0.686342</td>\n",
       "      <td>0.712338</td>\n",
       "      <td>0.722951</td>\n",
       "      <td>0.728070</td>\n",
       "    </tr>\n",
       "    <tr>\n",
       "      <td>no person</td>\n",
       "      <td>0.629864</td>\n",
       "      <td>0.634770</td>\n",
       "      <td>0.636070</td>\n",
       "      <td>0.637219</td>\n",
       "    </tr>\n",
       "    <tr>\n",
       "      <td>animal</td>\n",
       "      <td>0.679290</td>\n",
       "      <td>0.696022</td>\n",
       "      <td>0.702770</td>\n",
       "      <td>0.707019</td>\n",
       "    </tr>\n",
       "    <tr>\n",
       "      <td>sports</td>\n",
       "      <td>0.732609</td>\n",
       "      <td>0.747097</td>\n",
       "      <td>0.752615</td>\n",
       "      <td>0.755865</td>\n",
       "    </tr>\n",
       "    <tr>\n",
       "      <td>electronic</td>\n",
       "      <td>0.687339</td>\n",
       "      <td>0.710055</td>\n",
       "      <td>0.718872</td>\n",
       "      <td>0.723563</td>\n",
       "    </tr>\n",
       "  </tbody>\n",
       "</table>\n",
       "</div>"
      ],
      "text/plain": [
       "                 cas  cas_face_03  cas_face_05  cas_face_07\n",
       "all         0.684584     0.709924     0.720246     0.725242\n",
       "person      0.686342     0.712338     0.722951     0.728070\n",
       "no person   0.629864     0.634770     0.636070     0.637219\n",
       "animal      0.679290     0.696022     0.702770     0.707019\n",
       "sports      0.732609     0.747097     0.752615     0.755865\n",
       "electronic  0.687339     0.710055     0.718872     0.723563"
      ]
     },
     "execution_count": 4,
     "metadata": {},
     "output_type": "execute_result"
    }
   ],
   "source": [
    "CAS_auc_m"
   ]
  },
  {
   "cell_type": "markdown",
   "metadata": {},
   "source": [
    "## Save per metric"
   ]
  },
  {
   "cell_type": "markdown",
   "metadata": {},
   "source": [
    "### Mean value"
   ]
  },
  {
   "cell_type": "code",
   "execution_count": 5,
   "metadata": {},
   "outputs": [],
   "source": [
    "labels = ['aim', 'cas','covsal','gbvs','icf','ik','sun',]"
   ]
  },
  {
   "cell_type": "code",
   "execution_count": 6,
   "metadata": {},
   "outputs": [],
   "source": [
    "no_face = [\n",
    "  AIM_auc_m['aim'].tolist(), \n",
    "  CAS_auc_m['cas'].tolist(),\n",
    "  COVSAL_auc_m['covsal'].tolist(),\n",
    "  GBVS_auc_m['gbvs'].tolist(),\n",
    "  ICF_auc_m['icf'].tolist(),\n",
    "  IK_auc_m['ik'].tolist(),\n",
    "  SUN_auc_m['sun'].tolist(),\n",
    "  ICF_auc_m['dg'].tolist(),\n",
    "  ]\n",
    "\n",
    "face_03 = [\n",
    "  AIM_auc_m['aim_face_03'].tolist(), \n",
    "  CAS_auc_m['cas_face_03'].tolist(),\n",
    "  COVSAL_auc_m['covsal_face_03'].tolist(),\n",
    "  GBVS_auc_m['gbvs_face_03'].tolist(),\n",
    "  ICF_auc_m['icf_face_03'].tolist(),\n",
    "  IK_auc_m['ik_face_03'].tolist(),\n",
    "  SUN_auc_m['sun_face_03'].tolist(),\n",
    "  ]\n",
    "\n",
    "face_05 = [\n",
    "  AIM_auc_m['aim_face_05'].tolist(), \n",
    "  CAS_auc_m['cas_face_05'].tolist(),\n",
    "  COVSAL_auc_m['covsal_face_05'].tolist(),\n",
    "  GBVS_auc_m['gbvs_face_05'].tolist(),\n",
    "  ICF_auc_m['icf_face_05'].tolist(),\n",
    "  IK_auc_m['ik_face_05'].tolist(),\n",
    "  SUN_auc_m['sun_face_05'].tolist(),\n",
    "  ]\n",
    "\n",
    "face_07 = [\n",
    "  AIM_auc_m['aim_face_07'].tolist(), \n",
    "  CAS_auc_m['cas_face_07'].tolist(),\n",
    "  COVSAL_auc_m['covsal_face_07'].tolist(),\n",
    "  GBVS_auc_m['gbvs_face_07'].tolist(),\n",
    "  ICF_auc_m['icf_face_07'].tolist(),\n",
    "  IK_auc_m['ik_face_07'].tolist(),\n",
    "  SUN_auc_m['sun_face_07'].tolist(),\n",
    "  ]"
   ]
  },
  {
   "cell_type": "code",
   "execution_count": 7,
   "metadata": {},
   "outputs": [
    {
     "data": {
      "text/html": [
       "<div>\n",
       "<style scoped>\n",
       "    .dataframe tbody tr th:only-of-type {\n",
       "        vertical-align: middle;\n",
       "    }\n",
       "\n",
       "    .dataframe tbody tr th {\n",
       "        vertical-align: top;\n",
       "    }\n",
       "\n",
       "    .dataframe thead th {\n",
       "        text-align: right;\n",
       "    }\n",
       "</style>\n",
       "<table border=\"1\" class=\"dataframe\">\n",
       "  <thead>\n",
       "    <tr style=\"text-align: right;\">\n",
       "      <th></th>\n",
       "      <th>icf</th>\n",
       "      <th>icf_face_03</th>\n",
       "      <th>icf_face_05</th>\n",
       "      <th>icf_face_07</th>\n",
       "      <th>dg</th>\n",
       "    </tr>\n",
       "  </thead>\n",
       "  <tbody>\n",
       "    <tr>\n",
       "      <td>all</td>\n",
       "      <td>0.728172</td>\n",
       "      <td>0.738698</td>\n",
       "      <td>0.742057</td>\n",
       "      <td>0.746085</td>\n",
       "      <td>0.794056</td>\n",
       "    </tr>\n",
       "    <tr>\n",
       "      <td>person</td>\n",
       "      <td>0.730213</td>\n",
       "      <td>0.740916</td>\n",
       "      <td>0.744387</td>\n",
       "      <td>0.748523</td>\n",
       "      <td>0.795969</td>\n",
       "    </tr>\n",
       "    <tr>\n",
       "      <td>no person</td>\n",
       "      <td>0.664647</td>\n",
       "      <td>0.669670</td>\n",
       "      <td>0.669536</td>\n",
       "      <td>0.670202</td>\n",
       "      <td>0.734526</td>\n",
       "    </tr>\n",
       "    <tr>\n",
       "      <td>animal</td>\n",
       "      <td>0.711944</td>\n",
       "      <td>0.719520</td>\n",
       "      <td>0.722728</td>\n",
       "      <td>0.728060</td>\n",
       "      <td>0.794398</td>\n",
       "    </tr>\n",
       "    <tr>\n",
       "      <td>sports</td>\n",
       "      <td>0.753560</td>\n",
       "      <td>0.762679</td>\n",
       "      <td>0.766518</td>\n",
       "      <td>0.771252</td>\n",
       "      <td>0.814887</td>\n",
       "    </tr>\n",
       "    <tr>\n",
       "      <td>electronic</td>\n",
       "      <td>0.729476</td>\n",
       "      <td>0.739841</td>\n",
       "      <td>0.743200</td>\n",
       "      <td>0.747440</td>\n",
       "      <td>0.795691</td>\n",
       "    </tr>\n",
       "  </tbody>\n",
       "</table>\n",
       "</div>"
      ],
      "text/plain": [
       "                 icf  icf_face_03  icf_face_05  icf_face_07        dg\n",
       "all         0.728172     0.738698     0.742057     0.746085  0.794056\n",
       "person      0.730213     0.740916     0.744387     0.748523  0.795969\n",
       "no person   0.664647     0.669670     0.669536     0.670202  0.734526\n",
       "animal      0.711944     0.719520     0.722728     0.728060  0.794398\n",
       "sports      0.753560     0.762679     0.766518     0.771252  0.814887\n",
       "electronic  0.729476     0.739841     0.743200     0.747440  0.795691"
      ]
     },
     "execution_count": 7,
     "metadata": {},
     "output_type": "execute_result"
    }
   ],
   "source": [
    "ICF_auc_m"
   ]
  },
  {
   "cell_type": "code",
   "execution_count": 8,
   "metadata": {},
   "outputs": [],
   "source": [
    "AUC_mean_noface = pd.DataFrame(data=no_face, index=labels+['dg'], columns=cxt)\n",
    "AUC_mean_face_03 = pd.DataFrame(data=face_03, index=labels, columns=cxt)\n",
    "AUC_mean_face_05 = pd.DataFrame(data=face_05, index=labels, columns=cxt)\n",
    "AUC_mean_face_07 = pd.DataFrame(data=face_07, index=labels, columns=cxt)"
   ]
  },
  {
   "cell_type": "code",
   "execution_count": 9,
   "metadata": {},
   "outputs": [
    {
     "data": {
      "text/html": [
       "<div>\n",
       "<style scoped>\n",
       "    .dataframe tbody tr th:only-of-type {\n",
       "        vertical-align: middle;\n",
       "    }\n",
       "\n",
       "    .dataframe tbody tr th {\n",
       "        vertical-align: top;\n",
       "    }\n",
       "\n",
       "    .dataframe thead th {\n",
       "        text-align: right;\n",
       "    }\n",
       "</style>\n",
       "<table border=\"1\" class=\"dataframe\">\n",
       "  <thead>\n",
       "    <tr style=\"text-align: right;\">\n",
       "      <th></th>\n",
       "      <th>all</th>\n",
       "      <th>person</th>\n",
       "      <th>no person</th>\n",
       "      <th>animal</th>\n",
       "      <th>sports</th>\n",
       "      <th>electronic</th>\n",
       "    </tr>\n",
       "  </thead>\n",
       "  <tbody>\n",
       "    <tr>\n",
       "      <td>aim</td>\n",
       "      <td>0.000000</td>\n",
       "      <td>0.000000</td>\n",
       "      <td>0.000000</td>\n",
       "      <td>0.000000</td>\n",
       "      <td>0.000000</td>\n",
       "      <td>0.000000</td>\n",
       "    </tr>\n",
       "    <tr>\n",
       "      <td>cas</td>\n",
       "      <td>0.684584</td>\n",
       "      <td>0.686342</td>\n",
       "      <td>0.629864</td>\n",
       "      <td>0.679290</td>\n",
       "      <td>0.732609</td>\n",
       "      <td>0.687339</td>\n",
       "    </tr>\n",
       "    <tr>\n",
       "      <td>covsal</td>\n",
       "      <td>0.745482</td>\n",
       "      <td>0.747135</td>\n",
       "      <td>0.694021</td>\n",
       "      <td>0.748934</td>\n",
       "      <td>0.743467</td>\n",
       "      <td>0.747759</td>\n",
       "    </tr>\n",
       "    <tr>\n",
       "      <td>gbvs</td>\n",
       "      <td>0.752248</td>\n",
       "      <td>0.753870</td>\n",
       "      <td>0.701783</td>\n",
       "      <td>0.753797</td>\n",
       "      <td>0.761036</td>\n",
       "      <td>0.756911</td>\n",
       "    </tr>\n",
       "    <tr>\n",
       "      <td>icf</td>\n",
       "      <td>0.728172</td>\n",
       "      <td>0.730213</td>\n",
       "      <td>0.664647</td>\n",
       "      <td>0.711944</td>\n",
       "      <td>0.753560</td>\n",
       "      <td>0.729476</td>\n",
       "    </tr>\n",
       "    <tr>\n",
       "      <td>ik</td>\n",
       "      <td>0.665589</td>\n",
       "      <td>0.667318</td>\n",
       "      <td>0.611768</td>\n",
       "      <td>0.656488</td>\n",
       "      <td>0.695180</td>\n",
       "      <td>0.674561</td>\n",
       "    </tr>\n",
       "    <tr>\n",
       "      <td>sun</td>\n",
       "      <td>0.618703</td>\n",
       "      <td>0.619697</td>\n",
       "      <td>0.587780</td>\n",
       "      <td>0.584216</td>\n",
       "      <td>0.614344</td>\n",
       "      <td>0.628765</td>\n",
       "    </tr>\n",
       "    <tr>\n",
       "      <td>dg</td>\n",
       "      <td>0.794056</td>\n",
       "      <td>0.795969</td>\n",
       "      <td>0.734526</td>\n",
       "      <td>0.794398</td>\n",
       "      <td>0.814887</td>\n",
       "      <td>0.795691</td>\n",
       "    </tr>\n",
       "  </tbody>\n",
       "</table>\n",
       "</div>"
      ],
      "text/plain": [
       "             all    person  no person    animal    sports  electronic\n",
       "aim     0.000000  0.000000   0.000000  0.000000  0.000000    0.000000\n",
       "cas     0.684584  0.686342   0.629864  0.679290  0.732609    0.687339\n",
       "covsal  0.745482  0.747135   0.694021  0.748934  0.743467    0.747759\n",
       "gbvs    0.752248  0.753870   0.701783  0.753797  0.761036    0.756911\n",
       "icf     0.728172  0.730213   0.664647  0.711944  0.753560    0.729476\n",
       "ik      0.665589  0.667318   0.611768  0.656488  0.695180    0.674561\n",
       "sun     0.618703  0.619697   0.587780  0.584216  0.614344    0.628765\n",
       "dg      0.794056  0.795969   0.734526  0.794398  0.814887    0.795691"
      ]
     },
     "execution_count": 9,
     "metadata": {},
     "output_type": "execute_result"
    }
   ],
   "source": [
    "AUC_mean_noface"
   ]
  },
  {
   "cell_type": "markdown",
   "metadata": {},
   "source": [
    "### Std"
   ]
  },
  {
   "cell_type": "code",
   "execution_count": 10,
   "metadata": {},
   "outputs": [],
   "source": [
    "no_face = [\n",
    "  AIM_auc_s['aim'].tolist(), \n",
    "  CAS_auc_s['cas'].tolist(),\n",
    "  COVSAL_auc_s['covsal'].tolist(),\n",
    "  GBVS_auc_s['gbvs'].tolist(),\n",
    "  ICF_auc_s['icf'].tolist(),\n",
    "  IK_auc_s['ik'].tolist(),\n",
    "  SUN_auc_s['sun'].tolist(),\n",
    "  ICF_auc_s['dg'].tolist(),\n",
    "  ]\n",
    "\n",
    "face_03 = [\n",
    "  AIM_auc_s['aim_face_03'].tolist(), \n",
    "  CAS_auc_s['cas_face_03'].tolist(),\n",
    "  COVSAL_auc_s['covsal_face_03'].tolist(),\n",
    "  GBVS_auc_s['gbvs_face_03'].tolist(),\n",
    "  ICF_auc_s['icf_face_03'].tolist(),\n",
    "  IK_auc_s['ik_face_03'].tolist(),\n",
    "  SUN_auc_s['sun_face_03'].tolist(),\n",
    "  ]\n",
    "\n",
    "face_05 = [\n",
    "  AIM_auc_s['aim_face_05'].tolist(), \n",
    "  CAS_auc_s['cas_face_05'].tolist(),\n",
    "  COVSAL_auc_s['covsal_face_05'].tolist(),\n",
    "  GBVS_auc_s['gbvs_face_05'].tolist(),\n",
    "  ICF_auc_s['icf_face_05'].tolist(),\n",
    "  IK_auc_s['ik_face_05'].tolist(),\n",
    "  SUN_auc_s['sun_face_05'].tolist(),\n",
    "  ]\n",
    "\n",
    "face_07 = [\n",
    "  AIM_auc_s['aim_face_07'].tolist(), \n",
    "  CAS_auc_s['cas_face_07'].tolist(),\n",
    "  COVSAL_auc_s['covsal_face_07'].tolist(),\n",
    "  GBVS_auc_s['gbvs_face_07'].tolist(),\n",
    "  ICF_auc_s['icf_face_07'].tolist(),\n",
    "  IK_auc_s['ik_face_07'].tolist(),\n",
    "  SUN_auc_s['sun_face_07'].tolist(),\n",
    "  ]"
   ]
  },
  {
   "cell_type": "code",
   "execution_count": 11,
   "metadata": {},
   "outputs": [],
   "source": [
    "AUC_std_noface = pd.DataFrame(data=no_face, index=labels+['dg'], columns=cxt)\n",
    "AUC_std_face_03 = pd.DataFrame(data=face_03, index=labels, columns=cxt)\n",
    "AUC_std_face_05 = pd.DataFrame(data=face_05, index=labels, columns=cxt)\n",
    "AUC_std_face_07 = pd.DataFrame(data=face_07, index=labels, columns=cxt)"
   ]
  },
  {
   "cell_type": "code",
   "execution_count": 12,
   "metadata": {},
   "outputs": [
    {
     "data": {
      "text/html": [
       "<div>\n",
       "<style scoped>\n",
       "    .dataframe tbody tr th:only-of-type {\n",
       "        vertical-align: middle;\n",
       "    }\n",
       "\n",
       "    .dataframe tbody tr th {\n",
       "        vertical-align: top;\n",
       "    }\n",
       "\n",
       "    .dataframe thead th {\n",
       "        text-align: right;\n",
       "    }\n",
       "</style>\n",
       "<table border=\"1\" class=\"dataframe\">\n",
       "  <thead>\n",
       "    <tr style=\"text-align: right;\">\n",
       "      <th></th>\n",
       "      <th>all</th>\n",
       "      <th>person</th>\n",
       "      <th>no person</th>\n",
       "      <th>animal</th>\n",
       "      <th>sports</th>\n",
       "      <th>electronic</th>\n",
       "    </tr>\n",
       "  </thead>\n",
       "  <tbody>\n",
       "    <tr>\n",
       "      <td>aim</td>\n",
       "      <td>0.000000</td>\n",
       "      <td>0.000000</td>\n",
       "      <td>0.000000</td>\n",
       "      <td>0.000000</td>\n",
       "      <td>0.000000</td>\n",
       "      <td>0.000000</td>\n",
       "    </tr>\n",
       "    <tr>\n",
       "      <td>cas</td>\n",
       "      <td>0.101716</td>\n",
       "      <td>0.101180</td>\n",
       "      <td>0.103166</td>\n",
       "      <td>0.092596</td>\n",
       "      <td>0.094364</td>\n",
       "      <td>0.101306</td>\n",
       "    </tr>\n",
       "    <tr>\n",
       "      <td>covsal</td>\n",
       "      <td>0.091185</td>\n",
       "      <td>0.090413</td>\n",
       "      <td>0.099740</td>\n",
       "      <td>0.097511</td>\n",
       "      <td>0.087340</td>\n",
       "      <td>0.091644</td>\n",
       "    </tr>\n",
       "    <tr>\n",
       "      <td>gbvs</td>\n",
       "      <td>0.087341</td>\n",
       "      <td>0.086804</td>\n",
       "      <td>0.088942</td>\n",
       "      <td>0.087198</td>\n",
       "      <td>0.087310</td>\n",
       "      <td>0.087011</td>\n",
       "    </tr>\n",
       "    <tr>\n",
       "      <td>icf</td>\n",
       "      <td>0.098768</td>\n",
       "      <td>0.097516</td>\n",
       "      <td>0.115045</td>\n",
       "      <td>0.102094</td>\n",
       "      <td>0.090902</td>\n",
       "      <td>0.099956</td>\n",
       "    </tr>\n",
       "    <tr>\n",
       "      <td>ik</td>\n",
       "      <td>0.103382</td>\n",
       "      <td>0.103418</td>\n",
       "      <td>0.086409</td>\n",
       "      <td>0.101682</td>\n",
       "      <td>0.105002</td>\n",
       "      <td>0.101401</td>\n",
       "    </tr>\n",
       "    <tr>\n",
       "      <td>sun</td>\n",
       "      <td>0.090852</td>\n",
       "      <td>0.091039</td>\n",
       "      <td>0.078803</td>\n",
       "      <td>0.100037</td>\n",
       "      <td>0.097641</td>\n",
       "      <td>0.087685</td>\n",
       "    </tr>\n",
       "    <tr>\n",
       "      <td>dg</td>\n",
       "      <td>0.081492</td>\n",
       "      <td>0.080420</td>\n",
       "      <td>0.091567</td>\n",
       "      <td>0.085933</td>\n",
       "      <td>0.076884</td>\n",
       "      <td>0.077328</td>\n",
       "    </tr>\n",
       "  </tbody>\n",
       "</table>\n",
       "</div>"
      ],
      "text/plain": [
       "             all    person  no person    animal    sports  electronic\n",
       "aim     0.000000  0.000000   0.000000  0.000000  0.000000    0.000000\n",
       "cas     0.101716  0.101180   0.103166  0.092596  0.094364    0.101306\n",
       "covsal  0.091185  0.090413   0.099740  0.097511  0.087340    0.091644\n",
       "gbvs    0.087341  0.086804   0.088942  0.087198  0.087310    0.087011\n",
       "icf     0.098768  0.097516   0.115045  0.102094  0.090902    0.099956\n",
       "ik      0.103382  0.103418   0.086409  0.101682  0.105002    0.101401\n",
       "sun     0.090852  0.091039   0.078803  0.100037  0.097641    0.087685\n",
       "dg      0.081492  0.080420   0.091567  0.085933  0.076884    0.077328"
      ]
     },
     "execution_count": 12,
     "metadata": {},
     "output_type": "execute_result"
    }
   ],
   "source": [
    "AUC_std_noface"
   ]
  },
  {
   "cell_type": "code",
   "execution_count": 13,
   "metadata": {},
   "outputs": [],
   "source": [
    "AUC_std_noface.to_csv('AUC_std_noface.csv')\n",
    "AUC_std_face_03.to_csv('AUC_std_face_03.csv')\n",
    "AUC_std_face_05.to_csv('AUC_std_face_05.csv')\n",
    "AUC_std_face_07.to_csv('AUC_std_face_07.csv')\n",
    "\n",
    "AUC_mean_noface.to_csv('AUC_mean_noface.csv')\n",
    "AUC_mean_face_03.to_csv('AUC_mean_face_03.csv')\n",
    "AUC_mean_face_05.to_csv('AUC_mean_face_05.csv')\n",
    "AUC_mean_face_07.to_csv('AUC_mean_face_07.csv')"
   ]
  },
  {
   "cell_type": "markdown",
   "metadata": {},
   "source": [
    "## Calculate means"
   ]
  },
  {
   "cell_type": "code",
   "execution_count": 14,
   "metadata": {},
   "outputs": [],
   "source": [
    "A = AUC_mean_noface.values\n",
    "A = A[:-1,:]\n",
    "B = AUC_mean_face_03.values\n",
    "C = AUC_mean_face_05.values\n",
    "D = AUC_mean_face_07.values"
   ]
  },
  {
   "cell_type": "code",
   "execution_count": 15,
   "metadata": {},
   "outputs": [],
   "source": [
    "X = np.dstack([A, B, C, D])"
   ]
  },
  {
   "cell_type": "code",
   "execution_count": 16,
   "metadata": {},
   "outputs": [
    {
     "data": {
      "text/plain": [
       "(7, 6, 4)"
      ]
     },
     "execution_count": 16,
     "metadata": {},
     "output_type": "execute_result"
    }
   ],
   "source": [
    "np.shape(X)"
   ]
  },
  {
   "cell_type": "code",
   "execution_count": 17,
   "metadata": {},
   "outputs": [
    {
     "data": {
      "text/plain": [
       "['all', 'person', 'no person', 'animal', 'sports', 'electronic']"
      ]
     },
     "execution_count": 17,
     "metadata": {},
     "output_type": "execute_result"
    }
   ],
   "source": [
    "cxt"
   ]
  },
  {
   "cell_type": "code",
   "execution_count": 18,
   "metadata": {},
   "outputs": [
    {
     "data": {
      "text/plain": [
       "['aim', 'cas', 'covsal', 'gbvs', 'icf', 'ik', 'sun']"
      ]
     },
     "execution_count": 18,
     "metadata": {},
     "output_type": "execute_result"
    }
   ],
   "source": [
    "labels"
   ]
  },
  {
   "cell_type": "markdown",
   "metadata": {},
   "source": [
    "### Mean over contexts"
   ]
  },
  {
   "cell_type": "code",
   "execution_count": 19,
   "metadata": {},
   "outputs": [
    {
     "data": {
      "text/html": [
       "<div>\n",
       "<style scoped>\n",
       "    .dataframe tbody tr th:only-of-type {\n",
       "        vertical-align: middle;\n",
       "    }\n",
       "\n",
       "    .dataframe tbody tr th {\n",
       "        vertical-align: top;\n",
       "    }\n",
       "\n",
       "    .dataframe thead th {\n",
       "        text-align: right;\n",
       "    }\n",
       "</style>\n",
       "<table border=\"1\" class=\"dataframe\">\n",
       "  <thead>\n",
       "    <tr style=\"text-align: right;\">\n",
       "      <th></th>\n",
       "      <th>0.0</th>\n",
       "      <th>0.3</th>\n",
       "      <th>0.5</th>\n",
       "      <th>0.7</th>\n",
       "    </tr>\n",
       "  </thead>\n",
       "  <tbody>\n",
       "    <tr>\n",
       "      <td>aim</td>\n",
       "      <td>0.000000</td>\n",
       "      <td>0.000000</td>\n",
       "      <td>0.000000</td>\n",
       "      <td>0.000000</td>\n",
       "    </tr>\n",
       "    <tr>\n",
       "      <td>cas</td>\n",
       "      <td>0.683338</td>\n",
       "      <td>0.701701</td>\n",
       "      <td>0.708921</td>\n",
       "      <td>0.712830</td>\n",
       "    </tr>\n",
       "    <tr>\n",
       "      <td>covsal</td>\n",
       "      <td>0.737800</td>\n",
       "      <td>0.754481</td>\n",
       "      <td>0.760666</td>\n",
       "      <td>0.768538</td>\n",
       "    </tr>\n",
       "    <tr>\n",
       "      <td>gbvs</td>\n",
       "      <td>0.746608</td>\n",
       "      <td>0.759614</td>\n",
       "      <td>0.763099</td>\n",
       "      <td>0.764451</td>\n",
       "    </tr>\n",
       "    <tr>\n",
       "      <td>icf</td>\n",
       "      <td>0.719669</td>\n",
       "      <td>0.728554</td>\n",
       "      <td>0.731404</td>\n",
       "      <td>0.735260</td>\n",
       "    </tr>\n",
       "    <tr>\n",
       "      <td>ik</td>\n",
       "      <td>0.661817</td>\n",
       "      <td>0.688315</td>\n",
       "      <td>0.694464</td>\n",
       "      <td>0.699257</td>\n",
       "    </tr>\n",
       "    <tr>\n",
       "      <td>sun</td>\n",
       "      <td>0.608917</td>\n",
       "      <td>0.644671</td>\n",
       "      <td>0.654138</td>\n",
       "      <td>0.659340</td>\n",
       "    </tr>\n",
       "  </tbody>\n",
       "</table>\n",
       "</div>"
      ],
      "text/plain": [
       "             0.0       0.3       0.5       0.7\n",
       "aim     0.000000  0.000000  0.000000  0.000000\n",
       "cas     0.683338  0.701701  0.708921  0.712830\n",
       "covsal  0.737800  0.754481  0.760666  0.768538\n",
       "gbvs    0.746608  0.759614  0.763099  0.764451\n",
       "icf     0.719669  0.728554  0.731404  0.735260\n",
       "ik      0.661817  0.688315  0.694464  0.699257\n",
       "sun     0.608917  0.644671  0.654138  0.659340"
      ]
     },
     "execution_count": 19,
     "metadata": {},
     "output_type": "execute_result"
    }
   ],
   "source": [
    "mean_models = (X.mean(axis=1))\n",
    "\n",
    "AUC_mean_models = pd.DataFrame(data=mean_models, columns=[0, 0.3, 0.5, 0.7], index=labels)\n",
    "AUC_mean_models"
   ]
  },
  {
   "cell_type": "markdown",
   "metadata": {},
   "source": [
    "### Mean over models"
   ]
  },
  {
   "cell_type": "code",
   "execution_count": 20,
   "metadata": {},
   "outputs": [
    {
     "data": {
      "text/html": [
       "<div>\n",
       "<style scoped>\n",
       "    .dataframe tbody tr th:only-of-type {\n",
       "        vertical-align: middle;\n",
       "    }\n",
       "\n",
       "    .dataframe tbody tr th {\n",
       "        vertical-align: top;\n",
       "    }\n",
       "\n",
       "    .dataframe thead th {\n",
       "        text-align: right;\n",
       "    }\n",
       "</style>\n",
       "<table border=\"1\" class=\"dataframe\">\n",
       "  <thead>\n",
       "    <tr style=\"text-align: right;\">\n",
       "      <th></th>\n",
       "      <th>0.0</th>\n",
       "      <th>0.3</th>\n",
       "      <th>0.5</th>\n",
       "      <th>0.7</th>\n",
       "    </tr>\n",
       "  </thead>\n",
       "  <tbody>\n",
       "    <tr>\n",
       "      <td>all</td>\n",
       "      <td>0.599254</td>\n",
       "      <td>0.620706</td>\n",
       "      <td>0.627027</td>\n",
       "      <td>0.631211</td>\n",
       "    </tr>\n",
       "    <tr>\n",
       "      <td>person</td>\n",
       "      <td>0.600653</td>\n",
       "      <td>0.622619</td>\n",
       "      <td>0.629114</td>\n",
       "      <td>0.633378</td>\n",
       "    </tr>\n",
       "    <tr>\n",
       "      <td>no person</td>\n",
       "      <td>0.555694</td>\n",
       "      <td>0.561160</td>\n",
       "      <td>0.562084</td>\n",
       "      <td>0.563770</td>\n",
       "    </tr>\n",
       "    <tr>\n",
       "      <td>animal</td>\n",
       "      <td>0.590667</td>\n",
       "      <td>0.607929</td>\n",
       "      <td>0.613202</td>\n",
       "      <td>0.617623</td>\n",
       "    </tr>\n",
       "    <tr>\n",
       "      <td>sports</td>\n",
       "      <td>0.614314</td>\n",
       "      <td>0.630993</td>\n",
       "      <td>0.636631</td>\n",
       "      <td>0.641110</td>\n",
       "    </tr>\n",
       "    <tr>\n",
       "      <td>electronic</td>\n",
       "      <td>0.603544</td>\n",
       "      <td>0.622881</td>\n",
       "      <td>0.628535</td>\n",
       "      <td>0.632632</td>\n",
       "    </tr>\n",
       "  </tbody>\n",
       "</table>\n",
       "</div>"
      ],
      "text/plain": [
       "                 0.0       0.3       0.5       0.7\n",
       "all         0.599254  0.620706  0.627027  0.631211\n",
       "person      0.600653  0.622619  0.629114  0.633378\n",
       "no person   0.555694  0.561160  0.562084  0.563770\n",
       "animal      0.590667  0.607929  0.613202  0.617623\n",
       "sports      0.614314  0.630993  0.636631  0.641110\n",
       "electronic  0.603544  0.622881  0.628535  0.632632"
      ]
     },
     "execution_count": 20,
     "metadata": {},
     "output_type": "execute_result"
    }
   ],
   "source": [
    "mean_cxt = (X.mean(axis=0))\n",
    "\n",
    "AUC_mean_cxt = pd.DataFrame(data=mean_cxt, columns=[0, 0.3, 0.5, 0.7], index=cxt)\n",
    "AUC_mean_cxt"
   ]
  },
  {
   "cell_type": "code",
   "execution_count": 21,
   "metadata": {},
   "outputs": [],
   "source": [
    "AUC_mean_cxt.to_csv('AUC_mean_cxt.csv')\n",
    "AUC_mean_models.to_csv('AUC_mean_models.csv')\n"
   ]
  },
  {
   "cell_type": "code",
   "execution_count": null,
   "metadata": {},
   "outputs": [],
   "source": []
  }
 ],
 "metadata": {
  "kernelspec": {
   "display_name": "saliency",
   "language": "python",
   "name": "myenv"
  },
  "language_info": {
   "codemirror_mode": {
    "name": "ipython",
    "version": 3
   },
   "file_extension": ".py",
   "mimetype": "text/x-python",
   "name": "python",
   "nbconvert_exporter": "python",
   "pygments_lexer": "ipython3",
   "version": "3.7.1"
  }
 },
 "nbformat": 4,
 "nbformat_minor": 2
}
