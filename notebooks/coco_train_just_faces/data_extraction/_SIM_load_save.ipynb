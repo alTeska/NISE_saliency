{
 "cells": [
  {
   "cell_type": "code",
   "execution_count": 1,
   "metadata": {},
   "outputs": [],
   "source": [
    "import pickle\n",
    "import numpy as np\n",
    "import pandas as pd"
   ]
  },
  {
   "cell_type": "code",
   "execution_count": 2,
   "metadata": {},
   "outputs": [],
   "source": [
    "cxt = ['all', 'person', 'no person', 'animal', 'sports', 'electronic']"
   ]
  },
  {
   "cell_type": "code",
   "execution_count": 3,
   "metadata": {},
   "outputs": [],
   "source": [
    "AIM_sim_m = pd.read_csv('AIM_sim_m.csv', index_col=[0])\n",
    "CAS_sim_m = pd.read_csv('CAS_sim_m.csv', index_col=[0])\n",
    "COVSAL_sim_m = pd.read_csv('COVSAL_sim_m.csv', index_col=[0])\n",
    "GBVS_sim_m = pd.read_csv('GBVS_sim_m.csv', index_col=[0])\n",
    "ICF_sim_m = pd.read_csv('ICF_sim_m.csv', index_col=[0])\n",
    "IK_sim_m = pd.read_csv('IK_sim_m.csv', index_col=[0])\n",
    "SUN_sim_m = pd.read_csv('SUN_sim_m.csv', index_col=[0])\n",
    "\n",
    "AIM_sim_s = pd.read_csv('AIM_sim_s.csv', index_col=[0])\n",
    "CAS_sim_s = pd.read_csv('CAS_sim_s.csv', index_col=[0])\n",
    "COVSAL_sim_s = pd.read_csv('COVSAL_sim_s.csv', index_col=[0])\n",
    "GBVS_sim_s = pd.read_csv('GBVS_sim_s.csv', index_col=[0])\n",
    "ICF_sim_s = pd.read_csv('ICF_sim_s.csv', index_col=[0])\n",
    "IK_sim_s = pd.read_csv('IK_sim_s.csv', index_col=[0])\n",
    "SUN_sim_s = pd.read_csv('SUN_sim_s.csv', index_col=[0])"
   ]
  },
  {
   "cell_type": "code",
   "execution_count": 4,
   "metadata": {},
   "outputs": [
    {
     "data": {
      "text/html": [
       "<div>\n",
       "<style scoped>\n",
       "    .dataframe tbody tr th:only-of-type {\n",
       "        vertical-align: middle;\n",
       "    }\n",
       "\n",
       "    .dataframe tbody tr th {\n",
       "        vertical-align: top;\n",
       "    }\n",
       "\n",
       "    .dataframe thead th {\n",
       "        text-align: right;\n",
       "    }\n",
       "</style>\n",
       "<table border=\"1\" class=\"dataframe\">\n",
       "  <thead>\n",
       "    <tr style=\"text-align: right;\">\n",
       "      <th></th>\n",
       "      <th>cas</th>\n",
       "      <th>cas_face_03</th>\n",
       "      <th>cas_face_05</th>\n",
       "      <th>cas_face_07</th>\n",
       "    </tr>\n",
       "  </thead>\n",
       "  <tbody>\n",
       "    <tr>\n",
       "      <td>all</td>\n",
       "      <td>0.410865</td>\n",
       "      <td>0.431196</td>\n",
       "      <td>0.454693</td>\n",
       "      <td>0.495765</td>\n",
       "    </tr>\n",
       "    <tr>\n",
       "      <td>person</td>\n",
       "      <td>0.407912</td>\n",
       "      <td>0.428707</td>\n",
       "      <td>0.452856</td>\n",
       "      <td>0.495309</td>\n",
       "    </tr>\n",
       "    <tr>\n",
       "      <td>no person</td>\n",
       "      <td>0.502755</td>\n",
       "      <td>0.508665</td>\n",
       "      <td>0.511874</td>\n",
       "      <td>0.509974</td>\n",
       "    </tr>\n",
       "    <tr>\n",
       "      <td>animal</td>\n",
       "      <td>0.391060</td>\n",
       "      <td>0.406556</td>\n",
       "      <td>0.425311</td>\n",
       "      <td>0.459758</td>\n",
       "    </tr>\n",
       "    <tr>\n",
       "      <td>sports</td>\n",
       "      <td>0.438167</td>\n",
       "      <td>0.456564</td>\n",
       "      <td>0.477783</td>\n",
       "      <td>0.516755</td>\n",
       "    </tr>\n",
       "    <tr>\n",
       "      <td>electronic</td>\n",
       "      <td>0.405628</td>\n",
       "      <td>0.425402</td>\n",
       "      <td>0.448753</td>\n",
       "      <td>0.489959</td>\n",
       "    </tr>\n",
       "  </tbody>\n",
       "</table>\n",
       "</div>"
      ],
      "text/plain": [
       "                 cas  cas_face_03  cas_face_05  cas_face_07\n",
       "all         0.410865     0.431196     0.454693     0.495765\n",
       "person      0.407912     0.428707     0.452856     0.495309\n",
       "no person   0.502755     0.508665     0.511874     0.509974\n",
       "animal      0.391060     0.406556     0.425311     0.459758\n",
       "sports      0.438167     0.456564     0.477783     0.516755\n",
       "electronic  0.405628     0.425402     0.448753     0.489959"
      ]
     },
     "execution_count": 4,
     "metadata": {},
     "output_type": "execute_result"
    }
   ],
   "source": [
    "CAS_sim_m"
   ]
  },
  {
   "cell_type": "markdown",
   "metadata": {},
   "source": [
    "## Save per metric"
   ]
  },
  {
   "cell_type": "markdown",
   "metadata": {},
   "source": [
    "### Mean value"
   ]
  },
  {
   "cell_type": "code",
   "execution_count": 5,
   "metadata": {},
   "outputs": [],
   "source": [
    "labels = ['aim', 'cas','covsal','gbvs','icf','ik','sun',]"
   ]
  },
  {
   "cell_type": "code",
   "execution_count": 6,
   "metadata": {},
   "outputs": [],
   "source": [
    "no_face = [\n",
    "  AIM_sim_m['aim'].tolist(), \n",
    "  CAS_sim_m['cas'].tolist(),\n",
    "  COVSAL_sim_m['covsal'].tolist(),\n",
    "  GBVS_sim_m['gbvs'].tolist(),\n",
    "  ICF_sim_m['icf'].tolist(),\n",
    "  IK_sim_m['ik'].tolist(),\n",
    "  SUN_sim_m['sun'].tolist(),\n",
    "  ICF_sim_m['dg'].tolist(),\n",
    "  ]\n",
    "\n",
    "face_03 = [\n",
    "  AIM_sim_m['aim_face_03'].tolist(), \n",
    "  CAS_sim_m['cas_face_03'].tolist(),\n",
    "  COVSAL_sim_m['covsal_face_03'].tolist(),\n",
    "  GBVS_sim_m['gbvs_face_03'].tolist(),\n",
    "  ICF_sim_m['icf_face_03'].tolist(),\n",
    "  IK_sim_m['ik_face_03'].tolist(),\n",
    "  SUN_sim_m['sun_face_03'].tolist(),\n",
    "  ]\n",
    "\n",
    "face_05 = [\n",
    "  AIM_sim_m['aim_face_05'].tolist(), \n",
    "  CAS_sim_m['cas_face_05'].tolist(),\n",
    "  COVSAL_sim_m['covsal_face_05'].tolist(),\n",
    "  GBVS_sim_m['gbvs_face_05'].tolist(),\n",
    "  ICF_sim_m['icf_face_05'].tolist(),\n",
    "  IK_sim_m['ik_face_05'].tolist(),\n",
    "  SUN_sim_m['sun_face_05'].tolist(),\n",
    "  ]\n",
    "\n",
    "face_07 = [\n",
    "  AIM_sim_m['aim_face_07'].tolist(), \n",
    "  CAS_sim_m['cas_face_07'].tolist(),\n",
    "  COVSAL_sim_m['covsal_face_07'].tolist(),\n",
    "  GBVS_sim_m['gbvs_face_07'].tolist(),\n",
    "  ICF_sim_m['icf_face_07'].tolist(),\n",
    "  IK_sim_m['ik_face_07'].tolist(),\n",
    "  SUN_sim_m['sun_face_07'].tolist(),\n",
    "  ]"
   ]
  },
  {
   "cell_type": "code",
   "execution_count": 7,
   "metadata": {},
   "outputs": [
    {
     "data": {
      "text/html": [
       "<div>\n",
       "<style scoped>\n",
       "    .dataframe tbody tr th:only-of-type {\n",
       "        vertical-align: middle;\n",
       "    }\n",
       "\n",
       "    .dataframe tbody tr th {\n",
       "        vertical-align: top;\n",
       "    }\n",
       "\n",
       "    .dataframe thead th {\n",
       "        text-align: right;\n",
       "    }\n",
       "</style>\n",
       "<table border=\"1\" class=\"dataframe\">\n",
       "  <thead>\n",
       "    <tr style=\"text-align: right;\">\n",
       "      <th></th>\n",
       "      <th>icf</th>\n",
       "      <th>icf_face_03</th>\n",
       "      <th>icf_face_05</th>\n",
       "      <th>icf_face_07</th>\n",
       "      <th>dg</th>\n",
       "    </tr>\n",
       "  </thead>\n",
       "  <tbody>\n",
       "    <tr>\n",
       "      <td>all</td>\n",
       "      <td>0.463685</td>\n",
       "      <td>0.493709</td>\n",
       "      <td>0.519953</td>\n",
       "      <td>0.548845</td>\n",
       "      <td>0.627605</td>\n",
       "    </tr>\n",
       "    <tr>\n",
       "      <td>person</td>\n",
       "      <td>0.461694</td>\n",
       "      <td>0.492492</td>\n",
       "      <td>0.519571</td>\n",
       "      <td>0.549731</td>\n",
       "      <td>0.627135</td>\n",
       "    </tr>\n",
       "    <tr>\n",
       "      <td>no person</td>\n",
       "      <td>0.525637</td>\n",
       "      <td>0.531586</td>\n",
       "      <td>0.531860</td>\n",
       "      <td>0.521259</td>\n",
       "      <td>0.642248</td>\n",
       "    </tr>\n",
       "    <tr>\n",
       "      <td>animal</td>\n",
       "      <td>0.439458</td>\n",
       "      <td>0.462751</td>\n",
       "      <td>0.481501</td>\n",
       "      <td>0.504549</td>\n",
       "      <td>0.610889</td>\n",
       "    </tr>\n",
       "    <tr>\n",
       "      <td>sports</td>\n",
       "      <td>0.475725</td>\n",
       "      <td>0.506134</td>\n",
       "      <td>0.533655</td>\n",
       "      <td>0.563078</td>\n",
       "      <td>0.637648</td>\n",
       "    </tr>\n",
       "    <tr>\n",
       "      <td>electronic</td>\n",
       "      <td>0.455837</td>\n",
       "      <td>0.485659</td>\n",
       "      <td>0.512618</td>\n",
       "      <td>0.542500</td>\n",
       "      <td>0.623710</td>\n",
       "    </tr>\n",
       "  </tbody>\n",
       "</table>\n",
       "</div>"
      ],
      "text/plain": [
       "                 icf  icf_face_03  icf_face_05  icf_face_07        dg\n",
       "all         0.463685     0.493709     0.519953     0.548845  0.627605\n",
       "person      0.461694     0.492492     0.519571     0.549731  0.627135\n",
       "no person   0.525637     0.531586     0.531860     0.521259  0.642248\n",
       "animal      0.439458     0.462751     0.481501     0.504549  0.610889\n",
       "sports      0.475725     0.506134     0.533655     0.563078  0.637648\n",
       "electronic  0.455837     0.485659     0.512618     0.542500  0.623710"
      ]
     },
     "execution_count": 7,
     "metadata": {},
     "output_type": "execute_result"
    }
   ],
   "source": [
    "ICF_sim_m"
   ]
  },
  {
   "cell_type": "code",
   "execution_count": 8,
   "metadata": {},
   "outputs": [],
   "source": [
    "SIM_mean_noface = pd.DataFrame(data=no_face, index=labels+['dg'], columns=cxt)\n",
    "SIM_mean_face_03 = pd.DataFrame(data=face_03, index=labels, columns=cxt)\n",
    "SIM_mean_face_05 = pd.DataFrame(data=face_05, index=labels, columns=cxt)\n",
    "SIM_mean_face_07 = pd.DataFrame(data=face_07, index=labels, columns=cxt)"
   ]
  },
  {
   "cell_type": "code",
   "execution_count": 9,
   "metadata": {},
   "outputs": [
    {
     "data": {
      "text/html": [
       "<div>\n",
       "<style scoped>\n",
       "    .dataframe tbody tr th:only-of-type {\n",
       "        vertical-align: middle;\n",
       "    }\n",
       "\n",
       "    .dataframe tbody tr th {\n",
       "        vertical-align: top;\n",
       "    }\n",
       "\n",
       "    .dataframe thead th {\n",
       "        text-align: right;\n",
       "    }\n",
       "</style>\n",
       "<table border=\"1\" class=\"dataframe\">\n",
       "  <thead>\n",
       "    <tr style=\"text-align: right;\">\n",
       "      <th></th>\n",
       "      <th>all</th>\n",
       "      <th>person</th>\n",
       "      <th>no person</th>\n",
       "      <th>animal</th>\n",
       "      <th>sports</th>\n",
       "      <th>electronic</th>\n",
       "    </tr>\n",
       "  </thead>\n",
       "  <tbody>\n",
       "    <tr>\n",
       "      <td>aim</td>\n",
       "      <td>0.000000</td>\n",
       "      <td>0.000000</td>\n",
       "      <td>0.000000</td>\n",
       "      <td>0.000000</td>\n",
       "      <td>0.000000</td>\n",
       "      <td>0.000000</td>\n",
       "    </tr>\n",
       "    <tr>\n",
       "      <td>cas</td>\n",
       "      <td>0.410865</td>\n",
       "      <td>0.407912</td>\n",
       "      <td>0.502755</td>\n",
       "      <td>0.391060</td>\n",
       "      <td>0.438167</td>\n",
       "      <td>0.405628</td>\n",
       "    </tr>\n",
       "    <tr>\n",
       "      <td>covsal</td>\n",
       "      <td>0.437098</td>\n",
       "      <td>0.435892</td>\n",
       "      <td>0.474611</td>\n",
       "      <td>0.431493</td>\n",
       "      <td>0.432125</td>\n",
       "      <td>0.431504</td>\n",
       "    </tr>\n",
       "    <tr>\n",
       "      <td>gbvs</td>\n",
       "      <td>0.456899</td>\n",
       "      <td>0.453540</td>\n",
       "      <td>0.561441</td>\n",
       "      <td>0.439632</td>\n",
       "      <td>0.455956</td>\n",
       "      <td>0.451624</td>\n",
       "    </tr>\n",
       "    <tr>\n",
       "      <td>icf</td>\n",
       "      <td>0.463685</td>\n",
       "      <td>0.461694</td>\n",
       "      <td>0.525637</td>\n",
       "      <td>0.439458</td>\n",
       "      <td>0.475725</td>\n",
       "      <td>0.455837</td>\n",
       "    </tr>\n",
       "    <tr>\n",
       "      <td>ik</td>\n",
       "      <td>0.387092</td>\n",
       "      <td>0.384829</td>\n",
       "      <td>0.456805</td>\n",
       "      <td>0.369226</td>\n",
       "      <td>0.393532</td>\n",
       "      <td>0.387091</td>\n",
       "    </tr>\n",
       "    <tr>\n",
       "      <td>sun</td>\n",
       "      <td>0.349760</td>\n",
       "      <td>0.346092</td>\n",
       "      <td>0.463924</td>\n",
       "      <td>0.322741</td>\n",
       "      <td>0.331072</td>\n",
       "      <td>0.347655</td>\n",
       "    </tr>\n",
       "    <tr>\n",
       "      <td>dg</td>\n",
       "      <td>0.627605</td>\n",
       "      <td>0.627135</td>\n",
       "      <td>0.642248</td>\n",
       "      <td>0.610889</td>\n",
       "      <td>0.637648</td>\n",
       "      <td>0.623710</td>\n",
       "    </tr>\n",
       "  </tbody>\n",
       "</table>\n",
       "</div>"
      ],
      "text/plain": [
       "             all    person  no person    animal    sports  electronic\n",
       "aim     0.000000  0.000000   0.000000  0.000000  0.000000    0.000000\n",
       "cas     0.410865  0.407912   0.502755  0.391060  0.438167    0.405628\n",
       "covsal  0.437098  0.435892   0.474611  0.431493  0.432125    0.431504\n",
       "gbvs    0.456899  0.453540   0.561441  0.439632  0.455956    0.451624\n",
       "icf     0.463685  0.461694   0.525637  0.439458  0.475725    0.455837\n",
       "ik      0.387092  0.384829   0.456805  0.369226  0.393532    0.387091\n",
       "sun     0.349760  0.346092   0.463924  0.322741  0.331072    0.347655\n",
       "dg      0.627605  0.627135   0.642248  0.610889  0.637648    0.623710"
      ]
     },
     "execution_count": 9,
     "metadata": {},
     "output_type": "execute_result"
    }
   ],
   "source": [
    "SIM_mean_noface"
   ]
  },
  {
   "cell_type": "markdown",
   "metadata": {},
   "source": [
    "### Std"
   ]
  },
  {
   "cell_type": "code",
   "execution_count": 10,
   "metadata": {},
   "outputs": [],
   "source": [
    "no_face = [\n",
    "  AIM_sim_s['aim'].tolist(), \n",
    "  CAS_sim_s['cas'].tolist(),\n",
    "  COVSAL_sim_s['covsal'].tolist(),\n",
    "  GBVS_sim_s['gbvs'].tolist(),\n",
    "  ICF_sim_s['icf'].tolist(),\n",
    "  IK_sim_s['ik'].tolist(),\n",
    "  SUN_sim_s['sun'].tolist(),\n",
    "  ICF_sim_s['dg'].tolist(),\n",
    "  ]\n",
    "\n",
    "face_03 = [\n",
    "  AIM_sim_s['aim_face_03'].tolist(), \n",
    "  CAS_sim_s['cas_face_03'].tolist(),\n",
    "  COVSAL_sim_s['covsal_face_03'].tolist(),\n",
    "  GBVS_sim_s['gbvs_face_03'].tolist(),\n",
    "  ICF_sim_s['icf_face_03'].tolist(),\n",
    "  IK_sim_s['ik_face_03'].tolist(),\n",
    "  SUN_sim_s['sun_face_03'].tolist(),\n",
    "  ]\n",
    "\n",
    "face_05 = [\n",
    "  AIM_sim_s['aim_face_05'].tolist(), \n",
    "  CAS_sim_s['cas_face_05'].tolist(),\n",
    "  COVSAL_sim_s['covsal_face_05'].tolist(),\n",
    "  GBVS_sim_s['gbvs_face_05'].tolist(),\n",
    "  ICF_sim_s['icf_face_05'].tolist(),\n",
    "  IK_sim_s['ik_face_05'].tolist(),\n",
    "  SUN_sim_s['sun_face_05'].tolist(),\n",
    "  ]\n",
    "\n",
    "face_07 = [\n",
    "  AIM_sim_s['aim_face_07'].tolist(), \n",
    "  CAS_sim_s['cas_face_07'].tolist(),\n",
    "  COVSAL_sim_s['covsal_face_07'].tolist(),\n",
    "  GBVS_sim_s['gbvs_face_07'].tolist(),\n",
    "  ICF_sim_s['icf_face_07'].tolist(),\n",
    "  IK_sim_s['ik_face_07'].tolist(),\n",
    "  SUN_sim_s['sun_face_07'].tolist(),\n",
    "  ]"
   ]
  },
  {
   "cell_type": "code",
   "execution_count": 11,
   "metadata": {},
   "outputs": [],
   "source": [
    "SIM_std_noface = pd.DataFrame(data=no_face, index=labels+['dg'], columns=cxt)\n",
    "SIM_std_face_03 = pd.DataFrame(data=face_03, index=labels, columns=cxt)\n",
    "SIM_std_face_05 = pd.DataFrame(data=face_05, index=labels, columns=cxt)\n",
    "SIM_std_face_07 = pd.DataFrame(data=face_07, index=labels, columns=cxt)"
   ]
  },
  {
   "cell_type": "code",
   "execution_count": 12,
   "metadata": {},
   "outputs": [
    {
     "data": {
      "text/html": [
       "<div>\n",
       "<style scoped>\n",
       "    .dataframe tbody tr th:only-of-type {\n",
       "        vertical-align: middle;\n",
       "    }\n",
       "\n",
       "    .dataframe tbody tr th {\n",
       "        vertical-align: top;\n",
       "    }\n",
       "\n",
       "    .dataframe thead th {\n",
       "        text-align: right;\n",
       "    }\n",
       "</style>\n",
       "<table border=\"1\" class=\"dataframe\">\n",
       "  <thead>\n",
       "    <tr style=\"text-align: right;\">\n",
       "      <th></th>\n",
       "      <th>all</th>\n",
       "      <th>person</th>\n",
       "      <th>no person</th>\n",
       "      <th>animal</th>\n",
       "      <th>sports</th>\n",
       "      <th>electronic</th>\n",
       "    </tr>\n",
       "  </thead>\n",
       "  <tbody>\n",
       "    <tr>\n",
       "      <td>aim</td>\n",
       "      <td>0.000000</td>\n",
       "      <td>0.000000</td>\n",
       "      <td>0.000000</td>\n",
       "      <td>0.000000</td>\n",
       "      <td>0.000000</td>\n",
       "      <td>0.000000</td>\n",
       "    </tr>\n",
       "    <tr>\n",
       "      <td>cas</td>\n",
       "      <td>0.088249</td>\n",
       "      <td>0.084578</td>\n",
       "      <td>0.137172</td>\n",
       "      <td>0.080339</td>\n",
       "      <td>0.083569</td>\n",
       "      <td>0.076910</td>\n",
       "    </tr>\n",
       "    <tr>\n",
       "      <td>covsal</td>\n",
       "      <td>0.107362</td>\n",
       "      <td>0.106385</td>\n",
       "      <td>0.128748</td>\n",
       "      <td>0.109678</td>\n",
       "      <td>0.113454</td>\n",
       "      <td>0.107453</td>\n",
       "    </tr>\n",
       "    <tr>\n",
       "      <td>gbvs</td>\n",
       "      <td>0.091007</td>\n",
       "      <td>0.087316</td>\n",
       "      <td>0.132240</td>\n",
       "      <td>0.077027</td>\n",
       "      <td>0.088439</td>\n",
       "      <td>0.080299</td>\n",
       "    </tr>\n",
       "    <tr>\n",
       "      <td>icf</td>\n",
       "      <td>0.095754</td>\n",
       "      <td>0.093521</td>\n",
       "      <td>0.135499</td>\n",
       "      <td>0.087889</td>\n",
       "      <td>0.097922</td>\n",
       "      <td>0.089101</td>\n",
       "    </tr>\n",
       "    <tr>\n",
       "      <td>ik</td>\n",
       "      <td>0.082949</td>\n",
       "      <td>0.080661</td>\n",
       "      <td>0.115707</td>\n",
       "      <td>0.073773</td>\n",
       "      <td>0.083419</td>\n",
       "      <td>0.076763</td>\n",
       "    </tr>\n",
       "    <tr>\n",
       "      <td>sun</td>\n",
       "      <td>0.087053</td>\n",
       "      <td>0.083043</td>\n",
       "      <td>0.123909</td>\n",
       "      <td>0.075091</td>\n",
       "      <td>0.085615</td>\n",
       "      <td>0.072936</td>\n",
       "    </tr>\n",
       "    <tr>\n",
       "      <td>dg</td>\n",
       "      <td>0.073574</td>\n",
       "      <td>0.073050</td>\n",
       "      <td>0.087077</td>\n",
       "      <td>0.077541</td>\n",
       "      <td>0.076631</td>\n",
       "      <td>0.072778</td>\n",
       "    </tr>\n",
       "  </tbody>\n",
       "</table>\n",
       "</div>"
      ],
      "text/plain": [
       "             all    person  no person    animal    sports  electronic\n",
       "aim     0.000000  0.000000   0.000000  0.000000  0.000000    0.000000\n",
       "cas     0.088249  0.084578   0.137172  0.080339  0.083569    0.076910\n",
       "covsal  0.107362  0.106385   0.128748  0.109678  0.113454    0.107453\n",
       "gbvs    0.091007  0.087316   0.132240  0.077027  0.088439    0.080299\n",
       "icf     0.095754  0.093521   0.135499  0.087889  0.097922    0.089101\n",
       "ik      0.082949  0.080661   0.115707  0.073773  0.083419    0.076763\n",
       "sun     0.087053  0.083043   0.123909  0.075091  0.085615    0.072936\n",
       "dg      0.073574  0.073050   0.087077  0.077541  0.076631    0.072778"
      ]
     },
     "execution_count": 12,
     "metadata": {},
     "output_type": "execute_result"
    }
   ],
   "source": [
    "SIM_std_noface"
   ]
  },
  {
   "cell_type": "code",
   "execution_count": 13,
   "metadata": {},
   "outputs": [],
   "source": [
    "SIM_std_noface.to_csv('SIM_std_noface.csv')\n",
    "SIM_std_face_03.to_csv('SIM_std_face_03.csv')\n",
    "SIM_std_face_05.to_csv('SIM_std_face_05.csv')\n",
    "SIM_std_face_07.to_csv('SIM_std_face_07.csv')\n",
    "\n",
    "SIM_mean_noface.to_csv('SIM_mean_noface.csv')\n",
    "SIM_mean_face_03.to_csv('SIM_mean_face_03.csv')\n",
    "SIM_mean_face_05.to_csv('SIM_mean_face_05.csv')\n",
    "SIM_mean_face_07.to_csv('SIM_mean_face_07.csv')"
   ]
  },
  {
   "cell_type": "markdown",
   "metadata": {},
   "source": [
    "## Calculate means"
   ]
  },
  {
   "cell_type": "code",
   "execution_count": 14,
   "metadata": {},
   "outputs": [],
   "source": [
    "A = SIM_mean_noface.values\n",
    "A = A[:-1,:]\n",
    "B = SIM_mean_face_03.values\n",
    "C = SIM_mean_face_05.values\n",
    "D = SIM_mean_face_07.values"
   ]
  },
  {
   "cell_type": "code",
   "execution_count": 15,
   "metadata": {},
   "outputs": [],
   "source": [
    "X = np.dstack([A, B, C, D])"
   ]
  },
  {
   "cell_type": "code",
   "execution_count": 16,
   "metadata": {},
   "outputs": [
    {
     "data": {
      "text/plain": [
       "(7, 6, 4)"
      ]
     },
     "execution_count": 16,
     "metadata": {},
     "output_type": "execute_result"
    }
   ],
   "source": [
    "np.shape(X)"
   ]
  },
  {
   "cell_type": "code",
   "execution_count": 17,
   "metadata": {},
   "outputs": [
    {
     "data": {
      "text/plain": [
       "['all', 'person', 'no person', 'animal', 'sports', 'electronic']"
      ]
     },
     "execution_count": 17,
     "metadata": {},
     "output_type": "execute_result"
    }
   ],
   "source": [
    "cxt"
   ]
  },
  {
   "cell_type": "code",
   "execution_count": 18,
   "metadata": {},
   "outputs": [
    {
     "data": {
      "text/plain": [
       "['aim', 'cas', 'covsal', 'gbvs', 'icf', 'ik', 'sun']"
      ]
     },
     "execution_count": 18,
     "metadata": {},
     "output_type": "execute_result"
    }
   ],
   "source": [
    "labels"
   ]
  },
  {
   "cell_type": "markdown",
   "metadata": {},
   "source": [
    "### Mean over contexts"
   ]
  },
  {
   "cell_type": "code",
   "execution_count": 19,
   "metadata": {},
   "outputs": [
    {
     "data": {
      "text/html": [
       "<div>\n",
       "<style scoped>\n",
       "    .dataframe tbody tr th:only-of-type {\n",
       "        vertical-align: middle;\n",
       "    }\n",
       "\n",
       "    .dataframe tbody tr th {\n",
       "        vertical-align: top;\n",
       "    }\n",
       "\n",
       "    .dataframe thead th {\n",
       "        text-align: right;\n",
       "    }\n",
       "</style>\n",
       "<table border=\"1\" class=\"dataframe\">\n",
       "  <thead>\n",
       "    <tr style=\"text-align: right;\">\n",
       "      <th></th>\n",
       "      <th>0.0</th>\n",
       "      <th>0.3</th>\n",
       "      <th>0.5</th>\n",
       "      <th>0.7</th>\n",
       "    </tr>\n",
       "  </thead>\n",
       "  <tbody>\n",
       "    <tr>\n",
       "      <td>aim</td>\n",
       "      <td>0.000000</td>\n",
       "      <td>0.000000</td>\n",
       "      <td>0.000000</td>\n",
       "      <td>0.000000</td>\n",
       "    </tr>\n",
       "    <tr>\n",
       "      <td>cas</td>\n",
       "      <td>0.426064</td>\n",
       "      <td>0.442848</td>\n",
       "      <td>0.461878</td>\n",
       "      <td>0.494587</td>\n",
       "    </tr>\n",
       "    <tr>\n",
       "      <td>covsal</td>\n",
       "      <td>0.440454</td>\n",
       "      <td>0.482180</td>\n",
       "      <td>0.518204</td>\n",
       "      <td>0.545973</td>\n",
       "    </tr>\n",
       "    <tr>\n",
       "      <td>gbvs</td>\n",
       "      <td>0.469849</td>\n",
       "      <td>0.486411</td>\n",
       "      <td>0.505012</td>\n",
       "      <td>0.535534</td>\n",
       "    </tr>\n",
       "    <tr>\n",
       "      <td>icf</td>\n",
       "      <td>0.470339</td>\n",
       "      <td>0.495389</td>\n",
       "      <td>0.516526</td>\n",
       "      <td>0.538327</td>\n",
       "    </tr>\n",
       "    <tr>\n",
       "      <td>ik</td>\n",
       "      <td>0.396429</td>\n",
       "      <td>0.427625</td>\n",
       "      <td>0.459395</td>\n",
       "      <td>0.496185</td>\n",
       "    </tr>\n",
       "    <tr>\n",
       "      <td>sun</td>\n",
       "      <td>0.360207</td>\n",
       "      <td>0.385786</td>\n",
       "      <td>0.412753</td>\n",
       "      <td>0.452502</td>\n",
       "    </tr>\n",
       "  </tbody>\n",
       "</table>\n",
       "</div>"
      ],
      "text/plain": [
       "             0.0       0.3       0.5       0.7\n",
       "aim     0.000000  0.000000  0.000000  0.000000\n",
       "cas     0.426064  0.442848  0.461878  0.494587\n",
       "covsal  0.440454  0.482180  0.518204  0.545973\n",
       "gbvs    0.469849  0.486411  0.505012  0.535534\n",
       "icf     0.470339  0.495389  0.516526  0.538327\n",
       "ik      0.396429  0.427625  0.459395  0.496185\n",
       "sun     0.360207  0.385786  0.412753  0.452502"
      ]
     },
     "execution_count": 19,
     "metadata": {},
     "output_type": "execute_result"
    }
   ],
   "source": [
    "mean_models = (X.mean(axis=1))\n",
    "\n",
    "SIM_mean_models = pd.DataFrame(data=mean_models, columns=[0, 0.3, 0.5, 0.7], index=labels)\n",
    "SIM_mean_models"
   ]
  },
  {
   "cell_type": "markdown",
   "metadata": {},
   "source": [
    "### Mean over models"
   ]
  },
  {
   "cell_type": "code",
   "execution_count": 20,
   "metadata": {},
   "outputs": [
    {
     "data": {
      "text/html": [
       "<div>\n",
       "<style scoped>\n",
       "    .dataframe tbody tr th:only-of-type {\n",
       "        vertical-align: middle;\n",
       "    }\n",
       "\n",
       "    .dataframe tbody tr th {\n",
       "        vertical-align: top;\n",
       "    }\n",
       "\n",
       "    .dataframe thead th {\n",
       "        text-align: right;\n",
       "    }\n",
       "</style>\n",
       "<table border=\"1\" class=\"dataframe\">\n",
       "  <thead>\n",
       "    <tr style=\"text-align: right;\">\n",
       "      <th></th>\n",
       "      <th>0.0</th>\n",
       "      <th>0.3</th>\n",
       "      <th>0.5</th>\n",
       "      <th>0.7</th>\n",
       "    </tr>\n",
       "  </thead>\n",
       "  <tbody>\n",
       "    <tr>\n",
       "      <td>all</td>\n",
       "      <td>0.357914</td>\n",
       "      <td>0.385222</td>\n",
       "      <td>0.412420</td>\n",
       "      <td>0.446859</td>\n",
       "    </tr>\n",
       "    <tr>\n",
       "      <td>person</td>\n",
       "      <td>0.355708</td>\n",
       "      <td>0.383674</td>\n",
       "      <td>0.411715</td>\n",
       "      <td>0.447488</td>\n",
       "    </tr>\n",
       "    <tr>\n",
       "      <td>no person</td>\n",
       "      <td>0.426453</td>\n",
       "      <td>0.433410</td>\n",
       "      <td>0.434375</td>\n",
       "      <td>0.427287</td>\n",
       "    </tr>\n",
       "    <tr>\n",
       "      <td>animal</td>\n",
       "      <td>0.341944</td>\n",
       "      <td>0.363085</td>\n",
       "      <td>0.385481</td>\n",
       "      <td>0.415656</td>\n",
       "    </tr>\n",
       "    <tr>\n",
       "      <td>sports</td>\n",
       "      <td>0.360939</td>\n",
       "      <td>0.385218</td>\n",
       "      <td>0.410870</td>\n",
       "      <td>0.445480</td>\n",
       "    </tr>\n",
       "    <tr>\n",
       "      <td>electronic</td>\n",
       "      <td>0.354191</td>\n",
       "      <td>0.381024</td>\n",
       "      <td>0.408368</td>\n",
       "      <td>0.442751</td>\n",
       "    </tr>\n",
       "  </tbody>\n",
       "</table>\n",
       "</div>"
      ],
      "text/plain": [
       "                 0.0       0.3       0.5       0.7\n",
       "all         0.357914  0.385222  0.412420  0.446859\n",
       "person      0.355708  0.383674  0.411715  0.447488\n",
       "no person   0.426453  0.433410  0.434375  0.427287\n",
       "animal      0.341944  0.363085  0.385481  0.415656\n",
       "sports      0.360939  0.385218  0.410870  0.445480\n",
       "electronic  0.354191  0.381024  0.408368  0.442751"
      ]
     },
     "execution_count": 20,
     "metadata": {},
     "output_type": "execute_result"
    }
   ],
   "source": [
    "mean_cxt = (X.mean(axis=0))\n",
    "\n",
    "SIM_mean_cxt = pd.DataFrame(data=mean_cxt, columns=[0, 0.3, 0.5, 0.7], index=cxt)\n",
    "SIM_mean_cxt"
   ]
  },
  {
   "cell_type": "code",
   "execution_count": 21,
   "metadata": {},
   "outputs": [],
   "source": [
    "SIM_mean_cxt.to_csv('SIM_mean_cxt.csv')\n",
    "SIM_mean_models.to_csv('SIM_mean_models.csv')\n"
   ]
  }
 ],
 "metadata": {
  "kernelspec": {
   "display_name": "saliency",
   "language": "python",
   "name": "myenv"
  },
  "language_info": {
   "codemirror_mode": {
    "name": "ipython",
    "version": 3
   },
   "file_extension": ".py",
   "mimetype": "text/x-python",
   "name": "python",
   "nbconvert_exporter": "python",
   "pygments_lexer": "ipython3",
   "version": "3.7.1"
  }
 },
 "nbformat": 4,
 "nbformat_minor": 2
}
