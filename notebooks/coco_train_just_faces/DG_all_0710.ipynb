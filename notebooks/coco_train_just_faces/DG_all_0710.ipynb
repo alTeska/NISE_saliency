{
 "cells": [
  {
   "cell_type": "markdown",
   "metadata": {},
   "source": [
    "# Vis of DeepGaze resutls"
   ]
  },
  {
   "cell_type": "code",
   "execution_count": 1,
   "metadata": {},
   "outputs": [],
   "source": [
    "import os\n",
    "os.chdir('./data')"
   ]
  },
  {
   "cell_type": "code",
   "execution_count": 2,
   "metadata": {},
   "outputs": [],
   "source": [
    "import numpy as np\n",
    "import pickle\n",
    "import matplotlib.pyplot as plt\n",
    "import matplotlib.gridspec as gridspec\n",
    "import matplotlib\n",
    "\n",
    "import pandas as pd\n",
    "import seaborn as sns\n",
    "from glob import glob\n",
    "from tabulate import tabulate\n",
    "from IPython.display import Latex, display_html, display, HTML"
   ]
  },
  {
   "cell_type": "markdown",
   "metadata": {},
   "source": [
    "## load daa"
   ]
  },
  {
   "cell_type": "code",
   "execution_count": 3,
   "metadata": {},
   "outputs": [],
   "source": [
    "IG = pd.read_csv('IG'+'_mean_noface.csv', index_col=[0])\n",
    "SIM = pd.read_csv('SIM'+'_mean_noface.csv', index_col=[0])\n",
    "NSS = pd.read_csv('NSS'+'_mean_noface.csv', index_col=[0])\n",
    "AUC = pd.read_csv('AUC'+'_mean_noface.csv', index_col=[0])\n"
   ]
  },
  {
   "cell_type": "code",
   "execution_count": 4,
   "metadata": {},
   "outputs": [
    {
     "data": {
      "text/html": [
       "<div>\n",
       "<style scoped>\n",
       "    .dataframe tbody tr th:only-of-type {\n",
       "        vertical-align: middle;\n",
       "    }\n",
       "\n",
       "    .dataframe tbody tr th {\n",
       "        vertical-align: top;\n",
       "    }\n",
       "\n",
       "    .dataframe thead th {\n",
       "        text-align: right;\n",
       "    }\n",
       "</style>\n",
       "<table border=\"1\" class=\"dataframe\">\n",
       "  <thead>\n",
       "    <tr style=\"text-align: right;\">\n",
       "      <th></th>\n",
       "      <th>all</th>\n",
       "      <th>person</th>\n",
       "      <th>no person</th>\n",
       "      <th>animal</th>\n",
       "      <th>sports</th>\n",
       "      <th>electronic</th>\n",
       "    </tr>\n",
       "  </thead>\n",
       "  <tbody>\n",
       "    <tr>\n",
       "      <td>aim</td>\n",
       "      <td>0.000000</td>\n",
       "      <td>0.000000</td>\n",
       "      <td>0.000000</td>\n",
       "      <td>0.000000</td>\n",
       "      <td>0.000000</td>\n",
       "      <td>0.000000</td>\n",
       "    </tr>\n",
       "    <tr>\n",
       "      <td>cas</td>\n",
       "      <td>0.410865</td>\n",
       "      <td>0.407912</td>\n",
       "      <td>0.502755</td>\n",
       "      <td>0.391060</td>\n",
       "      <td>0.438167</td>\n",
       "      <td>0.405628</td>\n",
       "    </tr>\n",
       "    <tr>\n",
       "      <td>covsal</td>\n",
       "      <td>0.437098</td>\n",
       "      <td>0.435892</td>\n",
       "      <td>0.474611</td>\n",
       "      <td>0.431493</td>\n",
       "      <td>0.432125</td>\n",
       "      <td>0.431504</td>\n",
       "    </tr>\n",
       "    <tr>\n",
       "      <td>gbvs</td>\n",
       "      <td>0.456899</td>\n",
       "      <td>0.453540</td>\n",
       "      <td>0.561441</td>\n",
       "      <td>0.439632</td>\n",
       "      <td>0.455956</td>\n",
       "      <td>0.451624</td>\n",
       "    </tr>\n",
       "    <tr>\n",
       "      <td>icf</td>\n",
       "      <td>0.463685</td>\n",
       "      <td>0.461694</td>\n",
       "      <td>0.525637</td>\n",
       "      <td>0.439458</td>\n",
       "      <td>0.475725</td>\n",
       "      <td>0.455837</td>\n",
       "    </tr>\n",
       "    <tr>\n",
       "      <td>ik</td>\n",
       "      <td>0.387092</td>\n",
       "      <td>0.384829</td>\n",
       "      <td>0.456805</td>\n",
       "      <td>0.369226</td>\n",
       "      <td>0.393532</td>\n",
       "      <td>0.387091</td>\n",
       "    </tr>\n",
       "    <tr>\n",
       "      <td>sun</td>\n",
       "      <td>0.349760</td>\n",
       "      <td>0.346092</td>\n",
       "      <td>0.463924</td>\n",
       "      <td>0.322741</td>\n",
       "      <td>0.331072</td>\n",
       "      <td>0.347655</td>\n",
       "    </tr>\n",
       "    <tr>\n",
       "      <td>dg</td>\n",
       "      <td>0.627605</td>\n",
       "      <td>0.627135</td>\n",
       "      <td>0.642248</td>\n",
       "      <td>0.610889</td>\n",
       "      <td>0.637648</td>\n",
       "      <td>0.623710</td>\n",
       "    </tr>\n",
       "  </tbody>\n",
       "</table>\n",
       "</div>"
      ],
      "text/plain": [
       "             all    person  no person    animal    sports  electronic\n",
       "aim     0.000000  0.000000   0.000000  0.000000  0.000000    0.000000\n",
       "cas     0.410865  0.407912   0.502755  0.391060  0.438167    0.405628\n",
       "covsal  0.437098  0.435892   0.474611  0.431493  0.432125    0.431504\n",
       "gbvs    0.456899  0.453540   0.561441  0.439632  0.455956    0.451624\n",
       "icf     0.463685  0.461694   0.525637  0.439458  0.475725    0.455837\n",
       "ik      0.387092  0.384829   0.456805  0.369226  0.393532    0.387091\n",
       "sun     0.349760  0.346092   0.463924  0.322741  0.331072    0.347655\n",
       "dg      0.627605  0.627135   0.642248  0.610889  0.637648    0.623710"
      ]
     },
     "execution_count": 4,
     "metadata": {},
     "output_type": "execute_result"
    }
   ],
   "source": [
    "SIM"
   ]
  },
  {
   "cell_type": "code",
   "execution_count": 5,
   "metadata": {},
   "outputs": [],
   "source": [
    "sim = SIM.loc[['dg']]\n",
    "auc = AUC.loc[['dg']]\n",
    "nss = NSS.loc[['dg']]\n",
    "ig = IG.loc[['dg']]"
   ]
  },
  {
   "cell_type": "code",
   "execution_count": 6,
   "metadata": {},
   "outputs": [
    {
     "data": {
      "text/html": [
       "<div>\n",
       "<style scoped>\n",
       "    .dataframe tbody tr th:only-of-type {\n",
       "        vertical-align: middle;\n",
       "    }\n",
       "\n",
       "    .dataframe tbody tr th {\n",
       "        vertical-align: top;\n",
       "    }\n",
       "\n",
       "    .dataframe thead th {\n",
       "        text-align: right;\n",
       "    }\n",
       "</style>\n",
       "<table border=\"1\" class=\"dataframe\">\n",
       "  <thead>\n",
       "    <tr style=\"text-align: right;\">\n",
       "      <th></th>\n",
       "      <th>all</th>\n",
       "      <th>person</th>\n",
       "      <th>no person</th>\n",
       "      <th>animal</th>\n",
       "      <th>sports</th>\n",
       "      <th>electronic</th>\n",
       "    </tr>\n",
       "  </thead>\n",
       "  <tbody>\n",
       "    <tr>\n",
       "      <td>dg</td>\n",
       "      <td>2.857174</td>\n",
       "      <td>2.807331</td>\n",
       "      <td>4.408419</td>\n",
       "      <td>2.892242</td>\n",
       "      <td>2.157273</td>\n",
       "      <td>2.979467</td>\n",
       "    </tr>\n",
       "  </tbody>\n",
       "</table>\n",
       "</div>"
      ],
      "text/plain": [
       "         all    person  no person    animal    sports  electronic\n",
       "dg  2.857174  2.807331   4.408419  2.892242  2.157273    2.979467"
      ]
     },
     "execution_count": 6,
     "metadata": {},
     "output_type": "execute_result"
    }
   ],
   "source": [
    "ig"
   ]
  },
  {
   "cell_type": "code",
   "execution_count": 7,
   "metadata": {},
   "outputs": [
    {
     "data": {
      "text/plain": [
       "array([0.62760501, 0.62713451, 0.64224786, 0.61088898, 0.6376476 ,\n",
       "       0.62371014])"
      ]
     },
     "execution_count": 7,
     "metadata": {},
     "output_type": "execute_result"
    }
   ],
   "source": [
    "sim.values[0]"
   ]
  },
  {
   "cell_type": "code",
   "execution_count": 8,
   "metadata": {},
   "outputs": [
    {
     "data": {
      "text/html": [
       "<div>\n",
       "<style scoped>\n",
       "    .dataframe tbody tr th:only-of-type {\n",
       "        vertical-align: middle;\n",
       "    }\n",
       "\n",
       "    .dataframe tbody tr th {\n",
       "        vertical-align: top;\n",
       "    }\n",
       "\n",
       "    .dataframe thead th {\n",
       "        text-align: right;\n",
       "    }\n",
       "</style>\n",
       "<table border=\"1\" class=\"dataframe\">\n",
       "  <thead>\n",
       "    <tr style=\"text-align: right;\">\n",
       "      <th></th>\n",
       "      <th>all</th>\n",
       "      <th>person</th>\n",
       "      <th>no person</th>\n",
       "      <th>animal</th>\n",
       "      <th>sports</th>\n",
       "      <th>electronic</th>\n",
       "    </tr>\n",
       "  </thead>\n",
       "  <tbody>\n",
       "    <tr>\n",
       "      <td>sim</td>\n",
       "      <td>0.627605</td>\n",
       "      <td>0.627135</td>\n",
       "      <td>0.642248</td>\n",
       "      <td>0.610889</td>\n",
       "      <td>0.637648</td>\n",
       "      <td>0.623710</td>\n",
       "    </tr>\n",
       "    <tr>\n",
       "      <td>auc</td>\n",
       "      <td>0.794056</td>\n",
       "      <td>0.795969</td>\n",
       "      <td>0.734526</td>\n",
       "      <td>0.794398</td>\n",
       "      <td>0.814887</td>\n",
       "      <td>0.795691</td>\n",
       "    </tr>\n",
       "    <tr>\n",
       "      <td>nss</td>\n",
       "      <td>1.329065</td>\n",
       "      <td>1.344346</td>\n",
       "      <td>0.853478</td>\n",
       "      <td>1.309132</td>\n",
       "      <td>1.478322</td>\n",
       "      <td>1.341571</td>\n",
       "    </tr>\n",
       "    <tr>\n",
       "      <td>ig</td>\n",
       "      <td>2.857174</td>\n",
       "      <td>2.807331</td>\n",
       "      <td>4.408419</td>\n",
       "      <td>2.892242</td>\n",
       "      <td>2.157273</td>\n",
       "      <td>2.979467</td>\n",
       "    </tr>\n",
       "  </tbody>\n",
       "</table>\n",
       "</div>"
      ],
      "text/plain": [
       "          all    person  no person    animal    sports  electronic\n",
       "sim  0.627605  0.627135   0.642248  0.610889  0.637648    0.623710\n",
       "auc  0.794056  0.795969   0.734526  0.794398  0.814887    0.795691\n",
       "nss  1.329065  1.344346   0.853478  1.309132  1.478322    1.341571\n",
       "ig   2.857174  2.807331   4.408419  2.892242  2.157273    2.979467"
      ]
     },
     "execution_count": 8,
     "metadata": {},
     "output_type": "execute_result"
    }
   ],
   "source": [
    "DG = pd.DataFrame([sim.values[0], auc.values[0], nss.values[0], ig.values[0]],\n",
    "                  index=['sim', 'auc', 'nss', 'ig'], \n",
    "                  columns=['all', 'person', 'no person', 'animal', 'sports', 'electronic'])\n",
    "DG"
   ]
  },
  {
   "cell_type": "code",
   "execution_count": 9,
   "metadata": {},
   "outputs": [
    {
     "data": {
      "image/png": "[encoded data removed]",
      "text/plain": [
       "<Figure size 504x432 with 2 Axes>"
      ]
     },
     "metadata": {
      "needs_background": "light"
     },
     "output_type": "display_data"
    }
   ],
   "source": [
    "matplotlib.rcParams.update({'font.size': 14})\n",
    "\n",
    "f, ax = plt.subplots(figsize=(7, 6))\n",
    "\n",
    "sns.heatmap(DG.transpose(), annot=True, linewidths=.5, ax=ax,fmt='.3f', cmap='BuGn');\n",
    "plt.xlabel('metric')\n",
    "plt.ylabel('context')\n",
    "plt.title('{} scores'.format('DG'));\n",
    "\n",
    "plt.savefig('../plots/DG_scores.png', bbox_inches='tight', pad_inches=0)"
   ]
  }
 ],
 "metadata": {
  "kernelspec": {
   "display_name": "saliency",
   "language": "python",
   "name": "myenv"
  },
  "language_info": {
   "codemirror_mode": {
    "name": "ipython",
    "version": 3
   },
   "file_extension": ".py",
   "mimetype": "text/x-python",
   "name": "python",
   "nbconvert_exporter": "python",
   "pygments_lexer": "ipython3",
   "version": "3.7.1"
  }
 },
 "nbformat": 4,
 "nbformat_minor": 2
}
