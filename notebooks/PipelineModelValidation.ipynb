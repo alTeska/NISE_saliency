{
 "cells": [
  {
   "cell_type": "markdown",
   "metadata": {},
   "source": [
    "## Getting context-specificity\n",
    "\n",
    "## What should the function do?\n",
    "\n",
    "(1) Get the pictures belonging to the context.  \n",
    "(2) Get the corresponding ground truths and saliency maps for a given model.  \n",
    "(3) Evaluate metrics for that model in that context.\n",
    "\n",
    "**TODO**  \n",
    "add binary map\n",
    "\n",
    "**supercategories we can use**:  \n",
    "animal vehicle outdoor food furniture person kitchen appliance indoor accessory sports electronic\n",
    "\n",
    "for lack of context, type 'none'"
   ]
  },
  {
   "cell_type": "code",
   "execution_count": 1,
   "metadata": {},
   "outputs": [],
   "source": [
    "import os\n",
    "os.chdir('../saliency_model/')\n",
    "\n",
    "import numpy as np\n",
    "import pickle\n",
    "import matplotlib.pyplot as plt\n",
    "\n",
    "from context_analysis import get_dataset_ids, ContextAnalysis"
   ]
  },
  {
   "cell_type": "markdown",
   "metadata": {},
   "source": [
    "Get the IDs of the images that we have in our dataset."
   ]
  },
  {
   "cell_type": "code",
   "execution_count": 2,
   "metadata": {},
   "outputs": [
    {
     "name": "stdout",
     "output_type": "stream",
     "text": [
      "loading annotations into memory...\n",
      "Done (t=9.01s)\n",
      "creating index...\n",
      "index created!\n",
      "loading annotations into memory...\n",
      "Done (t=9.15s)\n",
      "creating index...\n",
      "index created!\n",
      "loading annotations into memory...\n",
      "Done (t=8.81s)\n",
      "creating index...\n",
      "index created!\n",
      "loading annotations into memory...\n",
      "Done (t=8.45s)\n",
      "creating index...\n",
      "index created!\n"
     ]
    }
   ],
   "source": [
    "# set dataset specific values\n",
    "dataDir='C:\\\\Users\\\\thier\\\\Documents\\\\Studium\\\\MSNE\\\\18-19 WS\\\\NISE\\\\project\\\\NISE_saliency\\\\coco'\n",
    "context = ['all', 'person', 'no person', 'animal', 'electronic', 'sports']\n",
    "models_plain = ['aim', 'cas', 'covsal', 'gbvs', 'icf', 'ik', 'sun', 'dg', 'faces']\n",
    "models_03 = ['aim_face_03', 'cas_face_03', 'covsal_face_03', 'gbvs_face_03', 'icf_face_03', 'ik_face_03', 'sun_face_03']\n",
    "models_05 = ['aim_face_05', 'cas_face_05', 'covsal_face_05', 'gbvs_face_05', 'icf_face_05', 'ik_face_05', 'sun_face_05']\n",
    "models_07 = ['aim_face_07', 'cas_face_07', 'covsal_face_07', 'gbvs_face_07', 'icf_face_07', 'ik_face_07', 'sun_face_07']\n",
    "metrics = ['sim', 'nss', 'ig', 'auc']\n",
    "\n",
    "ca_plain = ContextAnalysis(dataDir, models_plain, context, metrics=metrics)\n",
    "ca_03 = ContextAnalysis(dataDir, models_03, context, metrics=metrics)\n",
    "ca_05 = ContextAnalysis(dataDir, models_05, context, metrics=metrics)\n",
    "ca_07 = ContextAnalysis(dataDir, models_07, context, metrics=metrics)"
   ]
  },
  {
   "cell_type": "code",
   "execution_count": 3,
   "metadata": {},
   "outputs": [
    {
     "name": "stdout",
     "output_type": "stream",
     "text": [
      "Computing metrics for the aim model in the all context\n",
      "Found 499 images in this context.\n"
     ]
    },
    {
     "name": "stderr",
     "output_type": "stream",
     "text": [
      "324it [01:47,  2.93it/s]"
     ]
    },
    {
     "name": "stdout",
     "output_type": "stream",
     "text": [
      "Fixation Matfile at path C:\\Users\\thier\\Documents\\Studium\\MSNE\\18-19 WS\\NISE\\project\\NISE_saliency\\coco\\fixations\\COCO_val2014_000000322163.mat could not be found.\n"
     ]
    },
    {
     "name": "stderr",
     "output_type": "stream",
     "text": [
      "499it [02:45,  3.71it/s]\n"
     ]
    },
    {
     "name": "stdout",
     "output_type": "stream",
     "text": [
      "Computing metrics for the cas model in the all context\n",
      "Found 499 images in this context.\n"
     ]
    },
    {
     "name": "stderr",
     "output_type": "stream",
     "text": [
      "324it [01:45,  3.00it/s]"
     ]
    },
    {
     "name": "stdout",
     "output_type": "stream",
     "text": [
      "Fixation Matfile at path C:\\Users\\thier\\Documents\\Studium\\MSNE\\18-19 WS\\NISE\\project\\NISE_saliency\\coco\\fixations\\COCO_val2014_000000322163.mat could not be found.\n"
     ]
    },
    {
     "name": "stderr",
     "output_type": "stream",
     "text": [
      "499it [02:44,  3.72it/s]\n"
     ]
    },
    {
     "name": "stdout",
     "output_type": "stream",
     "text": [
      "Computing metrics for the covsal model in the all context\n",
      "Found 499 images in this context.\n"
     ]
    },
    {
     "name": "stderr",
     "output_type": "stream",
     "text": [
      "324it [01:48,  2.90it/s]"
     ]
    },
    {
     "name": "stdout",
     "output_type": "stream",
     "text": [
      "Fixation Matfile at path C:\\Users\\thier\\Documents\\Studium\\MSNE\\18-19 WS\\NISE\\project\\NISE_saliency\\coco\\fixations\\COCO_val2014_000000322163.mat could not be found.\n"
     ]
    },
    {
     "name": "stderr",
     "output_type": "stream",
     "text": [
      "499it [02:46,  3.86it/s]\n"
     ]
    },
    {
     "name": "stdout",
     "output_type": "stream",
     "text": [
      "Computing metrics for the gbvs model in the all context\n",
      "Found 499 images in this context.\n"
     ]
    },
    {
     "name": "stderr",
     "output_type": "stream",
     "text": [
      "324it [01:45,  2.98it/s]"
     ]
    },
    {
     "name": "stdout",
     "output_type": "stream",
     "text": [
      "Fixation Matfile at path C:\\Users\\thier\\Documents\\Studium\\MSNE\\18-19 WS\\NISE\\project\\NISE_saliency\\coco\\fixations\\COCO_val2014_000000322163.mat could not be found.\n"
     ]
    },
    {
     "name": "stderr",
     "output_type": "stream",
     "text": [
      "499it [02:43,  3.86it/s]\n"
     ]
    },
    {
     "name": "stdout",
     "output_type": "stream",
     "text": [
      "Computing metrics for the icf model in the all context\n",
      "Found 499 images in this context.\n"
     ]
    },
    {
     "name": "stderr",
     "output_type": "stream",
     "text": [
      "324it [01:44,  3.02it/s]"
     ]
    },
    {
     "name": "stdout",
     "output_type": "stream",
     "text": [
      "Fixation Matfile at path C:\\Users\\thier\\Documents\\Studium\\MSNE\\18-19 WS\\NISE\\project\\NISE_saliency\\coco\\fixations\\COCO_val2014_000000322163.mat could not be found.\n"
     ]
    },
    {
     "name": "stderr",
     "output_type": "stream",
     "text": [
      "499it [02:41,  3.87it/s]\n"
     ]
    },
    {
     "name": "stdout",
     "output_type": "stream",
     "text": [
      "Computing metrics for the ik model in the all context\n",
      "Found 499 images in this context.\n"
     ]
    },
    {
     "name": "stderr",
     "output_type": "stream",
     "text": [
      "324it [01:44,  3.11it/s]"
     ]
    },
    {
     "name": "stdout",
     "output_type": "stream",
     "text": [
      "Fixation Matfile at path C:\\Users\\thier\\Documents\\Studium\\MSNE\\18-19 WS\\NISE\\project\\NISE_saliency\\coco\\fixations\\COCO_val2014_000000322163.mat could not be found.\n"
     ]
    },
    {
     "name": "stderr",
     "output_type": "stream",
     "text": [
      "499it [02:38,  4.00it/s]\n"
     ]
    },
    {
     "name": "stdout",
     "output_type": "stream",
     "text": [
      "Computing metrics for the sun model in the all context\n",
      "Found 499 images in this context.\n"
     ]
    },
    {
     "name": "stderr",
     "output_type": "stream",
     "text": [
      "324it [01:44,  3.00it/s]"
     ]
    },
    {
     "name": "stdout",
     "output_type": "stream",
     "text": [
      "Fixation Matfile at path C:\\Users\\thier\\Documents\\Studium\\MSNE\\18-19 WS\\NISE\\project\\NISE_saliency\\coco\\fixations\\COCO_val2014_000000322163.mat could not be found.\n"
     ]
    },
    {
     "name": "stderr",
     "output_type": "stream",
     "text": [
      "499it [02:41,  3.84it/s]\n"
     ]
    },
    {
     "name": "stdout",
     "output_type": "stream",
     "text": [
      "Computing metrics for the dg model in the all context\n",
      "Found 499 images in this context.\n"
     ]
    },
    {
     "name": "stderr",
     "output_type": "stream",
     "text": [
      "324it [01:46,  2.98it/s]"
     ]
    },
    {
     "name": "stdout",
     "output_type": "stream",
     "text": [
      "Fixation Matfile at path C:\\Users\\thier\\Documents\\Studium\\MSNE\\18-19 WS\\NISE\\project\\NISE_saliency\\coco\\fixations\\COCO_val2014_000000322163.mat could not be found.\n"
     ]
    },
    {
     "name": "stderr",
     "output_type": "stream",
     "text": [
      "499it [02:43,  3.95it/s]\n"
     ]
    },
    {
     "name": "stdout",
     "output_type": "stream",
     "text": [
      "Computing metrics for the faces model in the all context\n",
      "Found 499 images in this context.\n"
     ]
    },
    {
     "name": "stderr",
     "output_type": "stream",
     "text": [
      "0it [00:00, ?it/s]C:\\Users\\thier\\Documents\\Studium\\MSNE\\18-19 WS\\NISE\\project\\NISE_saliency\\saliency_model\\metrics.py:160: RuntimeWarning: invalid value encountered in true_divide\n",
      "  sal_norm = (sal_map - np.mean(sal_map)) / np.std(sal_map)\n",
      "C:\\Users\\thier\\Documents\\Studium\\MSNE\\18-19 WS\\NISE\\project\\NISE_saliency\\saliency_model\\metrics.py:181: RuntimeWarning: invalid value encountered in true_divide\n",
      "  sal_norm = sal_map / np.sum(sal_map)\n",
      "C:\\Users\\thier\\Documents\\Studium\\MSNE\\18-19 WS\\NISE\\project\\NISE_saliency\\saliency_model\\metrics.py:184: RuntimeWarning: invalid value encountered in minimum\n",
      "  return np.sum(np.minimum(fix_norm, sal_norm))\n",
      "C:\\Users\\thier\\Documents\\Studium\\MSNE\\18-19 WS\\NISE\\project\\NISE_saliency\\saliency_model\\metrics.py:204: RuntimeWarning: invalid value encountered in true_divide\n",
      "  sal_map = sal_map / np.sum(sal_map)\n",
      "324it [01:42,  3.11it/s]"
     ]
    },
    {
     "name": "stdout",
     "output_type": "stream",
     "text": [
      "Fixation Matfile at path C:\\Users\\thier\\Documents\\Studium\\MSNE\\18-19 WS\\NISE\\project\\NISE_saliency\\coco\\fixations\\COCO_val2014_000000322163.mat could not be found.\n"
     ]
    },
    {
     "name": "stderr",
     "output_type": "stream",
     "text": [
      "499it [02:38,  4.00it/s]\n"
     ]
    },
    {
     "name": "stdout",
     "output_type": "stream",
     "text": [
      "Computing metrics for the aim model in the person context\n",
      "Found 309 images in this context.\n"
     ]
    },
    {
     "name": "stderr",
     "output_type": "stream",
     "text": [
      "204it [01:03,  2.80it/s]"
     ]
    },
    {
     "name": "stdout",
     "output_type": "stream",
     "text": [
      "Fixation Matfile at path C:\\Users\\thier\\Documents\\Studium\\MSNE\\18-19 WS\\NISE\\project\\NISE_saliency\\coco\\fixations\\COCO_val2014_000000322163.mat could not be found.\n"
     ]
    },
    {
     "name": "stderr",
     "output_type": "stream",
     "text": [
      "309it [01:36,  3.97it/s]\n"
     ]
    },
    {
     "name": "stdout",
     "output_type": "stream",
     "text": [
      "Computing metrics for the cas model in the person context\n",
      "Found 309 images in this context.\n"
     ]
    },
    {
     "name": "stderr",
     "output_type": "stream",
     "text": [
      "204it [01:01,  2.85it/s]"
     ]
    },
    {
     "name": "stdout",
     "output_type": "stream",
     "text": [
      "Fixation Matfile at path C:\\Users\\thier\\Documents\\Studium\\MSNE\\18-19 WS\\NISE\\project\\NISE_saliency\\coco\\fixations\\COCO_val2014_000000322163.mat could not be found.\n"
     ]
    },
    {
     "name": "stderr",
     "output_type": "stream",
     "text": [
      "309it [01:33,  3.98it/s]\n"
     ]
    },
    {
     "name": "stdout",
     "output_type": "stream",
     "text": [
      "Computing metrics for the covsal model in the person context\n",
      "Found 309 images in this context.\n"
     ]
    },
    {
     "name": "stderr",
     "output_type": "stream",
     "text": [
      "204it [01:01,  2.80it/s]"
     ]
    },
    {
     "name": "stdout",
     "output_type": "stream",
     "text": [
      "Fixation Matfile at path C:\\Users\\thier\\Documents\\Studium\\MSNE\\18-19 WS\\NISE\\project\\NISE_saliency\\coco\\fixations\\COCO_val2014_000000322163.mat could not be found.\n"
     ]
    },
    {
     "name": "stderr",
     "output_type": "stream",
     "text": [
      "309it [01:33,  3.98it/s]\n"
     ]
    },
    {
     "name": "stdout",
     "output_type": "stream",
     "text": [
      "Computing metrics for the gbvs model in the person context\n",
      "Found 309 images in this context.\n"
     ]
    },
    {
     "name": "stderr",
     "output_type": "stream",
     "text": [
      "204it [01:07,  2.71it/s]"
     ]
    },
    {
     "name": "stdout",
     "output_type": "stream",
     "text": [
      "Fixation Matfile at path C:\\Users\\thier\\Documents\\Studium\\MSNE\\18-19 WS\\NISE\\project\\NISE_saliency\\coco\\fixations\\COCO_val2014_000000322163.mat could not be found.\n"
     ]
    },
    {
     "name": "stderr",
     "output_type": "stream",
     "text": [
      "309it [01:40,  3.80it/s]\n"
     ]
    },
    {
     "name": "stdout",
     "output_type": "stream",
     "text": [
      "Computing metrics for the icf model in the person context\n",
      "Found 309 images in this context.\n"
     ]
    },
    {
     "name": "stderr",
     "output_type": "stream",
     "text": [
      "204it [01:03,  2.77it/s]"
     ]
    },
    {
     "name": "stdout",
     "output_type": "stream",
     "text": [
      "Fixation Matfile at path C:\\Users\\thier\\Documents\\Studium\\MSNE\\18-19 WS\\NISE\\project\\NISE_saliency\\coco\\fixations\\COCO_val2014_000000322163.mat could not be found.\n"
     ]
    },
    {
     "name": "stderr",
     "output_type": "stream",
     "text": [
      "309it [01:36,  3.94it/s]\n"
     ]
    },
    {
     "name": "stdout",
     "output_type": "stream",
     "text": [
      "Computing metrics for the ik model in the person context\n",
      "Found 309 images in this context.\n"
     ]
    },
    {
     "name": "stderr",
     "output_type": "stream",
     "text": [
      "204it [01:03,  2.79it/s]"
     ]
    },
    {
     "name": "stdout",
     "output_type": "stream",
     "text": [
      "Fixation Matfile at path C:\\Users\\thier\\Documents\\Studium\\MSNE\\18-19 WS\\NISE\\project\\NISE_saliency\\coco\\fixations\\COCO_val2014_000000322163.mat could not be found.\n"
     ]
    },
    {
     "name": "stderr",
     "output_type": "stream",
     "text": [
      "309it [01:35,  3.86it/s]\n"
     ]
    },
    {
     "name": "stdout",
     "output_type": "stream",
     "text": [
      "Computing metrics for the sun model in the person context\n",
      "Found 309 images in this context.\n"
     ]
    },
    {
     "name": "stderr",
     "output_type": "stream",
     "text": [
      "204it [01:02,  2.79it/s]"
     ]
    },
    {
     "name": "stdout",
     "output_type": "stream",
     "text": [
      "Fixation Matfile at path C:\\Users\\thier\\Documents\\Studium\\MSNE\\18-19 WS\\NISE\\project\\NISE_saliency\\coco\\fixations\\COCO_val2014_000000322163.mat could not be found.\n"
     ]
    },
    {
     "name": "stderr",
     "output_type": "stream",
     "text": [
      "309it [01:34,  3.91it/s]\n"
     ]
    },
    {
     "name": "stdout",
     "output_type": "stream",
     "text": [
      "Computing metrics for the dg model in the person context\n",
      "Found 309 images in this context.\n"
     ]
    },
    {
     "name": "stderr",
     "output_type": "stream",
     "text": [
      "204it [01:01,  2.80it/s]"
     ]
    },
    {
     "name": "stdout",
     "output_type": "stream",
     "text": [
      "Fixation Matfile at path C:\\Users\\thier\\Documents\\Studium\\MSNE\\18-19 WS\\NISE\\project\\NISE_saliency\\coco\\fixations\\COCO_val2014_000000322163.mat could not be found.\n"
     ]
    },
    {
     "name": "stderr",
     "output_type": "stream",
     "text": [
      "309it [01:34,  3.90it/s]\n"
     ]
    },
    {
     "name": "stdout",
     "output_type": "stream",
     "text": [
      "Computing metrics for the faces model in the person context\n",
      "Found 309 images in this context.\n"
     ]
    },
    {
     "name": "stderr",
     "output_type": "stream",
     "text": [
      "204it [01:02,  2.80it/s]"
     ]
    },
    {
     "name": "stdout",
     "output_type": "stream",
     "text": [
      "Fixation Matfile at path C:\\Users\\thier\\Documents\\Studium\\MSNE\\18-19 WS\\NISE\\project\\NISE_saliency\\coco\\fixations\\COCO_val2014_000000322163.mat could not be found.\n"
     ]
    },
    {
     "name": "stderr",
     "output_type": "stream",
     "text": [
      "309it [01:34,  4.08it/s]\n"
     ]
    },
    {
     "name": "stdout",
     "output_type": "stream",
     "text": [
      "Computing metrics for the aim model in the no person context\n",
      "Found 190 images in this context.\n"
     ]
    },
    {
     "name": "stderr",
     "output_type": "stream",
     "text": [
      "190it [01:02,  3.18it/s]\n"
     ]
    },
    {
     "name": "stdout",
     "output_type": "stream",
     "text": [
      "Computing metrics for the cas model in the no person context\n",
      "Found 190 images in this context.\n"
     ]
    },
    {
     "name": "stderr",
     "output_type": "stream",
     "text": [
      "190it [01:02,  3.21it/s]\n"
     ]
    },
    {
     "name": "stdout",
     "output_type": "stream",
     "text": [
      "Computing metrics for the covsal model in the no person context\n",
      "Found 190 images in this context.\n"
     ]
    },
    {
     "name": "stderr",
     "output_type": "stream",
     "text": [
      "190it [01:01,  3.29it/s]\n"
     ]
    },
    {
     "name": "stdout",
     "output_type": "stream",
     "text": [
      "Computing metrics for the gbvs model in the no person context\n",
      "Found 190 images in this context.\n"
     ]
    },
    {
     "name": "stderr",
     "output_type": "stream",
     "text": [
      "190it [01:03,  3.18it/s]\n"
     ]
    },
    {
     "name": "stdout",
     "output_type": "stream",
     "text": [
      "Computing metrics for the icf model in the no person context\n",
      "Found 190 images in this context.\n"
     ]
    },
    {
     "name": "stderr",
     "output_type": "stream",
     "text": [
      "190it [01:02,  3.28it/s]\n"
     ]
    },
    {
     "name": "stdout",
     "output_type": "stream",
     "text": [
      "Computing metrics for the ik model in the no person context\n",
      "Found 190 images in this context.\n"
     ]
    },
    {
     "name": "stderr",
     "output_type": "stream",
     "text": [
      "190it [01:01,  3.31it/s]\n"
     ]
    },
    {
     "name": "stdout",
     "output_type": "stream",
     "text": [
      "Computing metrics for the sun model in the no person context\n",
      "Found 190 images in this context.\n"
     ]
    },
    {
     "name": "stderr",
     "output_type": "stream",
     "text": [
      "190it [01:01,  3.27it/s]\n"
     ]
    },
    {
     "name": "stdout",
     "output_type": "stream",
     "text": [
      "Computing metrics for the dg model in the no person context\n",
      "Found 190 images in this context.\n"
     ]
    },
    {
     "name": "stderr",
     "output_type": "stream",
     "text": [
      "190it [01:01,  3.27it/s]\n"
     ]
    },
    {
     "name": "stdout",
     "output_type": "stream",
     "text": [
      "Computing metrics for the faces model in the no person context\n",
      "Found 190 images in this context.\n"
     ]
    },
    {
     "name": "stderr",
     "output_type": "stream",
     "text": [
      "190it [01:01,  3.26it/s]\n"
     ]
    },
    {
     "name": "stdout",
     "output_type": "stream",
     "text": [
      "Computing metrics for the aim model in the animal context\n",
      "Found 72 images in this context.\n"
     ]
    },
    {
     "name": "stderr",
     "output_type": "stream",
     "text": [
      "72it [00:23,  3.16it/s]\n"
     ]
    },
    {
     "name": "stdout",
     "output_type": "stream",
     "text": [
      "Computing metrics for the cas model in the animal context\n",
      "Found 72 images in this context.\n"
     ]
    },
    {
     "name": "stderr",
     "output_type": "stream",
     "text": [
      "72it [00:22,  3.10it/s]\n"
     ]
    },
    {
     "name": "stdout",
     "output_type": "stream",
     "text": [
      "Computing metrics for the covsal model in the animal context\n",
      "Found 72 images in this context.\n"
     ]
    },
    {
     "name": "stderr",
     "output_type": "stream",
     "text": [
      "72it [00:22,  3.14it/s]\n"
     ]
    },
    {
     "name": "stdout",
     "output_type": "stream",
     "text": [
      "Computing metrics for the gbvs model in the animal context\n",
      "Found 72 images in this context.\n"
     ]
    },
    {
     "name": "stderr",
     "output_type": "stream",
     "text": [
      "72it [00:23,  3.16it/s]\n"
     ]
    },
    {
     "name": "stdout",
     "output_type": "stream",
     "text": [
      "Computing metrics for the icf model in the animal context\n",
      "Found 72 images in this context.\n"
     ]
    },
    {
     "name": "stderr",
     "output_type": "stream",
     "text": [
      "72it [00:22,  3.13it/s]\n"
     ]
    },
    {
     "name": "stdout",
     "output_type": "stream",
     "text": [
      "Computing metrics for the ik model in the animal context\n",
      "Found 72 images in this context.\n"
     ]
    },
    {
     "name": "stderr",
     "output_type": "stream",
     "text": [
      "72it [00:22,  3.16it/s]\n"
     ]
    },
    {
     "name": "stdout",
     "output_type": "stream",
     "text": [
      "Computing metrics for the sun model in the animal context\n",
      "Found 72 images in this context.\n"
     ]
    },
    {
     "name": "stderr",
     "output_type": "stream",
     "text": [
      "72it [00:22,  3.16it/s]\n"
     ]
    },
    {
     "name": "stdout",
     "output_type": "stream",
     "text": [
      "Computing metrics for the dg model in the animal context\n",
      "Found 72 images in this context.\n"
     ]
    },
    {
     "name": "stderr",
     "output_type": "stream",
     "text": [
      "72it [00:22,  3.19it/s]\n"
     ]
    },
    {
     "name": "stdout",
     "output_type": "stream",
     "text": [
      "Computing metrics for the faces model in the animal context\n",
      "Found 72 images in this context.\n"
     ]
    },
    {
     "name": "stderr",
     "output_type": "stream",
     "text": [
      "72it [00:24,  2.39it/s]\n"
     ]
    },
    {
     "name": "stdout",
     "output_type": "stream",
     "text": [
      "Computing metrics for the aim model in the electronic context\n",
      "Found 112 images in this context.\n"
     ]
    },
    {
     "name": "stderr",
     "output_type": "stream",
     "text": [
      "76it [00:24,  3.19it/s]"
     ]
    },
    {
     "name": "stdout",
     "output_type": "stream",
     "text": [
      "Fixation Matfile at path C:\\Users\\thier\\Documents\\Studium\\MSNE\\18-19 WS\\NISE\\project\\NISE_saliency\\coco\\fixations\\COCO_val2014_000000322163.mat could not be found.\n"
     ]
    },
    {
     "name": "stderr",
     "output_type": "stream",
     "text": [
      "112it [00:34,  3.50it/s]\n"
     ]
    },
    {
     "name": "stdout",
     "output_type": "stream",
     "text": [
      "Computing metrics for the cas model in the electronic context\n",
      "Found 112 images in this context.\n"
     ]
    },
    {
     "name": "stderr",
     "output_type": "stream",
     "text": [
      "76it [00:24,  3.15it/s]"
     ]
    },
    {
     "name": "stdout",
     "output_type": "stream",
     "text": [
      "Fixation Matfile at path C:\\Users\\thier\\Documents\\Studium\\MSNE\\18-19 WS\\NISE\\project\\NISE_saliency\\coco\\fixations\\COCO_val2014_000000322163.mat could not be found.\n"
     ]
    },
    {
     "name": "stderr",
     "output_type": "stream",
     "text": [
      "112it [00:34,  3.42it/s]\n"
     ]
    },
    {
     "name": "stdout",
     "output_type": "stream",
     "text": [
      "Computing metrics for the covsal model in the electronic context\n",
      "Found 112 images in this context.\n"
     ]
    },
    {
     "name": "stderr",
     "output_type": "stream",
     "text": [
      "76it [00:24,  3.21it/s]"
     ]
    },
    {
     "name": "stdout",
     "output_type": "stream",
     "text": [
      "Fixation Matfile at path C:\\Users\\thier\\Documents\\Studium\\MSNE\\18-19 WS\\NISE\\project\\NISE_saliency\\coco\\fixations\\COCO_val2014_000000322163.mat could not be found.\n"
     ]
    },
    {
     "name": "stderr",
     "output_type": "stream",
     "text": [
      "112it [00:34,  3.31it/s]\n"
     ]
    },
    {
     "name": "stdout",
     "output_type": "stream",
     "text": [
      "Computing metrics for the gbvs model in the electronic context\n",
      "Found 112 images in this context.\n"
     ]
    },
    {
     "name": "stderr",
     "output_type": "stream",
     "text": [
      "76it [00:24,  3.14it/s]"
     ]
    },
    {
     "name": "stdout",
     "output_type": "stream",
     "text": [
      "Fixation Matfile at path C:\\Users\\thier\\Documents\\Studium\\MSNE\\18-19 WS\\NISE\\project\\NISE_saliency\\coco\\fixations\\COCO_val2014_000000322163.mat could not be found.\n"
     ]
    },
    {
     "name": "stderr",
     "output_type": "stream",
     "text": [
      "112it [00:35,  2.94it/s]\n"
     ]
    },
    {
     "name": "stdout",
     "output_type": "stream",
     "text": [
      "Computing metrics for the icf model in the electronic context\n",
      "Found 112 images in this context.\n"
     ]
    },
    {
     "name": "stderr",
     "output_type": "stream",
     "text": [
      "76it [00:30,  2.68it/s]"
     ]
    },
    {
     "name": "stdout",
     "output_type": "stream",
     "text": [
      "Fixation Matfile at path C:\\Users\\thier\\Documents\\Studium\\MSNE\\18-19 WS\\NISE\\project\\NISE_saliency\\coco\\fixations\\COCO_val2014_000000322163.mat could not be found.\n"
     ]
    },
    {
     "name": "stderr",
     "output_type": "stream",
     "text": [
      "112it [00:41,  3.38it/s]\n"
     ]
    },
    {
     "name": "stdout",
     "output_type": "stream",
     "text": [
      "Computing metrics for the ik model in the electronic context\n",
      "Found 112 images in this context.\n"
     ]
    },
    {
     "name": "stderr",
     "output_type": "stream",
     "text": [
      "76it [00:24,  3.20it/s]"
     ]
    },
    {
     "name": "stdout",
     "output_type": "stream",
     "text": [
      "Fixation Matfile at path C:\\Users\\thier\\Documents\\Studium\\MSNE\\18-19 WS\\NISE\\project\\NISE_saliency\\coco\\fixations\\COCO_val2014_000000322163.mat could not be found.\n"
     ]
    },
    {
     "name": "stderr",
     "output_type": "stream",
     "text": [
      "112it [00:34,  3.36it/s]\n"
     ]
    },
    {
     "name": "stdout",
     "output_type": "stream",
     "text": [
      "Computing metrics for the sun model in the electronic context\n",
      "Found 112 images in this context.\n"
     ]
    },
    {
     "name": "stderr",
     "output_type": "stream",
     "text": [
      "76it [00:24,  3.14it/s]"
     ]
    },
    {
     "name": "stdout",
     "output_type": "stream",
     "text": [
      "Fixation Matfile at path C:\\Users\\thier\\Documents\\Studium\\MSNE\\18-19 WS\\NISE\\project\\NISE_saliency\\coco\\fixations\\COCO_val2014_000000322163.mat could not be found.\n"
     ]
    },
    {
     "name": "stderr",
     "output_type": "stream",
     "text": [
      "112it [00:34,  3.38it/s]\n"
     ]
    },
    {
     "name": "stdout",
     "output_type": "stream",
     "text": [
      "Computing metrics for the dg model in the electronic context\n",
      "Found 112 images in this context.\n"
     ]
    },
    {
     "name": "stderr",
     "output_type": "stream",
     "text": [
      "76it [00:24,  3.19it/s]"
     ]
    },
    {
     "name": "stdout",
     "output_type": "stream",
     "text": [
      "Fixation Matfile at path C:\\Users\\thier\\Documents\\Studium\\MSNE\\18-19 WS\\NISE\\project\\NISE_saliency\\coco\\fixations\\COCO_val2014_000000322163.mat could not be found.\n"
     ]
    },
    {
     "name": "stderr",
     "output_type": "stream",
     "text": [
      "112it [00:34,  3.50it/s]\n"
     ]
    },
    {
     "name": "stdout",
     "output_type": "stream",
     "text": [
      "Computing metrics for the faces model in the electronic context\n",
      "Found 112 images in this context.\n"
     ]
    },
    {
     "name": "stderr",
     "output_type": "stream",
     "text": [
      "76it [00:23,  3.31it/s]"
     ]
    },
    {
     "name": "stdout",
     "output_type": "stream",
     "text": [
      "Fixation Matfile at path C:\\Users\\thier\\Documents\\Studium\\MSNE\\18-19 WS\\NISE\\project\\NISE_saliency\\coco\\fixations\\COCO_val2014_000000322163.mat could not be found.\n"
     ]
    },
    {
     "name": "stderr",
     "output_type": "stream",
     "text": [
      "112it [00:33,  3.48it/s]\n"
     ]
    },
    {
     "name": "stdout",
     "output_type": "stream",
     "text": [
      "Computing metrics for the aim model in the sports context\n",
      "Found 79 images in this context.\n"
     ]
    },
    {
     "name": "stderr",
     "output_type": "stream",
     "text": [
      "79it [00:25,  2.45it/s]\n"
     ]
    },
    {
     "name": "stdout",
     "output_type": "stream",
     "text": [
      "Computing metrics for the cas model in the sports context\n",
      "Found 79 images in this context.\n"
     ]
    },
    {
     "name": "stderr",
     "output_type": "stream",
     "text": [
      "79it [00:27,  2.44it/s]\n"
     ]
    },
    {
     "name": "stdout",
     "output_type": "stream",
     "text": [
      "Computing metrics for the covsal model in the sports context\n",
      "Found 79 images in this context.\n"
     ]
    },
    {
     "name": "stderr",
     "output_type": "stream",
     "text": [
      "79it [00:27,  2.62it/s]\n"
     ]
    },
    {
     "name": "stdout",
     "output_type": "stream",
     "text": [
      "Computing metrics for the gbvs model in the sports context\n",
      "Found 79 images in this context.\n"
     ]
    },
    {
     "name": "stderr",
     "output_type": "stream",
     "text": [
      "79it [00:25,  2.69it/s]\n"
     ]
    },
    {
     "name": "stdout",
     "output_type": "stream",
     "text": [
      "Computing metrics for the icf model in the sports context\n",
      "Found 79 images in this context.\n"
     ]
    },
    {
     "name": "stderr",
     "output_type": "stream",
     "text": [
      "79it [00:25,  2.63it/s]\n"
     ]
    },
    {
     "name": "stdout",
     "output_type": "stream",
     "text": [
      "Computing metrics for the ik model in the sports context\n",
      "Found 79 images in this context.\n"
     ]
    },
    {
     "name": "stderr",
     "output_type": "stream",
     "text": [
      "79it [00:25,  2.64it/s]\n"
     ]
    },
    {
     "name": "stdout",
     "output_type": "stream",
     "text": [
      "Computing metrics for the sun model in the sports context\n",
      "Found 79 images in this context.\n"
     ]
    },
    {
     "name": "stderr",
     "output_type": "stream",
     "text": [
      "79it [00:27,  2.12it/s]\n"
     ]
    },
    {
     "name": "stdout",
     "output_type": "stream",
     "text": [
      "Computing metrics for the dg model in the sports context\n",
      "Found 79 images in this context.\n"
     ]
    },
    {
     "name": "stderr",
     "output_type": "stream",
     "text": [
      "79it [00:28,  2.68it/s]\n"
     ]
    },
    {
     "name": "stdout",
     "output_type": "stream",
     "text": [
      "Computing metrics for the faces model in the sports context\n",
      "Found 79 images in this context.\n"
     ]
    },
    {
     "name": "stderr",
     "output_type": "stream",
     "text": [
      "79it [00:24,  2.72it/s]\n"
     ]
    }
   ],
   "source": [
    "res_plain, metric_order = ca_plain.run_context_analysis()\n",
    "pickle.dump((res_plain, context, models_plain, metric_order), open( \"results_plain_models.p\", \"wb\" ))"
   ]
  },
  {
   "cell_type": "code",
   "execution_count": 4,
   "metadata": {},
   "outputs": [
    {
     "name": "stdout",
     "output_type": "stream",
     "text": [
      "Context: all, Model: aim_face_03, Images found: 499\n"
     ]
    },
    {
     "name": "stderr",
     "output_type": "stream",
     "text": [
      "324it [01:57,  2.56it/s]"
     ]
    },
    {
     "name": "stdout",
     "output_type": "stream",
     "text": [
      "Fixation Matfile at path C:\\Users\\thier\\Documents\\Studium\\MSNE\\18-19 WS\\NISE\\project\\NISE_saliency\\coco\\fixations\\COCO_val2014_000000322163.mat could not be found.\n"
     ]
    },
    {
     "name": "stderr",
     "output_type": "stream",
     "text": [
      "499it [03:04,  3.52it/s]\n"
     ]
    },
    {
     "name": "stdout",
     "output_type": "stream",
     "text": [
      "Context: all, Model: cas_face_03, Images found: 499\n"
     ]
    },
    {
     "name": "stderr",
     "output_type": "stream",
     "text": [
      "293it [01:32,  3.31it/s]"
     ]
    },
    {
     "name": "stdout",
     "output_type": "stream",
     "text": [
      "Saliency map at path C:\\Users\\thier\\Documents\\Studium\\MSNE\\18-19 WS\\NISE\\project\\NISE_saliency\\coco\\predictions\\cas_face_03\\COCO_val2014_000000292741.jpg has shape () and groundtruth map at path C:\\Users\\thier\\Documents\\Studium\\MSNE\\18-19 WS\\NISE\\project\\NISE_saliency\\coco\\fixations\\COCO_val2014_000000292741.mat has shape (480, 640).\n"
     ]
    },
    {
     "name": "stderr",
     "output_type": "stream",
     "text": [
      "324it [01:41,  3.19it/s]"
     ]
    },
    {
     "name": "stdout",
     "output_type": "stream",
     "text": [
      "Fixation Matfile at path C:\\Users\\thier\\Documents\\Studium\\MSNE\\18-19 WS\\NISE\\project\\NISE_saliency\\coco\\fixations\\COCO_val2014_000000322163.mat could not be found.\n"
     ]
    },
    {
     "name": "stderr",
     "output_type": "stream",
     "text": [
      "499it [02:36,  4.23it/s]\n"
     ]
    },
    {
     "name": "stdout",
     "output_type": "stream",
     "text": [
      "Context: all, Model: covsal_face_03, Images found: 499\n"
     ]
    },
    {
     "name": "stderr",
     "output_type": "stream",
     "text": [
      "324it [01:41,  3.17it/s]"
     ]
    },
    {
     "name": "stdout",
     "output_type": "stream",
     "text": [
      "Fixation Matfile at path C:\\Users\\thier\\Documents\\Studium\\MSNE\\18-19 WS\\NISE\\project\\NISE_saliency\\coco\\fixations\\COCO_val2014_000000322163.mat could not be found.\n"
     ]
    },
    {
     "name": "stderr",
     "output_type": "stream",
     "text": [
      "499it [02:36,  3.79it/s]\n"
     ]
    },
    {
     "name": "stdout",
     "output_type": "stream",
     "text": [
      "Context: all, Model: gbvs_face_03, Images found: 499\n"
     ]
    },
    {
     "name": "stderr",
     "output_type": "stream",
     "text": [
      "324it [01:42,  3.23it/s]"
     ]
    },
    {
     "name": "stdout",
     "output_type": "stream",
     "text": [
      "Fixation Matfile at path C:\\Users\\thier\\Documents\\Studium\\MSNE\\18-19 WS\\NISE\\project\\NISE_saliency\\coco\\fixations\\COCO_val2014_000000322163.mat could not be found.\n"
     ]
    },
    {
     "name": "stderr",
     "output_type": "stream",
     "text": [
      "499it [02:40,  3.46it/s]\n"
     ]
    },
    {
     "name": "stdout",
     "output_type": "stream",
     "text": [
      "Context: all, Model: icf_face_03, Images found: 499\n"
     ]
    },
    {
     "name": "stderr",
     "output_type": "stream",
     "text": [
      "324it [01:45,  2.89it/s]"
     ]
    },
    {
     "name": "stdout",
     "output_type": "stream",
     "text": [
      "Fixation Matfile at path C:\\Users\\thier\\Documents\\Studium\\MSNE\\18-19 WS\\NISE\\project\\NISE_saliency\\coco\\fixations\\COCO_val2014_000000322163.mat could not be found.\n"
     ]
    },
    {
     "name": "stderr",
     "output_type": "stream",
     "text": [
      "499it [02:41,  4.07it/s]\n"
     ]
    },
    {
     "name": "stdout",
     "output_type": "stream",
     "text": [
      "Context: all, Model: ik_face_03, Images found: 499\n"
     ]
    },
    {
     "name": "stderr",
     "output_type": "stream",
     "text": [
      "324it [01:42,  3.08it/s]"
     ]
    },
    {
     "name": "stdout",
     "output_type": "stream",
     "text": [
      "Fixation Matfile at path C:\\Users\\thier\\Documents\\Studium\\MSNE\\18-19 WS\\NISE\\project\\NISE_saliency\\coco\\fixations\\COCO_val2014_000000322163.mat could not be found.\n"
     ]
    },
    {
     "name": "stderr",
     "output_type": "stream",
     "text": [
      "499it [02:38,  4.00it/s]\n"
     ]
    },
    {
     "name": "stdout",
     "output_type": "stream",
     "text": [
      "Context: all, Model: sun_face_03, Images found: 499\n"
     ]
    },
    {
     "name": "stderr",
     "output_type": "stream",
     "text": [
      "324it [01:47,  2.97it/s]"
     ]
    },
    {
     "name": "stdout",
     "output_type": "stream",
     "text": [
      "Fixation Matfile at path C:\\Users\\thier\\Documents\\Studium\\MSNE\\18-19 WS\\NISE\\project\\NISE_saliency\\coco\\fixations\\COCO_val2014_000000322163.mat could not be found.\n"
     ]
    },
    {
     "name": "stderr",
     "output_type": "stream",
     "text": [
      "499it [02:45,  3.74it/s]\n"
     ]
    },
    {
     "name": "stdout",
     "output_type": "stream",
     "text": [
      "Context: person, Model: aim_face_03, Images found: 309\n"
     ]
    },
    {
     "name": "stderr",
     "output_type": "stream",
     "text": [
      "204it [01:03,  2.65it/s]"
     ]
    },
    {
     "name": "stdout",
     "output_type": "stream",
     "text": [
      "Fixation Matfile at path C:\\Users\\thier\\Documents\\Studium\\MSNE\\18-19 WS\\NISE\\project\\NISE_saliency\\coco\\fixations\\COCO_val2014_000000322163.mat could not be found.\n"
     ]
    },
    {
     "name": "stderr",
     "output_type": "stream",
     "text": [
      "309it [01:43,  3.25it/s]\n"
     ]
    },
    {
     "name": "stdout",
     "output_type": "stream",
     "text": [
      "Context: person, Model: cas_face_03, Images found: 309\n"
     ]
    },
    {
     "name": "stderr",
     "output_type": "stream",
     "text": [
      "204it [01:05,  2.80it/s]"
     ]
    },
    {
     "name": "stdout",
     "output_type": "stream",
     "text": [
      "Fixation Matfile at path C:\\Users\\thier\\Documents\\Studium\\MSNE\\18-19 WS\\NISE\\project\\NISE_saliency\\coco\\fixations\\COCO_val2014_000000322163.mat could not be found.\n"
     ]
    },
    {
     "name": "stderr",
     "output_type": "stream",
     "text": [
      "309it [01:38,  3.94it/s]\n"
     ]
    },
    {
     "name": "stdout",
     "output_type": "stream",
     "text": [
      "Context: person, Model: covsal_face_03, Images found: 309\n"
     ]
    },
    {
     "name": "stderr",
     "output_type": "stream",
     "text": [
      "204it [01:04,  2.68it/s]"
     ]
    },
    {
     "name": "stdout",
     "output_type": "stream",
     "text": [
      "Fixation Matfile at path C:\\Users\\thier\\Documents\\Studium\\MSNE\\18-19 WS\\NISE\\project\\NISE_saliency\\coco\\fixations\\COCO_val2014_000000322163.mat could not be found.\n"
     ]
    },
    {
     "name": "stderr",
     "output_type": "stream",
     "text": [
      "309it [01:37,  3.54it/s]\n"
     ]
    },
    {
     "name": "stdout",
     "output_type": "stream",
     "text": [
      "Context: person, Model: gbvs_face_03, Images found: 309\n"
     ]
    },
    {
     "name": "stderr",
     "output_type": "stream",
     "text": [
      "204it [01:08,  2.58it/s]"
     ]
    },
    {
     "name": "stdout",
     "output_type": "stream",
     "text": [
      "Fixation Matfile at path C:\\Users\\thier\\Documents\\Studium\\MSNE\\18-19 WS\\NISE\\project\\NISE_saliency\\coco\\fixations\\COCO_val2014_000000322163.mat could not be found.\n"
     ]
    },
    {
     "name": "stderr",
     "output_type": "stream",
     "text": [
      "309it [01:43,  3.92it/s]\n"
     ]
    },
    {
     "name": "stdout",
     "output_type": "stream",
     "text": [
      "Context: person, Model: icf_face_03, Images found: 309\n"
     ]
    },
    {
     "name": "stderr",
     "output_type": "stream",
     "text": [
      "204it [01:04,  2.61it/s]"
     ]
    },
    {
     "name": "stdout",
     "output_type": "stream",
     "text": [
      "Fixation Matfile at path C:\\Users\\thier\\Documents\\Studium\\MSNE\\18-19 WS\\NISE\\project\\NISE_saliency\\coco\\fixations\\COCO_val2014_000000322163.mat could not be found.\n"
     ]
    },
    {
     "name": "stderr",
     "output_type": "stream",
     "text": [
      "309it [01:37,  3.93it/s]\n"
     ]
    },
    {
     "name": "stdout",
     "output_type": "stream",
     "text": [
      "Context: person, Model: ik_face_03, Images found: 309\n"
     ]
    },
    {
     "name": "stderr",
     "output_type": "stream",
     "text": [
      "204it [01:11,  2.71it/s]"
     ]
    },
    {
     "name": "stdout",
     "output_type": "stream",
     "text": [
      "Fixation Matfile at path C:\\Users\\thier\\Documents\\Studium\\MSNE\\18-19 WS\\NISE\\project\\NISE_saliency\\coco\\fixations\\COCO_val2014_000000322163.mat could not be found.\n"
     ]
    },
    {
     "name": "stderr",
     "output_type": "stream",
     "text": [
      "309it [01:44,  3.78it/s]\n"
     ]
    },
    {
     "name": "stdout",
     "output_type": "stream",
     "text": [
      "Context: person, Model: sun_face_03, Images found: 309\n"
     ]
    },
    {
     "name": "stderr",
     "output_type": "stream",
     "text": [
      "204it [01:40,  1.74it/s]"
     ]
    },
    {
     "name": "stdout",
     "output_type": "stream",
     "text": [
      "Fixation Matfile at path C:\\Users\\thier\\Documents\\Studium\\MSNE\\18-19 WS\\NISE\\project\\NISE_saliency\\coco\\fixations\\COCO_val2014_000000322163.mat could not be found.\n"
     ]
    },
    {
     "name": "stderr",
     "output_type": "stream",
     "text": [
      "309it [02:32,  2.53it/s]\n"
     ]
    },
    {
     "name": "stdout",
     "output_type": "stream",
     "text": [
      "Context: no person, Model: aim_face_03, Images found: 190\n"
     ]
    },
    {
     "name": "stderr",
     "output_type": "stream",
     "text": [
      "190it [01:53,  1.97it/s]\n"
     ]
    },
    {
     "name": "stdout",
     "output_type": "stream",
     "text": [
      "Context: no person, Model: cas_face_03, Images found: 190\n"
     ]
    },
    {
     "name": "stderr",
     "output_type": "stream",
     "text": [
      "103it [01:06,  1.99it/s]"
     ]
    },
    {
     "name": "stdout",
     "output_type": "stream",
     "text": [
      "Saliency map at path C:\\Users\\thier\\Documents\\Studium\\MSNE\\18-19 WS\\NISE\\project\\NISE_saliency\\coco\\predictions\\cas_face_03\\COCO_val2014_000000292741.jpg has shape () and groundtruth map at path C:\\Users\\thier\\Documents\\Studium\\MSNE\\18-19 WS\\NISE\\project\\NISE_saliency\\coco\\fixations\\COCO_val2014_000000292741.mat has shape (480, 640).\n"
     ]
    },
    {
     "name": "stderr",
     "output_type": "stream",
     "text": [
      "190it [01:58,  1.84it/s]\n"
     ]
    },
    {
     "name": "stdout",
     "output_type": "stream",
     "text": [
      "Context: no person, Model: covsal_face_03, Images found: 190\n"
     ]
    },
    {
     "name": "stderr",
     "output_type": "stream",
     "text": [
      "190it [02:02,  1.59it/s]\n"
     ]
    },
    {
     "name": "stdout",
     "output_type": "stream",
     "text": [
      "Context: no person, Model: gbvs_face_03, Images found: 190\n"
     ]
    },
    {
     "name": "stderr",
     "output_type": "stream",
     "text": [
      "190it [01:46,  2.08it/s]\n"
     ]
    },
    {
     "name": "stdout",
     "output_type": "stream",
     "text": [
      "Context: no person, Model: icf_face_03, Images found: 190\n"
     ]
    },
    {
     "name": "stderr",
     "output_type": "stream",
     "text": [
      "190it [01:50,  1.98it/s]\n"
     ]
    },
    {
     "name": "stdout",
     "output_type": "stream",
     "text": [
      "Context: no person, Model: ik_face_03, Images found: 190\n"
     ]
    },
    {
     "name": "stderr",
     "output_type": "stream",
     "text": [
      "190it [01:43,  2.07it/s]\n"
     ]
    },
    {
     "name": "stdout",
     "output_type": "stream",
     "text": [
      "Context: no person, Model: sun_face_03, Images found: 190\n"
     ]
    },
    {
     "name": "stderr",
     "output_type": "stream",
     "text": [
      "190it [01:47,  1.26it/s]\n"
     ]
    },
    {
     "name": "stdout",
     "output_type": "stream",
     "text": [
      "Context: animal, Model: aim_face_03, Images found: 72\n"
     ]
    },
    {
     "name": "stderr",
     "output_type": "stream",
     "text": [
      "72it [00:41,  1.79it/s]\n"
     ]
    },
    {
     "name": "stdout",
     "output_type": "stream",
     "text": [
      "Context: animal, Model: cas_face_03, Images found: 72\n"
     ]
    },
    {
     "name": "stderr",
     "output_type": "stream",
     "text": [
      "72it [00:39,  1.88it/s]\n"
     ]
    },
    {
     "name": "stdout",
     "output_type": "stream",
     "text": [
      "Context: animal, Model: covsal_face_03, Images found: 72\n"
     ]
    },
    {
     "name": "stderr",
     "output_type": "stream",
     "text": [
      "72it [00:42,  1.74it/s]\n"
     ]
    },
    {
     "name": "stdout",
     "output_type": "stream",
     "text": [
      "Context: animal, Model: gbvs_face_03, Images found: 72\n"
     ]
    },
    {
     "name": "stderr",
     "output_type": "stream",
     "text": [
      "72it [00:40,  1.88it/s]\n"
     ]
    },
    {
     "name": "stdout",
     "output_type": "stream",
     "text": [
      "Context: animal, Model: icf_face_03, Images found: 72\n"
     ]
    },
    {
     "name": "stderr",
     "output_type": "stream",
     "text": [
      "72it [00:42,  1.82it/s]\n"
     ]
    },
    {
     "name": "stdout",
     "output_type": "stream",
     "text": [
      "Context: animal, Model: ik_face_03, Images found: 72\n"
     ]
    },
    {
     "name": "stderr",
     "output_type": "stream",
     "text": [
      "72it [00:45,  1.69it/s]\n"
     ]
    },
    {
     "name": "stdout",
     "output_type": "stream",
     "text": [
      "Context: animal, Model: sun_face_03, Images found: 72\n"
     ]
    },
    {
     "name": "stderr",
     "output_type": "stream",
     "text": [
      "72it [00:43,  1.90it/s]\n"
     ]
    },
    {
     "name": "stdout",
     "output_type": "stream",
     "text": [
      "Context: electronic, Model: aim_face_03, Images found: 112\n"
     ]
    },
    {
     "name": "stderr",
     "output_type": "stream",
     "text": [
      "76it [00:43,  1.65it/s]"
     ]
    },
    {
     "name": "stdout",
     "output_type": "stream",
     "text": [
      "Fixation Matfile at path C:\\Users\\thier\\Documents\\Studium\\MSNE\\18-19 WS\\NISE\\project\\NISE_saliency\\coco\\fixations\\COCO_val2014_000000322163.mat could not be found.\n"
     ]
    },
    {
     "name": "stderr",
     "output_type": "stream",
     "text": [
      "112it [01:02,  2.06it/s]\n"
     ]
    },
    {
     "name": "stdout",
     "output_type": "stream",
     "text": [
      "Context: electronic, Model: cas_face_03, Images found: 112\n"
     ]
    },
    {
     "name": "stderr",
     "output_type": "stream",
     "text": [
      "68it [00:42,  1.18it/s]"
     ]
    },
    {
     "name": "stdout",
     "output_type": "stream",
     "text": [
      "Saliency map at path C:\\Users\\thier\\Documents\\Studium\\MSNE\\18-19 WS\\NISE\\project\\NISE_saliency\\coco\\predictions\\cas_face_03\\COCO_val2014_000000292741.jpg has shape () and groundtruth map at path C:\\Users\\thier\\Documents\\Studium\\MSNE\\18-19 WS\\NISE\\project\\NISE_saliency\\coco\\fixations\\COCO_val2014_000000292741.mat has shape (480, 640).\n"
     ]
    },
    {
     "name": "stderr",
     "output_type": "stream",
     "text": [
      "76it [00:46,  1.58it/s]"
     ]
    },
    {
     "name": "stdout",
     "output_type": "stream",
     "text": [
      "Fixation Matfile at path C:\\Users\\thier\\Documents\\Studium\\MSNE\\18-19 WS\\NISE\\project\\NISE_saliency\\coco\\fixations\\COCO_val2014_000000322163.mat could not be found.\n"
     ]
    },
    {
     "name": "stderr",
     "output_type": "stream",
     "text": [
      "112it [01:07,  1.92it/s]\n"
     ]
    },
    {
     "name": "stdout",
     "output_type": "stream",
     "text": [
      "Context: electronic, Model: covsal_face_03, Images found: 112\n"
     ]
    },
    {
     "name": "stderr",
     "output_type": "stream",
     "text": [
      "76it [00:42,  1.78it/s]"
     ]
    },
    {
     "name": "stdout",
     "output_type": "stream",
     "text": [
      "Fixation Matfile at path C:\\Users\\thier\\Documents\\Studium\\MSNE\\18-19 WS\\NISE\\project\\NISE_saliency\\coco\\fixations\\COCO_val2014_000000322163.mat could not be found.\n"
     ]
    },
    {
     "name": "stderr",
     "output_type": "stream",
     "text": [
      "112it [01:07,  1.64it/s]\n"
     ]
    },
    {
     "name": "stdout",
     "output_type": "stream",
     "text": [
      "Context: electronic, Model: gbvs_face_03, Images found: 112\n"
     ]
    },
    {
     "name": "stderr",
     "output_type": "stream",
     "text": [
      "76it [00:41,  1.84it/s]"
     ]
    },
    {
     "name": "stdout",
     "output_type": "stream",
     "text": [
      "Fixation Matfile at path C:\\Users\\thier\\Documents\\Studium\\MSNE\\18-19 WS\\NISE\\project\\NISE_saliency\\coco\\fixations\\COCO_val2014_000000322163.mat could not be found.\n"
     ]
    },
    {
     "name": "stderr",
     "output_type": "stream",
     "text": [
      "112it [00:58,  2.11it/s]\n"
     ]
    },
    {
     "name": "stdout",
     "output_type": "stream",
     "text": [
      "Context: electronic, Model: icf_face_03, Images found: 112\n"
     ]
    },
    {
     "name": "stderr",
     "output_type": "stream",
     "text": [
      "76it [00:47,  1.24it/s]"
     ]
    },
    {
     "name": "stdout",
     "output_type": "stream",
     "text": [
      "Fixation Matfile at path C:\\Users\\thier\\Documents\\Studium\\MSNE\\18-19 WS\\NISE\\project\\NISE_saliency\\coco\\fixations\\COCO_val2014_000000322163.mat could not be found.\n"
     ]
    },
    {
     "name": "stderr",
     "output_type": "stream",
     "text": [
      "112it [01:12,  1.62it/s]\n"
     ]
    },
    {
     "name": "stdout",
     "output_type": "stream",
     "text": [
      "Context: electronic, Model: ik_face_03, Images found: 112\n"
     ]
    },
    {
     "name": "stderr",
     "output_type": "stream",
     "text": [
      "76it [00:42,  1.90it/s]"
     ]
    },
    {
     "name": "stdout",
     "output_type": "stream",
     "text": [
      "Fixation Matfile at path C:\\Users\\thier\\Documents\\Studium\\MSNE\\18-19 WS\\NISE\\project\\NISE_saliency\\coco\\fixations\\COCO_val2014_000000322163.mat could not be found.\n"
     ]
    },
    {
     "name": "stderr",
     "output_type": "stream",
     "text": [
      "112it [01:01,  1.79it/s]\n"
     ]
    },
    {
     "name": "stdout",
     "output_type": "stream",
     "text": [
      "Context: electronic, Model: sun_face_03, Images found: 112\n"
     ]
    },
    {
     "name": "stderr",
     "output_type": "stream",
     "text": [
      "76it [00:43,  1.24it/s]"
     ]
    },
    {
     "name": "stdout",
     "output_type": "stream",
     "text": [
      "Fixation Matfile at path C:\\Users\\thier\\Documents\\Studium\\MSNE\\18-19 WS\\NISE\\project\\NISE_saliency\\coco\\fixations\\COCO_val2014_000000322163.mat could not be found.\n"
     ]
    },
    {
     "name": "stderr",
     "output_type": "stream",
     "text": [
      "112it [01:02,  1.62it/s]\n"
     ]
    },
    {
     "name": "stdout",
     "output_type": "stream",
     "text": [
      "Context: sports, Model: aim_face_03, Images found: 79\n"
     ]
    },
    {
     "name": "stderr",
     "output_type": "stream",
     "text": [
      "79it [00:44,  1.42it/s]\n"
     ]
    },
    {
     "name": "stdout",
     "output_type": "stream",
     "text": [
      "Context: sports, Model: cas_face_03, Images found: 79\n"
     ]
    },
    {
     "name": "stderr",
     "output_type": "stream",
     "text": [
      "79it [00:49,  1.45it/s]\n"
     ]
    },
    {
     "name": "stdout",
     "output_type": "stream",
     "text": [
      "Context: sports, Model: covsal_face_03, Images found: 79\n"
     ]
    },
    {
     "name": "stderr",
     "output_type": "stream",
     "text": [
      "79it [00:51,  1.42it/s]\n"
     ]
    },
    {
     "name": "stdout",
     "output_type": "stream",
     "text": [
      "Context: sports, Model: gbvs_face_03, Images found: 79\n"
     ]
    },
    {
     "name": "stderr",
     "output_type": "stream",
     "text": [
      "79it [00:45,  1.19it/s]\n"
     ]
    },
    {
     "name": "stdout",
     "output_type": "stream",
     "text": [
      "Context: sports, Model: icf_face_03, Images found: 79\n"
     ]
    },
    {
     "name": "stderr",
     "output_type": "stream",
     "text": [
      "79it [00:45,  1.37it/s]\n"
     ]
    },
    {
     "name": "stdout",
     "output_type": "stream",
     "text": [
      "Context: sports, Model: ik_face_03, Images found: 79\n"
     ]
    },
    {
     "name": "stderr",
     "output_type": "stream",
     "text": [
      "79it [00:52,  1.42it/s]\n"
     ]
    },
    {
     "name": "stdout",
     "output_type": "stream",
     "text": [
      "Context: sports, Model: sun_face_03, Images found: 79\n"
     ]
    },
    {
     "name": "stderr",
     "output_type": "stream",
     "text": [
      "79it [00:58,  1.48it/s]\n"
     ]
    }
   ],
   "source": [
    "res_03, metric_order = ca_03.run_context_analysis()\n",
    "pickle.dump((res_03, context, models_03, metric_order), open( \"results_face_03.p\", \"wb\" ))"
   ]
  },
  {
   "cell_type": "code",
   "execution_count": 5,
   "metadata": {},
   "outputs": [
    {
     "name": "stdout",
     "output_type": "stream",
     "text": [
      "Context: all, Model: aim_face_05, Images found: 499\n"
     ]
    },
    {
     "name": "stderr",
     "output_type": "stream",
     "text": [
      "324it [01:59,  2.34it/s]"
     ]
    },
    {
     "name": "stdout",
     "output_type": "stream",
     "text": [
      "Fixation Matfile at path C:\\Users\\thier\\Documents\\Studium\\MSNE\\18-19 WS\\NISE\\project\\NISE_saliency\\coco\\fixations\\COCO_val2014_000000322163.mat could not be found.\n"
     ]
    },
    {
     "name": "stderr",
     "output_type": "stream",
     "text": [
      "499it [03:02,  3.81it/s]\n"
     ]
    },
    {
     "name": "stdout",
     "output_type": "stream",
     "text": [
      "Context: all, Model: cas_face_05, Images found: 499\n"
     ]
    },
    {
     "name": "stderr",
     "output_type": "stream",
     "text": [
      "324it [01:56,  2.83it/s]"
     ]
    },
    {
     "name": "stdout",
     "output_type": "stream",
     "text": [
      "Fixation Matfile at path C:\\Users\\thier\\Documents\\Studium\\MSNE\\18-19 WS\\NISE\\project\\NISE_saliency\\coco\\fixations\\COCO_val2014_000000322163.mat could not be found.\n"
     ]
    },
    {
     "name": "stderr",
     "output_type": "stream",
     "text": [
      "499it [03:05,  3.74it/s]\n"
     ]
    },
    {
     "name": "stdout",
     "output_type": "stream",
     "text": [
      "Context: all, Model: covsal_face_05, Images found: 499\n"
     ]
    },
    {
     "name": "stderr",
     "output_type": "stream",
     "text": [
      "324it [01:55,  2.64it/s]"
     ]
    },
    {
     "name": "stdout",
     "output_type": "stream",
     "text": [
      "Fixation Matfile at path C:\\Users\\thier\\Documents\\Studium\\MSNE\\18-19 WS\\NISE\\project\\NISE_saliency\\coco\\fixations\\COCO_val2014_000000322163.mat could not be found.\n"
     ]
    },
    {
     "name": "stderr",
     "output_type": "stream",
     "text": [
      "499it [03:01,  3.70it/s]\n"
     ]
    },
    {
     "name": "stdout",
     "output_type": "stream",
     "text": [
      "Context: all, Model: gbvs_face_05, Images found: 499\n"
     ]
    },
    {
     "name": "stderr",
     "output_type": "stream",
     "text": [
      "324it [02:01,  2.74it/s]"
     ]
    },
    {
     "name": "stdout",
     "output_type": "stream",
     "text": [
      "Fixation Matfile at path C:\\Users\\thier\\Documents\\Studium\\MSNE\\18-19 WS\\NISE\\project\\NISE_saliency\\coco\\fixations\\COCO_val2014_000000322163.mat could not be found.\n"
     ]
    },
    {
     "name": "stderr",
     "output_type": "stream",
     "text": [
      "499it [03:03,  3.61it/s]\n"
     ]
    },
    {
     "name": "stdout",
     "output_type": "stream",
     "text": [
      "Context: all, Model: icf_face_05, Images found: 499\n"
     ]
    },
    {
     "name": "stderr",
     "output_type": "stream",
     "text": [
      "324it [01:57,  3.00it/s]"
     ]
    },
    {
     "name": "stdout",
     "output_type": "stream",
     "text": [
      "Fixation Matfile at path C:\\Users\\thier\\Documents\\Studium\\MSNE\\18-19 WS\\NISE\\project\\NISE_saliency\\coco\\fixations\\COCO_val2014_000000322163.mat could not be found.\n"
     ]
    },
    {
     "name": "stderr",
     "output_type": "stream",
     "text": [
      "499it [03:03,  3.73it/s]\n"
     ]
    },
    {
     "name": "stdout",
     "output_type": "stream",
     "text": [
      "Context: all, Model: ik_face_05, Images found: 499\n"
     ]
    },
    {
     "name": "stderr",
     "output_type": "stream",
     "text": [
      "324it [01:55,  2.62it/s]"
     ]
    },
    {
     "name": "stdout",
     "output_type": "stream",
     "text": [
      "Fixation Matfile at path C:\\Users\\thier\\Documents\\Studium\\MSNE\\18-19 WS\\NISE\\project\\NISE_saliency\\coco\\fixations\\COCO_val2014_000000322163.mat could not be found.\n"
     ]
    },
    {
     "name": "stderr",
     "output_type": "stream",
     "text": [
      "499it [02:57,  3.67it/s]\n"
     ]
    },
    {
     "name": "stdout",
     "output_type": "stream",
     "text": [
      "Context: all, Model: sun_face_05, Images found: 499\n"
     ]
    },
    {
     "name": "stderr",
     "output_type": "stream",
     "text": [
      "324it [01:57,  2.68it/s]"
     ]
    },
    {
     "name": "stdout",
     "output_type": "stream",
     "text": [
      "Fixation Matfile at path C:\\Users\\thier\\Documents\\Studium\\MSNE\\18-19 WS\\NISE\\project\\NISE_saliency\\coco\\fixations\\COCO_val2014_000000322163.mat could not be found.\n"
     ]
    },
    {
     "name": "stderr",
     "output_type": "stream",
     "text": [
      "499it [03:03,  3.34it/s]\n"
     ]
    },
    {
     "name": "stdout",
     "output_type": "stream",
     "text": [
      "Context: person, Model: aim_face_05, Images found: 309\n"
     ]
    },
    {
     "name": "stderr",
     "output_type": "stream",
     "text": [
      "204it [01:13,  2.68it/s]"
     ]
    },
    {
     "name": "stdout",
     "output_type": "stream",
     "text": [
      "Fixation Matfile at path C:\\Users\\thier\\Documents\\Studium\\MSNE\\18-19 WS\\NISE\\project\\NISE_saliency\\coco\\fixations\\COCO_val2014_000000322163.mat could not be found.\n"
     ]
    },
    {
     "name": "stderr",
     "output_type": "stream",
     "text": [
      "309it [01:47,  3.65it/s]\n"
     ]
    },
    {
     "name": "stdout",
     "output_type": "stream",
     "text": [
      "Context: person, Model: cas_face_05, Images found: 309\n"
     ]
    },
    {
     "name": "stderr",
     "output_type": "stream",
     "text": [
      "204it [01:08,  2.15it/s]"
     ]
    },
    {
     "name": "stdout",
     "output_type": "stream",
     "text": [
      "Fixation Matfile at path C:\\Users\\thier\\Documents\\Studium\\MSNE\\18-19 WS\\NISE\\project\\NISE_saliency\\coco\\fixations\\COCO_val2014_000000322163.mat could not be found.\n"
     ]
    },
    {
     "name": "stderr",
     "output_type": "stream",
     "text": [
      "309it [01:44,  3.74it/s]\n"
     ]
    },
    {
     "name": "stdout",
     "output_type": "stream",
     "text": [
      "Context: person, Model: covsal_face_05, Images found: 309\n"
     ]
    },
    {
     "name": "stderr",
     "output_type": "stream",
     "text": [
      "204it [01:07,  2.53it/s]"
     ]
    },
    {
     "name": "stdout",
     "output_type": "stream",
     "text": [
      "Fixation Matfile at path C:\\Users\\thier\\Documents\\Studium\\MSNE\\18-19 WS\\NISE\\project\\NISE_saliency\\coco\\fixations\\COCO_val2014_000000322163.mat could not be found.\n"
     ]
    },
    {
     "name": "stderr",
     "output_type": "stream",
     "text": [
      "309it [01:42,  3.66it/s]\n"
     ]
    },
    {
     "name": "stdout",
     "output_type": "stream",
     "text": [
      "Context: person, Model: gbvs_face_05, Images found: 309\n"
     ]
    },
    {
     "name": "stderr",
     "output_type": "stream",
     "text": [
      "204it [01:07,  2.51it/s]"
     ]
    },
    {
     "name": "stdout",
     "output_type": "stream",
     "text": [
      "Fixation Matfile at path C:\\Users\\thier\\Documents\\Studium\\MSNE\\18-19 WS\\NISE\\project\\NISE_saliency\\coco\\fixations\\COCO_val2014_000000322163.mat could not be found.\n"
     ]
    },
    {
     "name": "stderr",
     "output_type": "stream",
     "text": [
      "309it [01:41,  3.75it/s]\n"
     ]
    },
    {
     "name": "stdout",
     "output_type": "stream",
     "text": [
      "Context: person, Model: icf_face_05, Images found: 309\n"
     ]
    },
    {
     "name": "stderr",
     "output_type": "stream",
     "text": [
      "204it [01:05,  2.64it/s]"
     ]
    },
    {
     "name": "stdout",
     "output_type": "stream",
     "text": [
      "Fixation Matfile at path C:\\Users\\thier\\Documents\\Studium\\MSNE\\18-19 WS\\NISE\\project\\NISE_saliency\\coco\\fixations\\COCO_val2014_000000322163.mat could not be found.\n"
     ]
    },
    {
     "name": "stderr",
     "output_type": "stream",
     "text": [
      "309it [01:39,  3.73it/s]\n"
     ]
    },
    {
     "name": "stdout",
     "output_type": "stream",
     "text": [
      "Context: person, Model: ik_face_05, Images found: 309\n"
     ]
    },
    {
     "name": "stderr",
     "output_type": "stream",
     "text": [
      "204it [01:06,  2.75it/s]"
     ]
    },
    {
     "name": "stdout",
     "output_type": "stream",
     "text": [
      "Fixation Matfile at path C:\\Users\\thier\\Documents\\Studium\\MSNE\\18-19 WS\\NISE\\project\\NISE_saliency\\coco\\fixations\\COCO_val2014_000000322163.mat could not be found.\n"
     ]
    },
    {
     "name": "stderr",
     "output_type": "stream",
     "text": [
      "309it [01:40,  3.26it/s]\n"
     ]
    },
    {
     "name": "stdout",
     "output_type": "stream",
     "text": [
      "Context: person, Model: sun_face_05, Images found: 309\n"
     ]
    },
    {
     "name": "stderr",
     "output_type": "stream",
     "text": [
      "204it [01:09,  2.50it/s]"
     ]
    },
    {
     "name": "stdout",
     "output_type": "stream",
     "text": [
      "Fixation Matfile at path C:\\Users\\thier\\Documents\\Studium\\MSNE\\18-19 WS\\NISE\\project\\NISE_saliency\\coco\\fixations\\COCO_val2014_000000322163.mat could not be found.\n"
     ]
    },
    {
     "name": "stderr",
     "output_type": "stream",
     "text": [
      "309it [01:44,  3.47it/s]\n"
     ]
    },
    {
     "name": "stdout",
     "output_type": "stream",
     "text": [
      "Context: no person, Model: aim_face_05, Images found: 190\n"
     ]
    },
    {
     "name": "stderr",
     "output_type": "stream",
     "text": [
      "190it [01:07,  3.02it/s]\n"
     ]
    },
    {
     "name": "stdout",
     "output_type": "stream",
     "text": [
      "Context: no person, Model: cas_face_05, Images found: 190\n"
     ]
    },
    {
     "name": "stderr",
     "output_type": "stream",
     "text": [
      "190it [01:07,  3.05it/s]\n"
     ]
    },
    {
     "name": "stdout",
     "output_type": "stream",
     "text": [
      "Context: no person, Model: covsal_face_05, Images found: 190\n"
     ]
    },
    {
     "name": "stderr",
     "output_type": "stream",
     "text": [
      "190it [01:07,  3.00it/s]\n"
     ]
    },
    {
     "name": "stdout",
     "output_type": "stream",
     "text": [
      "Context: no person, Model: gbvs_face_05, Images found: 190\n"
     ]
    },
    {
     "name": "stderr",
     "output_type": "stream",
     "text": [
      "190it [01:08,  3.04it/s]\n"
     ]
    },
    {
     "name": "stdout",
     "output_type": "stream",
     "text": [
      "Context: no person, Model: icf_face_05, Images found: 190\n"
     ]
    },
    {
     "name": "stderr",
     "output_type": "stream",
     "text": [
      "190it [01:06,  3.14it/s]\n"
     ]
    },
    {
     "name": "stdout",
     "output_type": "stream",
     "text": [
      "Context: no person, Model: ik_face_05, Images found: 190\n"
     ]
    },
    {
     "name": "stderr",
     "output_type": "stream",
     "text": [
      "190it [01:07,  3.12it/s]\n"
     ]
    },
    {
     "name": "stdout",
     "output_type": "stream",
     "text": [
      "Context: no person, Model: sun_face_05, Images found: 190\n"
     ]
    },
    {
     "name": "stderr",
     "output_type": "stream",
     "text": [
      "190it [01:05,  2.92it/s]\n"
     ]
    },
    {
     "name": "stdout",
     "output_type": "stream",
     "text": [
      "Context: animal, Model: aim_face_05, Images found: 72\n"
     ]
    },
    {
     "name": "stderr",
     "output_type": "stream",
     "text": [
      "72it [00:25,  2.95it/s]\n"
     ]
    },
    {
     "name": "stdout",
     "output_type": "stream",
     "text": [
      "Context: animal, Model: cas_face_05, Images found: 72\n"
     ]
    },
    {
     "name": "stderr",
     "output_type": "stream",
     "text": [
      "72it [00:27,  2.07it/s]\n"
     ]
    },
    {
     "name": "stdout",
     "output_type": "stream",
     "text": [
      "Context: animal, Model: covsal_face_05, Images found: 72\n"
     ]
    },
    {
     "name": "stderr",
     "output_type": "stream",
     "text": [
      "72it [00:26,  3.05it/s]\n"
     ]
    },
    {
     "name": "stdout",
     "output_type": "stream",
     "text": [
      "Context: animal, Model: gbvs_face_05, Images found: 72\n"
     ]
    },
    {
     "name": "stderr",
     "output_type": "stream",
     "text": [
      "72it [00:24,  2.97it/s]\n"
     ]
    },
    {
     "name": "stdout",
     "output_type": "stream",
     "text": [
      "Context: animal, Model: icf_face_05, Images found: 72\n"
     ]
    },
    {
     "name": "stderr",
     "output_type": "stream",
     "text": [
      "72it [00:24,  2.92it/s]\n"
     ]
    },
    {
     "name": "stdout",
     "output_type": "stream",
     "text": [
      "Context: animal, Model: ik_face_05, Images found: 72\n"
     ]
    },
    {
     "name": "stderr",
     "output_type": "stream",
     "text": [
      "72it [00:24,  2.99it/s]\n"
     ]
    },
    {
     "name": "stdout",
     "output_type": "stream",
     "text": [
      "Context: animal, Model: sun_face_05, Images found: 72\n"
     ]
    },
    {
     "name": "stderr",
     "output_type": "stream",
     "text": [
      "72it [00:26,  2.99it/s]\n"
     ]
    },
    {
     "name": "stdout",
     "output_type": "stream",
     "text": [
      "Context: electronic, Model: aim_face_05, Images found: 112\n"
     ]
    },
    {
     "name": "stderr",
     "output_type": "stream",
     "text": [
      "76it [00:25,  3.08it/s]"
     ]
    },
    {
     "name": "stdout",
     "output_type": "stream",
     "text": [
      "Fixation Matfile at path C:\\Users\\thier\\Documents\\Studium\\MSNE\\18-19 WS\\NISE\\project\\NISE_saliency\\coco\\fixations\\COCO_val2014_000000322163.mat could not be found.\n"
     ]
    },
    {
     "name": "stderr",
     "output_type": "stream",
     "text": [
      "112it [00:37,  2.89it/s]\n"
     ]
    },
    {
     "name": "stdout",
     "output_type": "stream",
     "text": [
      "Context: electronic, Model: cas_face_05, Images found: 112\n"
     ]
    },
    {
     "name": "stderr",
     "output_type": "stream",
     "text": [
      "76it [00:28,  3.01it/s]"
     ]
    },
    {
     "name": "stdout",
     "output_type": "stream",
     "text": [
      "Fixation Matfile at path C:\\Users\\thier\\Documents\\Studium\\MSNE\\18-19 WS\\NISE\\project\\NISE_saliency\\coco\\fixations\\COCO_val2014_000000322163.mat could not be found.\n"
     ]
    },
    {
     "name": "stderr",
     "output_type": "stream",
     "text": [
      "112it [00:39,  3.19it/s]\n"
     ]
    },
    {
     "name": "stdout",
     "output_type": "stream",
     "text": [
      "Context: electronic, Model: covsal_face_05, Images found: 112\n"
     ]
    },
    {
     "name": "stderr",
     "output_type": "stream",
     "text": [
      "76it [00:25,  3.00it/s]"
     ]
    },
    {
     "name": "stdout",
     "output_type": "stream",
     "text": [
      "Fixation Matfile at path C:\\Users\\thier\\Documents\\Studium\\MSNE\\18-19 WS\\NISE\\project\\NISE_saliency\\coco\\fixations\\COCO_val2014_000000322163.mat could not be found.\n"
     ]
    },
    {
     "name": "stderr",
     "output_type": "stream",
     "text": [
      "112it [00:36,  3.20it/s]\n"
     ]
    },
    {
     "name": "stdout",
     "output_type": "stream",
     "text": [
      "Context: electronic, Model: gbvs_face_05, Images found: 112\n"
     ]
    },
    {
     "name": "stderr",
     "output_type": "stream",
     "text": [
      "76it [00:25,  3.08it/s]"
     ]
    },
    {
     "name": "stdout",
     "output_type": "stream",
     "text": [
      "Fixation Matfile at path C:\\Users\\thier\\Documents\\Studium\\MSNE\\18-19 WS\\NISE\\project\\NISE_saliency\\coco\\fixations\\COCO_val2014_000000322163.mat could not be found.\n"
     ]
    },
    {
     "name": "stderr",
     "output_type": "stream",
     "text": [
      "112it [00:37,  2.86it/s]\n"
     ]
    },
    {
     "name": "stdout",
     "output_type": "stream",
     "text": [
      "Context: electronic, Model: icf_face_05, Images found: 112\n"
     ]
    },
    {
     "name": "stderr",
     "output_type": "stream",
     "text": [
      "76it [00:26,  3.09it/s]"
     ]
    },
    {
     "name": "stdout",
     "output_type": "stream",
     "text": [
      "Fixation Matfile at path C:\\Users\\thier\\Documents\\Studium\\MSNE\\18-19 WS\\NISE\\project\\NISE_saliency\\coco\\fixations\\COCO_val2014_000000322163.mat could not be found.\n"
     ]
    },
    {
     "name": "stderr",
     "output_type": "stream",
     "text": [
      "112it [00:37,  2.76it/s]\n"
     ]
    },
    {
     "name": "stdout",
     "output_type": "stream",
     "text": [
      "Context: electronic, Model: ik_face_05, Images found: 112\n"
     ]
    },
    {
     "name": "stderr",
     "output_type": "stream",
     "text": [
      "76it [00:26,  2.93it/s]"
     ]
    },
    {
     "name": "stdout",
     "output_type": "stream",
     "text": [
      "Fixation Matfile at path C:\\Users\\thier\\Documents\\Studium\\MSNE\\18-19 WS\\NISE\\project\\NISE_saliency\\coco\\fixations\\COCO_val2014_000000322163.mat could not be found.\n"
     ]
    },
    {
     "name": "stderr",
     "output_type": "stream",
     "text": [
      "112it [00:37,  3.34it/s]\n"
     ]
    },
    {
     "name": "stdout",
     "output_type": "stream",
     "text": [
      "Context: electronic, Model: sun_face_05, Images found: 112\n"
     ]
    },
    {
     "name": "stderr",
     "output_type": "stream",
     "text": [
      "76it [00:27,  3.05it/s]"
     ]
    },
    {
     "name": "stdout",
     "output_type": "stream",
     "text": [
      "Fixation Matfile at path C:\\Users\\thier\\Documents\\Studium\\MSNE\\18-19 WS\\NISE\\project\\NISE_saliency\\coco\\fixations\\COCO_val2014_000000322163.mat could not be found.\n"
     ]
    },
    {
     "name": "stderr",
     "output_type": "stream",
     "text": [
      "112it [00:37,  3.16it/s]\n"
     ]
    },
    {
     "name": "stdout",
     "output_type": "stream",
     "text": [
      "Context: sports, Model: aim_face_05, Images found: 79\n"
     ]
    },
    {
     "name": "stderr",
     "output_type": "stream",
     "text": [
      "79it [00:26,  2.54it/s]\n"
     ]
    },
    {
     "name": "stdout",
     "output_type": "stream",
     "text": [
      "Context: sports, Model: cas_face_05, Images found: 79\n"
     ]
    },
    {
     "name": "stderr",
     "output_type": "stream",
     "text": [
      "79it [00:26,  2.51it/s]\n"
     ]
    },
    {
     "name": "stdout",
     "output_type": "stream",
     "text": [
      "Context: sports, Model: covsal_face_05, Images found: 79\n"
     ]
    },
    {
     "name": "stderr",
     "output_type": "stream",
     "text": [
      "79it [00:27,  2.53it/s]\n"
     ]
    },
    {
     "name": "stdout",
     "output_type": "stream",
     "text": [
      "Context: sports, Model: gbvs_face_05, Images found: 79\n"
     ]
    },
    {
     "name": "stderr",
     "output_type": "stream",
     "text": [
      "79it [00:26,  2.57it/s]\n"
     ]
    },
    {
     "name": "stdout",
     "output_type": "stream",
     "text": [
      "Context: sports, Model: icf_face_05, Images found: 79\n"
     ]
    },
    {
     "name": "stderr",
     "output_type": "stream",
     "text": [
      "79it [00:29,  2.11it/s]\n"
     ]
    },
    {
     "name": "stdout",
     "output_type": "stream",
     "text": [
      "Context: sports, Model: ik_face_05, Images found: 79\n"
     ]
    },
    {
     "name": "stderr",
     "output_type": "stream",
     "text": [
      "79it [00:27,  2.40it/s]\n"
     ]
    },
    {
     "name": "stdout",
     "output_type": "stream",
     "text": [
      "Context: sports, Model: sun_face_05, Images found: 79\n"
     ]
    },
    {
     "name": "stderr",
     "output_type": "stream",
     "text": [
      "79it [00:27,  2.49it/s]\n"
     ]
    }
   ],
   "source": [
    "res_05, metric_order = ca_05.run_context_analysis()\n",
    "pickle.dump((res_05, context, models_05, metric_order), open( \"results_face_05.p\", \"wb\" ))"
   ]
  },
  {
   "cell_type": "code",
   "execution_count": null,
   "metadata": {},
   "outputs": [],
   "source": [
    "res_07, metric_order = ca_07.run_context_analysis()\n",
    "pickle.dump((res_07, context, models_07, metric_order), open( \"results_face_07.p\", \"wb\" ))"
   ]
  },
  {
   "cell_type": "markdown",
   "metadata": {},
   "source": [
    "## COCO example use\n",
    "For this, the directory has to contain a folder named \"coco\" and two subfolders, \"images\" and \"annotations\"."
   ]
  },
  {
   "cell_type": "code",
   "execution_count": 18,
   "metadata": {},
   "outputs": [],
   "source": [
    "from pycocotools.coco import COCO\n",
    "import numpy as np"
   ]
  },
  {
   "cell_type": "code",
   "execution_count": 3,
   "metadata": {},
   "outputs": [
    {
     "name": "stdout",
     "output_type": "stream",
     "text": [
      "loading annotations into memory...\n",
      "Done (t=9.47s)\n",
      "creating index...\n",
      "index created!\n"
     ]
    }
   ],
   "source": [
    "dataType='val2014'\n",
    "dataDir='C:\\\\Users\\\\thier\\\\Documents\\\\Studium\\\\MSNE\\\\18-19 WS\\\\NISE\\\\project\\\\NISE_saliency\\\\coco'\n",
    "annFile='{}\\\\annotations\\\\instances_{}.json'.format(dataDir,dataType)\n",
    "# initialize COCO api for instance annotations\n",
    "coco = COCO(annFile)\n",
    "cats = coco.loadCats(coco.getCatIds())"
   ]
  },
  {
   "cell_type": "markdown",
   "metadata": {},
   "source": [
    "**interesting for us**: List the supercategories ~ context!"
   ]
  },
  {
   "cell_type": "code",
   "execution_count": 14,
   "metadata": {},
   "outputs": [
    {
     "name": "stdout",
     "output_type": "stream",
     "text": [
      "COCO supercategories: \n",
      "animal vehicle outdoor food furniture person kitchen appliance indoor accessory sports electronic\n"
     ]
    }
   ],
   "source": [
    "nms = set([cat['supercategory'] for cat in cats])\n",
    "print('COCO supercategories: \\n{}'.format(' '.join(nms)))"
   ]
  },
  {
   "cell_type": "code",
   "execution_count": 23,
   "metadata": {},
   "outputs": [
    {
     "data": {
      "text/plain": [
       "40504"
      ]
     },
     "execution_count": 23,
     "metadata": {},
     "output_type": "execute_result"
    }
   ],
   "source": [
    "all_ids = set(coco.getImgIds())\n",
    "len(all_ids)"
   ]
  },
  {
   "cell_type": "code",
   "execution_count": 24,
   "metadata": {},
   "outputs": [
    {
     "data": {
      "text/plain": [
       "21634"
      ]
     },
     "execution_count": 24,
     "metadata": {},
     "output_type": "execute_result"
    }
   ],
   "source": [
    "img_ids = coco.getCatIds(catNms = 'person')\n",
    "person_ids = set(coco.getImgIds(catIds = img_ids))\n",
    "len(person_ids)"
   ]
  },
  {
   "cell_type": "code",
   "execution_count": 25,
   "metadata": {},
   "outputs": [
    {
     "data": {
      "text/plain": [
       "18870"
      ]
     },
     "execution_count": 25,
     "metadata": {},
     "output_type": "execute_result"
    }
   ],
   "source": [
    "non_persons = list(all_ids.difference(person_ids))\n",
    "len(non_persons)"
   ]
  },
  {
   "cell_type": "code",
   "execution_count": 16,
   "metadata": {},
   "outputs": [
    {
     "data": {
      "text/plain": [
       "40504"
      ]
     },
     "execution_count": 16,
     "metadata": {},
     "output_type": "execute_result"
    }
   ],
   "source": [
    "len(non_persons) + len(person_ids)"
   ]
  },
  {
   "cell_type": "code",
   "execution_count": 26,
   "metadata": {},
   "outputs": [
    {
     "name": "stdout",
     "output_type": "stream",
     "text": [
      "360449\n"
     ]
    }
   ],
   "source": [
    "print(non_persons[0])"
   ]
  },
  {
   "cell_type": "code",
   "execution_count": 5,
   "metadata": {},
   "outputs": [
    {
     "name": "stdout",
     "output_type": "stream",
     "text": [
      "(2, 2)\n"
     ]
    }
   ],
   "source": [
    "nss_table = summary[:,:,0]\n",
    "print(np.shape(nss_table))\n",
    "sim_table = summary[:,:,1]\n",
    "ig_table = summary[:,:,2]\n",
    "auc_table = summary[:,:,3]"
   ]
  },
  {
   "cell_type": "code",
   "execution_count": 8,
   "metadata": {},
   "outputs": [
    {
     "data": {
      "image/png": "[encoded data removed]",
      "text/plain": [
       "<Figure size 432x288 with 1 Axes>"
      ]
     },
     "metadata": {
      "needs_background": "light"
     },
     "output_type": "display_data"
    }
   ],
   "source": [
    "plt.plot(nss_table)\n",
    "plt.xlim(0,2)\n",
    "plt.xticks([0,1], context)\n",
    "plt.title(\"NSS for all models\")\n",
    "plt.legend(models, bbox_to_anchor = (1.1,1.05));"
   ]
  },
  {
   "cell_type": "code",
   "execution_count": null,
   "metadata": {},
   "outputs": [],
   "source": []
  }
 ],
 "metadata": {
  "kernelspec": {
   "display_name": "nise",
   "language": "python",
   "name": "nise"
  },
  "language_info": {
   "codemirror_mode": {
    "name": "ipython",
    "version": 3
   },
   "file_extension": ".py",
   "mimetype": "text/x-python",
   "name": "python",
   "nbconvert_exporter": "python",
   "pygments_lexer": "ipython3",
   "version": "3.7.2"
  }
 },
 "nbformat": 4,
 "nbformat_minor": 2
}
