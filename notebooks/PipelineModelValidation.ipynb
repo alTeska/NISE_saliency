{
 "cells": [
  {
   "cell_type": "markdown",
   "metadata": {},
   "source": [
    "## Model Validation Loop\n",
    "Aim: Create a loop to test all images in a dataset and give back all scores for the Itti-Koch model"
   ]
  },
  {
   "cell_type": "code",
   "execution_count": 1,
   "metadata": {},
   "outputs": [],
   "source": [
    "import os\n",
    "os.chdir('../saliency_model/')\n",
    "\n",
    "from metrics import run_dataset_analysis"
   ]
  },
  {
   "cell_type": "code",
   "execution_count": 2,
   "metadata": {},
   "outputs": [],
   "source": [
    "path = \"C:\\\\Users\\\\thier\\\\Documents\\\\Studium\\\\MSNE\\\\18-19 WS\\\\NISE\\\\project\\\\MS COCO\""
   ]
  },
  {
   "cell_type": "code",
   "execution_count": 3,
   "metadata": {},
   "outputs": [
    {
     "name": "stdout",
     "output_type": "stream",
     "text": [
      "['COCO_train2014_000000000009.jpg', 'COCO_train2014_000000000089.jpg', 'COCO_train2014_000000000110.jpg', 'COCO_train2014_000000000307.jpg']\n",
      "Filename: COCO_train2014_000000000009.jpg\n",
      "Filename: COCO_train2014_000000000089.jpg\n",
      "Filename: COCO_train2014_000000000110.jpg\n",
      "Filename: COCO_train2014_000000000307.jpg\n"
     ]
    }
   ],
   "source": [
    "nss_score, sim_score, ig_score, auc_score = run_dataset_analysis(path, \"Itti Koch\", skip_auc = True)"
   ]
  },
  {
   "cell_type": "code",
   "execution_count": 7,
   "metadata": {},
   "outputs": [
    {
     "name": "stdout",
     "output_type": "stream",
     "text": [
      "0.4229573111810578 0.4990658199573314 0.7813313584725163 0.0\n"
     ]
    }
   ],
   "source": [
    "print(nss_score, sim_score, ig_score, auc_score)"
   ]
  }
 ],
 "metadata": {
  "kernelspec": {
   "display_name": "Python 3",
   "language": "python",
   "name": "python3"
  },
  "language_info": {
   "codemirror_mode": {
    "name": "ipython",
    "version": 3
   },
   "file_extension": ".py",
   "mimetype": "text/x-python",
   "name": "python",
   "nbconvert_exporter": "python",
   "pygments_lexer": "ipython3",
   "version": "3.7.0"
  }
 },
 "nbformat": 4,
 "nbformat_minor": 2
}
