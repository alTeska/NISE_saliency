{
 "cells": [
  {
   "cell_type": "markdown",
   "metadata": {},
   "source": [
    "## Getting context-specificity\n",
    "\n",
    "## What should the function do?\n",
    "\n",
    "(1) Get the pictures belonging to the context.  \n",
    "(2) Get the corresponding ground truths and saliency maps for a given model.  \n",
    "(3) Evaluate metrics for that model in that context.\n",
    "\n",
    "**TODO**  \n",
    "add binary map\n",
    "\n",
    "**supercategories we can use**:  \n",
    "animal vehicle outdoor food furniture person kitchen appliance indoor accessory sports electronic"
   ]
  },
  {
   "cell_type": "code",
   "execution_count": 1,
   "metadata": {},
   "outputs": [],
   "source": [
    "import os\n",
    "os.chdir('../saliency_model/')\n",
    "\n",
    "import numpy as np\n",
    "import pickle\n",
    "\n",
    "from context_analysis import get_dataset_ids, ContextAnalysis"
   ]
  },
  {
   "cell_type": "markdown",
   "metadata": {},
   "source": [
    "Get the IDs of the images that we have in our dataset."
   ]
  },
  {
   "cell_type": "code",
   "execution_count": 2,
   "metadata": {},
   "outputs": [
    {
     "name": "stdout",
     "output_type": "stream",
     "text": [
      "loading annotations into memory...\n",
      "Done (t=9.04s)\n",
      "creating index...\n",
      "index created!\n",
      "Computing metrics for the aim_face model in the animal context\n",
      "Computing metrics for the aim_face model in the sports context\n",
      "(2, 1, 4)\n"
     ]
    }
   ],
   "source": [
    "# set dataset specific values\n",
    "dataDir='C:\\\\Users\\\\thier\\\\Documents\\\\Studium\\\\MSNE\\\\18-19 WS\\\\NISE\\\\project\\\\NISE_saliency\\\\coco'\n",
    "context = ['animal', 'sports']\n",
    "models = ['aim_face']\n",
    "\n",
    "ca = ContextAnalysis(dataDir, models, context, metrics=[])\n",
    "summary = ca.run_context_analysis(skip_auc=True)\n",
    "\n",
    "print(np.shape(summary))"
   ]
  },
  {
   "cell_type": "code",
   "execution_count": 3,
   "metadata": {},
   "outputs": [],
   "source": [
    "pickle.dump(summary, open( \"results_test.p\", \"wb\" ))"
   ]
  },
  {
   "cell_type": "code",
   "execution_count": 5,
   "metadata": {},
   "outputs": [
    {
     "name": "stdout",
     "output_type": "stream",
     "text": [
      "(2, 1, 4)\n"
     ]
    }
   ],
   "source": [
    "loaded_sum = pickle.load(open( \"results_test.p\", \"rb\"))\n",
    "print(np.shape(loaded_sum))"
   ]
  },
  {
   "cell_type": "markdown",
   "metadata": {},
   "source": [
    "## COCO example use\n",
    "For this, the directory has to contain a folder named \"coco\" and two subfolders, \"images\" and \"annotations\"."
   ]
  },
  {
   "cell_type": "code",
   "execution_count": 10,
   "metadata": {},
   "outputs": [],
   "source": [
    "from pycocotools.coco import COCO"
   ]
  },
  {
   "cell_type": "code",
   "execution_count": 13,
   "metadata": {},
   "outputs": [
    {
     "name": "stdout",
     "output_type": "stream",
     "text": [
      "loading annotations into memory...\n",
      "Done (t=8.56s)\n",
      "creating index...\n",
      "index created!\n"
     ]
    }
   ],
   "source": [
    "dataType='val2014'\n",
    "annFile='{}\\\\annotations\\\\instances_{}.json'.format(dataDir,dataType)\n",
    "# initialize COCO api for instance annotations\n",
    "coco = COCO(annFile)\n",
    "cats = coco.loadCats(coco.getCatIds())\n",
    "#print(cats)"
   ]
  },
  {
   "cell_type": "markdown",
   "metadata": {},
   "source": [
    "**interesting for us**: List the supercategories ~ context!"
   ]
  },
  {
   "cell_type": "code",
   "execution_count": 14,
   "metadata": {},
   "outputs": [
    {
     "name": "stdout",
     "output_type": "stream",
     "text": [
      "COCO supercategories: \n",
      "animal vehicle outdoor food furniture person kitchen appliance indoor accessory sports electronic\n"
     ]
    }
   ],
   "source": [
    "nms = set([cat['supercategory'] for cat in cats])\n",
    "print('COCO supercategories: \\n{}'.format(' '.join(nms)))"
   ]
  },
  {
   "cell_type": "code",
   "execution_count": null,
   "metadata": {},
   "outputs": [],
   "source": []
  }
 ],
 "metadata": {
  "kernelspec": {
   "display_name": "nise",
   "language": "python",
   "name": "nise"
  },
  "language_info": {
   "codemirror_mode": {
    "name": "ipython",
    "version": 3
   },
   "file_extension": ".py",
   "mimetype": "text/x-python",
   "name": "python",
   "nbconvert_exporter": "python",
   "pygments_lexer": "ipython3",
   "version": "3.7.2"
  }
 },
 "nbformat": 4,
 "nbformat_minor": 2
}
