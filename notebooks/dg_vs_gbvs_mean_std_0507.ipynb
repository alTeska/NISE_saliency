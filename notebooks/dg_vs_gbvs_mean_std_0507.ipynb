{
 "cells": [
  {
   "cell_type": "markdown",
   "metadata": {},
   "source": [
    "# Load The Results with Standard Deviation and Plot Nicely"
   ]
  },
  {
   "cell_type": "code",
   "execution_count": 1,
   "metadata": {},
   "outputs": [],
   "source": [
    "import os\n",
    "os.chdir('../data')\n",
    "\n",
    "import numpy as np\n",
    "import pickle\n",
    "import matplotlib.pyplot as plt\n",
    "import matplotlib.gridspec as gridspec\n",
    "import matplotlib\n",
    "\n",
    "import pandas as pd\n",
    "import seaborn as sns\n",
    "from glob import glob\n",
    "\n",
    "matplotlib.rcParams.update({'font.size': 15})"
   ]
  },
  {
   "cell_type": "markdown",
   "metadata": {},
   "source": [
    "### Load All of The Files"
   ]
  },
  {
   "cell_type": "code",
   "execution_count": 2,
   "metadata": {},
   "outputs": [
    {
     "ename": "FileNotFoundError",
     "evalue": "[Errno 2] No such file or directory: '../results/'",
     "output_type": "error",
     "traceback": [
      "\u001b[0;31m---------------------------------------------------------------------------\u001b[0m",
      "\u001b[0;31mFileNotFoundError\u001b[0m                         Traceback (most recent call last)",
      "\u001b[0;32m<ipython-input-2-c3013fdba4a3>\u001b[0m in \u001b[0;36m<module>\u001b[0;34m\u001b[0m\n\u001b[0;32m----> 1\u001b[0;31m \u001b[0mos\u001b[0m\u001b[0;34m.\u001b[0m\u001b[0mchdir\u001b[0m\u001b[0;34m(\u001b[0m\u001b[0;34m'../results/'\u001b[0m\u001b[0;34m)\u001b[0m\u001b[0;34m\u001b[0m\u001b[0;34m\u001b[0m\u001b[0m\n\u001b[0m\u001b[1;32m      2\u001b[0m \u001b[0mglob\u001b[0m\u001b[0;34m(\u001b[0m\u001b[0;34m'*.p'\u001b[0m\u001b[0;34m)\u001b[0m\u001b[0;34m\u001b[0m\u001b[0;34m\u001b[0m\u001b[0m\n",
      "\u001b[0;31mFileNotFoundError\u001b[0m: [Errno 2] No such file or directory: '../results/'"
     ]
    }
   ],
   "source": [
    "os.chdir('../results/')\n",
    "glob('*.p')"
   ]
  },
  {
   "cell_type": "markdown",
   "metadata": {},
   "source": [
    "## Pick the Dataset and Load Required Data"
   ]
  },
  {
   "cell_type": "code",
   "execution_count": null,
   "metadata": {},
   "outputs": [],
   "source": [
    "os.chdir('../results/')"
   ]
  },
  {
   "cell_type": "code",
   "execution_count": null,
   "metadata": {},
   "outputs": [],
   "source": [
    "(summary, context, model, metric) = pickle.load(open( \"2019-05-11_results-with-std.p\", \"rb\")) \n",
    "(summary2, context2, model2, metric2) = pickle.load(open( \"2019-05-12_results-with-std.p\", \"rb\")) "
   ]
  },
  {
   "cell_type": "code",
   "execution_count": null,
   "metadata": {},
   "outputs": [],
   "source": [
    "print(np.shape(summary))\n",
    "print(context)\n",
    "print(model)\n",
    "print(metric)"
   ]
  },
  {
   "cell_type": "markdown",
   "metadata": {},
   "source": [
    "### First File"
   ]
  },
  {
   "cell_type": "code",
   "execution_count": null,
   "metadata": {},
   "outputs": [],
   "source": [
    "nss_mean = summary[:,:,0]\n",
    "sim_mean = summary[:,:,1]\n",
    "\n",
    "nss_std = summary[:,:,4]\n",
    "sim_std = summary[:,:,5]"
   ]
  },
  {
   "cell_type": "markdown",
   "metadata": {},
   "source": [
    "### Second File"
   ]
  },
  {
   "cell_type": "code",
   "execution_count": null,
   "metadata": {},
   "outputs": [],
   "source": [
    "ig_mean = summary2[:,:,2]\n",
    "auc_mean = summary2[:,:,3]\n",
    "\n",
    "ig_std = summary2[:,:,6]\n",
    "auc_std = summary2[:,:,7]"
   ]
  },
  {
   "cell_type": "markdown",
   "metadata": {},
   "source": [
    "## Create DataFrames"
   ]
  },
  {
   "cell_type": "code",
   "execution_count": null,
   "metadata": {},
   "outputs": [],
   "source": [
    "df_nss_mean = pd.DataFrame(data=nss_mean, columns=model, index=context)\n",
    "df_nss_std = pd.DataFrame(data=nss_std, columns=model, index=context)"
   ]
  },
  {
   "cell_type": "code",
   "execution_count": null,
   "metadata": {},
   "outputs": [],
   "source": [
    "df_sim_mean = pd.DataFrame(data=sim_mean, columns=model, index=context)\n",
    "df_sim_std = pd.DataFrame(data=sim_std, columns=model, index=context)"
   ]
  },
  {
   "cell_type": "code",
   "execution_count": null,
   "metadata": {},
   "outputs": [],
   "source": [
    "df_ig_mean = pd.DataFrame(data=ig_mean, columns=model2, index=context2)\n",
    "df_ig_std = pd.DataFrame(data=ig_std, columns=model2, index=context2)"
   ]
  },
  {
   "cell_type": "code",
   "execution_count": null,
   "metadata": {},
   "outputs": [],
   "source": [
    "df_auc_mean = pd.DataFrame(data=auc_mean, columns=model2, index=context2)\n",
    "df_auc_std = pd.DataFrame(data=auc_std, columns=model2, index=context2)"
   ]
  },
  {
   "cell_type": "code",
   "execution_count": null,
   "metadata": {},
   "outputs": [],
   "source": [
    "df_ig_mean"
   ]
  },
  {
   "cell_type": "markdown",
   "metadata": {},
   "source": [
    "### Split to Necessary Arrays for Easy Plotting"
   ]
  },
  {
   "cell_type": "code",
   "execution_count": null,
   "metadata": {},
   "outputs": [],
   "source": [
    "def split_arrays_for_plot(df):\n",
    "    dg = df['dg']\n",
    "    gbvs = df['gbvs']\n",
    "    gbvs_f03 = df['gbvs_face_03']\n",
    "    gbvs_f05 = df['gbvs_face_05']\n",
    "    gbvs_f07 = df['gbvs_face_07']\n",
    "    \n",
    "    return dg, gbvs, gbvs_f03, gbvs_f05, gbvs_f07"
   ]
  },
  {
   "cell_type": "code",
   "execution_count": null,
   "metadata": {},
   "outputs": [],
   "source": [
    "auc_dg_m, auc_gbvs_m, auc_gbvs_f03_m, auc_gbvs_f05_m, auc_gbvs_f07_m = split_arrays_for_plot(df_auc_mean)\n",
    "auc_dg_s, auc_gbvs_s, auc_gbvs_f03_s, auc_gbvs_f05_s, auc_gbvs_f07_s = split_arrays_for_plot(df_auc_std)\n",
    "\n",
    "nss_dg_m, nss_gbvs_m, nss_gbvs_f03_m, nss_gbvs_f05_m, nss_gbvs_f07_m = split_arrays_for_plot(df_nss_mean)\n",
    "nss_dg_s, nss_gbvs_s, nss_gbvs_f03_s, nss_gbvs_f05_s, nss_gbvs_f07_s = split_arrays_for_plot(df_nss_std)\n",
    "\n",
    "sim_dg_m, sim_gbvs_m, sim_gbvs_f03_m, sim_gbvs_f05_m, sim_gbvs_f07_m = split_arrays_for_plot(df_sim_mean)\n",
    "sim_dg_s, sim_gbvs_s, sim_gbvs_f03_s, sim_gbvs_f05_s, sim_gbvs_f07_s = split_arrays_for_plot(df_sim_std)\n",
    "\n",
    "ig_dg_m, ig_gbvs_m, ig_gbvs_f03_m, ig_gbvs_f05_m, ig_gbvs_f07_m = split_arrays_for_plot(df_ig_mean)\n",
    "ig_dg_s, ig_gbvs_s, ig_gbvs_f03_s, ig_gbvs_f05_s, ig_gbvs_f07_s = split_arrays_for_plot(df_ig_std)"
   ]
  },
  {
   "cell_type": "code",
   "execution_count": null,
   "metadata": {},
   "outputs": [],
   "source": [
    "plt.subplots(figsize=(12,8))\n",
    "\n",
    "plt.plot(auc_gbvs_m, '-o', label='gbvs', linewidth=d, markersize=m, c='b');\n",
    "plt.errorbar(t, auc_gbvs_m, auc_gbvs_s, linestyle='None', c='b', label=None, alpha=0.3)\n",
    "plt.fill_between(t, auc_gbvs_m - auc_gbvs_s, auc_gbvs_m + auc_gbvs_s, color='b', alpha=0.1)\n",
    "\n",
    "plt.plot(auc_gbvs_f07_m, '-o', label='gbvs_f07', linewidth=d, markersize=m, c='g');\n",
    "plt.errorbar(t, auc_gbvs_f07_m, auc_gbvs_f07_s, linestyle='None', c='g', label=None, alpha=0.3)\n",
    "plt.fill_between(t, auc_gbvs_f07_m - auc_gbvs_f07_s, auc_gbvs_f07_m + auc_gbvs_f07_s, color='g', alpha=0.1)\n",
    "\n",
    "plt.plot(auc_dg_m, '-o', label='gbvs', linewidth=d, markersize=m, c='r');\n",
    "plt.errorbar(t, auc_dg_m, auc_dg_s, linestyle='None', c='r', label=None, alpha=0.3)\n",
    "plt.fill_between(t, auc_dg_m - auc_dg_s, auc_dg_m + auc_dg_s, color='b', alpha=0.1)\n",
    "\n",
    "plt.grid()\n",
    "plt.yticks(np.arange(0, 1.1, step=0.1))\n",
    "plt.ylabel('AUC score')\n",
    "plt.xlabel('context')\n",
    "plt.legend();"
   ]
  }
 ],
 "metadata": {
  "kernelspec": {
   "display_name": "saliency",
   "language": "python",
   "name": "myenv"
  },
  "language_info": {
   "codemirror_mode": {
    "name": "ipython",
    "version": 3
   },
   "file_extension": ".py",
   "mimetype": "text/x-python",
   "name": "python",
   "nbconvert_exporter": "python",
   "pygments_lexer": "ipython3",
   "version": "3.7.1"
  }
 },
 "nbformat": 4,
 "nbformat_minor": 2
}
