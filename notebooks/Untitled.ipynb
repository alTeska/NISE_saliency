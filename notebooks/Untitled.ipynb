{
 "cells": [
  {
   "cell_type": "code",
   "execution_count": 4,
   "metadata": {},
   "outputs": [],
   "source": [
    "import os\n",
    "os.chdir('../saliency_model/')\n",
    "from itti_koch import IttiKoch"
   ]
  },
  {
   "cell_type": "code",
   "execution_count": null,
   "metadata": {},
   "outputs": [],
   "source": [
    "dataDir='C:\\\\Users\\\\thier\\\\Documents\\\\Studium\\\\MSNE\\\\18-19 WS\\\\NISE\\\\project\\\\NISE_saliency\\\\coco\\\\images'\n",
    "\n",
    "params = {\n",
    "    \"GaussianBlur\" : 10\n",
    "}\n",
    "IK = IttiKoch()"
   ]
  }
 ],
 "metadata": {
  "kernelspec": {
   "display_name": "nise",
   "language": "python",
   "name": "nise"
  },
  "language_info": {
   "codemirror_mode": {
    "name": "ipython",
    "version": 3
   },
   "file_extension": ".py",
   "mimetype": "text/x-python",
   "name": "python",
   "nbconvert_exporter": "python",
   "pygments_lexer": "ipython3",
   "version": "3.7.2"
  }
 },
 "nbformat": 4,
 "nbformat_minor": 2
}
