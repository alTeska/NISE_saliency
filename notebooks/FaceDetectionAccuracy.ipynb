{
 "cells": [
  {
   "cell_type": "code",
   "execution_count": 20,
   "metadata": {},
   "outputs": [],
   "source": [
    "from shutil import copyfile\n",
    "from pycocotools.coco import COCO\n",
    "import os\n",
    "os.chdir('../saliency_model/')\n",
    "\n",
    "from context_analysis import get_dataset_ids"
   ]
  },
  {
   "cell_type": "code",
   "execution_count": 23,
   "metadata": {},
   "outputs": [],
   "source": [
    "import numpy as np"
   ]
  },
  {
   "cell_type": "code",
   "execution_count": 6,
   "metadata": {},
   "outputs": [
    {
     "name": "stdout",
     "output_type": "stream",
     "text": [
      "loading annotations into memory...\n",
      "Done (t=9.20s)\n",
      "creating index...\n",
      "index created!\n"
     ]
    }
   ],
   "source": [
    "dataType='val2014'\n",
    "dataDir='C:\\\\Users\\\\thier\\\\Documents\\\\Studium\\\\MSNE\\\\18-19 WS\\\\NISE\\\\project\\\\NISE_saliency\\\\coco'\n",
    "annFile='{}\\\\annotations\\\\instances_{}.json'.format(dataDir,dataType)\n",
    "# initialize COCO api for instance annotations\n",
    "coco = COCO(annFile)"
   ]
  },
  {
   "cell_type": "code",
   "execution_count": 24,
   "metadata": {},
   "outputs": [],
   "source": [
    "img_ids = coco.getCatIds(catNms = 'person')\n",
    "person_ids = coco.getImgIds(catIds = img_ids)\n",
    "\n",
    "our_data_ids = get_dataset_ids(os.path.join(dataDir, \"predictions\", \"aim\"))\n",
    "final_ids = np.intersect1d(person_ids, our_data_ids).astype(int)\n",
    "\n",
    "images = coco.loadImgs(final_ids)"
   ]
  },
  {
   "cell_type": "code",
   "execution_count": 25,
   "metadata": {},
   "outputs": [],
   "source": [
    "for img in images:\n",
    "    filename = img['file_name']\n",
    "    \n",
    "    src = os.path.join('C:\\\\Users\\\\thier\\\\Documents\\\\Studium\\\\MSNE\\\\18-19 WS\\\\NISE\\\\project\\\\NISE_saliency\\\\coco\\\\images', filename)\n",
    "    dst = os.path.join('C:\\\\Users\\\\thier\\\\Documents\\\\Studium\\\\MSNE\\\\18-19 WS\\\\NISE\\\\project\\\\NISE_saliency\\\\coco\\\\images_face', filename)\n",
    "    try:\n",
    "        copyfile(src, dst)\n",
    "    except:\n",
    "        continue"
   ]
  },
  {
   "cell_type": "code",
   "execution_count": 37,
   "metadata": {},
   "outputs": [],
   "source": [
    "persons = get_dataset_ids(os.path.join(dataDir, \"images_person\"))\n",
    "pred_faces = get_dataset_ids(os.path.join(dataDir, \"detected_faces\"))\n",
    "\n",
    "overlap = np.intersect1d(persons, pred_faces).astype(int)"
   ]
  },
  {
   "cell_type": "code",
   "execution_count": 38,
   "metadata": {},
   "outputs": [
    {
     "name": "stdout",
     "output_type": "stream",
     "text": [
      "98\n",
      "309\n"
     ]
    }
   ],
   "source": [
    "print(len(overlap))\n",
    "print(len(persons))"
   ]
  },
  {
   "cell_type": "code",
   "execution_count": 32,
   "metadata": {},
   "outputs": [],
   "source": [
    "faces = get_dataset_ids(os.path.join(dataDir, \"images_face\"))\n",
    "\n",
    "overlap = np.intersect1d(faces, pred_faces).astype(int)"
   ]
  },
  {
   "cell_type": "code",
   "execution_count": 36,
   "metadata": {},
   "outputs": [
    {
     "name": "stdout",
     "output_type": "stream",
     "text": [
      "97\n",
      "171\n"
     ]
    }
   ],
   "source": [
    "print(len(overlap))\n",
    "print(len(faces))"
   ]
  }
 ],
 "metadata": {
  "kernelspec": {
   "display_name": "nise",
   "language": "python",
   "name": "nise"
  },
  "language_info": {
   "codemirror_mode": {
    "name": "ipython",
    "version": 3
   },
   "file_extension": ".py",
   "mimetype": "text/x-python",
   "name": "python",
   "nbconvert_exporter": "python",
   "pygments_lexer": "ipython3",
   "version": "3.7.2"
  }
 },
 "nbformat": 4,
 "nbformat_minor": 2
}
