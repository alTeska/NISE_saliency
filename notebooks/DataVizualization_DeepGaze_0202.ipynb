{
 "cells": [
  {
   "cell_type": "markdown",
   "metadata": {},
   "source": [
    "# Deep Gaze Vizualization"
   ]
  },
  {
   "cell_type": "code",
   "execution_count": 29,
   "metadata": {},
   "outputs": [],
   "source": [
    "import os\n",
    "# os.chdir('../saliency_model')\n",
    "os.chdir('../data')\n",
    "import numpy as np\n",
    "import pickle\n",
    "import matplotlib.pyplot as plt\n",
    "import pandas as pd\n",
    "import seaborn as sns\n",
    "from glob import glob"
   ]
  },
  {
   "cell_type": "code",
   "execution_count": 30,
   "metadata": {},
   "outputs": [
    {
     "data": {
      "text/plain": [
       "['19-02-01_results_over_baseline_faces_07.p',\n",
       " '19-02-01_results_plain_models.p',\n",
       " '19-02-01_results_face_07.p',\n",
       " '2019-05-12_results-with-std.p',\n",
       " '19-02-01_results_over_baseline_faces_05.p',\n",
       " '2019-05-11_results-with-std.p',\n",
       " '19-02-01_results_over_baseline_faces_03.p',\n",
       " '19-01-31_results.p',\n",
       " '19-02-01_results_face_03.p',\n",
       " '19-02-01_results_face_05.p']"
      ]
     },
     "execution_count": 30,
     "metadata": {},
     "output_type": "execute_result"
    }
   ],
   "source": [
    "os.chdir('../results/')\n",
    "glob('*.p')"
   ]
  },
  {
   "cell_type": "markdown",
   "metadata": {},
   "source": [
    "### Load The Data"
   ]
  },
  {
   "cell_type": "code",
   "execution_count": 19,
   "metadata": {},
   "outputs": [],
   "source": [
    "(summary, context, model, metric) = pickle.load(open( '19-02-01_results_plain_models.p', \"rb\"))"
   ]
  },
  {
   "cell_type": "code",
   "execution_count": 20,
   "metadata": {},
   "outputs": [],
   "source": [
    "dg_table = summary[:,7,:]"
   ]
  },
  {
   "cell_type": "code",
   "execution_count": 21,
   "metadata": {},
   "outputs": [
    {
     "data": {
      "text/html": [
       "<div>\n",
       "<style scoped>\n",
       "    .dataframe tbody tr th:only-of-type {\n",
       "        vertical-align: middle;\n",
       "    }\n",
       "\n",
       "    .dataframe tbody tr th {\n",
       "        vertical-align: top;\n",
       "    }\n",
       "\n",
       "    .dataframe thead th {\n",
       "        text-align: right;\n",
       "    }\n",
       "</style>\n",
       "<table border=\"1\" class=\"dataframe\">\n",
       "  <thead>\n",
       "    <tr style=\"text-align: right;\">\n",
       "      <th></th>\n",
       "      <th>nss</th>\n",
       "      <th>sim</th>\n",
       "      <th>ig</th>\n",
       "      <th>auc</th>\n",
       "    </tr>\n",
       "  </thead>\n",
       "  <tbody>\n",
       "    <tr>\n",
       "      <th>all</th>\n",
       "      <td>1.007740</td>\n",
       "      <td>0.642767</td>\n",
       "      <td>3.110164</td>\n",
       "      <td>0.760010</td>\n",
       "    </tr>\n",
       "    <tr>\n",
       "      <th>person</th>\n",
       "      <td>1.091062</td>\n",
       "      <td>0.630332</td>\n",
       "      <td>2.745240</td>\n",
       "      <td>0.773875</td>\n",
       "    </tr>\n",
       "    <tr>\n",
       "      <th>no person</th>\n",
       "      <td>0.872670</td>\n",
       "      <td>0.662924</td>\n",
       "      <td>3.701723</td>\n",
       "      <td>0.737536</td>\n",
       "    </tr>\n",
       "    <tr>\n",
       "      <th>animal</th>\n",
       "      <td>1.028912</td>\n",
       "      <td>0.623571</td>\n",
       "      <td>2.988734</td>\n",
       "      <td>0.749271</td>\n",
       "    </tr>\n",
       "    <tr>\n",
       "      <th>electronic</th>\n",
       "      <td>0.857675</td>\n",
       "      <td>0.637034</td>\n",
       "      <td>3.812890</td>\n",
       "      <td>0.738996</td>\n",
       "    </tr>\n",
       "    <tr>\n",
       "      <th>sports</th>\n",
       "      <td>1.201838</td>\n",
       "      <td>0.623714</td>\n",
       "      <td>1.685864</td>\n",
       "      <td>0.784495</td>\n",
       "    </tr>\n",
       "  </tbody>\n",
       "</table>\n",
       "</div>"
      ],
      "text/plain": [
       "                 nss       sim        ig       auc\n",
       "all         1.007740  0.642767  3.110164  0.760010\n",
       "person      1.091062  0.630332  2.745240  0.773875\n",
       "no person   0.872670  0.662924  3.701723  0.737536\n",
       "animal      1.028912  0.623571  2.988734  0.749271\n",
       "electronic  0.857675  0.637034  3.812890  0.738996\n",
       "sports      1.201838  0.623714  1.685864  0.784495"
      ]
     },
     "execution_count": 21,
     "metadata": {},
     "output_type": "execute_result"
    }
   ],
   "source": [
    "dg = pd.DataFrame(data=dg_table, columns=metric, index=context)\n",
    "dg"
   ]
  },
  {
   "cell_type": "code",
   "execution_count": 22,
   "metadata": {},
   "outputs": [],
   "source": [
    "dg.columns.name='metric'\n",
    "dg.index.name='context'"
   ]
  },
  {
   "cell_type": "code",
   "execution_count": 23,
   "metadata": {},
   "outputs": [
    {
     "data": {
      "text/html": [
       "<div>\n",
       "<style scoped>\n",
       "    .dataframe tbody tr th:only-of-type {\n",
       "        vertical-align: middle;\n",
       "    }\n",
       "\n",
       "    .dataframe tbody tr th {\n",
       "        vertical-align: top;\n",
       "    }\n",
       "\n",
       "    .dataframe thead th {\n",
       "        text-align: right;\n",
       "    }\n",
       "</style>\n",
       "<table border=\"1\" class=\"dataframe\">\n",
       "  <thead>\n",
       "    <tr style=\"text-align: right;\">\n",
       "      <th>metric</th>\n",
       "      <th>nss</th>\n",
       "      <th>sim</th>\n",
       "      <th>ig</th>\n",
       "      <th>auc</th>\n",
       "    </tr>\n",
       "    <tr>\n",
       "      <th>context</th>\n",
       "      <th></th>\n",
       "      <th></th>\n",
       "      <th></th>\n",
       "      <th></th>\n",
       "    </tr>\n",
       "  </thead>\n",
       "  <tbody>\n",
       "    <tr>\n",
       "      <th>all</th>\n",
       "      <td>1.007740</td>\n",
       "      <td>0.642767</td>\n",
       "      <td>3.110164</td>\n",
       "      <td>0.760010</td>\n",
       "    </tr>\n",
       "    <tr>\n",
       "      <th>person</th>\n",
       "      <td>1.091062</td>\n",
       "      <td>0.630332</td>\n",
       "      <td>2.745240</td>\n",
       "      <td>0.773875</td>\n",
       "    </tr>\n",
       "    <tr>\n",
       "      <th>no person</th>\n",
       "      <td>0.872670</td>\n",
       "      <td>0.662924</td>\n",
       "      <td>3.701723</td>\n",
       "      <td>0.737536</td>\n",
       "    </tr>\n",
       "    <tr>\n",
       "      <th>animal</th>\n",
       "      <td>1.028912</td>\n",
       "      <td>0.623571</td>\n",
       "      <td>2.988734</td>\n",
       "      <td>0.749271</td>\n",
       "    </tr>\n",
       "    <tr>\n",
       "      <th>electronic</th>\n",
       "      <td>0.857675</td>\n",
       "      <td>0.637034</td>\n",
       "      <td>3.812890</td>\n",
       "      <td>0.738996</td>\n",
       "    </tr>\n",
       "    <tr>\n",
       "      <th>sports</th>\n",
       "      <td>1.201838</td>\n",
       "      <td>0.623714</td>\n",
       "      <td>1.685864</td>\n",
       "      <td>0.784495</td>\n",
       "    </tr>\n",
       "  </tbody>\n",
       "</table>\n",
       "</div>"
      ],
      "text/plain": [
       "metric           nss       sim        ig       auc\n",
       "context                                           \n",
       "all         1.007740  0.642767  3.110164  0.760010\n",
       "person      1.091062  0.630332  2.745240  0.773875\n",
       "no person   0.872670  0.662924  3.701723  0.737536\n",
       "animal      1.028912  0.623571  2.988734  0.749271\n",
       "electronic  0.857675  0.637034  3.812890  0.738996\n",
       "sports      1.201838  0.623714  1.685864  0.784495"
      ]
     },
     "execution_count": 23,
     "metadata": {},
     "output_type": "execute_result"
    }
   ],
   "source": [
    "dg"
   ]
  },
  {
   "cell_type": "code",
   "execution_count": 24,
   "metadata": {},
   "outputs": [
    {
     "data": {
      "image/png": "[encoded data removed]",
      "text/plain": [
       "<Figure size 792x648 with 2 Axes>"
      ]
     },
     "metadata": {
      "needs_background": "light"
     },
     "output_type": "display_data"
    }
   ],
   "source": [
    "import matplotlib\n",
    "matplotlib.rcParams.update({'font.size': 18})\n",
    "\n",
    "\n",
    "f, ax = plt.subplots(figsize=(11, 9))\n",
    "sns.heatmap(dg.transpose(), annot=True, linewidths=.5, ax=ax, cmap='BuGn', fmt='.4f');\n",
    "plt.xticks(rotation=90)\n",
    "\n",
    "plt.savefig('plots/DeepGaze_results.jpg', bbox_inches='tight', pad_inches=0)"
   ]
  },
  {
   "cell_type": "code",
   "execution_count": 25,
   "metadata": {},
   "outputs": [],
   "source": [
    "# dg_no_ig = dg.transpose().loc[['auc', 'sim', 'nss']]\n",
    "# f, ax = plt.subplots(figsize=(11, 9))\n",
    "# sns.heatmap(dg_no_ig, annot=True, linewidths=.5, ax=ax, cmap='viridis');\n",
    "\n",
    "# plt.savefig('plots/DAP2_re')"
   ]
  },
  {
   "cell_type": "code",
   "execution_count": null,
   "metadata": {},
   "outputs": [],
   "source": []
  }
 ],
 "metadata": {
  "kernelspec": {
   "display_name": "Python 3",
   "language": "python",
   "name": "python3"
  },
  "language_info": {
   "codemirror_mode": {
    "name": "ipython",
    "version": 3
   },
   "file_extension": ".py",
   "mimetype": "text/x-python",
   "name": "python",
   "nbconvert_exporter": "python",
   "pygments_lexer": "ipython3",
   "version": "3.7.1"
  }
 },
 "nbformat": 4,
 "nbformat_minor": 2
}
