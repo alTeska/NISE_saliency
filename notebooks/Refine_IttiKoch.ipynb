{
 "cells": [
  {
   "cell_type": "markdown",
   "metadata": {},
   "source": [
    "## process images\n",
    "This part should be able to run on its own using the rest of the library"
   ]
  },
  {
   "cell_type": "code",
   "execution_count": 1,
   "metadata": {},
   "outputs": [],
   "source": [
    "import os\n",
    "os.chdir('../saliency_model/')\n",
    "\n",
    "import numpy as np\n",
    "import matplotlib.pyplot as plt\n",
    "import matplotlib.image as mpimg\n",
    "from itti_koch import IttiKoch\n",
    "\n",
    "plt.rcParams['image.cmap'] = 'gray'\n"
   ]
  },
  {
   "cell_type": "code",
   "execution_count": 2,
   "metadata": {},
   "outputs": [
    {
     "name": "stdout",
     "output_type": "stream",
     "text": [
      "Computing 3 image scales\n",
      "Computing saliency map for intensity.\n",
      "Computing saliency map for color.\n",
      "Creating Gabor kernels for orientation.\n",
      "Computing saliency map for orientation.\n"
     ]
    },
    {
     "data": {
      "image/png": "[encoded data removed]",
      "text/plain": [
       "<Figure size 1080x360 with 4 Axes>"
      ]
     },
     "metadata": {
      "needs_background": "light"
     },
     "output_type": "display_data"
    }
   ],
   "source": [
    "# Load The Image\n",
    "path = '../imgs/balloons.png'\n",
    "img = mpimg.imread(path)\n",
    "\n",
    "params_ik = {\n",
    "    \"mapwidth\": 64, \n",
    "    \"gabor\": {\n",
    "        \n",
    "    }\n",
    "}\n",
    "\n",
    "IK = IttiKoch(params_ik)\n",
    "\n",
    "saliency, intensity, color, orientation = IK.run(img)\n",
    "fig, ax = plt.subplots(1, 4, figsize=(15, 5))\n",
    "ax[0].imshow(intensity)\n",
    "ax[1].imshow(orientation)\n",
    "ax[2].imshow(color)\n",
    "ax[3].imshow(saliency)\n",
    "ax[0].set_title('intensity')\n",
    "ax[1].set_title('orientation')\n",
    "ax[2].set_title('color')\n",
    "ax[3].set_title('ICO')\n",
    "\n",
    "plt.show()"
   ]
  },
  {
   "cell_type": "code",
   "execution_count": 3,
   "metadata": {},
   "outputs": [],
   "source": [
    "mydict = {\n",
    "    \"param1\": [2,3],\n",
    "    \"param2\": {\n",
    "        \"param21\": \"nested1\",\n",
    "        \"param22\": \"nested2\"\n",
    "    }\n",
    "}"
   ]
  },
  {
   "cell_type": "code",
   "execution_count": 4,
   "metadata": {},
   "outputs": [
    {
     "name": "stdout",
     "output_type": "stream",
     "text": [
      "param1 [2, 3]\n",
      "param2 {'param21': 'nested1', 'param22': 'nested2'}\n"
     ]
    }
   ],
   "source": [
    "for key in mydict:\n",
    "    print(key, mydict[key])"
   ]
  },
  {
   "cell_type": "code",
   "execution_count": 6,
   "metadata": {},
   "outputs": [
    {
     "name": "stdout",
     "output_type": "stream",
     "text": [
      "nested1\n"
     ]
    }
   ],
   "source": [
    "if \"param2\" in mydict:\n",
    "    print(mydict[\"param2\"][\"param21\"])\n",
    "else:\n",
    "    print(\"Nothing here...\")"
   ]
  },
  {
   "cell_type": "code",
   "execution_count": 4,
   "metadata": {},
   "outputs": [
    {
     "data": {
      "text/plain": [
       "array([1, 2, 3])"
      ]
     },
     "execution_count": 4,
     "metadata": {},
     "output_type": "execute_result"
    }
   ],
   "source": [
    "np.arange(3) + 1"
   ]
  },
  {
   "cell_type": "code",
   "execution_count": 9,
   "metadata": {},
   "outputs": [
    {
     "name": "stdout",
     "output_type": "stream",
     "text": [
      "Computing 3 outputs now ...\n"
     ]
    }
   ],
   "source": [
    "print(\"Computing {} outputs {} ...\".format(3, \"now\"))"
   ]
  },
  {
   "cell_type": "code",
   "execution_count": 7,
   "metadata": {},
   "outputs": [],
   "source": [
    "import itti_koch_features"
   ]
  },
  {
   "cell_type": "code",
   "execution_count": 11,
   "metadata": {},
   "outputs": [],
   "source": [
    "feature = \"color\"\n",
    "myfunc = getattr(itti_koch_features, \"compute_\"+feature)"
   ]
  },
  {
   "cell_type": "code",
   "execution_count": 12,
   "metadata": {},
   "outputs": [
    {
     "ename": "TypeError",
     "evalue": "compute_color() missing 1 required positional argument: 'img_list'",
     "output_type": "error",
     "traceback": [
      "\u001b[1;31m---------------------------------------------------------------------------\u001b[0m",
      "\u001b[1;31mTypeError\u001b[0m                                 Traceback (most recent call last)",
      "\u001b[1;32m<ipython-input-12-4a0cb0fe4668>\u001b[0m in \u001b[0;36m<module>\u001b[1;34m()\u001b[0m\n\u001b[1;32m----> 1\u001b[1;33m \u001b[0mintensity\u001b[0m \u001b[1;33m=\u001b[0m \u001b[0mmyfunc\u001b[0m\u001b[1;33m(\u001b[0m\u001b[1;33m)\u001b[0m\u001b[1;33m\u001b[0m\u001b[0m\n\u001b[0m",
      "\u001b[1;31mTypeError\u001b[0m: compute_color() missing 1 required positional argument: 'img_list'"
     ]
    }
   ],
   "source": [
    " intensity = myfunc()"
   ]
  },
  {
   "cell_type": "code",
   "execution_count": null,
   "metadata": {},
   "outputs": [],
   "source": []
  }
 ],
 "metadata": {
  "kernelspec": {
   "display_name": "Python 3",
   "language": "python",
   "name": "python3"
  },
  "language_info": {
   "codemirror_mode": {
    "name": "ipython",
    "version": 3
   },
   "file_extension": ".py",
   "mimetype": "text/x-python",
   "name": "python",
   "nbconvert_exporter": "python",
   "pygments_lexer": "ipython3",
   "version": "3.7.0"
  }
 },
 "nbformat": 4,
 "nbformat_minor": 2
}
