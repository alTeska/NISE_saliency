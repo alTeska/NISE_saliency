{
 "cells": [
  {
   "cell_type": "markdown",
   "metadata": {},
   "source": [
    "# Load the New Results"
   ]
  },
  {
   "cell_type": "code",
   "execution_count": 1,
   "metadata": {},
   "outputs": [],
   "source": [
    "import os\n",
    "os.chdir('../saliency_model/')\n",
    "\n",
    "import numpy as np\n",
    "import pickle\n",
    "import matplotlib.pyplot as plt\n",
    "import matplotlib.gridspec as gridspec\n",
    "import matplotlib\n",
    "\n",
    "import pandas as pd\n",
    "import seaborn as sns\n",
    "from glob import glob\n",
    "\n",
    "matplotlib.rcParams.update({'font.size': 15})"
   ]
  },
  {
   "cell_type": "markdown",
   "metadata": {},
   "source": [
    "### Pick Metric\n",
    "NSS, SIM, IG, AUC"
   ]
  },
  {
   "cell_type": "code",
   "execution_count": 2,
   "metadata": {},
   "outputs": [
    {
     "data": {
      "text/plain": [
       "['19-02-01_results_over_baseline_faces_07.p',\n",
       " '19-02-01_results_plain_models.p',\n",
       " '19-02-01_results_face_07.p',\n",
       " '2019-05-12_results-with-std.p',\n",
       " '19-02-01_results_over_baseline_faces_05.p',\n",
       " '2019-05-11_results-with-std.p',\n",
       " '19-02-01_results_over_baseline_faces_03.p',\n",
       " '19-01-31_results.p',\n",
       " '19-02-01_results_face_03.p',\n",
       " '19-02-01_results_face_05.p']"
      ]
     },
     "execution_count": 2,
     "metadata": {},
     "output_type": "execute_result"
    }
   ],
   "source": [
    "os.chdir('../results/')\n",
    "glob('*.p')"
   ]
  },
  {
   "cell_type": "markdown",
   "metadata": {},
   "source": [
    "## Pick the Dataset and Load Required Data"
   ]
  },
  {
   "cell_type": "code",
   "execution_count": 3,
   "metadata": {},
   "outputs": [],
   "source": [
    "os.chdir('../results/')\n",
    "(summary, context, model, metric) = pickle.load(open( \"2019-05-12_results-with-std.p\", \"rb\")) "
   ]
  },
  {
   "cell_type": "code",
   "execution_count": 4,
   "metadata": {},
   "outputs": [
    {
     "name": "stdout",
     "output_type": "stream",
     "text": [
      "(6, 5, 8)\n",
      "['all', 'person', 'no person', 'animal', 'sports', 'electronic']\n",
      "['gbvs', 'gbvs_face_03', 'gbvs_face_05', 'gbvs_face_07', 'dg']\n",
      "['nss mean', 'sim mean', 'ig mean', 'auc mean', 'nss std', 'sim std', 'ig std', 'auc std']\n"
     ]
    }
   ],
   "source": [
    "print(np.shape(summary))\n",
    "print(context)\n",
    "print(model)\n",
    "print(metric)"
   ]
  },
  {
   "cell_type": "code",
   "execution_count": 5,
   "metadata": {},
   "outputs": [],
   "source": [
    "ig_mean = summary[:,:,2]\n",
    "auc_mean = summary[:,:,3]\n",
    "\n",
    "ig_std = summary[:,:,6]\n",
    "auc_std = summary[:,:,7]"
   ]
  },
  {
   "cell_type": "markdown",
   "metadata": {},
   "source": [
    "### AUC"
   ]
  },
  {
   "cell_type": "code",
   "execution_count": 6,
   "metadata": {},
   "outputs": [],
   "source": [
    "df_auc_mean = pd.DataFrame(data=auc_mean, columns=model, index=context)\n",
    "df_auc_std = pd.DataFrame(data=auc_std, columns=model, index=context)"
   ]
  },
  {
   "cell_type": "code",
   "execution_count": 7,
   "metadata": {},
   "outputs": [
    {
     "data": {
      "text/html": [
       "<div>\n",
       "<style scoped>\n",
       "    .dataframe tbody tr th:only-of-type {\n",
       "        vertical-align: middle;\n",
       "    }\n",
       "\n",
       "    .dataframe tbody tr th {\n",
       "        vertical-align: top;\n",
       "    }\n",
       "\n",
       "    .dataframe thead th {\n",
       "        text-align: right;\n",
       "    }\n",
       "</style>\n",
       "<table border=\"1\" class=\"dataframe\">\n",
       "  <thead>\n",
       "    <tr style=\"text-align: right;\">\n",
       "      <th></th>\n",
       "      <th>gbvs</th>\n",
       "      <th>gbvs_face_03</th>\n",
       "      <th>gbvs_face_05</th>\n",
       "      <th>gbvs_face_07</th>\n",
       "      <th>dg</th>\n",
       "    </tr>\n",
       "  </thead>\n",
       "  <tbody>\n",
       "    <tr>\n",
       "      <th>all</th>\n",
       "      <td>0.749465</td>\n",
       "      <td>0.752009</td>\n",
       "      <td>0.752898</td>\n",
       "      <td>0.753201</td>\n",
       "      <td>0.760010</td>\n",
       "    </tr>\n",
       "    <tr>\n",
       "      <th>person</th>\n",
       "      <td>0.758711</td>\n",
       "      <td>0.763010</td>\n",
       "      <td>0.764442</td>\n",
       "      <td>0.764895</td>\n",
       "      <td>0.773875</td>\n",
       "    </tr>\n",
       "    <tr>\n",
       "      <th>no person</th>\n",
       "      <td>0.734478</td>\n",
       "      <td>0.734177</td>\n",
       "      <td>0.734184</td>\n",
       "      <td>0.734245</td>\n",
       "      <td>0.737536</td>\n",
       "    </tr>\n",
       "    <tr>\n",
       "      <th>animal</th>\n",
       "      <td>0.734344</td>\n",
       "      <td>0.735972</td>\n",
       "      <td>0.736536</td>\n",
       "      <td>0.736809</td>\n",
       "      <td>0.749271</td>\n",
       "    </tr>\n",
       "    <tr>\n",
       "      <th>sports</th>\n",
       "      <td>0.783232</td>\n",
       "      <td>0.784090</td>\n",
       "      <td>0.784087</td>\n",
       "      <td>0.784198</td>\n",
       "      <td>0.784495</td>\n",
       "    </tr>\n",
       "  </tbody>\n",
       "</table>\n",
       "</div>"
      ],
      "text/plain": [
       "               gbvs  gbvs_face_03  gbvs_face_05  gbvs_face_07        dg\n",
       "all        0.749465      0.752009      0.752898      0.753201  0.760010\n",
       "person     0.758711      0.763010      0.764442      0.764895  0.773875\n",
       "no person  0.734478      0.734177      0.734184      0.734245  0.737536\n",
       "animal     0.734344      0.735972      0.736536      0.736809  0.749271\n",
       "sports     0.783232      0.784090      0.784087      0.784198  0.784495"
      ]
     },
     "execution_count": 7,
     "metadata": {},
     "output_type": "execute_result"
    }
   ],
   "source": [
    "df_auc_mean.head()"
   ]
  },
  {
   "cell_type": "code",
   "execution_count": 8,
   "metadata": {},
   "outputs": [
    {
     "data": {
      "text/html": [
       "<div>\n",
       "<style scoped>\n",
       "    .dataframe tbody tr th:only-of-type {\n",
       "        vertical-align: middle;\n",
       "    }\n",
       "\n",
       "    .dataframe tbody tr th {\n",
       "        vertical-align: top;\n",
       "    }\n",
       "\n",
       "    .dataframe thead th {\n",
       "        text-align: right;\n",
       "    }\n",
       "</style>\n",
       "<table border=\"1\" class=\"dataframe\">\n",
       "  <thead>\n",
       "    <tr style=\"text-align: right;\">\n",
       "      <th></th>\n",
       "      <th>gbvs</th>\n",
       "      <th>gbvs_face_03</th>\n",
       "      <th>gbvs_face_05</th>\n",
       "      <th>gbvs_face_07</th>\n",
       "      <th>dg</th>\n",
       "    </tr>\n",
       "  </thead>\n",
       "  <tbody>\n",
       "    <tr>\n",
       "      <th>all</th>\n",
       "      <td>0.089805</td>\n",
       "      <td>0.090078</td>\n",
       "      <td>0.090262</td>\n",
       "      <td>0.090222</td>\n",
       "      <td>0.094972</td>\n",
       "    </tr>\n",
       "    <tr>\n",
       "      <th>person</th>\n",
       "      <td>0.090389</td>\n",
       "      <td>0.090345</td>\n",
       "      <td>0.090460</td>\n",
       "      <td>0.090369</td>\n",
       "      <td>0.093331</td>\n",
       "    </tr>\n",
       "    <tr>\n",
       "      <th>no person</th>\n",
       "      <td>0.086782</td>\n",
       "      <td>0.086728</td>\n",
       "      <td>0.086736</td>\n",
       "      <td>0.086693</td>\n",
       "      <td>0.093296</td>\n",
       "    </tr>\n",
       "    <tr>\n",
       "      <th>animal</th>\n",
       "      <td>0.095960</td>\n",
       "      <td>0.097058</td>\n",
       "      <td>0.097695</td>\n",
       "      <td>0.097894</td>\n",
       "      <td>0.102641</td>\n",
       "    </tr>\n",
       "    <tr>\n",
       "      <th>sports</th>\n",
       "      <td>0.090115</td>\n",
       "      <td>0.091386</td>\n",
       "      <td>0.091811</td>\n",
       "      <td>0.092127</td>\n",
       "      <td>0.090676</td>\n",
       "    </tr>\n",
       "  </tbody>\n",
       "</table>\n",
       "</div>"
      ],
      "text/plain": [
       "               gbvs  gbvs_face_03  gbvs_face_05  gbvs_face_07        dg\n",
       "all        0.089805      0.090078      0.090262      0.090222  0.094972\n",
       "person     0.090389      0.090345      0.090460      0.090369  0.093331\n",
       "no person  0.086782      0.086728      0.086736      0.086693  0.093296\n",
       "animal     0.095960      0.097058      0.097695      0.097894  0.102641\n",
       "sports     0.090115      0.091386      0.091811      0.092127  0.090676"
      ]
     },
     "execution_count": 8,
     "metadata": {},
     "output_type": "execute_result"
    }
   ],
   "source": [
    "df_auc_std.head()"
   ]
  },
  {
   "cell_type": "markdown",
   "metadata": {},
   "source": [
    "### IG"
   ]
  },
  {
   "cell_type": "code",
   "execution_count": 9,
   "metadata": {},
   "outputs": [],
   "source": [
    "df_ig_mean = pd.DataFrame(data=ig_mean, columns=model, index=context)\n",
    "df_ig_std = pd.DataFrame(data=ig_std, columns=model, index=context)"
   ]
  },
  {
   "cell_type": "code",
   "execution_count": 10,
   "metadata": {},
   "outputs": [
    {
     "data": {
      "text/html": [
       "<div>\n",
       "<style scoped>\n",
       "    .dataframe tbody tr th:only-of-type {\n",
       "        vertical-align: middle;\n",
       "    }\n",
       "\n",
       "    .dataframe tbody tr th {\n",
       "        vertical-align: top;\n",
       "    }\n",
       "\n",
       "    .dataframe thead th {\n",
       "        text-align: right;\n",
       "    }\n",
       "</style>\n",
       "<table border=\"1\" class=\"dataframe\">\n",
       "  <thead>\n",
       "    <tr style=\"text-align: right;\">\n",
       "      <th></th>\n",
       "      <th>gbvs</th>\n",
       "      <th>gbvs_face_03</th>\n",
       "      <th>gbvs_face_05</th>\n",
       "      <th>gbvs_face_07</th>\n",
       "      <th>dg</th>\n",
       "    </tr>\n",
       "  </thead>\n",
       "  <tbody>\n",
       "    <tr>\n",
       "      <th>all</th>\n",
       "      <td>4.389129</td>\n",
       "      <td>4.401902</td>\n",
       "      <td>4.409638</td>\n",
       "      <td>4.407047</td>\n",
       "      <td>3.110164</td>\n",
       "    </tr>\n",
       "    <tr>\n",
       "      <th>person</th>\n",
       "      <td>4.261897</td>\n",
       "      <td>4.283458</td>\n",
       "      <td>4.295767</td>\n",
       "      <td>4.291430</td>\n",
       "      <td>2.745240</td>\n",
       "    </tr>\n",
       "    <tr>\n",
       "      <th>no person</th>\n",
       "      <td>4.595379</td>\n",
       "      <td>4.593905</td>\n",
       "      <td>4.594228</td>\n",
       "      <td>4.594469</td>\n",
       "      <td>3.701723</td>\n",
       "    </tr>\n",
       "    <tr>\n",
       "      <th>animal</th>\n",
       "      <td>4.601708</td>\n",
       "      <td>4.607203</td>\n",
       "      <td>4.612659</td>\n",
       "      <td>4.618031</td>\n",
       "      <td>2.988734</td>\n",
       "    </tr>\n",
       "    <tr>\n",
       "      <th>sports</th>\n",
       "      <td>4.191043</td>\n",
       "      <td>4.194267</td>\n",
       "      <td>4.198131</td>\n",
       "      <td>4.180200</td>\n",
       "      <td>1.685864</td>\n",
       "    </tr>\n",
       "  </tbody>\n",
       "</table>\n",
       "</div>"
      ],
      "text/plain": [
       "               gbvs  gbvs_face_03  gbvs_face_05  gbvs_face_07        dg\n",
       "all        4.389129      4.401902      4.409638      4.407047  3.110164\n",
       "person     4.261897      4.283458      4.295767      4.291430  2.745240\n",
       "no person  4.595379      4.593905      4.594228      4.594469  3.701723\n",
       "animal     4.601708      4.607203      4.612659      4.618031  2.988734\n",
       "sports     4.191043      4.194267      4.198131      4.180200  1.685864"
      ]
     },
     "execution_count": 10,
     "metadata": {},
     "output_type": "execute_result"
    }
   ],
   "source": [
    "df_ig_mean.head()"
   ]
  },
  {
   "cell_type": "code",
   "execution_count": 11,
   "metadata": {},
   "outputs": [
    {
     "data": {
      "text/html": [
       "<div>\n",
       "<style scoped>\n",
       "    .dataframe tbody tr th:only-of-type {\n",
       "        vertical-align: middle;\n",
       "    }\n",
       "\n",
       "    .dataframe tbody tr th {\n",
       "        vertical-align: top;\n",
       "    }\n",
       "\n",
       "    .dataframe thead th {\n",
       "        text-align: right;\n",
       "    }\n",
       "</style>\n",
       "<table border=\"1\" class=\"dataframe\">\n",
       "  <thead>\n",
       "    <tr style=\"text-align: right;\">\n",
       "      <th></th>\n",
       "      <th>gbvs</th>\n",
       "      <th>gbvs_face_03</th>\n",
       "      <th>gbvs_face_05</th>\n",
       "      <th>gbvs_face_07</th>\n",
       "      <th>dg</th>\n",
       "    </tr>\n",
       "  </thead>\n",
       "  <tbody>\n",
       "    <tr>\n",
       "      <th>all</th>\n",
       "      <td>2.754745</td>\n",
       "      <td>2.757972</td>\n",
       "      <td>2.756112</td>\n",
       "      <td>2.750730</td>\n",
       "      <td>3.645712</td>\n",
       "    </tr>\n",
       "    <tr>\n",
       "      <th>person</th>\n",
       "      <td>2.806243</td>\n",
       "      <td>2.810237</td>\n",
       "      <td>2.807265</td>\n",
       "      <td>2.798518</td>\n",
       "      <td>3.934831</td>\n",
       "    </tr>\n",
       "    <tr>\n",
       "      <th>no person</th>\n",
       "      <td>2.656238</td>\n",
       "      <td>2.659893</td>\n",
       "      <td>2.660777</td>\n",
       "      <td>2.660797</td>\n",
       "      <td>3.028623</td>\n",
       "    </tr>\n",
       "    <tr>\n",
       "      <th>animal</th>\n",
       "      <td>2.659255</td>\n",
       "      <td>2.658761</td>\n",
       "      <td>2.658060</td>\n",
       "      <td>2.656514</td>\n",
       "      <td>3.833621</td>\n",
       "    </tr>\n",
       "    <tr>\n",
       "      <th>sports</th>\n",
       "      <td>2.997117</td>\n",
       "      <td>3.006711</td>\n",
       "      <td>3.012042</td>\n",
       "      <td>3.017558</td>\n",
       "      <td>4.809530</td>\n",
       "    </tr>\n",
       "  </tbody>\n",
       "</table>\n",
       "</div>"
      ],
      "text/plain": [
       "               gbvs  gbvs_face_03  gbvs_face_05  gbvs_face_07        dg\n",
       "all        2.754745      2.757972      2.756112      2.750730  3.645712\n",
       "person     2.806243      2.810237      2.807265      2.798518  3.934831\n",
       "no person  2.656238      2.659893      2.660777      2.660797  3.028623\n",
       "animal     2.659255      2.658761      2.658060      2.656514  3.833621\n",
       "sports     2.997117      3.006711      3.012042      3.017558  4.809530"
      ]
     },
     "execution_count": 11,
     "metadata": {},
     "output_type": "execute_result"
    }
   ],
   "source": [
    "df_ig_std.head()"
   ]
  },
  {
   "cell_type": "markdown",
   "metadata": {},
   "source": [
    "## Plot by Metric, including Std"
   ]
  },
  {
   "cell_type": "markdown",
   "metadata": {},
   "source": [
    "### AUC"
   ]
  },
  {
   "cell_type": "markdown",
   "metadata": {},
   "source": [
    "#### Get DF"
   ]
  },
  {
   "cell_type": "code",
   "execution_count": 12,
   "metadata": {},
   "outputs": [
    {
     "name": "stdout",
     "output_type": "stream",
     "text": [
      "            gbvs  gbvs_face_03  gbvs_face_05  gbvs_face_07        dg\n",
      "all     0.749465      0.752009      0.752898      0.753201  0.760010\n",
      "person  0.758711      0.763010      0.764442      0.764895  0.773875\n",
      "            gbvs  gbvs_face_03  gbvs_face_05  gbvs_face_07        dg\n",
      "all     0.089805      0.090078      0.090262      0.090222  0.094972\n",
      "person  0.090389      0.090345      0.090460      0.090369  0.093331\n"
     ]
    }
   ],
   "source": [
    "print(df_auc_mean.head(2))\n",
    "print(df_auc_std.head(2))"
   ]
  },
  {
   "cell_type": "code",
   "execution_count": 13,
   "metadata": {},
   "outputs": [],
   "source": [
    "dg_mean = df_auc_mean['dg']\n",
    "dg_std = df_auc_std['dg']"
   ]
  },
  {
   "cell_type": "code",
   "execution_count": 14,
   "metadata": {},
   "outputs": [],
   "source": [
    "gbvs_mean = df_auc_mean['gbvs']\n",
    "gbvs_std = df_auc_std['gbvs']"
   ]
  },
  {
   "cell_type": "code",
   "execution_count": 15,
   "metadata": {},
   "outputs": [],
   "source": [
    "gbvs_mean_f03 = df_auc_mean['gbvs_face_03']\n",
    "gbvs_std_f03 = df_auc_std['gbvs_face_03']"
   ]
  },
  {
   "cell_type": "code",
   "execution_count": 16,
   "metadata": {},
   "outputs": [],
   "source": [
    "gbvs_mean_f05 = df_auc_mean['gbvs_face_05']\n",
    "gbvs_std_f05 = df_auc_std['gbvs_face_05']"
   ]
  },
  {
   "cell_type": "code",
   "execution_count": 17,
   "metadata": {},
   "outputs": [],
   "source": [
    "gbvs_mean_f07 = df_auc_mean['gbvs_face_07']\n",
    "gbvs_std_f07 = df_auc_std['gbvs_face_07']"
   ]
  },
  {
   "cell_type": "markdown",
   "metadata": {},
   "source": [
    "#### Plot GBVS alone"
   ]
  },
  {
   "cell_type": "code",
   "execution_count": 18,
   "metadata": {},
   "outputs": [],
   "source": [
    "t = np.arange(0,6)\n",
    "d = 0.8\n",
    "m = 8"
   ]
  },
  {
   "cell_type": "code",
   "execution_count": 19,
   "metadata": {},
   "outputs": [],
   "source": [
    "matplotlib.rcParams.update({'font.size': 16})"
   ]
  },
  {
   "cell_type": "code",
   "execution_count": 20,
   "metadata": {},
   "outputs": [
    {
     "data": {
      "image/png": "[encoded data removed]",
      "text/plain": [
       "<Figure size 864x576 with 1 Axes>"
      ]
     },
     "metadata": {
      "needs_background": "light"
     },
     "output_type": "display_data"
    }
   ],
   "source": [
    "plt.subplots(figsize=(12,8))\n",
    "plt.plot(gbvs_mean, '-o', label='gbvs', linewidth=d, markersize=m);\n",
    "plt.errorbar(t, gbvs_mean, gbvs_std, linestyle='None')\n",
    "\n",
    "plt.grid()\n",
    "plt.yticks(np.arange(0, 1.1, step=0.1))\n",
    "plt.ylabel('SIM score')\n",
    "plt.xlabel('context')\n",
    "plt.legend();"
   ]
  },
  {
   "cell_type": "markdown",
   "metadata": {},
   "source": [
    "### IG"
   ]
  },
  {
   "cell_type": "markdown",
   "metadata": {},
   "source": [
    "#### Get DF"
   ]
  },
  {
   "cell_type": "code",
   "execution_count": 21,
   "metadata": {},
   "outputs": [
    {
     "name": "stdout",
     "output_type": "stream",
     "text": [
      "            gbvs  gbvs_face_03  gbvs_face_05  gbvs_face_07        dg\n",
      "all     4.389129      4.401902      4.409638      4.407047  3.110164\n",
      "person  4.261897      4.283458      4.295767      4.291430  2.745240\n",
      "            gbvs  gbvs_face_03  gbvs_face_05  gbvs_face_07        dg\n",
      "all     2.754745      2.757972      2.756112      2.750730  3.645712\n",
      "person  2.806243      2.810237      2.807265      2.798518  3.934831\n"
     ]
    }
   ],
   "source": [
    "print(df_ig_mean.head(2))\n",
    "print(df_ig_std.head(2))"
   ]
  },
  {
   "cell_type": "code",
   "execution_count": 22,
   "metadata": {},
   "outputs": [],
   "source": [
    "dg_mean = df_ig_mean['dg']\n",
    "dg_std = df_ig_std['dg']"
   ]
  },
  {
   "cell_type": "code",
   "execution_count": 23,
   "metadata": {},
   "outputs": [],
   "source": [
    "gbvs_mean = df_ig_mean['gbvs']\n",
    "gbvs_std = df_ig_std['gbvs']"
   ]
  },
  {
   "cell_type": "code",
   "execution_count": 24,
   "metadata": {},
   "outputs": [],
   "source": [
    "gbvs_mean_f03 = df_ig_mean['gbvs_face_03']\n",
    "gbvs_std_f03 = df_ig_std['gbvs_face_03']"
   ]
  },
  {
   "cell_type": "code",
   "execution_count": 25,
   "metadata": {},
   "outputs": [],
   "source": [
    "gbvs_mean_f05 = df_ig_mean['gbvs_face_05']\n",
    "gbvs_std_f05 = df_ig_std['gbvs_face_05']"
   ]
  },
  {
   "cell_type": "code",
   "execution_count": 26,
   "metadata": {},
   "outputs": [],
   "source": [
    "gbvs_mean_f07 = df_ig_mean['gbvs_face_07']\n",
    "gbvs_std_f07 = df_ig_std['gbvs_face_07']"
   ]
  },
  {
   "cell_type": "markdown",
   "metadata": {},
   "source": [
    "#### Plot GBVS alone"
   ]
  },
  {
   "cell_type": "code",
   "execution_count": 27,
   "metadata": {},
   "outputs": [],
   "source": [
    "t = np.arange(0,6)\n",
    "d = 0.8\n",
    "m = 8"
   ]
  },
  {
   "cell_type": "code",
   "execution_count": 28,
   "metadata": {},
   "outputs": [],
   "source": [
    "matplotlib.rcParams.update({'font.size': 16})"
   ]
  },
  {
   "cell_type": "code",
   "execution_count": 34,
   "metadata": {},
   "outputs": [
    {
     "data": {
      "image/png": "[encoded data removed]",
      "text/plain": [
       "<Figure size 864x576 with 1 Axes>"
      ]
     },
     "metadata": {
      "needs_background": "light"
     },
     "output_type": "display_data"
    }
   ],
   "source": [
    "plt.subplots(figsize=(12,8))\n",
    "plt.plot(gbvs_mean, '-o', label='gbvs', linewidth=d, markersize=m);\n",
    "plt.errorbar(t, gbvs_mean, gbvs_std, linestyle='None')\n",
    "\n",
    "plt.grid()\n",
    "plt.yticks(np.arange(0, 10.1, step=0.5))\n",
    "plt.ylabel('SIM score')\n",
    "plt.xlabel('context')\n",
    "plt.legend();"
   ]
  },
  {
   "cell_type": "code",
   "execution_count": null,
   "metadata": {},
   "outputs": [],
   "source": []
  }
 ],
 "metadata": {
  "kernelspec": {
   "display_name": "saliency",
   "language": "python",
   "name": "myenv"
  },
  "language_info": {
   "codemirror_mode": {
    "name": "ipython",
    "version": 3
   },
   "file_extension": ".py",
   "mimetype": "text/x-python",
   "name": "python",
   "nbconvert_exporter": "python",
   "pygments_lexer": "ipython3",
   "version": "3.7.1"
  }
 },
 "nbformat": 4,
 "nbformat_minor": 2
}
