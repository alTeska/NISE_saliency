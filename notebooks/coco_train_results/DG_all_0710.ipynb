{
 "cells": [
  {
   "cell_type": "markdown",
   "metadata": {},
   "source": [
    "# Vis of DeepGaze resutls"
   ]
  },
  {
   "cell_type": "code",
   "execution_count": 2,
   "metadata": {},
   "outputs": [],
   "source": [
    "import os\n",
    "os.chdir('./data')"
   ]
  },
  {
   "cell_type": "code",
   "execution_count": 3,
   "metadata": {},
   "outputs": [],
   "source": [
    "import numpy as np\n",
    "import pickle\n",
    "import matplotlib.pyplot as plt\n",
    "import matplotlib.gridspec as gridspec\n",
    "import matplotlib\n",
    "\n",
    "import pandas as pd\n",
    "import seaborn as sns\n",
    "from glob import glob\n",
    "from tabulate import tabulate\n",
    "from IPython.display import Latex, display_html, display, HTML"
   ]
  },
  {
   "cell_type": "markdown",
   "metadata": {},
   "source": [
    "## load daa"
   ]
  },
  {
   "cell_type": "code",
   "execution_count": 4,
   "metadata": {},
   "outputs": [],
   "source": [
    "IG = pd.read_csv('IG'+'_mean_noface.csv', index_col=[0])\n",
    "SIM = pd.read_csv('SIM'+'_mean_noface.csv', index_col=[0])\n",
    "NSS = pd.read_csv('NSS'+'_mean_noface.csv', index_col=[0])\n",
    "AUC = pd.read_csv('AUC'+'_mean_noface.csv', index_col=[0])\n"
   ]
  },
  {
   "cell_type": "code",
   "execution_count": 5,
   "metadata": {},
   "outputs": [
    {
     "data": {
      "text/html": [
       "<div>\n",
       "<style scoped>\n",
       "    .dataframe tbody tr th:only-of-type {\n",
       "        vertical-align: middle;\n",
       "    }\n",
       "\n",
       "    .dataframe tbody tr th {\n",
       "        vertical-align: top;\n",
       "    }\n",
       "\n",
       "    .dataframe thead th {\n",
       "        text-align: right;\n",
       "    }\n",
       "</style>\n",
       "<table border=\"1\" class=\"dataframe\">\n",
       "  <thead>\n",
       "    <tr style=\"text-align: right;\">\n",
       "      <th></th>\n",
       "      <th>all</th>\n",
       "      <th>person</th>\n",
       "      <th>no person</th>\n",
       "      <th>animal</th>\n",
       "      <th>sports</th>\n",
       "      <th>electronic</th>\n",
       "    </tr>\n",
       "  </thead>\n",
       "  <tbody>\n",
       "    <tr>\n",
       "      <td>aim</td>\n",
       "      <td>0.394616</td>\n",
       "      <td>0.364064</td>\n",
       "      <td>0.451696</td>\n",
       "      <td>0.335876</td>\n",
       "      <td>0.323169</td>\n",
       "      <td>0.396621</td>\n",
       "    </tr>\n",
       "    <tr>\n",
       "      <td>cas</td>\n",
       "      <td>0.495140</td>\n",
       "      <td>0.472677</td>\n",
       "      <td>0.537109</td>\n",
       "      <td>0.430710</td>\n",
       "      <td>0.476040</td>\n",
       "      <td>0.478320</td>\n",
       "    </tr>\n",
       "    <tr>\n",
       "      <td>covsal</td>\n",
       "      <td>0.502877</td>\n",
       "      <td>0.487883</td>\n",
       "      <td>0.530890</td>\n",
       "      <td>0.486593</td>\n",
       "      <td>0.474478</td>\n",
       "      <td>0.483885</td>\n",
       "    </tr>\n",
       "    <tr>\n",
       "      <td>gbvs</td>\n",
       "      <td>0.542515</td>\n",
       "      <td>0.512920</td>\n",
       "      <td>0.597809</td>\n",
       "      <td>0.487240</td>\n",
       "      <td>0.499293</td>\n",
       "      <td>0.534094</td>\n",
       "    </tr>\n",
       "    <tr>\n",
       "      <td>icf</td>\n",
       "      <td>0.519075</td>\n",
       "      <td>0.498890</td>\n",
       "      <td>0.556787</td>\n",
       "      <td>0.457074</td>\n",
       "      <td>0.483482</td>\n",
       "      <td>0.505949</td>\n",
       "    </tr>\n",
       "    <tr>\n",
       "      <td>ik</td>\n",
       "      <td>0.445675</td>\n",
       "      <td>0.426353</td>\n",
       "      <td>0.481492</td>\n",
       "      <td>0.396768</td>\n",
       "      <td>0.413913</td>\n",
       "      <td>0.446081</td>\n",
       "    </tr>\n",
       "    <tr>\n",
       "      <td>sun</td>\n",
       "      <td>0.419288</td>\n",
       "      <td>0.387883</td>\n",
       "      <td>0.477965</td>\n",
       "      <td>0.346989</td>\n",
       "      <td>0.346531</td>\n",
       "      <td>0.419481</td>\n",
       "    </tr>\n",
       "    <tr>\n",
       "      <td>dg</td>\n",
       "      <td>0.650369</td>\n",
       "      <td>0.639309</td>\n",
       "      <td>0.671034</td>\n",
       "      <td>0.631222</td>\n",
       "      <td>0.641099</td>\n",
       "      <td>0.633137</td>\n",
       "    </tr>\n",
       "  </tbody>\n",
       "</table>\n",
       "</div>"
      ],
      "text/plain": [
       "             all    person  no person    animal    sports  electronic\n",
       "aim     0.394616  0.364064   0.451696  0.335876  0.323169    0.396621\n",
       "cas     0.495140  0.472677   0.537109  0.430710  0.476040    0.478320\n",
       "covsal  0.502877  0.487883   0.530890  0.486593  0.474478    0.483885\n",
       "gbvs    0.542515  0.512920   0.597809  0.487240  0.499293    0.534094\n",
       "icf     0.519075  0.498890   0.556787  0.457074  0.483482    0.505949\n",
       "ik      0.445675  0.426353   0.481492  0.396768  0.413913    0.446081\n",
       "sun     0.419288  0.387883   0.477965  0.346989  0.346531    0.419481\n",
       "dg      0.650369  0.639309   0.671034  0.631222  0.641099    0.633137"
      ]
     },
     "execution_count": 5,
     "metadata": {},
     "output_type": "execute_result"
    }
   ],
   "source": [
    "SIM"
   ]
  },
  {
   "cell_type": "code",
   "execution_count": 10,
   "metadata": {},
   "outputs": [],
   "source": [
    "sim = SIM.loc[['dg']]\n",
    "auc = AUC.loc[['dg']]\n",
    "nss = NSS.loc[['dg']]\n",
    "ig = IG.loc[['dg']]"
   ]
  },
  {
   "cell_type": "code",
   "execution_count": 13,
   "metadata": {},
   "outputs": [
    {
     "data": {
      "text/html": [
       "<div>\n",
       "<style scoped>\n",
       "    .dataframe tbody tr th:only-of-type {\n",
       "        vertical-align: middle;\n",
       "    }\n",
       "\n",
       "    .dataframe tbody tr th {\n",
       "        vertical-align: top;\n",
       "    }\n",
       "\n",
       "    .dataframe thead th {\n",
       "        text-align: right;\n",
       "    }\n",
       "</style>\n",
       "<table border=\"1\" class=\"dataframe\">\n",
       "  <thead>\n",
       "    <tr style=\"text-align: right;\">\n",
       "      <th></th>\n",
       "      <th>all</th>\n",
       "      <th>person</th>\n",
       "      <th>no person</th>\n",
       "      <th>animal</th>\n",
       "      <th>sports</th>\n",
       "      <th>electronic</th>\n",
       "    </tr>\n",
       "  </thead>\n",
       "  <tbody>\n",
       "    <tr>\n",
       "      <td>dg</td>\n",
       "      <td>3.623762</td>\n",
       "      <td>3.402096</td>\n",
       "      <td>4.037908</td>\n",
       "      <td>3.471155</td>\n",
       "      <td>2.74859</td>\n",
       "      <td>3.844617</td>\n",
       "    </tr>\n",
       "  </tbody>\n",
       "</table>\n",
       "</div>"
      ],
      "text/plain": [
       "         all    person  no person    animal   sports  electronic\n",
       "dg  3.623762  3.402096   4.037908  3.471155  2.74859    3.844617"
      ]
     },
     "execution_count": 13,
     "metadata": {},
     "output_type": "execute_result"
    }
   ],
   "source": [
    "ig"
   ]
  },
  {
   "cell_type": "code",
   "execution_count": 20,
   "metadata": {},
   "outputs": [
    {
     "data": {
      "text/plain": [
       "array([0.65036937, 0.639309  , 0.67103379, 0.6312223 , 0.64109887,\n",
       "       0.63313749])"
      ]
     },
     "execution_count": 20,
     "metadata": {},
     "output_type": "execute_result"
    }
   ],
   "source": [
    "sim.values[0]"
   ]
  },
  {
   "cell_type": "code",
   "execution_count": 24,
   "metadata": {},
   "outputs": [
    {
     "data": {
      "text/html": [
       "<div>\n",
       "<style scoped>\n",
       "    .dataframe tbody tr th:only-of-type {\n",
       "        vertical-align: middle;\n",
       "    }\n",
       "\n",
       "    .dataframe tbody tr th {\n",
       "        vertical-align: top;\n",
       "    }\n",
       "\n",
       "    .dataframe thead th {\n",
       "        text-align: right;\n",
       "    }\n",
       "</style>\n",
       "<table border=\"1\" class=\"dataframe\">\n",
       "  <thead>\n",
       "    <tr style=\"text-align: right;\">\n",
       "      <th></th>\n",
       "      <th>all</th>\n",
       "      <th>person</th>\n",
       "      <th>no person</th>\n",
       "      <th>animal</th>\n",
       "      <th>sports</th>\n",
       "      <th>electronic</th>\n",
       "    </tr>\n",
       "  </thead>\n",
       "  <tbody>\n",
       "    <tr>\n",
       "      <td>sim</td>\n",
       "      <td>0.650369</td>\n",
       "      <td>0.639309</td>\n",
       "      <td>0.671034</td>\n",
       "      <td>0.631222</td>\n",
       "      <td>0.641099</td>\n",
       "      <td>0.633137</td>\n",
       "    </tr>\n",
       "    <tr>\n",
       "      <td>auc</td>\n",
       "      <td>0.774691</td>\n",
       "      <td>0.785386</td>\n",
       "      <td>0.754710</td>\n",
       "      <td>0.782197</td>\n",
       "      <td>0.802257</td>\n",
       "      <td>0.770191</td>\n",
       "    </tr>\n",
       "    <tr>\n",
       "      <td>nss</td>\n",
       "      <td>1.149773</td>\n",
       "      <td>1.228926</td>\n",
       "      <td>1.001891</td>\n",
       "      <td>1.282687</td>\n",
       "      <td>1.357659</td>\n",
       "      <td>1.140596</td>\n",
       "    </tr>\n",
       "    <tr>\n",
       "      <td>ig</td>\n",
       "      <td>3.623762</td>\n",
       "      <td>3.402096</td>\n",
       "      <td>4.037908</td>\n",
       "      <td>3.471155</td>\n",
       "      <td>2.748590</td>\n",
       "      <td>3.844617</td>\n",
       "    </tr>\n",
       "  </tbody>\n",
       "</table>\n",
       "</div>"
      ],
      "text/plain": [
       "          all    person  no person    animal    sports  electronic\n",
       "sim  0.650369  0.639309   0.671034  0.631222  0.641099    0.633137\n",
       "auc  0.774691  0.785386   0.754710  0.782197  0.802257    0.770191\n",
       "nss  1.149773  1.228926   1.001891  1.282687  1.357659    1.140596\n",
       "ig   3.623762  3.402096   4.037908  3.471155  2.748590    3.844617"
      ]
     },
     "execution_count": 24,
     "metadata": {},
     "output_type": "execute_result"
    }
   ],
   "source": [
    "DG = pd.DataFrame([sim.values[0], auc.values[0], nss.values[0], ig.values[0]],\n",
    "                  index=['sim', 'auc', 'nss', 'ig'], \n",
    "                  columns=['all', 'person', 'no person', 'animal', 'sports', 'electronic'])\n",
    "DG"
   ]
  },
  {
   "cell_type": "code",
   "execution_count": 28,
   "metadata": {},
   "outputs": [
    {
     "data": {
      "image/png": "[encoded data removed]",
      "text/plain": [
       "<Figure size 504x432 with 2 Axes>"
      ]
     },
     "metadata": {
      "needs_background": "light"
     },
     "output_type": "display_data"
    }
   ],
   "source": [
    "matplotlib.rcParams.update({'font.size': 14})\n",
    "\n",
    "f, ax = plt.subplots(figsize=(7, 6))\n",
    "\n",
    "sns.heatmap(DG.transpose(), annot=True, linewidths=.5, ax=ax,fmt='.3f', cmap='BuGn');\n",
    "plt.xlabel('metric')\n",
    "plt.ylabel('context')\n",
    "plt.title('{} scores'.format('DG'));\n",
    "\n",
    "plt.savefig('../plots/DG_scores.png', bbox_inches='tight', pad_inches=0)"
   ]
  }
 ],
 "metadata": {
  "kernelspec": {
   "display_name": "saliency",
   "language": "python",
   "name": "myenv"
  },
  "language_info": {
   "codemirror_mode": {
    "name": "ipython",
    "version": 3
   },
   "file_extension": ".py",
   "mimetype": "text/x-python",
   "name": "python",
   "nbconvert_exporter": "python",
   "pygments_lexer": "ipython3",
   "version": "3.7.1"
  }
 },
 "nbformat": 4,
 "nbformat_minor": 2
}
