{
 "cells": [
  {
   "cell_type": "code",
   "execution_count": 1,
   "metadata": {},
   "outputs": [],
   "source": [
    "import pickle\n",
    "import numpy as np\n",
    "import pandas as pd"
   ]
  },
  {
   "cell_type": "code",
   "execution_count": 2,
   "metadata": {},
   "outputs": [],
   "source": [
    "(results, cxt, mod, labels) = pickle.load(open( \"2019-10-01_ik.p\", \"rb\"))\n"
   ]
  },
  {
   "cell_type": "code",
   "execution_count": 3,
   "metadata": {},
   "outputs": [
    {
     "data": {
      "text/plain": [
       "array([[[0.56166144, 0.44567521, 3.82666954, 0.65694024, 0.47597746,\n",
       "         0.10210581, 2.91156308, 0.10896756],\n",
       "        [0.60338197, 0.45166132, 3.8090301 , 0.6623151 , 0.49445477,\n",
       "         0.0993885 , 3.07199158, 0.10937179],\n",
       "        [0.63294667, 0.45788886, 3.79959453, 0.66351779, 0.52887843,\n",
       "         0.09878149, 3.07558573, 0.1098843 ],\n",
       "        [0.65061199, 0.46529965, 3.77048596, 0.66432851, 0.56508064,\n",
       "         0.10050261, 3.08681174, 0.11007638]],\n",
       "\n",
       "       [[0.60861898, 0.42635277, 3.77188332, 0.66928755, 0.48453264,\n",
       "         0.0969193 , 2.87157769, 0.10803962],\n",
       "        [0.67222366, 0.4355262 , 3.74472952, 0.67746429, 0.50485118,\n",
       "         0.09426543, 3.11733718, 0.10763104],\n",
       "        [0.7175495 , 0.44508487, 3.73133231, 0.67929981, 0.54935325,\n",
       "         0.09479127, 3.1225228 , 0.10816319],\n",
       "        [0.74491398, 0.45654769, 3.68835035, 0.68052805, 0.59764438,\n",
       "         0.09882399, 3.1381614 , 0.10828821]],\n",
       "\n",
       "       [[0.47461855, 0.48149229, 3.9282241 , 0.63387139, 0.44683182,\n",
       "         0.10180414, 2.9816041 , 0.10692587],\n",
       "        [0.47545679, 0.48164445, 3.92851677, 0.6340114 , 0.44722292,\n",
       "         0.10168029, 2.9822202 , 0.10694892],\n",
       "        [0.4757333 , 0.48168191, 3.92644291, 0.63403178, 0.44796402,\n",
       "         0.10159891, 2.98225979, 0.10696232],\n",
       "        [0.47537514, 0.48156298, 3.92311463, 0.63406241, 0.44913761,\n",
       "         0.10156625, 2.98304949, 0.10695797]],\n",
       "\n",
       "       [[0.57526541, 0.39676777, 3.56299174, 0.65609005, 0.5194747 ,\n",
       "         0.10227714, 2.87880772, 0.1152919 ],\n",
       "        [0.5905022 , 0.39902589, 3.56853476, 0.6580866 , 0.52184489,\n",
       "         0.10182659, 2.88614718, 0.11509968],\n",
       "        [0.60252074, 0.40155784, 3.56107943, 0.65858544, 0.53107654,\n",
       "         0.10218353, 2.89610863, 0.11508559],\n",
       "        [0.61040214, 0.40478026, 3.54647939, 0.65903735, 0.54412706,\n",
       "         0.10361286, 2.91062866, 0.11500758]],\n",
       "\n",
       "       [[0.80269671, 0.41391319, 3.6903234 , 0.6928479 , 0.55247484,\n",
       "         0.0927548 , 2.95146139, 0.11066764],\n",
       "        [0.83032919, 0.41733694, 3.60136365, 0.69554857, 0.55931481,\n",
       "         0.0924973 , 3.40275938, 0.11053281],\n",
       "        [0.85040725, 0.42136844, 3.59103434, 0.69629112, 0.57943734,\n",
       "         0.0936826 , 3.39931188, 0.11079159],\n",
       "        [0.86261925, 0.42657812, 3.5698757 , 0.69687085, 0.60398119,\n",
       "         0.09678727, 3.40543934, 0.11085702]],\n",
       "\n",
       "       [[0.54177278, 0.44608101, 3.87930392, 0.65703579, 0.46146479,\n",
       "         0.09957622, 2.90223187, 0.10864234],\n",
       "        [0.60169532, 0.4549691 , 3.86806225, 0.6639651 , 0.49584662,\n",
       "         0.09557749, 3.03012549, 0.10955962],\n",
       "        [0.64387633, 0.46422823, 3.8475829 , 0.66555101, 0.54399597,\n",
       "         0.09430293, 3.03932246, 0.11007603],\n",
       "        [0.66860834, 0.47494181, 3.79088671, 0.66673287, 0.59194018,\n",
       "         0.09562164, 3.06732261, 0.11024368]]])"
      ]
     },
     "execution_count": 3,
     "metadata": {},
     "output_type": "execute_result"
    }
   ],
   "source": [
    "results"
   ]
  },
  {
   "cell_type": "code",
   "execution_count": 4,
   "metadata": {},
   "outputs": [
    {
     "data": {
      "text/plain": [
       "['all', 'person', 'no person', 'animal', 'sports', 'electronic']"
      ]
     },
     "execution_count": 4,
     "metadata": {},
     "output_type": "execute_result"
    }
   ],
   "source": [
    "cxt"
   ]
  },
  {
   "cell_type": "code",
   "execution_count": 5,
   "metadata": {},
   "outputs": [
    {
     "data": {
      "text/plain": [
       "['ik', 'ik_face_03', 'ik_face_05', 'ik_face_07']"
      ]
     },
     "execution_count": 5,
     "metadata": {},
     "output_type": "execute_result"
    }
   ],
   "source": [
    "mod"
   ]
  },
  {
   "cell_type": "code",
   "execution_count": 6,
   "metadata": {},
   "outputs": [
    {
     "data": {
      "text/plain": [
       "['nss mean',\n",
       " 'sim mean',\n",
       " 'ig mean',\n",
       " 'auc mean',\n",
       " 'nss std',\n",
       " 'sim std',\n",
       " 'ig std',\n",
       " 'auc std']"
      ]
     },
     "execution_count": 6,
     "metadata": {},
     "output_type": "execute_result"
    }
   ],
   "source": [
    "labels"
   ]
  },
  {
   "cell_type": "code",
   "execution_count": 7,
   "metadata": {},
   "outputs": [
    {
     "data": {
      "text/plain": [
       "(6, 4, 8)"
      ]
     },
     "execution_count": 7,
     "metadata": {},
     "output_type": "execute_result"
    }
   ],
   "source": [
    "np.shape(results)"
   ]
  },
  {
   "cell_type": "markdown",
   "metadata": {},
   "source": [
    "## Split by metric"
   ]
  },
  {
   "cell_type": "code",
   "execution_count": 8,
   "metadata": {},
   "outputs": [],
   "source": [
    "ik_nss_mean = results[:,:,0]\n",
    "ik_sim_mean = results[:,:,1]\n",
    "ik_ig_mean = results[:,:,2]\n",
    "ik_auc_mean = results[:,:,3]\n",
    "ik_nss_std = results[:,:,4]\n",
    "ik_sim_std = results[:,:,5]\n",
    "ik_ig_std = results[:,:,6]\n",
    "ik_auc_std = results[:,:,7]"
   ]
  },
  {
   "cell_type": "code",
   "execution_count": 9,
   "metadata": {},
   "outputs": [
    {
     "data": {
      "text/plain": [
       "array([[0.56166144, 0.60338197, 0.63294667, 0.65061199],\n",
       "       [0.60861898, 0.67222366, 0.7175495 , 0.74491398],\n",
       "       [0.47461855, 0.47545679, 0.4757333 , 0.47537514],\n",
       "       [0.57526541, 0.5905022 , 0.60252074, 0.61040214],\n",
       "       [0.80269671, 0.83032919, 0.85040725, 0.86261925],\n",
       "       [0.54177278, 0.60169532, 0.64387633, 0.66860834]])"
      ]
     },
     "execution_count": 9,
     "metadata": {},
     "output_type": "execute_result"
    }
   ],
   "source": [
    "ik_nss_mean"
   ]
  },
  {
   "cell_type": "code",
   "execution_count": 10,
   "metadata": {},
   "outputs": [],
   "source": [
    "IK_nss_m = pd.DataFrame(data=ik_nss_mean, columns=mod, index=cxt)\n",
    "IK_sim_m = pd.DataFrame(data=ik_sim_mean, columns=mod, index=cxt)\n",
    "IK_ig_m = pd.DataFrame(data=ik_ig_mean, columns=mod, index=cxt)\n",
    "IK_auc_m = pd.DataFrame(data=ik_auc_mean, columns=mod, index=cxt)\n",
    "IK_nss_s = pd.DataFrame(data=ik_nss_std, columns=mod, index=cxt)\n",
    "IK_sim_s = pd.DataFrame(data=ik_sim_std, columns=mod, index=cxt)\n",
    "IK_ig_s  = pd.DataFrame(data=ik_ig_std, columns=mod, index=cxt)\n",
    "IK_auc_s = pd.DataFrame(data=ik_auc_std, columns=mod, index=cxt)\n"
   ]
  },
  {
   "cell_type": "code",
   "execution_count": 11,
   "metadata": {},
   "outputs": [],
   "source": [
    "IK_nss_m.to_csv('IK_nss_m.csv')\n",
    "IK_sim_m.to_csv('IK_sim_m.csv')\n",
    "IK_ig_m.to_csv('IK_ig_m.csv')\n",
    "IK_auc_m.to_csv('IK_auc_m.csv')\n",
    "IK_nss_s.to_csv('IK_nss_s.csv')\n",
    "IK_sim_s.to_csv('IK_sim_s.csv')\n",
    "IK_ig_s.to_csv('IK_ig_s.csv')\n",
    "IK_auc_s.to_csv('IK_auc_s.csv')"
   ]
  },
  {
   "cell_type": "code",
   "execution_count": null,
   "metadata": {},
   "outputs": [],
   "source": []
  }
 ],
 "metadata": {
  "kernelspec": {
   "display_name": "saliency",
   "language": "python",
   "name": "myenv"
  },
  "language_info": {
   "codemirror_mode": {
    "name": "ipython",
    "version": 3
   },
   "file_extension": ".py",
   "mimetype": "text/x-python",
   "name": "python",
   "nbconvert_exporter": "python",
   "pygments_lexer": "ipython3",
   "version": "3.7.1"
  }
 },
 "nbformat": 4,
 "nbformat_minor": 2
}
