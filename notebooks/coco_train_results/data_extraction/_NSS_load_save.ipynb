{
 "cells": [
  {
   "cell_type": "code",
   "execution_count": 1,
   "metadata": {},
   "outputs": [],
   "source": [
    "import pickle\n",
    "import numpy as np\n",
    "import pandas as pd"
   ]
  },
  {
   "cell_type": "code",
   "execution_count": 2,
   "metadata": {},
   "outputs": [],
   "source": [
    "cxt = ['all', 'person', 'no person', 'animal', 'sports', 'electronic']"
   ]
  },
  {
   "cell_type": "code",
   "execution_count": 3,
   "metadata": {},
   "outputs": [],
   "source": [
    "AIM_nss_m = pd.read_csv('AIM_nss_m.csv', index_col=[0])\n",
    "CAS_nss_m = pd.read_csv('CAS_nss_m.csv', index_col=[0])\n",
    "COVSAL_nss_m = pd.read_csv('COVSAL_nss_m.csv', index_col=[0])\n",
    "GBVS_nss_m = pd.read_csv('GBVS_nss_m.csv', index_col=[0])\n",
    "ICF_nss_m = pd.read_csv('ICF_nss_m.csv', index_col=[0])\n",
    "IK_nss_m = pd.read_csv('IK_nss_m.csv', index_col=[0])\n",
    "SUN_nss_m = pd.read_csv('SUN_nss_m.csv', index_col=[0])\n",
    "\n",
    "AIM_nss_s = pd.read_csv('AIM_nss_s.csv', index_col=[0])\n",
    "CAS_nss_s = pd.read_csv('CAS_nss_s.csv', index_col=[0])\n",
    "COVSAL_nss_s = pd.read_csv('COVSAL_nss_s.csv', index_col=[0])\n",
    "GBVS_nss_s = pd.read_csv('GBVS_nss_s.csv', index_col=[0])\n",
    "ICF_nss_s = pd.read_csv('ICF_nss_s.csv', index_col=[0])\n",
    "IK_nss_s = pd.read_csv('IK_nss_s.csv', index_col=[0])\n",
    "SUN_nss_s = pd.read_csv('SUN_nss_s.csv', index_col=[0])"
   ]
  },
  {
   "cell_type": "code",
   "execution_count": 4,
   "metadata": {},
   "outputs": [
    {
     "data": {
      "text/html": [
       "<div>\n",
       "<style scoped>\n",
       "    .dataframe tbody tr th:only-of-type {\n",
       "        vertical-align: middle;\n",
       "    }\n",
       "\n",
       "    .dataframe tbody tr th {\n",
       "        vertical-align: top;\n",
       "    }\n",
       "\n",
       "    .dataframe thead th {\n",
       "        text-align: right;\n",
       "    }\n",
       "</style>\n",
       "<table border=\"1\" class=\"dataframe\">\n",
       "  <thead>\n",
       "    <tr style=\"text-align: right;\">\n",
       "      <th></th>\n",
       "      <th>cas</th>\n",
       "      <th>cas_face_03</th>\n",
       "      <th>cas_face_05</th>\n",
       "      <th>cas_face_07</th>\n",
       "    </tr>\n",
       "  </thead>\n",
       "  <tbody>\n",
       "    <tr>\n",
       "      <td>all</td>\n",
       "      <td>0.719443</td>\n",
       "      <td>0.744556</td>\n",
       "      <td>0.768248</td>\n",
       "      <td>0.792506</td>\n",
       "    </tr>\n",
       "    <tr>\n",
       "      <td>person</td>\n",
       "      <td>0.771702</td>\n",
       "      <td>0.809999</td>\n",
       "      <td>0.846261</td>\n",
       "      <td>0.883629</td>\n",
       "    </tr>\n",
       "    <tr>\n",
       "      <td>no person</td>\n",
       "      <td>0.621808</td>\n",
       "      <td>0.622288</td>\n",
       "      <td>0.622494</td>\n",
       "      <td>0.622260</td>\n",
       "    </tr>\n",
       "    <tr>\n",
       "      <td>animal</td>\n",
       "      <td>0.696104</td>\n",
       "      <td>0.705388</td>\n",
       "      <td>0.714264</td>\n",
       "      <td>0.723658</td>\n",
       "    </tr>\n",
       "    <tr>\n",
       "      <td>sports</td>\n",
       "      <td>1.012180</td>\n",
       "      <td>1.027586</td>\n",
       "      <td>1.041621</td>\n",
       "      <td>1.055086</td>\n",
       "    </tr>\n",
       "    <tr>\n",
       "      <td>electronic</td>\n",
       "      <td>0.640541</td>\n",
       "      <td>0.677035</td>\n",
       "      <td>0.711811</td>\n",
       "      <td>0.748409</td>\n",
       "    </tr>\n",
       "  </tbody>\n",
       "</table>\n",
       "</div>"
      ],
      "text/plain": [
       "                 cas  cas_face_03  cas_face_05  cas_face_07\n",
       "all         0.719443     0.744556     0.768248     0.792506\n",
       "person      0.771702     0.809999     0.846261     0.883629\n",
       "no person   0.621808     0.622288     0.622494     0.622260\n",
       "animal      0.696104     0.705388     0.714264     0.723658\n",
       "sports      1.012180     1.027586     1.041621     1.055086\n",
       "electronic  0.640541     0.677035     0.711811     0.748409"
      ]
     },
     "execution_count": 4,
     "metadata": {},
     "output_type": "execute_result"
    }
   ],
   "source": [
    "CAS_nss_m"
   ]
  },
  {
   "cell_type": "markdown",
   "metadata": {},
   "source": [
    "## Save per metric"
   ]
  },
  {
   "cell_type": "markdown",
   "metadata": {},
   "source": [
    "### Mean value"
   ]
  },
  {
   "cell_type": "code",
   "execution_count": 5,
   "metadata": {},
   "outputs": [],
   "source": [
    "labels = ['aim', 'cas','covsal','gbvs','icf','ik','sun',]"
   ]
  },
  {
   "cell_type": "code",
   "execution_count": 6,
   "metadata": {},
   "outputs": [],
   "source": [
    "no_face = [\n",
    "  AIM_nss_m['aim'].tolist(), \n",
    "  CAS_nss_m['cas'].tolist(),\n",
    "  COVSAL_nss_m['covsal'].tolist(),\n",
    "  GBVS_nss_m['gbvs'].tolist(),\n",
    "  ICF_nss_m['icf'].tolist(),\n",
    "  IK_nss_m['ik'].tolist(),\n",
    "  SUN_nss_m['sun'].tolist(),\n",
    "  ICF_nss_m['dg'].tolist(),\n",
    "  ]\n",
    "\n",
    "face_03 = [\n",
    "  AIM_nss_m['aim_face_03'].tolist(), \n",
    "  CAS_nss_m['cas_face_03'].tolist(),\n",
    "  COVSAL_nss_m['covsal_face_03'].tolist(),\n",
    "  GBVS_nss_m['gbvs_face_03'].tolist(),\n",
    "  ICF_nss_m['icf_face_03'].tolist(),\n",
    "  IK_nss_m['ik_face_03'].tolist(),\n",
    "  SUN_nss_m['sun_face_03'].tolist(),\n",
    "  ]\n",
    "\n",
    "face_05 = [\n",
    "  AIM_nss_m['aim_face_05'].tolist(), \n",
    "  CAS_nss_m['cas_face_05'].tolist(),\n",
    "  COVSAL_nss_m['covsal_face_05'].tolist(),\n",
    "  GBVS_nss_m['gbvs_face_05'].tolist(),\n",
    "  ICF_nss_m['icf_face_05'].tolist(),\n",
    "  IK_nss_m['ik_face_05'].tolist(),\n",
    "  SUN_nss_m['sun_face_05'].tolist(),\n",
    "  ]\n",
    "\n",
    "face_07 = [\n",
    "  AIM_nss_m['aim_face_07'].tolist(), \n",
    "  CAS_nss_m['cas_face_07'].tolist(),\n",
    "  COVSAL_nss_m['covsal_face_07'].tolist(),\n",
    "  GBVS_nss_m['gbvs_face_07'].tolist(),\n",
    "  ICF_nss_m['icf_face_07'].tolist(),\n",
    "  IK_nss_m['ik_face_07'].tolist(),\n",
    "  SUN_nss_m['sun_face_07'].tolist(),\n",
    "  ]"
   ]
  },
  {
   "cell_type": "code",
   "execution_count": 7,
   "metadata": {},
   "outputs": [
    {
     "data": {
      "text/html": [
       "<div>\n",
       "<style scoped>\n",
       "    .dataframe tbody tr th:only-of-type {\n",
       "        vertical-align: middle;\n",
       "    }\n",
       "\n",
       "    .dataframe tbody tr th {\n",
       "        vertical-align: top;\n",
       "    }\n",
       "\n",
       "    .dataframe thead th {\n",
       "        text-align: right;\n",
       "    }\n",
       "</style>\n",
       "<table border=\"1\" class=\"dataframe\">\n",
       "  <thead>\n",
       "    <tr style=\"text-align: right;\">\n",
       "      <th></th>\n",
       "      <th>icf</th>\n",
       "      <th>icf_face_03</th>\n",
       "      <th>icf_face_05</th>\n",
       "      <th>icf_face_07</th>\n",
       "      <th>dg</th>\n",
       "    </tr>\n",
       "  </thead>\n",
       "  <tbody>\n",
       "    <tr>\n",
       "      <td>all</td>\n",
       "      <td>0.811905</td>\n",
       "      <td>0.834961</td>\n",
       "      <td>0.849549</td>\n",
       "      <td>0.856242</td>\n",
       "      <td>1.149773</td>\n",
       "    </tr>\n",
       "    <tr>\n",
       "      <td>person</td>\n",
       "      <td>0.869747</td>\n",
       "      <td>0.904859</td>\n",
       "      <td>0.927238</td>\n",
       "      <td>0.937930</td>\n",
       "      <td>1.228926</td>\n",
       "    </tr>\n",
       "    <tr>\n",
       "      <td>no person</td>\n",
       "      <td>0.703839</td>\n",
       "      <td>0.704367</td>\n",
       "      <td>0.704400</td>\n",
       "      <td>0.703622</td>\n",
       "      <td>1.001891</td>\n",
       "    </tr>\n",
       "    <tr>\n",
       "      <td>animal</td>\n",
       "      <td>0.799496</td>\n",
       "      <td>0.807457</td>\n",
       "      <td>0.812861</td>\n",
       "      <td>0.815511</td>\n",
       "      <td>1.282687</td>\n",
       "    </tr>\n",
       "    <tr>\n",
       "      <td>sports</td>\n",
       "      <td>0.987172</td>\n",
       "      <td>1.003500</td>\n",
       "      <td>1.014343</td>\n",
       "      <td>1.019224</td>\n",
       "      <td>1.357659</td>\n",
       "    </tr>\n",
       "    <tr>\n",
       "      <td>electronic</td>\n",
       "      <td>0.776712</td>\n",
       "      <td>0.812489</td>\n",
       "      <td>0.835401</td>\n",
       "      <td>0.845359</td>\n",
       "      <td>1.140596</td>\n",
       "    </tr>\n",
       "  </tbody>\n",
       "</table>\n",
       "</div>"
      ],
      "text/plain": [
       "                 icf  icf_face_03  icf_face_05  icf_face_07        dg\n",
       "all         0.811905     0.834961     0.849549     0.856242  1.149773\n",
       "person      0.869747     0.904859     0.927238     0.937930  1.228926\n",
       "no person   0.703839     0.704367     0.704400     0.703622  1.001891\n",
       "animal      0.799496     0.807457     0.812861     0.815511  1.282687\n",
       "sports      0.987172     1.003500     1.014343     1.019224  1.357659\n",
       "electronic  0.776712     0.812489     0.835401     0.845359  1.140596"
      ]
     },
     "execution_count": 7,
     "metadata": {},
     "output_type": "execute_result"
    }
   ],
   "source": [
    "ICF_nss_m"
   ]
  },
  {
   "cell_type": "code",
   "execution_count": 8,
   "metadata": {},
   "outputs": [],
   "source": [
    "NSS_mean_noface = pd.DataFrame(data=no_face, index=labels+['dg'], columns=cxt)\n",
    "NSS_mean_face_03 = pd.DataFrame(data=face_03, index=labels, columns=cxt)\n",
    "NSS_mean_face_05 = pd.DataFrame(data=face_05, index=labels, columns=cxt)\n",
    "NSS_mean_face_07 = pd.DataFrame(data=face_07, index=labels, columns=cxt)"
   ]
  },
  {
   "cell_type": "code",
   "execution_count": 9,
   "metadata": {},
   "outputs": [
    {
     "data": {
      "text/html": [
       "<div>\n",
       "<style scoped>\n",
       "    .dataframe tbody tr th:only-of-type {\n",
       "        vertical-align: middle;\n",
       "    }\n",
       "\n",
       "    .dataframe tbody tr th {\n",
       "        vertical-align: top;\n",
       "    }\n",
       "\n",
       "    .dataframe thead th {\n",
       "        text-align: right;\n",
       "    }\n",
       "</style>\n",
       "<table border=\"1\" class=\"dataframe\">\n",
       "  <thead>\n",
       "    <tr style=\"text-align: right;\">\n",
       "      <th></th>\n",
       "      <th>all</th>\n",
       "      <th>person</th>\n",
       "      <th>no person</th>\n",
       "      <th>animal</th>\n",
       "      <th>sports</th>\n",
       "      <th>electronic</th>\n",
       "    </tr>\n",
       "  </thead>\n",
       "  <tbody>\n",
       "    <tr>\n",
       "      <td>aim</td>\n",
       "      <td>0.598907</td>\n",
       "      <td>0.629107</td>\n",
       "      <td>0.542482</td>\n",
       "      <td>0.571714</td>\n",
       "      <td>0.756058</td>\n",
       "      <td>0.571748</td>\n",
       "    </tr>\n",
       "    <tr>\n",
       "      <td>cas</td>\n",
       "      <td>0.719443</td>\n",
       "      <td>0.771702</td>\n",
       "      <td>0.621808</td>\n",
       "      <td>0.696104</td>\n",
       "      <td>1.012180</td>\n",
       "      <td>0.640541</td>\n",
       "    </tr>\n",
       "    <tr>\n",
       "      <td>covsal</td>\n",
       "      <td>0.822513</td>\n",
       "      <td>0.851401</td>\n",
       "      <td>0.768540</td>\n",
       "      <td>0.880854</td>\n",
       "      <td>0.953429</td>\n",
       "      <td>0.772547</td>\n",
       "    </tr>\n",
       "    <tr>\n",
       "      <td>gbvs</td>\n",
       "      <td>0.936297</td>\n",
       "      <td>0.977846</td>\n",
       "      <td>0.858669</td>\n",
       "      <td>0.976046</td>\n",
       "      <td>1.158277</td>\n",
       "      <td>0.895368</td>\n",
       "    </tr>\n",
       "    <tr>\n",
       "      <td>icf</td>\n",
       "      <td>0.811905</td>\n",
       "      <td>0.869747</td>\n",
       "      <td>0.703839</td>\n",
       "      <td>0.799496</td>\n",
       "      <td>0.987172</td>\n",
       "      <td>0.776712</td>\n",
       "    </tr>\n",
       "    <tr>\n",
       "      <td>ik</td>\n",
       "      <td>0.561661</td>\n",
       "      <td>0.608619</td>\n",
       "      <td>0.474619</td>\n",
       "      <td>0.575265</td>\n",
       "      <td>0.802697</td>\n",
       "      <td>0.541773</td>\n",
       "    </tr>\n",
       "    <tr>\n",
       "      <td>sun</td>\n",
       "      <td>0.444430</td>\n",
       "      <td>0.446666</td>\n",
       "      <td>0.440253</td>\n",
       "      <td>0.333627</td>\n",
       "      <td>0.508835</td>\n",
       "      <td>0.448241</td>\n",
       "    </tr>\n",
       "    <tr>\n",
       "      <td>dg</td>\n",
       "      <td>1.149773</td>\n",
       "      <td>1.228926</td>\n",
       "      <td>1.001891</td>\n",
       "      <td>1.282687</td>\n",
       "      <td>1.357659</td>\n",
       "      <td>1.140596</td>\n",
       "    </tr>\n",
       "  </tbody>\n",
       "</table>\n",
       "</div>"
      ],
      "text/plain": [
       "             all    person  no person    animal    sports  electronic\n",
       "aim     0.598907  0.629107   0.542482  0.571714  0.756058    0.571748\n",
       "cas     0.719443  0.771702   0.621808  0.696104  1.012180    0.640541\n",
       "covsal  0.822513  0.851401   0.768540  0.880854  0.953429    0.772547\n",
       "gbvs    0.936297  0.977846   0.858669  0.976046  1.158277    0.895368\n",
       "icf     0.811905  0.869747   0.703839  0.799496  0.987172    0.776712\n",
       "ik      0.561661  0.608619   0.474619  0.575265  0.802697    0.541773\n",
       "sun     0.444430  0.446666   0.440253  0.333627  0.508835    0.448241\n",
       "dg      1.149773  1.228926   1.001891  1.282687  1.357659    1.140596"
      ]
     },
     "execution_count": 9,
     "metadata": {},
     "output_type": "execute_result"
    }
   ],
   "source": [
    "NSS_mean_noface"
   ]
  },
  {
   "cell_type": "markdown",
   "metadata": {},
   "source": [
    "### Std"
   ]
  },
  {
   "cell_type": "code",
   "execution_count": 10,
   "metadata": {},
   "outputs": [],
   "source": [
    "no_face = [\n",
    "  AIM_nss_s['aim'].tolist(), \n",
    "  CAS_nss_s['cas'].tolist(),\n",
    "  COVSAL_nss_s['covsal'].tolist(),\n",
    "  GBVS_nss_s['gbvs'].tolist(),\n",
    "  ICF_nss_s['icf'].tolist(),\n",
    "  IK_nss_s['ik'].tolist(),\n",
    "  SUN_nss_s['sun'].tolist(),\n",
    "  ICF_nss_s['dg'].tolist(),\n",
    "  ]\n",
    "\n",
    "face_03 = [\n",
    "  AIM_nss_s['aim_face_03'].tolist(), \n",
    "  CAS_nss_s['cas_face_03'].tolist(),\n",
    "  COVSAL_nss_s['covsal_face_03'].tolist(),\n",
    "  GBVS_nss_s['gbvs_face_03'].tolist(),\n",
    "  ICF_nss_s['icf_face_03'].tolist(),\n",
    "  IK_nss_s['ik_face_03'].tolist(),\n",
    "  SUN_nss_s['sun_face_03'].tolist(),\n",
    "  ]\n",
    "\n",
    "face_05 = [\n",
    "  AIM_nss_s['aim_face_05'].tolist(), \n",
    "  CAS_nss_s['cas_face_05'].tolist(),\n",
    "  COVSAL_nss_s['covsal_face_05'].tolist(),\n",
    "  GBVS_nss_s['gbvs_face_05'].tolist(),\n",
    "  ICF_nss_s['icf_face_05'].tolist(),\n",
    "  IK_nss_s['ik_face_05'].tolist(),\n",
    "  SUN_nss_s['sun_face_05'].tolist(),\n",
    "  ]\n",
    "\n",
    "face_07 = [\n",
    "  AIM_nss_s['aim_face_07'].tolist(), \n",
    "  CAS_nss_s['cas_face_07'].tolist(),\n",
    "  COVSAL_nss_s['covsal_face_07'].tolist(),\n",
    "  GBVS_nss_s['gbvs_face_07'].tolist(),\n",
    "  ICF_nss_s['icf_face_07'].tolist(),\n",
    "  IK_nss_s['ik_face_07'].tolist(),\n",
    "  SUN_nss_s['sun_face_07'].tolist(),\n",
    "  ]"
   ]
  },
  {
   "cell_type": "code",
   "execution_count": 11,
   "metadata": {},
   "outputs": [],
   "source": [
    "NSS_std_noface = pd.DataFrame(data=no_face, index=labels+['dg'], columns=cxt)\n",
    "NSS_std_face_03 = pd.DataFrame(data=face_03, index=labels, columns=cxt)\n",
    "NSS_std_face_05 = pd.DataFrame(data=face_05, index=labels, columns=cxt)\n",
    "NSS_std_face_07 = pd.DataFrame(data=face_07, index=labels, columns=cxt)"
   ]
  },
  {
   "cell_type": "code",
   "execution_count": 12,
   "metadata": {},
   "outputs": [
    {
     "data": {
      "text/html": [
       "<div>\n",
       "<style scoped>\n",
       "    .dataframe tbody tr th:only-of-type {\n",
       "        vertical-align: middle;\n",
       "    }\n",
       "\n",
       "    .dataframe tbody tr th {\n",
       "        vertical-align: top;\n",
       "    }\n",
       "\n",
       "    .dataframe thead th {\n",
       "        text-align: right;\n",
       "    }\n",
       "</style>\n",
       "<table border=\"1\" class=\"dataframe\">\n",
       "  <thead>\n",
       "    <tr style=\"text-align: right;\">\n",
       "      <th></th>\n",
       "      <th>all</th>\n",
       "      <th>person</th>\n",
       "      <th>no person</th>\n",
       "      <th>animal</th>\n",
       "      <th>sports</th>\n",
       "      <th>electronic</th>\n",
       "    </tr>\n",
       "  </thead>\n",
       "  <tbody>\n",
       "    <tr>\n",
       "      <td>aim</td>\n",
       "      <td>0.345546</td>\n",
       "      <td>0.348241</td>\n",
       "      <td>0.333199</td>\n",
       "      <td>0.365187</td>\n",
       "      <td>0.398230</td>\n",
       "      <td>0.323323</td>\n",
       "    </tr>\n",
       "    <tr>\n",
       "      <td>cas</td>\n",
       "      <td>0.495912</td>\n",
       "      <td>0.507008</td>\n",
       "      <td>0.458805</td>\n",
       "      <td>0.536700</td>\n",
       "      <td>0.572141</td>\n",
       "      <td>0.447308</td>\n",
       "    </tr>\n",
       "    <tr>\n",
       "      <td>covsal</td>\n",
       "      <td>0.618115</td>\n",
       "      <td>0.624789</td>\n",
       "      <td>0.601742</td>\n",
       "      <td>0.624395</td>\n",
       "      <td>0.663676</td>\n",
       "      <td>0.594614</td>\n",
       "    </tr>\n",
       "    <tr>\n",
       "      <td>gbvs</td>\n",
       "      <td>0.461012</td>\n",
       "      <td>0.467359</td>\n",
       "      <td>0.438488</td>\n",
       "      <td>0.493095</td>\n",
       "      <td>0.521219</td>\n",
       "      <td>0.441097</td>\n",
       "    </tr>\n",
       "    <tr>\n",
       "      <td>icf</td>\n",
       "      <td>0.567363</td>\n",
       "      <td>0.573739</td>\n",
       "      <td>0.538867</td>\n",
       "      <td>0.605522</td>\n",
       "      <td>0.630366</td>\n",
       "      <td>0.547438</td>\n",
       "    </tr>\n",
       "    <tr>\n",
       "      <td>ik</td>\n",
       "      <td>0.475977</td>\n",
       "      <td>0.484533</td>\n",
       "      <td>0.446832</td>\n",
       "      <td>0.519475</td>\n",
       "      <td>0.552475</td>\n",
       "      <td>0.461465</td>\n",
       "    </tr>\n",
       "    <tr>\n",
       "      <td>sun</td>\n",
       "      <td>0.410014</td>\n",
       "      <td>0.414441</td>\n",
       "      <td>0.401579</td>\n",
       "      <td>0.445980</td>\n",
       "      <td>0.462778</td>\n",
       "      <td>0.384842</td>\n",
       "    </tr>\n",
       "    <tr>\n",
       "      <td>dg</td>\n",
       "      <td>0.789276</td>\n",
       "      <td>0.822800</td>\n",
       "      <td>0.698865</td>\n",
       "      <td>0.866592</td>\n",
       "      <td>0.860417</td>\n",
       "      <td>0.776124</td>\n",
       "    </tr>\n",
       "  </tbody>\n",
       "</table>\n",
       "</div>"
      ],
      "text/plain": [
       "             all    person  no person    animal    sports  electronic\n",
       "aim     0.345546  0.348241   0.333199  0.365187  0.398230    0.323323\n",
       "cas     0.495912  0.507008   0.458805  0.536700  0.572141    0.447308\n",
       "covsal  0.618115  0.624789   0.601742  0.624395  0.663676    0.594614\n",
       "gbvs    0.461012  0.467359   0.438488  0.493095  0.521219    0.441097\n",
       "icf     0.567363  0.573739   0.538867  0.605522  0.630366    0.547438\n",
       "ik      0.475977  0.484533   0.446832  0.519475  0.552475    0.461465\n",
       "sun     0.410014  0.414441   0.401579  0.445980  0.462778    0.384842\n",
       "dg      0.789276  0.822800   0.698865  0.866592  0.860417    0.776124"
      ]
     },
     "execution_count": 12,
     "metadata": {},
     "output_type": "execute_result"
    }
   ],
   "source": [
    "NSS_std_noface"
   ]
  },
  {
   "cell_type": "code",
   "execution_count": 13,
   "metadata": {},
   "outputs": [],
   "source": [
    "NSS_std_noface.to_csv('NSS_std_noface.csv')\n",
    "NSS_std_face_03.to_csv('NSS_std_face_03.csv')\n",
    "NSS_std_face_05.to_csv('NSS_std_face_05.csv')\n",
    "NSS_std_face_07.to_csv('NSS_std_face_07.csv')\n",
    "\n",
    "NSS_mean_noface.to_csv('NSS_mean_noface.csv')\n",
    "NSS_mean_face_03.to_csv('NSS_mean_face_03.csv')\n",
    "NSS_mean_face_05.to_csv('NSS_mean_face_05.csv')\n",
    "NSS_mean_face_07.to_csv('NSS_mean_face_07.csv')"
   ]
  },
  {
   "cell_type": "markdown",
   "metadata": {},
   "source": [
    "## Calculate means"
   ]
  },
  {
   "cell_type": "code",
   "execution_count": 14,
   "metadata": {},
   "outputs": [],
   "source": [
    "A = NSS_mean_noface.values\n",
    "A = A[:-1,:]\n",
    "B = NSS_mean_face_03.values\n",
    "C = NSS_mean_face_05.values\n",
    "D = NSS_mean_face_07.values"
   ]
  },
  {
   "cell_type": "code",
   "execution_count": 15,
   "metadata": {},
   "outputs": [],
   "source": [
    "X = np.dstack([A, B, C, D])"
   ]
  },
  {
   "cell_type": "code",
   "execution_count": 16,
   "metadata": {},
   "outputs": [
    {
     "data": {
      "text/plain": [
       "(7, 6, 4)"
      ]
     },
     "execution_count": 16,
     "metadata": {},
     "output_type": "execute_result"
    }
   ],
   "source": [
    "np.shape(X)"
   ]
  },
  {
   "cell_type": "code",
   "execution_count": 17,
   "metadata": {},
   "outputs": [
    {
     "data": {
      "text/plain": [
       "['all', 'person', 'no person', 'animal', 'sports', 'electronic']"
      ]
     },
     "execution_count": 17,
     "metadata": {},
     "output_type": "execute_result"
    }
   ],
   "source": [
    "cxt"
   ]
  },
  {
   "cell_type": "code",
   "execution_count": 18,
   "metadata": {},
   "outputs": [
    {
     "data": {
      "text/plain": [
       "['aim', 'cas', 'covsal', 'gbvs', 'icf', 'ik', 'sun']"
      ]
     },
     "execution_count": 18,
     "metadata": {},
     "output_type": "execute_result"
    }
   ],
   "source": [
    "labels"
   ]
  },
  {
   "cell_type": "markdown",
   "metadata": {},
   "source": [
    "### Mean over contexts"
   ]
  },
  {
   "cell_type": "code",
   "execution_count": 19,
   "metadata": {},
   "outputs": [
    {
     "data": {
      "text/html": [
       "<div>\n",
       "<style scoped>\n",
       "    .dataframe tbody tr th:only-of-type {\n",
       "        vertical-align: middle;\n",
       "    }\n",
       "\n",
       "    .dataframe tbody tr th {\n",
       "        vertical-align: top;\n",
       "    }\n",
       "\n",
       "    .dataframe thead th {\n",
       "        text-align: right;\n",
       "    }\n",
       "</style>\n",
       "<table border=\"1\" class=\"dataframe\">\n",
       "  <thead>\n",
       "    <tr style=\"text-align: right;\">\n",
       "      <th></th>\n",
       "      <th>0.0</th>\n",
       "      <th>0.3</th>\n",
       "      <th>0.5</th>\n",
       "      <th>0.7</th>\n",
       "    </tr>\n",
       "  </thead>\n",
       "  <tbody>\n",
       "    <tr>\n",
       "      <td>aim</td>\n",
       "      <td>0.611669</td>\n",
       "      <td>0.641994</td>\n",
       "      <td>0.665380</td>\n",
       "      <td>0.682008</td>\n",
       "    </tr>\n",
       "    <tr>\n",
       "      <td>cas</td>\n",
       "      <td>0.743630</td>\n",
       "      <td>0.764475</td>\n",
       "      <td>0.784116</td>\n",
       "      <td>0.804258</td>\n",
       "    </tr>\n",
       "    <tr>\n",
       "      <td>covsal</td>\n",
       "      <td>0.841547</td>\n",
       "      <td>0.866658</td>\n",
       "      <td>0.886717</td>\n",
       "      <td>0.899721</td>\n",
       "    </tr>\n",
       "    <tr>\n",
       "      <td>gbvs</td>\n",
       "      <td>0.967084</td>\n",
       "      <td>0.985150</td>\n",
       "      <td>1.000274</td>\n",
       "      <td>1.011808</td>\n",
       "    </tr>\n",
       "    <tr>\n",
       "      <td>icf</td>\n",
       "      <td>0.824812</td>\n",
       "      <td>0.844606</td>\n",
       "      <td>0.857299</td>\n",
       "      <td>0.862981</td>\n",
       "    </tr>\n",
       "    <tr>\n",
       "      <td>ik</td>\n",
       "      <td>0.594106</td>\n",
       "      <td>0.628932</td>\n",
       "      <td>0.653839</td>\n",
       "      <td>0.668755</td>\n",
       "    </tr>\n",
       "    <tr>\n",
       "      <td>sun</td>\n",
       "      <td>0.437009</td>\n",
       "      <td>0.472905</td>\n",
       "      <td>0.502038</td>\n",
       "      <td>0.525473</td>\n",
       "    </tr>\n",
       "  </tbody>\n",
       "</table>\n",
       "</div>"
      ],
      "text/plain": [
       "             0.0       0.3       0.5       0.7\n",
       "aim     0.611669  0.641994  0.665380  0.682008\n",
       "cas     0.743630  0.764475  0.784116  0.804258\n",
       "covsal  0.841547  0.866658  0.886717  0.899721\n",
       "gbvs    0.967084  0.985150  1.000274  1.011808\n",
       "icf     0.824812  0.844606  0.857299  0.862981\n",
       "ik      0.594106  0.628932  0.653839  0.668755\n",
       "sun     0.437009  0.472905  0.502038  0.525473"
      ]
     },
     "execution_count": 19,
     "metadata": {},
     "output_type": "execute_result"
    }
   ],
   "source": [
    "mean_models = (X.mean(axis=1))\n",
    "\n",
    "NSS_mean_models = pd.DataFrame(data=mean_models, columns=[0, 0.3, 0.5, 0.7], index=labels)\n",
    "NSS_mean_models"
   ]
  },
  {
   "cell_type": "markdown",
   "metadata": {},
   "source": [
    "### Mean over models"
   ]
  },
  {
   "cell_type": "code",
   "execution_count": 20,
   "metadata": {},
   "outputs": [
    {
     "data": {
      "text/html": [
       "<div>\n",
       "<style scoped>\n",
       "    .dataframe tbody tr th:only-of-type {\n",
       "        vertical-align: middle;\n",
       "    }\n",
       "\n",
       "    .dataframe tbody tr th {\n",
       "        vertical-align: top;\n",
       "    }\n",
       "\n",
       "    .dataframe thead th {\n",
       "        text-align: right;\n",
       "    }\n",
       "</style>\n",
       "<table border=\"1\" class=\"dataframe\">\n",
       "  <thead>\n",
       "    <tr style=\"text-align: right;\">\n",
       "      <th></th>\n",
       "      <th>0.0</th>\n",
       "      <th>0.3</th>\n",
       "      <th>0.5</th>\n",
       "      <th>0.7</th>\n",
       "    </tr>\n",
       "  </thead>\n",
       "  <tbody>\n",
       "    <tr>\n",
       "      <td>all</td>\n",
       "      <td>0.699308</td>\n",
       "      <td>0.730636</td>\n",
       "      <td>0.754907</td>\n",
       "      <td>0.772300</td>\n",
       "    </tr>\n",
       "    <tr>\n",
       "      <td>person</td>\n",
       "      <td>0.736441</td>\n",
       "      <td>0.784206</td>\n",
       "      <td>0.821381</td>\n",
       "      <td>0.848341</td>\n",
       "    </tr>\n",
       "    <tr>\n",
       "      <td>no person</td>\n",
       "      <td>0.630030</td>\n",
       "      <td>0.630648</td>\n",
       "      <td>0.630834</td>\n",
       "      <td>0.630366</td>\n",
       "    </tr>\n",
       "    <tr>\n",
       "      <td>animal</td>\n",
       "      <td>0.690444</td>\n",
       "      <td>0.702153</td>\n",
       "      <td>0.711795</td>\n",
       "      <td>0.719060</td>\n",
       "    </tr>\n",
       "    <tr>\n",
       "      <td>sports</td>\n",
       "      <td>0.882664</td>\n",
       "      <td>0.903943</td>\n",
       "      <td>0.921129</td>\n",
       "      <td>0.934488</td>\n",
       "    </tr>\n",
       "    <tr>\n",
       "      <td>electronic</td>\n",
       "      <td>0.663847</td>\n",
       "      <td>0.709603</td>\n",
       "      <td>0.745380</td>\n",
       "      <td>0.771164</td>\n",
       "    </tr>\n",
       "  </tbody>\n",
       "</table>\n",
       "</div>"
      ],
      "text/plain": [
       "                 0.0       0.3       0.5       0.7\n",
       "all         0.699308  0.730636  0.754907  0.772300\n",
       "person      0.736441  0.784206  0.821381  0.848341\n",
       "no person   0.630030  0.630648  0.630834  0.630366\n",
       "animal      0.690444  0.702153  0.711795  0.719060\n",
       "sports      0.882664  0.903943  0.921129  0.934488\n",
       "electronic  0.663847  0.709603  0.745380  0.771164"
      ]
     },
     "execution_count": 20,
     "metadata": {},
     "output_type": "execute_result"
    }
   ],
   "source": [
    "mean_cxt = (X.mean(axis=0))\n",
    "\n",
    "NSS_mean_cxt = pd.DataFrame(data=mean_cxt, columns=[0, 0.3, 0.5, 0.7], index=cxt)\n",
    "NSS_mean_cxt"
   ]
  },
  {
   "cell_type": "code",
   "execution_count": 21,
   "metadata": {},
   "outputs": [],
   "source": [
    "NSS_mean_cxt.to_csv('NSS_mean_cxt.csv')\n",
    "NSS_mean_models.to_csv('NSS_mean_models.csv')\n"
   ]
  },
  {
   "cell_type": "code",
   "execution_count": null,
   "metadata": {},
   "outputs": [],
   "source": []
  }
 ],
 "metadata": {
  "kernelspec": {
   "display_name": "saliency",
   "language": "python",
   "name": "myenv"
  },
  "language_info": {
   "codemirror_mode": {
    "name": "ipython",
    "version": 3
   },
   "file_extension": ".py",
   "mimetype": "text/x-python",
   "name": "python",
   "nbconvert_exporter": "python",
   "pygments_lexer": "ipython3",
   "version": "3.7.1"
  }
 },
 "nbformat": 4,
 "nbformat_minor": 2
}
