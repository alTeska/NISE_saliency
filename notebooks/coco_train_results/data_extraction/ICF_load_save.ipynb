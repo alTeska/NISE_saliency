{
 "cells": [
  {
   "cell_type": "code",
   "execution_count": 1,
   "metadata": {},
   "outputs": [],
   "source": [
    "import pickle\n",
    "import numpy as np\n",
    "import pandas as pd"
   ]
  },
  {
   "cell_type": "code",
   "execution_count": 2,
   "metadata": {},
   "outputs": [],
   "source": [
    "(results, cxt, mod, labels) = pickle.load(open( \"2019-10-01_icf_dg.p\", \"rb\"))\n"
   ]
  },
  {
   "cell_type": "code",
   "execution_count": 3,
   "metadata": {},
   "outputs": [
    {
     "data": {
      "text/plain": [
       "array([[[0.81190532, 0.51907494, 4.15363425, 0.71408305, 0.56736297,\n",
       "         0.11994768, 3.08532642, 0.10733358],\n",
       "        [0.83496067, 0.52380127, 4.15645896, 0.71574006, 0.58097076,\n",
       "         0.11824527, 3.08516052, 0.10745943],\n",
       "        [0.84954897, 0.52793248, 4.1528679 , 0.71626874, 0.59698011,\n",
       "         0.11721752, 3.09096246, 0.10748539],\n",
       "        [0.85624197, 0.53248048, 4.1171465 , 0.71690287, 0.61355463,\n",
       "         0.1164647 , 3.11329931, 0.10741185],\n",
       "        [1.14977331, 0.65036937, 3.62376205, 0.7746912 , 0.78927642,\n",
       "         0.08543681, 3.39570596, 0.09339087]],\n",
       "\n",
       "       [[0.86974663, 0.49888998, 4.09045661, 0.72480865, 0.57373945,\n",
       "         0.11408065, 3.00727654, 0.1052455 ],\n",
       "        [0.90485912, 0.50610127, 4.09488411, 0.72731474, 0.59029274,\n",
       "         0.11257157, 3.00666796, 0.10518759],\n",
       "        [0.92723815, 0.5124416 , 4.08955457, 0.72812741, 0.61136487,\n",
       "         0.11188314, 3.01560133, 0.10514834],\n",
       "        [0.93792962, 0.51950361, 4.03637614, 0.72909594, 0.63439679,\n",
       "         0.1116244 , 3.04793575, 0.1049412 ],\n",
       "        [1.22892553, 0.639309  , 3.40209594, 0.78538597, 0.82280042,\n",
       "         0.08511181, 3.50334397, 0.09061239]],\n",
       "\n",
       "       [[0.70383863, 0.55678712, 4.27167096, 0.6940441 , 0.53886663,\n",
       "         0.12152914, 3.22277685, 0.10832047],\n",
       "        [0.70436725, 0.55687073, 4.27150113, 0.69411472, 0.53939295,\n",
       "         0.12144859, 3.22354835, 0.10831507],\n",
       "        [0.7043999 , 0.55687458, 4.27115813, 0.69411282, 0.53996819,\n",
       "         0.12139716, 3.22371961, 0.10829554],\n",
       "        [0.70362246, 0.55672557, 4.26805222, 0.69412218, 0.54045737,\n",
       "         0.1213435 , 3.22646647, 0.10826264],\n",
       "        [1.00189083, 0.67103379, 4.03790758, 0.75470982, 0.69886487,\n",
       "         0.08214274, 3.14325917, 0.09520549]],\n",
       "\n",
       "       [[0.79949625, 0.45707426, 3.96248879, 0.70785674, 0.60552157,\n",
       "         0.12569726, 3.02920063, 0.11295479],\n",
       "        [0.80745694, 0.45881419, 3.96134458, 0.70842266, 0.60836665,\n",
       "         0.1255039 , 3.03270586, 0.11282395],\n",
       "        [0.81286147, 0.46021481, 3.95793546, 0.7086623 , 0.61203009,\n",
       "         0.12542839, 3.03321879, 0.11274457],\n",
       "        [0.81551134, 0.4619364 , 3.92489252, 0.70906059, 0.6160116 ,\n",
       "         0.12553561, 3.0673479 , 0.11264505],\n",
       "        [1.28268743, 0.6312223 , 3.47115486, 0.78219658, 0.86659168,\n",
       "         0.09036843, 3.30452595, 0.0946864 ]],\n",
       "\n",
       "       [[0.98717165, 0.48348203, 3.82522724, 0.74223758, 0.63036564,\n",
       "         0.11767494, 3.20772521, 0.10779343],\n",
       "        [1.0035002 , 0.48691843, 3.82552131, 0.74326807, 0.6394678 ,\n",
       "         0.11792471, 3.20862842, 0.10791221],\n",
       "        [1.01434251, 0.49002851, 3.81584182, 0.74370186, 0.65126662,\n",
       "         0.11858455, 3.21854942, 0.10788027],\n",
       "        [1.01922382, 0.49335354, 3.77153304, 0.74423688, 0.66461248,\n",
       "         0.11940643, 3.25557571, 0.10776903],\n",
       "        [1.35765859, 0.64109887, 2.74858959, 0.80225675, 0.86041672,\n",
       "         0.09498722, 4.07299239, 0.08695825]],\n",
       "\n",
       "       [[0.77671154, 0.50594851, 4.30645252, 0.70659938, 0.54743781,\n",
       "         0.11079934, 3.01057286, 0.10441298],\n",
       "        [0.81248903, 0.51299252, 4.30990865, 0.70904762, 0.57102453,\n",
       "         0.10839415, 3.01218293, 0.10456894],\n",
       "        [0.83540141, 0.51936037, 4.30229982, 0.70984115, 0.59705127,\n",
       "         0.10688712, 3.02899618, 0.10459676],\n",
       "        [0.84535949, 0.52641866, 4.25106783, 0.71084263, 0.62140211,\n",
       "         0.10572759, 3.05947488, 0.1044715 ],\n",
       "        [1.14059551, 0.63313749, 3.8446173 , 0.77019142, 0.77612363,\n",
       "         0.08091385, 3.24124165, 0.08965607]]])"
      ]
     },
     "execution_count": 3,
     "metadata": {},
     "output_type": "execute_result"
    }
   ],
   "source": [
    "results"
   ]
  },
  {
   "cell_type": "code",
   "execution_count": 4,
   "metadata": {},
   "outputs": [
    {
     "data": {
      "text/plain": [
       "['all', 'person', 'no person', 'animal', 'sports', 'electronic']"
      ]
     },
     "execution_count": 4,
     "metadata": {},
     "output_type": "execute_result"
    }
   ],
   "source": [
    "cxt"
   ]
  },
  {
   "cell_type": "code",
   "execution_count": 5,
   "metadata": {},
   "outputs": [
    {
     "data": {
      "text/plain": [
       "['icf', 'icf_face_03', 'icf_face_05', 'icf_face_07', 'dg']"
      ]
     },
     "execution_count": 5,
     "metadata": {},
     "output_type": "execute_result"
    }
   ],
   "source": [
    "mod"
   ]
  },
  {
   "cell_type": "code",
   "execution_count": 6,
   "metadata": {},
   "outputs": [
    {
     "data": {
      "text/plain": [
       "['nss mean',\n",
       " 'sim mean',\n",
       " 'ig mean',\n",
       " 'auc mean',\n",
       " 'nss std',\n",
       " 'sim std',\n",
       " 'ig std',\n",
       " 'auc std']"
      ]
     },
     "execution_count": 6,
     "metadata": {},
     "output_type": "execute_result"
    }
   ],
   "source": [
    "labels"
   ]
  },
  {
   "cell_type": "code",
   "execution_count": 7,
   "metadata": {},
   "outputs": [
    {
     "data": {
      "text/plain": [
       "(6, 5, 8)"
      ]
     },
     "execution_count": 7,
     "metadata": {},
     "output_type": "execute_result"
    }
   ],
   "source": [
    "np.shape(results)"
   ]
  },
  {
   "cell_type": "markdown",
   "metadata": {},
   "source": [
    "## Split by metric"
   ]
  },
  {
   "cell_type": "code",
   "execution_count": 8,
   "metadata": {},
   "outputs": [],
   "source": [
    "icf_nss_mean = results[:,:,0]\n",
    "icf_sim_mean = results[:,:,1]\n",
    "icf_ig_mean = results[:,:,2]\n",
    "icf_auc_mean = results[:,:,3]\n",
    "icf_nss_std = results[:,:,4]\n",
    "icf_sim_std = results[:,:,5]\n",
    "icf_ig_std = results[:,:,6]\n",
    "icf_auc_std = results[:,:,7]"
   ]
  },
  {
   "cell_type": "code",
   "execution_count": 9,
   "metadata": {},
   "outputs": [
    {
     "data": {
      "text/plain": [
       "array([[0.81190532, 0.83496067, 0.84954897, 0.85624197, 1.14977331],\n",
       "       [0.86974663, 0.90485912, 0.92723815, 0.93792962, 1.22892553],\n",
       "       [0.70383863, 0.70436725, 0.7043999 , 0.70362246, 1.00189083],\n",
       "       [0.79949625, 0.80745694, 0.81286147, 0.81551134, 1.28268743],\n",
       "       [0.98717165, 1.0035002 , 1.01434251, 1.01922382, 1.35765859],\n",
       "       [0.77671154, 0.81248903, 0.83540141, 0.84535949, 1.14059551]])"
      ]
     },
     "execution_count": 9,
     "metadata": {},
     "output_type": "execute_result"
    }
   ],
   "source": [
    "icf_nss_mean"
   ]
  },
  {
   "cell_type": "code",
   "execution_count": 10,
   "metadata": {},
   "outputs": [],
   "source": [
    "ICF_nss_m = pd.DataFrame(data=icf_nss_mean, columns=mod, index=cxt)\n",
    "ICF_sim_m = pd.DataFrame(data=icf_sim_mean, columns=mod, index=cxt)\n",
    "ICF_ig_m = pd.DataFrame(data=icf_ig_mean, columns=mod, index=cxt)\n",
    "ICF_auc_m = pd.DataFrame(data=icf_auc_mean, columns=mod, index=cxt)\n",
    "ICF_nss_s = pd.DataFrame(data=icf_nss_std, columns=mod, index=cxt)\n",
    "ICF_sim_s = pd.DataFrame(data=icf_sim_std, columns=mod, index=cxt)\n",
    "ICF_ig_s  = pd.DataFrame(data=icf_ig_std, columns=mod, index=cxt)\n",
    "ICF_auc_s = pd.DataFrame(data=icf_auc_std, columns=mod, index=cxt)\n"
   ]
  },
  {
   "cell_type": "code",
   "execution_count": 11,
   "metadata": {},
   "outputs": [],
   "source": [
    "ICF_nss_m.to_csv('ICF_nss_m.csv')\n",
    "ICF_sim_m.to_csv('ICF_sim_m.csv')\n",
    "ICF_ig_m.to_csv('ICF_ig_m.csv')\n",
    "ICF_auc_m.to_csv('ICF_auc_m.csv')\n",
    "ICF_nss_s.to_csv('ICF_nss_s.csv')\n",
    "ICF_sim_s.to_csv('ICF_sim_s.csv')\n",
    "ICF_ig_s.to_csv('ICF_ig_s.csv')\n",
    "ICF_auc_s.to_csv('ICF_auc_s.csv')"
   ]
  },
  {
   "cell_type": "code",
   "execution_count": null,
   "metadata": {},
   "outputs": [],
   "source": []
  }
 ],
 "metadata": {
  "kernelspec": {
   "display_name": "saliency",
   "language": "python",
   "name": "myenv"
  },
  "language_info": {
   "codemirror_mode": {
    "name": "ipython",
    "version": 3
   },
   "file_extension": ".py",
   "mimetype": "text/x-python",
   "name": "python",
   "nbconvert_exporter": "python",
   "pygments_lexer": "ipython3",
   "version": "3.7.1"
  }
 },
 "nbformat": 4,
 "nbformat_minor": 2
}
