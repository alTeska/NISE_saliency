{
 "cells": [
  {
   "cell_type": "code",
   "execution_count": 1,
   "metadata": {},
   "outputs": [],
   "source": [
    "import pickle\n",
    "import numpy as np\n",
    "import pandas as pd"
   ]
  },
  {
   "cell_type": "code",
   "execution_count": 2,
   "metadata": {},
   "outputs": [],
   "source": [
    "(results, cxt, mod, labels) = pickle.load(open( \"2019-10-01_covsal.p\", \"rb\"))\n"
   ]
  },
  {
   "cell_type": "code",
   "execution_count": 3,
   "metadata": {},
   "outputs": [
    {
     "data": {
      "text/plain": [
       "array([[[0.82251267, 0.50287659, 3.52859355, 0.74370449, 0.61811461,\n",
       "         0.10662789, 1.79705638, 0.09370455],\n",
       "        [0.85173143, 0.51083948, 3.53857971, 0.74679555, 0.62463725,\n",
       "         0.10249881, 1.82439343, 0.09384259],\n",
       "        [0.87469819, 0.51778851, 3.45160177, 0.74790746, 0.63861613,\n",
       "         0.10161178, 1.8373131 , 0.0938071 ],\n",
       "        [0.88922681, 0.52327987, 3.31208759, 0.7490892 , 0.65683427,\n",
       "         0.10258436, 1.96313153, 0.09333923]],\n",
       "\n",
       "       [[0.85140107, 0.48788263, 3.47767812, 0.74833723, 0.62478933,\n",
       "         0.10947806, 1.79579737, 0.09272907],\n",
       "        [0.89597178, 0.5000061 , 3.49417947, 0.75305258, 0.6322474 ,\n",
       "         0.10479795, 1.83597   , 0.09269516],\n",
       "        [0.93114441, 0.51069069, 3.36756382, 0.7547467 , 0.65067671,\n",
       "         0.10444757, 1.85317085, 0.09254749],\n",
       "        [0.9537415 , 0.5192326 , 3.16573765, 0.75650433, 0.67569364,\n",
       "         0.10635461, 2.02167629, 0.09176152]],\n",
       "\n",
       "       [[0.7685396 , 0.53089027, 3.6237204 , 0.73504901, 0.60174218,\n",
       "         0.09494172, 1.79554179, 0.09489628],\n",
       "        [0.76907582, 0.5310798 , 3.62153403, 0.73510535, 0.60150834,\n",
       "         0.09479773, 1.79963253, 0.09484999],\n",
       "        [0.769238  , 0.53104958, 3.60861244, 0.73512948, 0.60141837,\n",
       "         0.09467435, 1.79681172, 0.09480328],\n",
       "        [0.76869204, 0.53084153, 3.58551765, 0.7352353 , 0.60180894,\n",
       "         0.09467832, 1.81748254, 0.09467402]],\n",
       "\n",
       "       [[0.88085443, 0.48659314, 3.42740841, 0.749722  , 0.6243949 ,\n",
       "         0.11005706, 1.7997475 , 0.09195289],\n",
       "        [0.89190174, 0.48955041, 3.44602506, 0.75114872, 0.62467839,\n",
       "         0.10878989, 1.8368087 , 0.09156282],\n",
       "        [0.90077335, 0.49250353, 3.40694008, 0.75162328, 0.62788897,\n",
       "         0.10860901, 1.83030513, 0.09148869],\n",
       "        [0.9056737 , 0.49500327, 3.34556484, 0.75219748, 0.63349837,\n",
       "         0.10906853, 1.86865452, 0.09121696]],\n",
       "\n",
       "       [[0.95342854, 0.47447809, 3.46945805, 0.7558036 , 0.66367615,\n",
       "         0.11879746, 1.79690897, 0.09280964],\n",
       "        [0.97548234, 0.47966825, 3.46918446, 0.75781619, 0.66306701,\n",
       "         0.11748741, 1.81047045, 0.09291293],\n",
       "        [0.99406413, 0.48469798, 3.39374926, 0.75866997, 0.67188207,\n",
       "         0.11789529, 1.82079791, 0.09282484],\n",
       "        [1.00848975, 0.48936093, 3.28383587, 0.75973454, 0.68890354,\n",
       "         0.11949494, 1.95545296, 0.0923277 ]],\n",
       "\n",
       "       [[0.77254671, 0.48388524, 3.58447759, 0.73880881, 0.59461417,\n",
       "         0.10259379, 1.80656279, 0.09279435],\n",
       "        [0.81578622, 0.49545791, 3.59798188, 0.7433903 , 0.60900477,\n",
       "         0.0977303 , 1.84264613, 0.09334584],\n",
       "        [0.85038525, 0.50596256, 3.47412513, 0.7450877 , 0.63132305,\n",
       "         0.09708264, 1.85458256, 0.09327135],\n",
       "        [0.87250425, 0.51430558, 3.26809342, 0.74687856, 0.65723866,\n",
       "         0.09851557, 2.01879744, 0.09262319]]])"
      ]
     },
     "execution_count": 3,
     "metadata": {},
     "output_type": "execute_result"
    }
   ],
   "source": [
    "results"
   ]
  },
  {
   "cell_type": "code",
   "execution_count": 4,
   "metadata": {},
   "outputs": [
    {
     "data": {
      "text/plain": [
       "['all', 'person', 'no person', 'animal', 'sports', 'electronic']"
      ]
     },
     "execution_count": 4,
     "metadata": {},
     "output_type": "execute_result"
    }
   ],
   "source": [
    "cxt"
   ]
  },
  {
   "cell_type": "code",
   "execution_count": 5,
   "metadata": {},
   "outputs": [
    {
     "data": {
      "text/plain": [
       "['covsal', 'covsal_face_03', 'covsal_face_05', 'covsal_face_07']"
      ]
     },
     "execution_count": 5,
     "metadata": {},
     "output_type": "execute_result"
    }
   ],
   "source": [
    "mod"
   ]
  },
  {
   "cell_type": "code",
   "execution_count": 6,
   "metadata": {},
   "outputs": [
    {
     "data": {
      "text/plain": [
       "['nss mean',\n",
       " 'sim mean',\n",
       " 'ig mean',\n",
       " 'auc mean',\n",
       " 'nss std',\n",
       " 'sim std',\n",
       " 'ig std',\n",
       " 'auc std']"
      ]
     },
     "execution_count": 6,
     "metadata": {},
     "output_type": "execute_result"
    }
   ],
   "source": [
    "labels"
   ]
  },
  {
   "cell_type": "code",
   "execution_count": 7,
   "metadata": {},
   "outputs": [
    {
     "data": {
      "text/plain": [
       "(6, 4, 8)"
      ]
     },
     "execution_count": 7,
     "metadata": {},
     "output_type": "execute_result"
    }
   ],
   "source": [
    "np.shape(results)"
   ]
  },
  {
   "cell_type": "markdown",
   "metadata": {},
   "source": [
    "## Split by metric"
   ]
  },
  {
   "cell_type": "code",
   "execution_count": 8,
   "metadata": {},
   "outputs": [],
   "source": [
    "covsal_nss_mean = results[:,:,0]\n",
    "covsal_sim_mean = results[:,:,1]\n",
    "covsal_ig_mean = results[:,:,2]\n",
    "covsal_auc_mean = results[:,:,3]\n",
    "covsal_nss_std = results[:,:,4]\n",
    "covsal_sim_std = results[:,:,5]\n",
    "covsal_ig_std = results[:,:,6]\n",
    "covsal_auc_std = results[:,:,7]"
   ]
  },
  {
   "cell_type": "code",
   "execution_count": 9,
   "metadata": {},
   "outputs": [],
   "source": [
    "COVSAL_nss_m = pd.DataFrame(data=covsal_nss_mean, columns=mod, index=cxt)\n",
    "COVSAL_sim_m = pd.DataFrame(data=covsal_sim_mean, columns=mod, index=cxt)\n",
    "COVSAL_ig_m = pd.DataFrame(data=covsal_ig_mean, columns=mod, index=cxt)\n",
    "COVSAL_auc_m = pd.DataFrame(data=covsal_auc_mean, columns=mod, index=cxt)\n",
    "COVSAL_nss_s = pd.DataFrame(data=covsal_nss_std, columns=mod, index=cxt)\n",
    "COVSAL_sim_s = pd.DataFrame(data=covsal_sim_std, columns=mod, index=cxt)\n",
    "COVSAL_ig_s  = pd.DataFrame(data=covsal_ig_std, columns=mod, index=cxt)\n",
    "COVSAL_auc_s = pd.DataFrame(data=covsal_auc_std, columns=mod, index=cxt)\n"
   ]
  },
  {
   "cell_type": "code",
   "execution_count": 10,
   "metadata": {},
   "outputs": [],
   "source": [
    "COVSAL_nss_m.to_csv('COVSAL_nss_m.csv')\n",
    "COVSAL_sim_m.to_csv('COVSAL_sim_m.csv')\n",
    "COVSAL_ig_m.to_csv('COVSAL_ig_m.csv')\n",
    "COVSAL_auc_m.to_csv('COVSAL_auc_m.csv')\n",
    "COVSAL_nss_s.to_csv('COVSAL_nss_s.csv')\n",
    "COVSAL_sim_s.to_csv('COVSAL_sim_s.csv')\n",
    "COVSAL_ig_s.to_csv('COVSAL_ig_s.csv')\n",
    "COVSAL_auc_s.to_csv('COVSAL_auc_s.csv')"
   ]
  },
  {
   "cell_type": "code",
   "execution_count": null,
   "metadata": {},
   "outputs": [],
   "source": []
  }
 ],
 "metadata": {
  "kernelspec": {
   "display_name": "saliency",
   "language": "python",
   "name": "myenv"
  },
  "language_info": {
   "codemirror_mode": {
    "name": "ipython",
    "version": 3
   },
   "file_extension": ".py",
   "mimetype": "text/x-python",
   "name": "python",
   "nbconvert_exporter": "python",
   "pygments_lexer": "ipython3",
   "version": "3.7.1"
  }
 },
 "nbformat": 4,
 "nbformat_minor": 2
}
