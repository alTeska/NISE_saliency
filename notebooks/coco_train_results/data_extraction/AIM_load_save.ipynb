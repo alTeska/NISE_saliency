{
 "cells": [
  {
   "cell_type": "code",
   "execution_count": 1,
   "metadata": {},
   "outputs": [],
   "source": [
    "import pickle\n",
    "import numpy as np\n",
    "import pandas as pd"
   ]
  },
  {
   "cell_type": "code",
   "execution_count": 2,
   "metadata": {},
   "outputs": [],
   "source": [
    "(results, cxt, mod, labels) = pickle.load(open( \"2019-10-01_aim.p\", \"rb\"))\n"
   ]
  },
  {
   "cell_type": "code",
   "execution_count": 3,
   "metadata": {},
   "outputs": [
    {
     "data": {
      "text/plain": [
       "array([[[0.59890651, 0.39461557, 4.05574642, 0.66739913, 0.34554645,\n",
       "         0.11153132, 3.04353506, 0.09707371],\n",
       "        [0.63524059, 0.39600644, 4.06591705, 0.67263029, 0.36746663,\n",
       "         0.11071574, 3.04020036, 0.09792516],\n",
       "        [0.66269048, 0.39777745, 4.0751645 , 0.67342245, 0.41036285,\n",
       "         0.10983298, 3.03730449, 0.0982096 ],\n",
       "        [0.68153509, 0.40155248, 4.08764864, 0.67416275, 0.46032346,\n",
       "         0.10850878, 3.03342788, 0.09841126]],\n",
       "\n",
       "       [[0.62910702, 0.36406393, 3.95626051, 0.67593023, 0.34824128,\n",
       "         0.09936504, 3.0177682 , 0.096867  ],\n",
       "        [0.68448865, 0.36617253, 3.97175507, 0.68389193, 0.37510388,\n",
       "         0.09860455, 3.01303134, 0.09736263],\n",
       "        [0.72651019, 0.3688644 , 3.98586942, 0.68510155, 0.43215564,\n",
       "         0.09789361, 3.00890954, 0.09765542],\n",
       "        [0.7557138 , 0.37462368, 4.00501387, 0.68621793, 0.49876169,\n",
       "         0.09728904, 3.00337128, 0.09784265]],\n",
       "\n",
       "       [[0.54248196, 0.45169612, 4.24161897, 0.65146023, 0.33319883,\n",
       "         0.11059362, 3.08250913, 0.09543679],\n",
       "        [0.54322893, 0.45174605, 4.24184276, 0.65158983, 0.33382407,\n",
       "         0.11056479, 3.08262376, 0.09547215],\n",
       "        [0.54345418, 0.45179658, 4.24199723, 0.65160201, 0.33506218,\n",
       "         0.11053075, 3.08273363, 0.09548269],\n",
       "        [0.54294475, 0.45186438, 4.2420377 , 0.65163968, 0.33694651,\n",
       "         0.11046267, 3.08287064, 0.09546967]],\n",
       "\n",
       "       [[0.57171415, 0.3358763 , 3.82700713, 0.65817331, 0.36518704,\n",
       "         0.09758486, 2.9971545 , 0.10257035],\n",
       "        [0.5865032 , 0.33637429, 3.83068764, 0.66002454, 0.37102068,\n",
       "         0.09742892, 2.99677417, 0.10253286],\n",
       "        [0.5979701 , 0.3370209 , 3.83407739, 0.66031608, 0.38605141,\n",
       "         0.09728142, 2.99647782, 0.10255533],\n",
       "        [0.60582984, 0.33844363, 3.83869065, 0.66070102, 0.4052602 ,\n",
       "         0.09716419, 2.99610418, 0.1025823 ]],\n",
       "\n",
       "       [[0.75605845, 0.32316933, 3.95679809, 0.70201917, 0.39822961,\n",
       "         0.0848941 , 3.0621496 , 0.09968121],\n",
       "        [0.7801504 , 0.32400411, 3.96354339, 0.7046415 , 0.40998815,\n",
       "         0.08485218, 3.06044799, 0.10000764],\n",
       "        [0.79912637, 0.32508316, 3.96984237, 0.70512946, 0.43644651,\n",
       "         0.08491416, 3.05894884, 0.10010655],\n",
       "        [0.81368128, 0.32744721, 3.97866608, 0.70567838, 0.47268293,\n",
       "         0.08547245, 3.05686248, 0.10018698]],\n",
       "\n",
       "       [[0.57174759, 0.39662119, 4.169001  , 0.66021015, 0.32332346,\n",
       "         0.10607451, 3.03746342, 0.09227386],\n",
       "        [0.62234972, 0.39859834, 4.18349136, 0.66677242, 0.35824974,\n",
       "         0.10473655, 3.03214658, 0.09412703],\n",
       "        [0.66253156, 0.40114447, 4.1967829 , 0.66784457, 0.4170357 ,\n",
       "         0.10320842, 3.02742224, 0.09453495],\n",
       "        [0.69234265, 0.40664813, 4.21479085, 0.66892741, 0.48760811,\n",
       "         0.10063042, 3.0210313 , 0.09484613]]])"
      ]
     },
     "execution_count": 3,
     "metadata": {},
     "output_type": "execute_result"
    }
   ],
   "source": [
    "results"
   ]
  },
  {
   "cell_type": "code",
   "execution_count": 4,
   "metadata": {},
   "outputs": [
    {
     "data": {
      "text/plain": [
       "['all', 'person', 'no person', 'animal', 'sports', 'electronic']"
      ]
     },
     "execution_count": 4,
     "metadata": {},
     "output_type": "execute_result"
    }
   ],
   "source": [
    "cxt"
   ]
  },
  {
   "cell_type": "code",
   "execution_count": 5,
   "metadata": {},
   "outputs": [
    {
     "data": {
      "text/plain": [
       "['aim', 'aim_face_03', 'aim_face_05', 'aim_face_07']"
      ]
     },
     "execution_count": 5,
     "metadata": {},
     "output_type": "execute_result"
    }
   ],
   "source": [
    "mod"
   ]
  },
  {
   "cell_type": "code",
   "execution_count": 6,
   "metadata": {},
   "outputs": [
    {
     "data": {
      "text/plain": [
       "['nss mean',\n",
       " 'sim mean',\n",
       " 'ig mean',\n",
       " 'auc mean',\n",
       " 'nss std',\n",
       " 'sim std',\n",
       " 'ig std',\n",
       " 'auc std']"
      ]
     },
     "execution_count": 6,
     "metadata": {},
     "output_type": "execute_result"
    }
   ],
   "source": [
    "labels"
   ]
  },
  {
   "cell_type": "code",
   "execution_count": 10,
   "metadata": {},
   "outputs": [
    {
     "data": {
      "text/plain": [
       "(6, 4, 8)"
      ]
     },
     "execution_count": 10,
     "metadata": {},
     "output_type": "execute_result"
    }
   ],
   "source": [
    "np.shape(results)"
   ]
  },
  {
   "cell_type": "markdown",
   "metadata": {},
   "source": [
    "## Split by metric"
   ]
  },
  {
   "cell_type": "code",
   "execution_count": 17,
   "metadata": {},
   "outputs": [],
   "source": [
    "aim_nss_mean = results[:,:,0]\n",
    "aim_sim_mean = results[:,:,1]\n",
    "aim_ig_mean = results[:,:,2]\n",
    "aim_auc_mean = results[:,:,3]\n",
    "aim_nss_std = results[:,:,4]\n",
    "aim_sim_std = results[:,:,5]\n",
    "aim_ig_std = results[:,:,6]\n",
    "aim_auc_std = results[:,:,7]"
   ]
  },
  {
   "cell_type": "code",
   "execution_count": 11,
   "metadata": {},
   "outputs": [
    {
     "data": {
      "text/plain": [
       "array([[0.59890651, 0.63524059, 0.66269048, 0.68153509],\n",
       "       [0.62910702, 0.68448865, 0.72651019, 0.7557138 ],\n",
       "       [0.54248196, 0.54322893, 0.54345418, 0.54294475],\n",
       "       [0.57171415, 0.5865032 , 0.5979701 , 0.60582984],\n",
       "       [0.75605845, 0.7801504 , 0.79912637, 0.81368128],\n",
       "       [0.57174759, 0.62234972, 0.66253156, 0.69234265]])"
      ]
     },
     "execution_count": 11,
     "metadata": {},
     "output_type": "execute_result"
    }
   ],
   "source": [
    "aim_nss_mean"
   ]
  },
  {
   "cell_type": "code",
   "execution_count": 18,
   "metadata": {},
   "outputs": [],
   "source": [
    "AIM_nss_m = pd.DataFrame(data=aim_nss_mean, columns=mod, index=cxt)\n",
    "AIM_sim_m = pd.DataFrame(data=aim_sim_mean, columns=mod, index=cxt)\n",
    "AIM_ig_m = pd.DataFrame(data=aim_ig_mean, columns=mod, index=cxt)\n",
    "AIM_auc_m = pd.DataFrame(data=aim_auc_mean, columns=mod, index=cxt)\n",
    "AIM_nss_s = pd.DataFrame(data=aim_nss_std, columns=mod, index=cxt)\n",
    "AIM_sim_s = pd.DataFrame(data=aim_sim_std, columns=mod, index=cxt)\n",
    "AIM_ig_s  = pd.DataFrame(data=aim_ig_std, columns=mod, index=cxt)\n",
    "AIM_auc_s = pd.DataFrame(data=aim_auc_std, columns=mod, index=cxt)\n"
   ]
  },
  {
   "cell_type": "code",
   "execution_count": 20,
   "metadata": {},
   "outputs": [],
   "source": [
    "AIM_nss_m.to_csv('AIM_nss_m.csv')\n",
    "AIM_sim_m.to_csv('AIM_sim_m.csv')\n",
    "AIM_ig_m.to_csv('AIM_ig_m.csv')\n",
    "AIM_auc_m.to_csv('AIM_auc_m.csv')\n",
    "AIM_nss_s.to_csv('AIM_nss_s.csv')\n",
    "AIM_sim_s.to_csv('AIM_sim_s.csv')\n",
    "AIM_ig_s.to_csv('AIM_ig_s.csv')\n",
    "AIM_auc_s.to_csv('AIM_auc_s.csv')"
   ]
  },
  {
   "cell_type": "code",
   "execution_count": 19,
   "metadata": {},
   "outputs": [
    {
     "data": {
      "text/html": [
       "<div>\n",
       "<style scoped>\n",
       "    .dataframe tbody tr th:only-of-type {\n",
       "        vertical-align: middle;\n",
       "    }\n",
       "\n",
       "    .dataframe tbody tr th {\n",
       "        vertical-align: top;\n",
       "    }\n",
       "\n",
       "    .dataframe thead th {\n",
       "        text-align: right;\n",
       "    }\n",
       "</style>\n",
       "<table border=\"1\" class=\"dataframe\">\n",
       "  <thead>\n",
       "    <tr style=\"text-align: right;\">\n",
       "      <th></th>\n",
       "      <th>aim</th>\n",
       "      <th>aim_face_03</th>\n",
       "      <th>aim_face_05</th>\n",
       "      <th>aim_face_07</th>\n",
       "    </tr>\n",
       "  </thead>\n",
       "  <tbody>\n",
       "    <tr>\n",
       "      <td>all</td>\n",
       "      <td>0.598907</td>\n",
       "      <td>0.635241</td>\n",
       "      <td>0.662690</td>\n",
       "      <td>0.681535</td>\n",
       "    </tr>\n",
       "    <tr>\n",
       "      <td>person</td>\n",
       "      <td>0.629107</td>\n",
       "      <td>0.684489</td>\n",
       "      <td>0.726510</td>\n",
       "      <td>0.755714</td>\n",
       "    </tr>\n",
       "    <tr>\n",
       "      <td>no person</td>\n",
       "      <td>0.542482</td>\n",
       "      <td>0.543229</td>\n",
       "      <td>0.543454</td>\n",
       "      <td>0.542945</td>\n",
       "    </tr>\n",
       "    <tr>\n",
       "      <td>animal</td>\n",
       "      <td>0.571714</td>\n",
       "      <td>0.586503</td>\n",
       "      <td>0.597970</td>\n",
       "      <td>0.605830</td>\n",
       "    </tr>\n",
       "    <tr>\n",
       "      <td>sports</td>\n",
       "      <td>0.756058</td>\n",
       "      <td>0.780150</td>\n",
       "      <td>0.799126</td>\n",
       "      <td>0.813681</td>\n",
       "    </tr>\n",
       "    <tr>\n",
       "      <td>electronic</td>\n",
       "      <td>0.571748</td>\n",
       "      <td>0.622350</td>\n",
       "      <td>0.662532</td>\n",
       "      <td>0.692343</td>\n",
       "    </tr>\n",
       "  </tbody>\n",
       "</table>\n",
       "</div>"
      ],
      "text/plain": [
       "                 aim  aim_face_03  aim_face_05  aim_face_07\n",
       "all         0.598907     0.635241     0.662690     0.681535\n",
       "person      0.629107     0.684489     0.726510     0.755714\n",
       "no person   0.542482     0.543229     0.543454     0.542945\n",
       "animal      0.571714     0.586503     0.597970     0.605830\n",
       "sports      0.756058     0.780150     0.799126     0.813681\n",
       "electronic  0.571748     0.622350     0.662532     0.692343"
      ]
     },
     "execution_count": 19,
     "metadata": {},
     "output_type": "execute_result"
    }
   ],
   "source": [
    "AIM_nss_m"
   ]
  },
  {
   "cell_type": "code",
   "execution_count": null,
   "metadata": {},
   "outputs": [],
   "source": []
  }
 ],
 "metadata": {
  "kernelspec": {
   "display_name": "saliency",
   "language": "python",
   "name": "myenv"
  },
  "language_info": {
   "codemirror_mode": {
    "name": "ipython",
    "version": 3
   },
   "file_extension": ".py",
   "mimetype": "text/x-python",
   "name": "python",
   "nbconvert_exporter": "python",
   "pygments_lexer": "ipython3",
   "version": "3.7.1"
  }
 },
 "nbformat": 4,
 "nbformat_minor": 2
}
