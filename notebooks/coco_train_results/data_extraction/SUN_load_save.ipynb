{
 "cells": [
  {
   "cell_type": "code",
   "execution_count": 1,
   "metadata": {},
   "outputs": [],
   "source": [
    "import pickle\n",
    "import numpy as np\n",
    "import pandas as pd"
   ]
  },
  {
   "cell_type": "code",
   "execution_count": 2,
   "metadata": {},
   "outputs": [],
   "source": [
    "(results, cxt, mod, labels) = pickle.load(open( \"2019-10-01_sun.p\", \"rb\"))\n"
   ]
  },
  {
   "cell_type": "code",
   "execution_count": 3,
   "metadata": {},
   "outputs": [
    {
     "data": {
      "text/plain": [
       "array([[[0.44443024, 0.41928827, 3.90474051, 0.62444436, 0.41001376,\n",
       "         0.12162116, 3.00582409, 0.09896865],\n",
       "        [0.48691751, 0.42423912, 3.93274283, 0.6313906 , 0.42742805,\n",
       "         0.11930326, 2.99715873, 0.1001213 ],\n",
       "        [0.52082973, 0.42959826, 3.94233129, 0.63318637, 0.46799672,\n",
       "         0.11814145, 2.99337795, 0.10094042],\n",
       "        [0.54717188, 0.43763171, 3.94126889, 0.63412167, 0.51785919,\n",
       "         0.11847551, 2.98985606, 0.10142201]],\n",
       "\n",
       "       [[0.446666  , 0.38788256, 3.8066085 , 0.62552566, 0.41444076,\n",
       "         0.11119778, 2.98820023, 0.09915434],\n",
       "        [0.51140937, 0.39541826, 3.84954824, 0.63610975, 0.43844275,\n",
       "         0.10937291, 2.97583271, 0.10058881],\n",
       "        [0.56324016, 0.4036344 , 3.86453936, 0.63885195, 0.49409826,\n",
       "         0.10953884, 2.97049573, 0.10168532],\n",
       "        [0.60372172, 0.4160261 , 3.86397333, 0.64027821, 0.56119717,\n",
       "         0.11283592, 2.96487629, 0.10233243]],\n",
       "\n",
       "       [[0.44025311, 0.47796452, 4.08808355, 0.62242412, 0.40157856,\n",
       "         0.11849061, 3.02997333, 0.09858901],\n",
       "        [0.44115862, 0.478086  , 4.08817783, 0.62257368, 0.40207127,\n",
       "         0.11842525, 3.03048796, 0.0986388 ],\n",
       "        [0.44159302, 0.47810734, 4.08767232, 0.62260119, 0.40306848,\n",
       "         0.11833929, 3.0303211 , 0.09866585],\n",
       "        [0.4415181 , 0.47799812, 4.08568254, 0.62261921, 0.40456135,\n",
       "         0.11820363, 3.03069821, 0.09867483]],\n",
       "\n",
       "       [[0.33362672, 0.34698927, 3.57212349, 0.59239081, 0.44597979,\n",
       "         0.10994964, 2.97710444, 0.1120984 ],\n",
       "        [0.34949601, 0.34876176, 3.58184175, 0.59521922, 0.44868551,\n",
       "         0.10979692, 2.97625289, 0.11185253],\n",
       "        [0.36375856, 0.35079122, 3.58430782, 0.59599778, 0.4603479 ,\n",
       "         0.11007861, 2.97648157, 0.11190789],\n",
       "        [0.37720233, 0.35404753, 3.58269929, 0.59643527, 0.48035195,\n",
       "         0.11117685, 2.9773052 , 0.1120206 ]],\n",
       "\n",
       "       [[0.50883451, 0.34653114, 3.79247459, 0.6330911 , 0.46277816,\n",
       "         0.10205065, 3.058251  , 0.10680948],\n",
       "        [0.5369929 , 0.34946035, 3.80995419, 0.63739569, 0.47349574,\n",
       "         0.10240279, 3.05359325, 0.10730088],\n",
       "        [0.56167997, 0.35275878, 3.81702436, 0.63874422, 0.50084324,\n",
       "         0.10361374, 3.05046874, 0.10764801],\n",
       "        [0.58502477, 0.35820646, 3.81695384, 0.63948276, 0.53950517,\n",
       "         0.10678603, 3.04731575, 0.10786022]],\n",
       "\n",
       "       [[0.44824143, 0.41948087, 3.97647723, 0.62456356, 0.38484156,\n",
       "         0.10783668, 3.00541522, 0.09101759],\n",
       "        [0.51145776, 0.42692997, 4.0153754 , 0.63368594, 0.41613402,\n",
       "         0.1038054 , 2.99260257, 0.09352993],\n",
       "        [0.56112414, 0.43515021, 4.02755687, 0.63589366, 0.47591814,\n",
       "         0.10143286, 2.98492842, 0.09471751],\n",
       "        [0.59820123, 0.44708107, 4.0210145 , 0.63719385, 0.5438517 ,\n",
       "         0.10103571, 2.97714619, 0.09541289]]])"
      ]
     },
     "execution_count": 3,
     "metadata": {},
     "output_type": "execute_result"
    }
   ],
   "source": [
    "results"
   ]
  },
  {
   "cell_type": "code",
   "execution_count": 4,
   "metadata": {},
   "outputs": [
    {
     "data": {
      "text/plain": [
       "['all', 'person', 'no person', 'animal', 'sports', 'electronic']"
      ]
     },
     "execution_count": 4,
     "metadata": {},
     "output_type": "execute_result"
    }
   ],
   "source": [
    "cxt"
   ]
  },
  {
   "cell_type": "code",
   "execution_count": 5,
   "metadata": {},
   "outputs": [
    {
     "data": {
      "text/plain": [
       "['sun', 'sun_face_03', 'sun_face_05', 'sun_face_07']"
      ]
     },
     "execution_count": 5,
     "metadata": {},
     "output_type": "execute_result"
    }
   ],
   "source": [
    "mod"
   ]
  },
  {
   "cell_type": "code",
   "execution_count": 6,
   "metadata": {},
   "outputs": [
    {
     "data": {
      "text/plain": [
       "['nss mean',\n",
       " 'sim mean',\n",
       " 'ig mean',\n",
       " 'auc mean',\n",
       " 'nss std',\n",
       " 'sim std',\n",
       " 'ig std',\n",
       " 'auc std']"
      ]
     },
     "execution_count": 6,
     "metadata": {},
     "output_type": "execute_result"
    }
   ],
   "source": [
    "labels"
   ]
  },
  {
   "cell_type": "code",
   "execution_count": 7,
   "metadata": {},
   "outputs": [
    {
     "data": {
      "text/plain": [
       "(6, 4, 8)"
      ]
     },
     "execution_count": 7,
     "metadata": {},
     "output_type": "execute_result"
    }
   ],
   "source": [
    "np.shape(results)"
   ]
  },
  {
   "cell_type": "markdown",
   "metadata": {},
   "source": [
    "## Split by metric"
   ]
  },
  {
   "cell_type": "code",
   "execution_count": 8,
   "metadata": {},
   "outputs": [],
   "source": [
    "sun_nss_mean = results[:,:,0]\n",
    "sun_sim_mean = results[:,:,1]\n",
    "sun_ig_mean = results[:,:,2]\n",
    "sun_auc_mean = results[:,:,3]\n",
    "sun_nss_std = results[:,:,4]\n",
    "sun_sim_std = results[:,:,5]\n",
    "sun_ig_std = results[:,:,6]\n",
    "sun_auc_std = results[:,:,7]"
   ]
  },
  {
   "cell_type": "code",
   "execution_count": 9,
   "metadata": {},
   "outputs": [
    {
     "data": {
      "text/plain": [
       "array([[0.44443024, 0.48691751, 0.52082973, 0.54717188],\n",
       "       [0.446666  , 0.51140937, 0.56324016, 0.60372172],\n",
       "       [0.44025311, 0.44115862, 0.44159302, 0.4415181 ],\n",
       "       [0.33362672, 0.34949601, 0.36375856, 0.37720233],\n",
       "       [0.50883451, 0.5369929 , 0.56167997, 0.58502477],\n",
       "       [0.44824143, 0.51145776, 0.56112414, 0.59820123]])"
      ]
     },
     "execution_count": 9,
     "metadata": {},
     "output_type": "execute_result"
    }
   ],
   "source": [
    "sun_nss_mean"
   ]
  },
  {
   "cell_type": "code",
   "execution_count": 10,
   "metadata": {},
   "outputs": [],
   "source": [
    "SUN_nss_m = pd.DataFrame(data=sun_nss_mean, columns=mod, index=cxt)\n",
    "SUN_sim_m = pd.DataFrame(data=sun_sim_mean, columns=mod, index=cxt)\n",
    "SUN_ig_m = pd.DataFrame(data=sun_ig_mean, columns=mod, index=cxt)\n",
    "SUN_auc_m = pd.DataFrame(data=sun_auc_mean, columns=mod, index=cxt)\n",
    "SUN_nss_s = pd.DataFrame(data=sun_nss_std, columns=mod, index=cxt)\n",
    "SUN_sim_s = pd.DataFrame(data=sun_sim_std, columns=mod, index=cxt)\n",
    "SUN_ig_s  = pd.DataFrame(data=sun_ig_std, columns=mod, index=cxt)\n",
    "SUN_auc_s = pd.DataFrame(data=sun_auc_std, columns=mod, index=cxt)"
   ]
  },
  {
   "cell_type": "code",
   "execution_count": 11,
   "metadata": {},
   "outputs": [],
   "source": [
    "SUN_nss_m.to_csv('SUN_nss_m.csv')\n",
    "SUN_sim_m.to_csv('SUN_sim_m.csv')\n",
    "SUN_ig_m.to_csv('SUN_ig_m.csv')\n",
    "SUN_auc_m.to_csv('SUN_auc_m.csv')\n",
    "SUN_nss_s.to_csv('SUN_nss_s.csv')\n",
    "SUN_sim_s.to_csv('SUN_sim_s.csv')\n",
    "SUN_ig_s.to_csv('SUN_ig_s.csv')\n",
    "SUN_auc_s.to_csv('SUN_auc_s.csv')"
   ]
  },
  {
   "cell_type": "code",
   "execution_count": null,
   "metadata": {},
   "outputs": [],
   "source": []
  }
 ],
 "metadata": {
  "kernelspec": {
   "display_name": "saliency",
   "language": "python",
   "name": "myenv"
  },
  "language_info": {
   "codemirror_mode": {
    "name": "ipython",
    "version": 3
   },
   "file_extension": ".py",
   "mimetype": "text/x-python",
   "name": "python",
   "nbconvert_exporter": "python",
   "pygments_lexer": "ipython3",
   "version": "3.7.1"
  }
 },
 "nbformat": 4,
 "nbformat_minor": 2
}
