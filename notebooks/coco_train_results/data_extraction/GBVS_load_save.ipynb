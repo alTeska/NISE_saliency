{
 "cells": [
  {
   "cell_type": "code",
   "execution_count": 1,
   "metadata": {},
   "outputs": [],
   "source": [
    "import pickle\n",
    "import numpy as np\n",
    "import pandas as pd"
   ]
  },
  {
   "cell_type": "code",
   "execution_count": 2,
   "metadata": {},
   "outputs": [],
   "source": [
    "(results, cxt, mod, labels) = pickle.load(open( \"2019-10-01_gbvs.p\", \"rb\"))\n"
   ]
  },
  {
   "cell_type": "code",
   "execution_count": 3,
   "metadata": {},
   "outputs": [
    {
     "data": {
      "text/plain": [
       "array([[[0.93629677, 0.54251514, 4.50196993, 0.74936583, 0.46101218,\n",
       "         0.11829719, 2.73850301, 0.09019164],\n",
       "        [0.95766311, 0.54572043, 4.51355646, 0.75194652, 0.46914158,\n",
       "         0.11598719, 2.73475386, 0.09043155],\n",
       "        [0.97538744, 0.54936076, 4.52039144, 0.75264778, 0.48544753,\n",
       "         0.11389978, 2.73134842, 0.09049679],\n",
       "        [0.9888061 , 0.5554034 , 4.52144748, 0.75290918, 0.51244902,\n",
       "         0.11146935, 2.72714782, 0.09040351]],\n",
       "\n",
       "       [[0.97784588, 0.51291972, 4.42761833, 0.75685069, 0.46735908,\n",
       "         0.10938527, 2.71696222, 0.08966281],\n",
       "        [1.01049266, 0.51781122, 4.44530122, 0.76078461, 0.47632389,\n",
       "         0.10686786, 2.71140212, 0.08967958],\n",
       "        [1.03772312, 0.52339057, 4.45587471, 0.76185995, 0.49737242,\n",
       "         0.10484218, 2.706346  , 0.08967336],\n",
       "        [1.05874002, 0.53271338, 4.45788918, 0.76226877, 0.53402295,\n",
       "         0.10305526, 2.6999124 , 0.08949519]],\n",
       "\n",
       "       [[0.85866931, 0.59780915, 4.64088329, 0.73538163, 0.43848846,\n",
       "         0.11441746, 2.77296418, 0.08950981],\n",
       "        [0.85896004, 0.59786407, 4.64107979, 0.73543405, 0.43869117,\n",
       "         0.11434932, 2.77335923, 0.08951151],\n",
       "        [0.85892379, 0.59788165, 4.64093002, 0.73543641, 0.43924801,\n",
       "         0.11428242, 2.77343971, 0.08951014],\n",
       "        [0.85814642, 0.59779586, 4.64019537, 0.73542238, 0.44069732,\n",
       "         0.11418756, 2.77341694, 0.08949097]],\n",
       "\n",
       "       [[0.97604571, 0.4872396 , 4.31281322, 0.75497656, 0.4930948 ,\n",
       "         0.1101682 , 2.6880067 , 0.09073388],\n",
       "        [0.983822  , 0.48842668, 4.3173228 , 0.75593516, 0.49376927,\n",
       "         0.1096642 , 2.68958418, 0.09059212],\n",
       "        [0.99041914, 0.48984139, 4.32017785, 0.75619681, 0.49737464,\n",
       "         0.10928785, 2.68994501, 0.09057296],\n",
       "        [0.99514235, 0.49237208, 4.32109147, 0.75632879, 0.50571303,\n",
       "         0.10912159, 2.6904513 , 0.09048939]],\n",
       "\n",
       "       [[1.1582774 , 0.49929278, 4.50129723, 0.78020967, 0.52121904,\n",
       "         0.09840815, 2.74363549, 0.08840996],\n",
       "        [1.17355858, 0.50137902, 4.50652556, 0.78171926, 0.52313584,\n",
       "         0.09758459, 2.73900647, 0.0883821 ],\n",
       "        [1.18666283, 0.50381841, 4.51009677, 0.78217584, 0.5318137 ,\n",
       "         0.09706765, 2.73494703, 0.08837436],\n",
       "        [1.19729191, 0.50816504, 4.50856031, 0.78243347, 0.54991286,\n",
       "         0.09712657, 2.73023029, 0.088245  ]],\n",
       "\n",
       "       [[0.89536753, 0.53409354, 4.59053845, 0.74446919, 0.44109722,\n",
       "         0.11420551, 2.7275918 , 0.08920477],\n",
       "        [0.92640597, 0.53878502, 4.6067087 , 0.74799391, 0.45672734,\n",
       "         0.11100409, 2.72184289, 0.08990031],\n",
       "        [0.95252816, 0.54418784, 4.61652088, 0.74897479, 0.48222646,\n",
       "         0.10802142, 2.71495846, 0.09000059],\n",
       "        [0.97272221, 0.55332666, 4.61717272, 0.74936683, 0.52141062,\n",
       "         0.10452881, 2.70661746, 0.08981814]]])"
      ]
     },
     "execution_count": 3,
     "metadata": {},
     "output_type": "execute_result"
    }
   ],
   "source": [
    "results"
   ]
  },
  {
   "cell_type": "code",
   "execution_count": 4,
   "metadata": {},
   "outputs": [
    {
     "data": {
      "text/plain": [
       "['all', 'person', 'no person', 'animal', 'sports', 'electronic']"
      ]
     },
     "execution_count": 4,
     "metadata": {},
     "output_type": "execute_result"
    }
   ],
   "source": [
    "cxt"
   ]
  },
  {
   "cell_type": "code",
   "execution_count": 5,
   "metadata": {},
   "outputs": [
    {
     "data": {
      "text/plain": [
       "['gbvs', 'gbvs_face_03', 'gbvs_face_05', 'gbvs_face_07']"
      ]
     },
     "execution_count": 5,
     "metadata": {},
     "output_type": "execute_result"
    }
   ],
   "source": [
    "mod"
   ]
  },
  {
   "cell_type": "code",
   "execution_count": 6,
   "metadata": {},
   "outputs": [
    {
     "data": {
      "text/plain": [
       "['nss mean',\n",
       " 'sim mean',\n",
       " 'ig mean',\n",
       " 'auc mean',\n",
       " 'nss std',\n",
       " 'sim std',\n",
       " 'ig std',\n",
       " 'auc std']"
      ]
     },
     "execution_count": 6,
     "metadata": {},
     "output_type": "execute_result"
    }
   ],
   "source": [
    "labels"
   ]
  },
  {
   "cell_type": "code",
   "execution_count": 7,
   "metadata": {},
   "outputs": [
    {
     "data": {
      "text/plain": [
       "(6, 4, 8)"
      ]
     },
     "execution_count": 7,
     "metadata": {},
     "output_type": "execute_result"
    }
   ],
   "source": [
    "np.shape(results)"
   ]
  },
  {
   "cell_type": "markdown",
   "metadata": {},
   "source": [
    "## Split by metric"
   ]
  },
  {
   "cell_type": "code",
   "execution_count": 8,
   "metadata": {},
   "outputs": [],
   "source": [
    "gbvs_nss_mean = results[:,:,0]\n",
    "gbvs_sim_mean = results[:,:,1]\n",
    "gbvs_ig_mean = results[:,:,2]\n",
    "gbvs_auc_mean = results[:,:,3]\n",
    "gbvs_nss_std = results[:,:,4]\n",
    "gbvs_sim_std = results[:,:,5]\n",
    "gbvs_ig_std = results[:,:,6]\n",
    "gbvs_auc_std = results[:,:,7]"
   ]
  },
  {
   "cell_type": "code",
   "execution_count": 9,
   "metadata": {},
   "outputs": [],
   "source": [
    "GBVS_nss_m = pd.DataFrame(data=gbvs_nss_mean, columns=mod, index=cxt)\n",
    "GBVS_sim_m = pd.DataFrame(data=gbvs_sim_mean, columns=mod, index=cxt)\n",
    "GBVS_ig_m = pd.DataFrame(data=gbvs_ig_mean, columns=mod, index=cxt)\n",
    "GBVS_auc_m = pd.DataFrame(data=gbvs_auc_mean, columns=mod, index=cxt)\n",
    "GBVS_nss_s = pd.DataFrame(data=gbvs_nss_std, columns=mod, index=cxt)\n",
    "GBVS_sim_s = pd.DataFrame(data=gbvs_sim_std, columns=mod, index=cxt)\n",
    "GBVS_ig_s  = pd.DataFrame(data=gbvs_ig_std, columns=mod, index=cxt)\n",
    "GBVS_auc_s = pd.DataFrame(data=gbvs_auc_std, columns=mod, index=cxt)\n"
   ]
  },
  {
   "cell_type": "code",
   "execution_count": 10,
   "metadata": {},
   "outputs": [],
   "source": [
    "GBVS_nss_m.to_csv('GBVS_nss_m.csv')\n",
    "GBVS_sim_m.to_csv('GBVS_sim_m.csv')\n",
    "GBVS_ig_m.to_csv('GBVS_ig_m.csv')\n",
    "GBVS_auc_m.to_csv('GBVS_auc_m.csv')\n",
    "GBVS_nss_s.to_csv('GBVS_nss_s.csv')\n",
    "GBVS_sim_s.to_csv('GBVS_sim_s.csv')\n",
    "GBVS_ig_s.to_csv('GBVS_ig_s.csv')\n",
    "GBVS_auc_s.to_csv('GBVS_auc_s.csv')"
   ]
  },
  {
   "cell_type": "code",
   "execution_count": null,
   "metadata": {},
   "outputs": [],
   "source": []
  }
 ],
 "metadata": {
  "kernelspec": {
   "display_name": "saliency",
   "language": "python",
   "name": "myenv"
  },
  "language_info": {
   "codemirror_mode": {
    "name": "ipython",
    "version": 3
   },
   "file_extension": ".py",
   "mimetype": "text/x-python",
   "name": "python",
   "nbconvert_exporter": "python",
   "pygments_lexer": "ipython3",
   "version": "3.7.1"
  }
 },
 "nbformat": 4,
 "nbformat_minor": 2
}
