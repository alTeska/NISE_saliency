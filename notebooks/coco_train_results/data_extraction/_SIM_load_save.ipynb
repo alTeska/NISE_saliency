{
 "cells": [
  {
   "cell_type": "code",
   "execution_count": 1,
   "metadata": {},
   "outputs": [],
   "source": [
    "import pickle\n",
    "import numpy as np\n",
    "import pandas as pd"
   ]
  },
  {
   "cell_type": "code",
   "execution_count": 2,
   "metadata": {},
   "outputs": [],
   "source": [
    "cxt = ['all', 'person', 'no person', 'animal', 'sports', 'electronic']"
   ]
  },
  {
   "cell_type": "code",
   "execution_count": 3,
   "metadata": {},
   "outputs": [],
   "source": [
    "AIM_sim_m = pd.read_csv('AIM_sim_m.csv', index_col=[0])\n",
    "CAS_sim_m = pd.read_csv('CAS_sim_m.csv', index_col=[0])\n",
    "COVSAL_sim_m = pd.read_csv('COVSAL_sim_m.csv', index_col=[0])\n",
    "GBVS_sim_m = pd.read_csv('GBVS_sim_m.csv', index_col=[0])\n",
    "ICF_sim_m = pd.read_csv('ICF_sim_m.csv', index_col=[0])\n",
    "IK_sim_m = pd.read_csv('IK_sim_m.csv', index_col=[0])\n",
    "SUN_sim_m = pd.read_csv('SUN_sim_m.csv', index_col=[0])\n",
    "\n",
    "AIM_sim_s = pd.read_csv('AIM_sim_s.csv', index_col=[0])\n",
    "CAS_sim_s = pd.read_csv('CAS_sim_s.csv', index_col=[0])\n",
    "COVSAL_sim_s = pd.read_csv('COVSAL_sim_s.csv', index_col=[0])\n",
    "GBVS_sim_s = pd.read_csv('GBVS_sim_s.csv', index_col=[0])\n",
    "ICF_sim_s = pd.read_csv('ICF_sim_s.csv', index_col=[0])\n",
    "IK_sim_s = pd.read_csv('IK_sim_s.csv', index_col=[0])\n",
    "SUN_sim_s = pd.read_csv('SUN_sim_s.csv', index_col=[0])"
   ]
  },
  {
   "cell_type": "code",
   "execution_count": 4,
   "metadata": {},
   "outputs": [
    {
     "data": {
      "text/html": [
       "<div>\n",
       "<style scoped>\n",
       "    .dataframe tbody tr th:only-of-type {\n",
       "        vertical-align: middle;\n",
       "    }\n",
       "\n",
       "    .dataframe tbody tr th {\n",
       "        vertical-align: top;\n",
       "    }\n",
       "\n",
       "    .dataframe thead th {\n",
       "        text-align: right;\n",
       "    }\n",
       "</style>\n",
       "<table border=\"1\" class=\"dataframe\">\n",
       "  <thead>\n",
       "    <tr style=\"text-align: right;\">\n",
       "      <th></th>\n",
       "      <th>cas</th>\n",
       "      <th>cas_face_03</th>\n",
       "      <th>cas_face_05</th>\n",
       "      <th>cas_face_07</th>\n",
       "    </tr>\n",
       "  </thead>\n",
       "  <tbody>\n",
       "    <tr>\n",
       "      <td>all</td>\n",
       "      <td>0.495140</td>\n",
       "      <td>0.498341</td>\n",
       "      <td>0.502039</td>\n",
       "      <td>0.508505</td>\n",
       "    </tr>\n",
       "    <tr>\n",
       "      <td>person</td>\n",
       "      <td>0.472677</td>\n",
       "      <td>0.477546</td>\n",
       "      <td>0.483200</td>\n",
       "      <td>0.493141</td>\n",
       "    </tr>\n",
       "    <tr>\n",
       "      <td>no person</td>\n",
       "      <td>0.537109</td>\n",
       "      <td>0.537192</td>\n",
       "      <td>0.537237</td>\n",
       "      <td>0.537210</td>\n",
       "    </tr>\n",
       "    <tr>\n",
       "      <td>animal</td>\n",
       "      <td>0.430710</td>\n",
       "      <td>0.431868</td>\n",
       "      <td>0.433269</td>\n",
       "      <td>0.435842</td>\n",
       "    </tr>\n",
       "    <tr>\n",
       "      <td>sports</td>\n",
       "      <td>0.476040</td>\n",
       "      <td>0.478119</td>\n",
       "      <td>0.480517</td>\n",
       "      <td>0.484921</td>\n",
       "    </tr>\n",
       "    <tr>\n",
       "      <td>electronic</td>\n",
       "      <td>0.478320</td>\n",
       "      <td>0.482991</td>\n",
       "      <td>0.488507</td>\n",
       "      <td>0.498240</td>\n",
       "    </tr>\n",
       "  </tbody>\n",
       "</table>\n",
       "</div>"
      ],
      "text/plain": [
       "                 cas  cas_face_03  cas_face_05  cas_face_07\n",
       "all         0.495140     0.498341     0.502039     0.508505\n",
       "person      0.472677     0.477546     0.483200     0.493141\n",
       "no person   0.537109     0.537192     0.537237     0.537210\n",
       "animal      0.430710     0.431868     0.433269     0.435842\n",
       "sports      0.476040     0.478119     0.480517     0.484921\n",
       "electronic  0.478320     0.482991     0.488507     0.498240"
      ]
     },
     "execution_count": 4,
     "metadata": {},
     "output_type": "execute_result"
    }
   ],
   "source": [
    "CAS_sim_m"
   ]
  },
  {
   "cell_type": "markdown",
   "metadata": {},
   "source": [
    "## Save per metric"
   ]
  },
  {
   "cell_type": "markdown",
   "metadata": {},
   "source": [
    "### Mean value"
   ]
  },
  {
   "cell_type": "code",
   "execution_count": 5,
   "metadata": {},
   "outputs": [],
   "source": [
    "labels = ['aim', 'cas','covsal','gbvs','icf','ik','sun',]"
   ]
  },
  {
   "cell_type": "code",
   "execution_count": 6,
   "metadata": {},
   "outputs": [],
   "source": [
    "no_face = [\n",
    "  AIM_sim_m['aim'].tolist(), \n",
    "  CAS_sim_m['cas'].tolist(),\n",
    "  COVSAL_sim_m['covsal'].tolist(),\n",
    "  GBVS_sim_m['gbvs'].tolist(),\n",
    "  ICF_sim_m['icf'].tolist(),\n",
    "  IK_sim_m['ik'].tolist(),\n",
    "  SUN_sim_m['sun'].tolist(),\n",
    "  ICF_sim_m['dg'].tolist(),\n",
    "  ]\n",
    "\n",
    "face_03 = [\n",
    "  AIM_sim_m['aim_face_03'].tolist(), \n",
    "  CAS_sim_m['cas_face_03'].tolist(),\n",
    "  COVSAL_sim_m['covsal_face_03'].tolist(),\n",
    "  GBVS_sim_m['gbvs_face_03'].tolist(),\n",
    "  ICF_sim_m['icf_face_03'].tolist(),\n",
    "  IK_sim_m['ik_face_03'].tolist(),\n",
    "  SUN_sim_m['sun_face_03'].tolist(),\n",
    "  ]\n",
    "\n",
    "face_05 = [\n",
    "  AIM_sim_m['aim_face_05'].tolist(), \n",
    "  CAS_sim_m['cas_face_05'].tolist(),\n",
    "  COVSAL_sim_m['covsal_face_05'].tolist(),\n",
    "  GBVS_sim_m['gbvs_face_05'].tolist(),\n",
    "  ICF_sim_m['icf_face_05'].tolist(),\n",
    "  IK_sim_m['ik_face_05'].tolist(),\n",
    "  SUN_sim_m['sun_face_05'].tolist(),\n",
    "  ]\n",
    "\n",
    "face_07 = [\n",
    "  AIM_sim_m['aim_face_07'].tolist(), \n",
    "  CAS_sim_m['cas_face_07'].tolist(),\n",
    "  COVSAL_sim_m['covsal_face_07'].tolist(),\n",
    "  GBVS_sim_m['gbvs_face_07'].tolist(),\n",
    "  ICF_sim_m['icf_face_07'].tolist(),\n",
    "  IK_sim_m['ik_face_07'].tolist(),\n",
    "  SUN_sim_m['sun_face_07'].tolist(),\n",
    "  ]"
   ]
  },
  {
   "cell_type": "code",
   "execution_count": 7,
   "metadata": {},
   "outputs": [
    {
     "data": {
      "text/html": [
       "<div>\n",
       "<style scoped>\n",
       "    .dataframe tbody tr th:only-of-type {\n",
       "        vertical-align: middle;\n",
       "    }\n",
       "\n",
       "    .dataframe tbody tr th {\n",
       "        vertical-align: top;\n",
       "    }\n",
       "\n",
       "    .dataframe thead th {\n",
       "        text-align: right;\n",
       "    }\n",
       "</style>\n",
       "<table border=\"1\" class=\"dataframe\">\n",
       "  <thead>\n",
       "    <tr style=\"text-align: right;\">\n",
       "      <th></th>\n",
       "      <th>icf</th>\n",
       "      <th>icf_face_03</th>\n",
       "      <th>icf_face_05</th>\n",
       "      <th>icf_face_07</th>\n",
       "      <th>dg</th>\n",
       "    </tr>\n",
       "  </thead>\n",
       "  <tbody>\n",
       "    <tr>\n",
       "      <td>all</td>\n",
       "      <td>0.519075</td>\n",
       "      <td>0.523801</td>\n",
       "      <td>0.527932</td>\n",
       "      <td>0.532480</td>\n",
       "      <td>0.650369</td>\n",
       "    </tr>\n",
       "    <tr>\n",
       "      <td>person</td>\n",
       "      <td>0.498890</td>\n",
       "      <td>0.506101</td>\n",
       "      <td>0.512442</td>\n",
       "      <td>0.519504</td>\n",
       "      <td>0.639309</td>\n",
       "    </tr>\n",
       "    <tr>\n",
       "      <td>no person</td>\n",
       "      <td>0.556787</td>\n",
       "      <td>0.556871</td>\n",
       "      <td>0.556875</td>\n",
       "      <td>0.556726</td>\n",
       "      <td>0.671034</td>\n",
       "    </tr>\n",
       "    <tr>\n",
       "      <td>animal</td>\n",
       "      <td>0.457074</td>\n",
       "      <td>0.458814</td>\n",
       "      <td>0.460215</td>\n",
       "      <td>0.461936</td>\n",
       "      <td>0.631222</td>\n",
       "    </tr>\n",
       "    <tr>\n",
       "      <td>sports</td>\n",
       "      <td>0.483482</td>\n",
       "      <td>0.486918</td>\n",
       "      <td>0.490029</td>\n",
       "      <td>0.493354</td>\n",
       "      <td>0.641099</td>\n",
       "    </tr>\n",
       "    <tr>\n",
       "      <td>electronic</td>\n",
       "      <td>0.505949</td>\n",
       "      <td>0.512993</td>\n",
       "      <td>0.519360</td>\n",
       "      <td>0.526419</td>\n",
       "      <td>0.633137</td>\n",
       "    </tr>\n",
       "  </tbody>\n",
       "</table>\n",
       "</div>"
      ],
      "text/plain": [
       "                 icf  icf_face_03  icf_face_05  icf_face_07        dg\n",
       "all         0.519075     0.523801     0.527932     0.532480  0.650369\n",
       "person      0.498890     0.506101     0.512442     0.519504  0.639309\n",
       "no person   0.556787     0.556871     0.556875     0.556726  0.671034\n",
       "animal      0.457074     0.458814     0.460215     0.461936  0.631222\n",
       "sports      0.483482     0.486918     0.490029     0.493354  0.641099\n",
       "electronic  0.505949     0.512993     0.519360     0.526419  0.633137"
      ]
     },
     "execution_count": 7,
     "metadata": {},
     "output_type": "execute_result"
    }
   ],
   "source": [
    "ICF_sim_m"
   ]
  },
  {
   "cell_type": "code",
   "execution_count": 8,
   "metadata": {},
   "outputs": [],
   "source": [
    "SIM_mean_noface = pd.DataFrame(data=no_face, index=labels+['dg'], columns=cxt)\n",
    "SIM_mean_face_03 = pd.DataFrame(data=face_03, index=labels, columns=cxt)\n",
    "SIM_mean_face_05 = pd.DataFrame(data=face_05, index=labels, columns=cxt)\n",
    "SIM_mean_face_07 = pd.DataFrame(data=face_07, index=labels, columns=cxt)"
   ]
  },
  {
   "cell_type": "code",
   "execution_count": 9,
   "metadata": {},
   "outputs": [
    {
     "data": {
      "text/html": [
       "<div>\n",
       "<style scoped>\n",
       "    .dataframe tbody tr th:only-of-type {\n",
       "        vertical-align: middle;\n",
       "    }\n",
       "\n",
       "    .dataframe tbody tr th {\n",
       "        vertical-align: top;\n",
       "    }\n",
       "\n",
       "    .dataframe thead th {\n",
       "        text-align: right;\n",
       "    }\n",
       "</style>\n",
       "<table border=\"1\" class=\"dataframe\">\n",
       "  <thead>\n",
       "    <tr style=\"text-align: right;\">\n",
       "      <th></th>\n",
       "      <th>all</th>\n",
       "      <th>person</th>\n",
       "      <th>no person</th>\n",
       "      <th>animal</th>\n",
       "      <th>sports</th>\n",
       "      <th>electronic</th>\n",
       "    </tr>\n",
       "  </thead>\n",
       "  <tbody>\n",
       "    <tr>\n",
       "      <td>aim</td>\n",
       "      <td>0.394616</td>\n",
       "      <td>0.364064</td>\n",
       "      <td>0.451696</td>\n",
       "      <td>0.335876</td>\n",
       "      <td>0.323169</td>\n",
       "      <td>0.396621</td>\n",
       "    </tr>\n",
       "    <tr>\n",
       "      <td>cas</td>\n",
       "      <td>0.495140</td>\n",
       "      <td>0.472677</td>\n",
       "      <td>0.537109</td>\n",
       "      <td>0.430710</td>\n",
       "      <td>0.476040</td>\n",
       "      <td>0.478320</td>\n",
       "    </tr>\n",
       "    <tr>\n",
       "      <td>covsal</td>\n",
       "      <td>0.502877</td>\n",
       "      <td>0.487883</td>\n",
       "      <td>0.530890</td>\n",
       "      <td>0.486593</td>\n",
       "      <td>0.474478</td>\n",
       "      <td>0.483885</td>\n",
       "    </tr>\n",
       "    <tr>\n",
       "      <td>gbvs</td>\n",
       "      <td>0.542515</td>\n",
       "      <td>0.512920</td>\n",
       "      <td>0.597809</td>\n",
       "      <td>0.487240</td>\n",
       "      <td>0.499293</td>\n",
       "      <td>0.534094</td>\n",
       "    </tr>\n",
       "    <tr>\n",
       "      <td>icf</td>\n",
       "      <td>0.519075</td>\n",
       "      <td>0.498890</td>\n",
       "      <td>0.556787</td>\n",
       "      <td>0.457074</td>\n",
       "      <td>0.483482</td>\n",
       "      <td>0.505949</td>\n",
       "    </tr>\n",
       "    <tr>\n",
       "      <td>ik</td>\n",
       "      <td>0.445675</td>\n",
       "      <td>0.426353</td>\n",
       "      <td>0.481492</td>\n",
       "      <td>0.396768</td>\n",
       "      <td>0.413913</td>\n",
       "      <td>0.446081</td>\n",
       "    </tr>\n",
       "    <tr>\n",
       "      <td>sun</td>\n",
       "      <td>0.419288</td>\n",
       "      <td>0.387883</td>\n",
       "      <td>0.477965</td>\n",
       "      <td>0.346989</td>\n",
       "      <td>0.346531</td>\n",
       "      <td>0.419481</td>\n",
       "    </tr>\n",
       "    <tr>\n",
       "      <td>dg</td>\n",
       "      <td>0.650369</td>\n",
       "      <td>0.639309</td>\n",
       "      <td>0.671034</td>\n",
       "      <td>0.631222</td>\n",
       "      <td>0.641099</td>\n",
       "      <td>0.633137</td>\n",
       "    </tr>\n",
       "  </tbody>\n",
       "</table>\n",
       "</div>"
      ],
      "text/plain": [
       "             all    person  no person    animal    sports  electronic\n",
       "aim     0.394616  0.364064   0.451696  0.335876  0.323169    0.396621\n",
       "cas     0.495140  0.472677   0.537109  0.430710  0.476040    0.478320\n",
       "covsal  0.502877  0.487883   0.530890  0.486593  0.474478    0.483885\n",
       "gbvs    0.542515  0.512920   0.597809  0.487240  0.499293    0.534094\n",
       "icf     0.519075  0.498890   0.556787  0.457074  0.483482    0.505949\n",
       "ik      0.445675  0.426353   0.481492  0.396768  0.413913    0.446081\n",
       "sun     0.419288  0.387883   0.477965  0.346989  0.346531    0.419481\n",
       "dg      0.650369  0.639309   0.671034  0.631222  0.641099    0.633137"
      ]
     },
     "execution_count": 9,
     "metadata": {},
     "output_type": "execute_result"
    }
   ],
   "source": [
    "SIM_mean_noface"
   ]
  },
  {
   "cell_type": "markdown",
   "metadata": {},
   "source": [
    "### Std"
   ]
  },
  {
   "cell_type": "code",
   "execution_count": 10,
   "metadata": {},
   "outputs": [],
   "source": [
    "no_face = [\n",
    "  AIM_sim_s['aim'].tolist(), \n",
    "  CAS_sim_s['cas'].tolist(),\n",
    "  COVSAL_sim_s['covsal'].tolist(),\n",
    "  GBVS_sim_s['gbvs'].tolist(),\n",
    "  ICF_sim_s['icf'].tolist(),\n",
    "  IK_sim_s['ik'].tolist(),\n",
    "  SUN_sim_s['sun'].tolist(),\n",
    "  ICF_sim_s['dg'].tolist(),\n",
    "  ]\n",
    "\n",
    "face_03 = [\n",
    "  AIM_sim_s['aim_face_03'].tolist(), \n",
    "  CAS_sim_s['cas_face_03'].tolist(),\n",
    "  COVSAL_sim_s['covsal_face_03'].tolist(),\n",
    "  GBVS_sim_s['gbvs_face_03'].tolist(),\n",
    "  ICF_sim_s['icf_face_03'].tolist(),\n",
    "  IK_sim_s['ik_face_03'].tolist(),\n",
    "  SUN_sim_s['sun_face_03'].tolist(),\n",
    "  ]\n",
    "\n",
    "face_05 = [\n",
    "  AIM_sim_s['aim_face_05'].tolist(), \n",
    "  CAS_sim_s['cas_face_05'].tolist(),\n",
    "  COVSAL_sim_s['covsal_face_05'].tolist(),\n",
    "  GBVS_sim_s['gbvs_face_05'].tolist(),\n",
    "  ICF_sim_s['icf_face_05'].tolist(),\n",
    "  IK_sim_s['ik_face_05'].tolist(),\n",
    "  SUN_sim_s['sun_face_05'].tolist(),\n",
    "  ]\n",
    "\n",
    "face_07 = [\n",
    "  AIM_sim_s['aim_face_07'].tolist(), \n",
    "  CAS_sim_s['cas_face_07'].tolist(),\n",
    "  COVSAL_sim_s['covsal_face_07'].tolist(),\n",
    "  GBVS_sim_s['gbvs_face_07'].tolist(),\n",
    "  ICF_sim_s['icf_face_07'].tolist(),\n",
    "  IK_sim_s['ik_face_07'].tolist(),\n",
    "  SUN_sim_s['sun_face_07'].tolist(),\n",
    "  ]"
   ]
  },
  {
   "cell_type": "code",
   "execution_count": 11,
   "metadata": {},
   "outputs": [],
   "source": [
    "SIM_std_noface = pd.DataFrame(data=no_face, index=labels+['dg'], columns=cxt)\n",
    "SIM_std_face_03 = pd.DataFrame(data=face_03, index=labels, columns=cxt)\n",
    "SIM_std_face_05 = pd.DataFrame(data=face_05, index=labels, columns=cxt)\n",
    "SIM_std_face_07 = pd.DataFrame(data=face_07, index=labels, columns=cxt)"
   ]
  },
  {
   "cell_type": "code",
   "execution_count": 12,
   "metadata": {},
   "outputs": [
    {
     "data": {
      "text/html": [
       "<div>\n",
       "<style scoped>\n",
       "    .dataframe tbody tr th:only-of-type {\n",
       "        vertical-align: middle;\n",
       "    }\n",
       "\n",
       "    .dataframe tbody tr th {\n",
       "        vertical-align: top;\n",
       "    }\n",
       "\n",
       "    .dataframe thead th {\n",
       "        text-align: right;\n",
       "    }\n",
       "</style>\n",
       "<table border=\"1\" class=\"dataframe\">\n",
       "  <thead>\n",
       "    <tr style=\"text-align: right;\">\n",
       "      <th></th>\n",
       "      <th>all</th>\n",
       "      <th>person</th>\n",
       "      <th>no person</th>\n",
       "      <th>animal</th>\n",
       "      <th>sports</th>\n",
       "      <th>electronic</th>\n",
       "    </tr>\n",
       "  </thead>\n",
       "  <tbody>\n",
       "    <tr>\n",
       "      <td>aim</td>\n",
       "      <td>0.111531</td>\n",
       "      <td>0.099365</td>\n",
       "      <td>0.110594</td>\n",
       "      <td>0.097585</td>\n",
       "      <td>0.084894</td>\n",
       "      <td>0.106075</td>\n",
       "    </tr>\n",
       "    <tr>\n",
       "      <td>cas</td>\n",
       "      <td>0.115119</td>\n",
       "      <td>0.110367</td>\n",
       "      <td>0.112027</td>\n",
       "      <td>0.112834</td>\n",
       "      <td>0.103052</td>\n",
       "      <td>0.108075</td>\n",
       "    </tr>\n",
       "    <tr>\n",
       "      <td>covsal</td>\n",
       "      <td>0.106628</td>\n",
       "      <td>0.109478</td>\n",
       "      <td>0.094942</td>\n",
       "      <td>0.110057</td>\n",
       "      <td>0.118797</td>\n",
       "      <td>0.102594</td>\n",
       "    </tr>\n",
       "    <tr>\n",
       "      <td>gbvs</td>\n",
       "      <td>0.118297</td>\n",
       "      <td>0.109385</td>\n",
       "      <td>0.114417</td>\n",
       "      <td>0.110168</td>\n",
       "      <td>0.098408</td>\n",
       "      <td>0.114206</td>\n",
       "    </tr>\n",
       "    <tr>\n",
       "      <td>icf</td>\n",
       "      <td>0.119948</td>\n",
       "      <td>0.114081</td>\n",
       "      <td>0.121529</td>\n",
       "      <td>0.125697</td>\n",
       "      <td>0.117675</td>\n",
       "      <td>0.110799</td>\n",
       "    </tr>\n",
       "    <tr>\n",
       "      <td>ik</td>\n",
       "      <td>0.102106</td>\n",
       "      <td>0.096919</td>\n",
       "      <td>0.101804</td>\n",
       "      <td>0.102277</td>\n",
       "      <td>0.092755</td>\n",
       "      <td>0.099576</td>\n",
       "    </tr>\n",
       "    <tr>\n",
       "      <td>sun</td>\n",
       "      <td>0.121621</td>\n",
       "      <td>0.111198</td>\n",
       "      <td>0.118491</td>\n",
       "      <td>0.109950</td>\n",
       "      <td>0.102051</td>\n",
       "      <td>0.107837</td>\n",
       "    </tr>\n",
       "    <tr>\n",
       "      <td>dg</td>\n",
       "      <td>0.085437</td>\n",
       "      <td>0.085112</td>\n",
       "      <td>0.082143</td>\n",
       "      <td>0.090368</td>\n",
       "      <td>0.094987</td>\n",
       "      <td>0.080914</td>\n",
       "    </tr>\n",
       "  </tbody>\n",
       "</table>\n",
       "</div>"
      ],
      "text/plain": [
       "             all    person  no person    animal    sports  electronic\n",
       "aim     0.111531  0.099365   0.110594  0.097585  0.084894    0.106075\n",
       "cas     0.115119  0.110367   0.112027  0.112834  0.103052    0.108075\n",
       "covsal  0.106628  0.109478   0.094942  0.110057  0.118797    0.102594\n",
       "gbvs    0.118297  0.109385   0.114417  0.110168  0.098408    0.114206\n",
       "icf     0.119948  0.114081   0.121529  0.125697  0.117675    0.110799\n",
       "ik      0.102106  0.096919   0.101804  0.102277  0.092755    0.099576\n",
       "sun     0.121621  0.111198   0.118491  0.109950  0.102051    0.107837\n",
       "dg      0.085437  0.085112   0.082143  0.090368  0.094987    0.080914"
      ]
     },
     "execution_count": 12,
     "metadata": {},
     "output_type": "execute_result"
    }
   ],
   "source": [
    "SIM_std_noface"
   ]
  },
  {
   "cell_type": "code",
   "execution_count": 13,
   "metadata": {},
   "outputs": [],
   "source": [
    "SIM_std_noface.to_csv('SIM_std_noface.csv')\n",
    "SIM_std_face_03.to_csv('SIM_std_face_03.csv')\n",
    "SIM_std_face_05.to_csv('SIM_std_face_05.csv')\n",
    "SIM_std_face_07.to_csv('SIM_std_face_07.csv')\n",
    "\n",
    "SIM_mean_noface.to_csv('SIM_mean_noface.csv')\n",
    "SIM_mean_face_03.to_csv('SIM_mean_face_03.csv')\n",
    "SIM_mean_face_05.to_csv('SIM_mean_face_05.csv')\n",
    "SIM_mean_face_07.to_csv('SIM_mean_face_07.csv')"
   ]
  },
  {
   "cell_type": "markdown",
   "metadata": {},
   "source": [
    "## Calculate means"
   ]
  },
  {
   "cell_type": "code",
   "execution_count": 14,
   "metadata": {},
   "outputs": [],
   "source": [
    "A = SIM_mean_noface.values\n",
    "A = A[:-1,:]\n",
    "B = SIM_mean_face_03.values\n",
    "C = SIM_mean_face_05.values\n",
    "D = SIM_mean_face_07.values"
   ]
  },
  {
   "cell_type": "code",
   "execution_count": 15,
   "metadata": {},
   "outputs": [],
   "source": [
    "X = np.dstack([A, B, C, D])"
   ]
  },
  {
   "cell_type": "code",
   "execution_count": 16,
   "metadata": {},
   "outputs": [
    {
     "data": {
      "text/plain": [
       "(7, 6, 4)"
      ]
     },
     "execution_count": 16,
     "metadata": {},
     "output_type": "execute_result"
    }
   ],
   "source": [
    "np.shape(X)"
   ]
  },
  {
   "cell_type": "code",
   "execution_count": 17,
   "metadata": {},
   "outputs": [
    {
     "data": {
      "text/plain": [
       "['all', 'person', 'no person', 'animal', 'sports', 'electronic']"
      ]
     },
     "execution_count": 17,
     "metadata": {},
     "output_type": "execute_result"
    }
   ],
   "source": [
    "cxt"
   ]
  },
  {
   "cell_type": "code",
   "execution_count": 18,
   "metadata": {},
   "outputs": [
    {
     "data": {
      "text/plain": [
       "['aim', 'cas', 'covsal', 'gbvs', 'icf', 'ik', 'sun']"
      ]
     },
     "execution_count": 18,
     "metadata": {},
     "output_type": "execute_result"
    }
   ],
   "source": [
    "labels"
   ]
  },
  {
   "cell_type": "markdown",
   "metadata": {},
   "source": [
    "### Mean over contexts"
   ]
  },
  {
   "cell_type": "code",
   "execution_count": 19,
   "metadata": {},
   "outputs": [
    {
     "data": {
      "text/html": [
       "<div>\n",
       "<style scoped>\n",
       "    .dataframe tbody tr th:only-of-type {\n",
       "        vertical-align: middle;\n",
       "    }\n",
       "\n",
       "    .dataframe tbody tr th {\n",
       "        vertical-align: top;\n",
       "    }\n",
       "\n",
       "    .dataframe thead th {\n",
       "        text-align: right;\n",
       "    }\n",
       "</style>\n",
       "<table border=\"1\" class=\"dataframe\">\n",
       "  <thead>\n",
       "    <tr style=\"text-align: right;\">\n",
       "      <th></th>\n",
       "      <th>0.0</th>\n",
       "      <th>0.3</th>\n",
       "      <th>0.5</th>\n",
       "      <th>0.7</th>\n",
       "    </tr>\n",
       "  </thead>\n",
       "  <tbody>\n",
       "    <tr>\n",
       "      <td>aim</td>\n",
       "      <td>0.377674</td>\n",
       "      <td>0.378817</td>\n",
       "      <td>0.380281</td>\n",
       "      <td>0.383430</td>\n",
       "    </tr>\n",
       "    <tr>\n",
       "      <td>cas</td>\n",
       "      <td>0.481666</td>\n",
       "      <td>0.484343</td>\n",
       "      <td>0.487461</td>\n",
       "      <td>0.492976</td>\n",
       "    </tr>\n",
       "    <tr>\n",
       "      <td>covsal</td>\n",
       "      <td>0.494434</td>\n",
       "      <td>0.501100</td>\n",
       "      <td>0.507115</td>\n",
       "      <td>0.512004</td>\n",
       "    </tr>\n",
       "    <tr>\n",
       "      <td>gbvs</td>\n",
       "      <td>0.528978</td>\n",
       "      <td>0.531664</td>\n",
       "      <td>0.534747</td>\n",
       "      <td>0.539963</td>\n",
       "    </tr>\n",
       "    <tr>\n",
       "      <td>icf</td>\n",
       "      <td>0.503543</td>\n",
       "      <td>0.507583</td>\n",
       "      <td>0.511142</td>\n",
       "      <td>0.515070</td>\n",
       "    </tr>\n",
       "    <tr>\n",
       "      <td>ik</td>\n",
       "      <td>0.435047</td>\n",
       "      <td>0.440027</td>\n",
       "      <td>0.445302</td>\n",
       "      <td>0.451618</td>\n",
       "    </tr>\n",
       "    <tr>\n",
       "      <td>sun</td>\n",
       "      <td>0.399689</td>\n",
       "      <td>0.403816</td>\n",
       "      <td>0.408340</td>\n",
       "      <td>0.415165</td>\n",
       "    </tr>\n",
       "  </tbody>\n",
       "</table>\n",
       "</div>"
      ],
      "text/plain": [
       "             0.0       0.3       0.5       0.7\n",
       "aim     0.377674  0.378817  0.380281  0.383430\n",
       "cas     0.481666  0.484343  0.487461  0.492976\n",
       "covsal  0.494434  0.501100  0.507115  0.512004\n",
       "gbvs    0.528978  0.531664  0.534747  0.539963\n",
       "icf     0.503543  0.507583  0.511142  0.515070\n",
       "ik      0.435047  0.440027  0.445302  0.451618\n",
       "sun     0.399689  0.403816  0.408340  0.415165"
      ]
     },
     "execution_count": 19,
     "metadata": {},
     "output_type": "execute_result"
    }
   ],
   "source": [
    "mean_models = (X.mean(axis=1))\n",
    "\n",
    "SIM_mean_models = pd.DataFrame(data=mean_models, columns=[0, 0.3, 0.5, 0.7], index=labels)\n",
    "SIM_mean_models"
   ]
  },
  {
   "cell_type": "markdown",
   "metadata": {},
   "source": [
    "### Mean over models"
   ]
  },
  {
   "cell_type": "code",
   "execution_count": 20,
   "metadata": {},
   "outputs": [
    {
     "data": {
      "text/html": [
       "<div>\n",
       "<style scoped>\n",
       "    .dataframe tbody tr th:only-of-type {\n",
       "        vertical-align: middle;\n",
       "    }\n",
       "\n",
       "    .dataframe tbody tr th {\n",
       "        vertical-align: top;\n",
       "    }\n",
       "\n",
       "    .dataframe thead th {\n",
       "        text-align: right;\n",
       "    }\n",
       "</style>\n",
       "<table border=\"1\" class=\"dataframe\">\n",
       "  <thead>\n",
       "    <tr style=\"text-align: right;\">\n",
       "      <th></th>\n",
       "      <th>0.0</th>\n",
       "      <th>0.3</th>\n",
       "      <th>0.5</th>\n",
       "      <th>0.7</th>\n",
       "    </tr>\n",
       "  </thead>\n",
       "  <tbody>\n",
       "    <tr>\n",
       "      <td>all</td>\n",
       "      <td>0.474169</td>\n",
       "      <td>0.478658</td>\n",
       "      <td>0.483198</td>\n",
       "      <td>0.489165</td>\n",
       "    </tr>\n",
       "    <tr>\n",
       "      <td>person</td>\n",
       "      <td>0.450096</td>\n",
       "      <td>0.456940</td>\n",
       "      <td>0.463901</td>\n",
       "      <td>0.473113</td>\n",
       "    </tr>\n",
       "    <tr>\n",
       "      <td>no person</td>\n",
       "      <td>0.519107</td>\n",
       "      <td>0.519212</td>\n",
       "      <td>0.519233</td>\n",
       "      <td>0.519143</td>\n",
       "    </tr>\n",
       "    <tr>\n",
       "      <td>animal</td>\n",
       "      <td>0.420179</td>\n",
       "      <td>0.421832</td>\n",
       "      <td>0.423600</td>\n",
       "      <td>0.426061</td>\n",
       "    </tr>\n",
       "    <tr>\n",
       "      <td>sports</td>\n",
       "      <td>0.430987</td>\n",
       "      <td>0.433841</td>\n",
       "      <td>0.436896</td>\n",
       "      <td>0.441147</td>\n",
       "    </tr>\n",
       "    <tr>\n",
       "      <td>electronic</td>\n",
       "      <td>0.466347</td>\n",
       "      <td>0.472961</td>\n",
       "      <td>0.479791</td>\n",
       "      <td>0.488709</td>\n",
       "    </tr>\n",
       "  </tbody>\n",
       "</table>\n",
       "</div>"
      ],
      "text/plain": [
       "                 0.0       0.3       0.5       0.7\n",
       "all         0.474169  0.478658  0.483198  0.489165\n",
       "person      0.450096  0.456940  0.463901  0.473113\n",
       "no person   0.519107  0.519212  0.519233  0.519143\n",
       "animal      0.420179  0.421832  0.423600  0.426061\n",
       "sports      0.430987  0.433841  0.436896  0.441147\n",
       "electronic  0.466347  0.472961  0.479791  0.488709"
      ]
     },
     "execution_count": 20,
     "metadata": {},
     "output_type": "execute_result"
    }
   ],
   "source": [
    "mean_cxt = (X.mean(axis=0))\n",
    "\n",
    "SIM_mean_cxt = pd.DataFrame(data=mean_cxt, columns=[0, 0.3, 0.5, 0.7], index=cxt)\n",
    "SIM_mean_cxt"
   ]
  },
  {
   "cell_type": "code",
   "execution_count": 21,
   "metadata": {},
   "outputs": [],
   "source": [
    "SIM_mean_cxt.to_csv('SIM_mean_cxt.csv')\n",
    "SIM_mean_models.to_csv('SIM_mean_models.csv')\n"
   ]
  }
 ],
 "metadata": {
  "kernelspec": {
   "display_name": "saliency",
   "language": "python",
   "name": "myenv"
  },
  "language_info": {
   "codemirror_mode": {
    "name": "ipython",
    "version": 3
   },
   "file_extension": ".py",
   "mimetype": "text/x-python",
   "name": "python",
   "nbconvert_exporter": "python",
   "pygments_lexer": "ipython3",
   "version": "3.7.1"
  }
 },
 "nbformat": 4,
 "nbformat_minor": 2
}
