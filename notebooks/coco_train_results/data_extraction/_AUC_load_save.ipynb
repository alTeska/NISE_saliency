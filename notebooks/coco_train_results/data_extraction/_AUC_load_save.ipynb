{
 "cells": [
  {
   "cell_type": "code",
   "execution_count": 1,
   "metadata": {},
   "outputs": [],
   "source": [
    "import pickle\n",
    "import numpy as np\n",
    "import pandas as pd"
   ]
  },
  {
   "cell_type": "code",
   "execution_count": 2,
   "metadata": {},
   "outputs": [],
   "source": [
    "cxt = ['all', 'person', 'no person', 'animal', 'sports', 'electronic']"
   ]
  },
  {
   "cell_type": "code",
   "execution_count": 3,
   "metadata": {},
   "outputs": [],
   "source": [
    "AIM_auc_m = pd.read_csv('AIM_auc_m.csv', index_col=[0])\n",
    "CAS_auc_m = pd.read_csv('CAS_auc_m.csv', index_col=[0])\n",
    "COVSAL_auc_m = pd.read_csv('COVSAL_auc_m.csv', index_col=[0])\n",
    "GBVS_auc_m = pd.read_csv('GBVS_auc_m.csv', index_col=[0])\n",
    "ICF_auc_m = pd.read_csv('ICF_auc_m.csv', index_col=[0])\n",
    "IK_auc_m = pd.read_csv('IK_auc_m.csv', index_col=[0])\n",
    "SUN_auc_m = pd.read_csv('SUN_auc_m.csv', index_col=[0])\n",
    "\n",
    "AIM_auc_s = pd.read_csv('AIM_auc_s.csv', index_col=[0])\n",
    "CAS_auc_s = pd.read_csv('CAS_auc_s.csv', index_col=[0])\n",
    "COVSAL_auc_s = pd.read_csv('COVSAL_auc_s.csv', index_col=[0])\n",
    "GBVS_auc_s = pd.read_csv('GBVS_auc_s.csv', index_col=[0])\n",
    "ICF_auc_s = pd.read_csv('ICF_auc_s.csv', index_col=[0])\n",
    "IK_auc_s = pd.read_csv('IK_auc_s.csv', index_col=[0])\n",
    "SUN_auc_s = pd.read_csv('SUN_auc_s.csv', index_col=[0])"
   ]
  },
  {
   "cell_type": "code",
   "execution_count": 4,
   "metadata": {},
   "outputs": [
    {
     "data": {
      "text/html": [
       "<div>\n",
       "<style scoped>\n",
       "    .dataframe tbody tr th:only-of-type {\n",
       "        vertical-align: middle;\n",
       "    }\n",
       "\n",
       "    .dataframe tbody tr th {\n",
       "        vertical-align: top;\n",
       "    }\n",
       "\n",
       "    .dataframe thead th {\n",
       "        text-align: right;\n",
       "    }\n",
       "</style>\n",
       "<table border=\"1\" class=\"dataframe\">\n",
       "  <thead>\n",
       "    <tr style=\"text-align: right;\">\n",
       "      <th></th>\n",
       "      <th>cas</th>\n",
       "      <th>cas_face_03</th>\n",
       "      <th>cas_face_05</th>\n",
       "      <th>cas_face_07</th>\n",
       "    </tr>\n",
       "  </thead>\n",
       "  <tbody>\n",
       "    <tr>\n",
       "      <td>all</td>\n",
       "      <td>0.694740</td>\n",
       "      <td>0.698729</td>\n",
       "      <td>0.700353</td>\n",
       "      <td>0.701140</td>\n",
       "    </tr>\n",
       "    <tr>\n",
       "      <td>person</td>\n",
       "      <td>0.705537</td>\n",
       "      <td>0.711624</td>\n",
       "      <td>0.714109</td>\n",
       "      <td>0.715308</td>\n",
       "    </tr>\n",
       "    <tr>\n",
       "      <td>no person</td>\n",
       "      <td>0.674566</td>\n",
       "      <td>0.674635</td>\n",
       "      <td>0.674653</td>\n",
       "      <td>0.674669</td>\n",
       "    </tr>\n",
       "    <tr>\n",
       "      <td>animal</td>\n",
       "      <td>0.688424</td>\n",
       "      <td>0.689674</td>\n",
       "      <td>0.690178</td>\n",
       "      <td>0.690495</td>\n",
       "    </tr>\n",
       "    <tr>\n",
       "      <td>sports</td>\n",
       "      <td>0.743562</td>\n",
       "      <td>0.745200</td>\n",
       "      <td>0.745823</td>\n",
       "      <td>0.746190</td>\n",
       "    </tr>\n",
       "    <tr>\n",
       "      <td>electronic</td>\n",
       "      <td>0.681332</td>\n",
       "      <td>0.686698</td>\n",
       "      <td>0.688780</td>\n",
       "      <td>0.689888</td>\n",
       "    </tr>\n",
       "  </tbody>\n",
       "</table>\n",
       "</div>"
      ],
      "text/plain": [
       "                 cas  cas_face_03  cas_face_05  cas_face_07\n",
       "all         0.694740     0.698729     0.700353     0.701140\n",
       "person      0.705537     0.711624     0.714109     0.715308\n",
       "no person   0.674566     0.674635     0.674653     0.674669\n",
       "animal      0.688424     0.689674     0.690178     0.690495\n",
       "sports      0.743562     0.745200     0.745823     0.746190\n",
       "electronic  0.681332     0.686698     0.688780     0.689888"
      ]
     },
     "execution_count": 4,
     "metadata": {},
     "output_type": "execute_result"
    }
   ],
   "source": [
    "CAS_auc_m"
   ]
  },
  {
   "cell_type": "markdown",
   "metadata": {},
   "source": [
    "## Save per metric"
   ]
  },
  {
   "cell_type": "markdown",
   "metadata": {},
   "source": [
    "### Mean value"
   ]
  },
  {
   "cell_type": "code",
   "execution_count": 5,
   "metadata": {},
   "outputs": [],
   "source": [
    "labels = ['aim', 'cas','covsal','gbvs','icf','ik','sun',]"
   ]
  },
  {
   "cell_type": "code",
   "execution_count": 6,
   "metadata": {},
   "outputs": [],
   "source": [
    "no_face = [\n",
    "  AIM_auc_m['aim'].tolist(), \n",
    "  CAS_auc_m['cas'].tolist(),\n",
    "  COVSAL_auc_m['covsal'].tolist(),\n",
    "  GBVS_auc_m['gbvs'].tolist(),\n",
    "  ICF_auc_m['icf'].tolist(),\n",
    "  IK_auc_m['ik'].tolist(),\n",
    "  SUN_auc_m['sun'].tolist(),\n",
    "  ICF_auc_m['dg'].tolist(),\n",
    "  ]\n",
    "\n",
    "face_03 = [\n",
    "  AIM_auc_m['aim_face_03'].tolist(), \n",
    "  CAS_auc_m['cas_face_03'].tolist(),\n",
    "  COVSAL_auc_m['covsal_face_03'].tolist(),\n",
    "  GBVS_auc_m['gbvs_face_03'].tolist(),\n",
    "  ICF_auc_m['icf_face_03'].tolist(),\n",
    "  IK_auc_m['ik_face_03'].tolist(),\n",
    "  SUN_auc_m['sun_face_03'].tolist(),\n",
    "  ]\n",
    "\n",
    "face_05 = [\n",
    "  AIM_auc_m['aim_face_05'].tolist(), \n",
    "  CAS_auc_m['cas_face_05'].tolist(),\n",
    "  COVSAL_auc_m['covsal_face_05'].tolist(),\n",
    "  GBVS_auc_m['gbvs_face_05'].tolist(),\n",
    "  ICF_auc_m['icf_face_05'].tolist(),\n",
    "  IK_auc_m['ik_face_05'].tolist(),\n",
    "  SUN_auc_m['sun_face_05'].tolist(),\n",
    "  ]\n",
    "\n",
    "face_07 = [\n",
    "  AIM_auc_m['aim_face_07'].tolist(), \n",
    "  CAS_auc_m['cas_face_07'].tolist(),\n",
    "  COVSAL_auc_m['covsal_face_07'].tolist(),\n",
    "  GBVS_auc_m['gbvs_face_07'].tolist(),\n",
    "  ICF_auc_m['icf_face_07'].tolist(),\n",
    "  IK_auc_m['ik_face_07'].tolist(),\n",
    "  SUN_auc_m['sun_face_07'].tolist(),\n",
    "  ]"
   ]
  },
  {
   "cell_type": "code",
   "execution_count": 7,
   "metadata": {},
   "outputs": [
    {
     "data": {
      "text/html": [
       "<div>\n",
       "<style scoped>\n",
       "    .dataframe tbody tr th:only-of-type {\n",
       "        vertical-align: middle;\n",
       "    }\n",
       "\n",
       "    .dataframe tbody tr th {\n",
       "        vertical-align: top;\n",
       "    }\n",
       "\n",
       "    .dataframe thead th {\n",
       "        text-align: right;\n",
       "    }\n",
       "</style>\n",
       "<table border=\"1\" class=\"dataframe\">\n",
       "  <thead>\n",
       "    <tr style=\"text-align: right;\">\n",
       "      <th></th>\n",
       "      <th>icf</th>\n",
       "      <th>icf_face_03</th>\n",
       "      <th>icf_face_05</th>\n",
       "      <th>icf_face_07</th>\n",
       "      <th>dg</th>\n",
       "    </tr>\n",
       "  </thead>\n",
       "  <tbody>\n",
       "    <tr>\n",
       "      <td>all</td>\n",
       "      <td>0.714083</td>\n",
       "      <td>0.715740</td>\n",
       "      <td>0.716269</td>\n",
       "      <td>0.716903</td>\n",
       "      <td>0.774691</td>\n",
       "    </tr>\n",
       "    <tr>\n",
       "      <td>person</td>\n",
       "      <td>0.724809</td>\n",
       "      <td>0.727315</td>\n",
       "      <td>0.728127</td>\n",
       "      <td>0.729096</td>\n",
       "      <td>0.785386</td>\n",
       "    </tr>\n",
       "    <tr>\n",
       "      <td>no person</td>\n",
       "      <td>0.694044</td>\n",
       "      <td>0.694115</td>\n",
       "      <td>0.694113</td>\n",
       "      <td>0.694122</td>\n",
       "      <td>0.754710</td>\n",
       "    </tr>\n",
       "    <tr>\n",
       "      <td>animal</td>\n",
       "      <td>0.707857</td>\n",
       "      <td>0.708423</td>\n",
       "      <td>0.708662</td>\n",
       "      <td>0.709061</td>\n",
       "      <td>0.782197</td>\n",
       "    </tr>\n",
       "    <tr>\n",
       "      <td>sports</td>\n",
       "      <td>0.742238</td>\n",
       "      <td>0.743268</td>\n",
       "      <td>0.743702</td>\n",
       "      <td>0.744237</td>\n",
       "      <td>0.802257</td>\n",
       "    </tr>\n",
       "    <tr>\n",
       "      <td>electronic</td>\n",
       "      <td>0.706599</td>\n",
       "      <td>0.709048</td>\n",
       "      <td>0.709841</td>\n",
       "      <td>0.710843</td>\n",
       "      <td>0.770191</td>\n",
       "    </tr>\n",
       "  </tbody>\n",
       "</table>\n",
       "</div>"
      ],
      "text/plain": [
       "                 icf  icf_face_03  icf_face_05  icf_face_07        dg\n",
       "all         0.714083     0.715740     0.716269     0.716903  0.774691\n",
       "person      0.724809     0.727315     0.728127     0.729096  0.785386\n",
       "no person   0.694044     0.694115     0.694113     0.694122  0.754710\n",
       "animal      0.707857     0.708423     0.708662     0.709061  0.782197\n",
       "sports      0.742238     0.743268     0.743702     0.744237  0.802257\n",
       "electronic  0.706599     0.709048     0.709841     0.710843  0.770191"
      ]
     },
     "execution_count": 7,
     "metadata": {},
     "output_type": "execute_result"
    }
   ],
   "source": [
    "ICF_auc_m"
   ]
  },
  {
   "cell_type": "code",
   "execution_count": 8,
   "metadata": {},
   "outputs": [],
   "source": [
    "AUC_mean_noface = pd.DataFrame(data=no_face, index=labels+['dg'], columns=cxt)\n",
    "AUC_mean_face_03 = pd.DataFrame(data=face_03, index=labels, columns=cxt)\n",
    "AUC_mean_face_05 = pd.DataFrame(data=face_05, index=labels, columns=cxt)\n",
    "AUC_mean_face_07 = pd.DataFrame(data=face_07, index=labels, columns=cxt)"
   ]
  },
  {
   "cell_type": "code",
   "execution_count": 9,
   "metadata": {},
   "outputs": [
    {
     "data": {
      "text/html": [
       "<div>\n",
       "<style scoped>\n",
       "    .dataframe tbody tr th:only-of-type {\n",
       "        vertical-align: middle;\n",
       "    }\n",
       "\n",
       "    .dataframe tbody tr th {\n",
       "        vertical-align: top;\n",
       "    }\n",
       "\n",
       "    .dataframe thead th {\n",
       "        text-align: right;\n",
       "    }\n",
       "</style>\n",
       "<table border=\"1\" class=\"dataframe\">\n",
       "  <thead>\n",
       "    <tr style=\"text-align: right;\">\n",
       "      <th></th>\n",
       "      <th>all</th>\n",
       "      <th>person</th>\n",
       "      <th>no person</th>\n",
       "      <th>animal</th>\n",
       "      <th>sports</th>\n",
       "      <th>electronic</th>\n",
       "    </tr>\n",
       "  </thead>\n",
       "  <tbody>\n",
       "    <tr>\n",
       "      <td>aim</td>\n",
       "      <td>0.667399</td>\n",
       "      <td>0.675930</td>\n",
       "      <td>0.651460</td>\n",
       "      <td>0.658173</td>\n",
       "      <td>0.702019</td>\n",
       "      <td>0.660210</td>\n",
       "    </tr>\n",
       "    <tr>\n",
       "      <td>cas</td>\n",
       "      <td>0.694740</td>\n",
       "      <td>0.705537</td>\n",
       "      <td>0.674566</td>\n",
       "      <td>0.688424</td>\n",
       "      <td>0.743562</td>\n",
       "      <td>0.681332</td>\n",
       "    </tr>\n",
       "    <tr>\n",
       "      <td>covsal</td>\n",
       "      <td>0.743704</td>\n",
       "      <td>0.748337</td>\n",
       "      <td>0.735049</td>\n",
       "      <td>0.749722</td>\n",
       "      <td>0.755804</td>\n",
       "      <td>0.738809</td>\n",
       "    </tr>\n",
       "    <tr>\n",
       "      <td>gbvs</td>\n",
       "      <td>0.749366</td>\n",
       "      <td>0.756851</td>\n",
       "      <td>0.735382</td>\n",
       "      <td>0.754977</td>\n",
       "      <td>0.780210</td>\n",
       "      <td>0.744469</td>\n",
       "    </tr>\n",
       "    <tr>\n",
       "      <td>icf</td>\n",
       "      <td>0.714083</td>\n",
       "      <td>0.724809</td>\n",
       "      <td>0.694044</td>\n",
       "      <td>0.707857</td>\n",
       "      <td>0.742238</td>\n",
       "      <td>0.706599</td>\n",
       "    </tr>\n",
       "    <tr>\n",
       "      <td>ik</td>\n",
       "      <td>0.656940</td>\n",
       "      <td>0.669288</td>\n",
       "      <td>0.633871</td>\n",
       "      <td>0.656090</td>\n",
       "      <td>0.692848</td>\n",
       "      <td>0.657036</td>\n",
       "    </tr>\n",
       "    <tr>\n",
       "      <td>sun</td>\n",
       "      <td>0.624444</td>\n",
       "      <td>0.625526</td>\n",
       "      <td>0.622424</td>\n",
       "      <td>0.592391</td>\n",
       "      <td>0.633091</td>\n",
       "      <td>0.624564</td>\n",
       "    </tr>\n",
       "    <tr>\n",
       "      <td>dg</td>\n",
       "      <td>0.774691</td>\n",
       "      <td>0.785386</td>\n",
       "      <td>0.754710</td>\n",
       "      <td>0.782197</td>\n",
       "      <td>0.802257</td>\n",
       "      <td>0.770191</td>\n",
       "    </tr>\n",
       "  </tbody>\n",
       "</table>\n",
       "</div>"
      ],
      "text/plain": [
       "             all    person  no person    animal    sports  electronic\n",
       "aim     0.667399  0.675930   0.651460  0.658173  0.702019    0.660210\n",
       "cas     0.694740  0.705537   0.674566  0.688424  0.743562    0.681332\n",
       "covsal  0.743704  0.748337   0.735049  0.749722  0.755804    0.738809\n",
       "gbvs    0.749366  0.756851   0.735382  0.754977  0.780210    0.744469\n",
       "icf     0.714083  0.724809   0.694044  0.707857  0.742238    0.706599\n",
       "ik      0.656940  0.669288   0.633871  0.656090  0.692848    0.657036\n",
       "sun     0.624444  0.625526   0.622424  0.592391  0.633091    0.624564\n",
       "dg      0.774691  0.785386   0.754710  0.782197  0.802257    0.770191"
      ]
     },
     "execution_count": 9,
     "metadata": {},
     "output_type": "execute_result"
    }
   ],
   "source": [
    "AUC_mean_noface"
   ]
  },
  {
   "cell_type": "markdown",
   "metadata": {},
   "source": [
    "### Std"
   ]
  },
  {
   "cell_type": "code",
   "execution_count": 10,
   "metadata": {},
   "outputs": [],
   "source": [
    "no_face = [\n",
    "  AIM_auc_s['aim'].tolist(), \n",
    "  CAS_auc_s['cas'].tolist(),\n",
    "  COVSAL_auc_s['covsal'].tolist(),\n",
    "  GBVS_auc_s['gbvs'].tolist(),\n",
    "  ICF_auc_s['icf'].tolist(),\n",
    "  IK_auc_s['ik'].tolist(),\n",
    "  SUN_auc_s['sun'].tolist(),\n",
    "  ICF_auc_s['dg'].tolist(),\n",
    "  ]\n",
    "\n",
    "face_03 = [\n",
    "  AIM_auc_s['aim_face_03'].tolist(), \n",
    "  CAS_auc_s['cas_face_03'].tolist(),\n",
    "  COVSAL_auc_s['covsal_face_03'].tolist(),\n",
    "  GBVS_auc_s['gbvs_face_03'].tolist(),\n",
    "  ICF_auc_s['icf_face_03'].tolist(),\n",
    "  IK_auc_s['ik_face_03'].tolist(),\n",
    "  SUN_auc_s['sun_face_03'].tolist(),\n",
    "  ]\n",
    "\n",
    "face_05 = [\n",
    "  AIM_auc_s['aim_face_05'].tolist(), \n",
    "  CAS_auc_s['cas_face_05'].tolist(),\n",
    "  COVSAL_auc_s['covsal_face_05'].tolist(),\n",
    "  GBVS_auc_s['gbvs_face_05'].tolist(),\n",
    "  ICF_auc_s['icf_face_05'].tolist(),\n",
    "  IK_auc_s['ik_face_05'].tolist(),\n",
    "  SUN_auc_s['sun_face_05'].tolist(),\n",
    "  ]\n",
    "\n",
    "face_07 = [\n",
    "  AIM_auc_s['aim_face_07'].tolist(), \n",
    "  CAS_auc_s['cas_face_07'].tolist(),\n",
    "  COVSAL_auc_s['covsal_face_07'].tolist(),\n",
    "  GBVS_auc_s['gbvs_face_07'].tolist(),\n",
    "  ICF_auc_s['icf_face_07'].tolist(),\n",
    "  IK_auc_s['ik_face_07'].tolist(),\n",
    "  SUN_auc_s['sun_face_07'].tolist(),\n",
    "  ]"
   ]
  },
  {
   "cell_type": "code",
   "execution_count": 11,
   "metadata": {},
   "outputs": [],
   "source": [
    "AUC_std_noface = pd.DataFrame(data=no_face, index=labels+['dg'], columns=cxt)\n",
    "AUC_std_face_03 = pd.DataFrame(data=face_03, index=labels, columns=cxt)\n",
    "AUC_std_face_05 = pd.DataFrame(data=face_05, index=labels, columns=cxt)\n",
    "AUC_std_face_07 = pd.DataFrame(data=face_07, index=labels, columns=cxt)"
   ]
  },
  {
   "cell_type": "code",
   "execution_count": 12,
   "metadata": {},
   "outputs": [
    {
     "data": {
      "text/html": [
       "<div>\n",
       "<style scoped>\n",
       "    .dataframe tbody tr th:only-of-type {\n",
       "        vertical-align: middle;\n",
       "    }\n",
       "\n",
       "    .dataframe tbody tr th {\n",
       "        vertical-align: top;\n",
       "    }\n",
       "\n",
       "    .dataframe thead th {\n",
       "        text-align: right;\n",
       "    }\n",
       "</style>\n",
       "<table border=\"1\" class=\"dataframe\">\n",
       "  <thead>\n",
       "    <tr style=\"text-align: right;\">\n",
       "      <th></th>\n",
       "      <th>all</th>\n",
       "      <th>person</th>\n",
       "      <th>no person</th>\n",
       "      <th>animal</th>\n",
       "      <th>sports</th>\n",
       "      <th>electronic</th>\n",
       "    </tr>\n",
       "  </thead>\n",
       "  <tbody>\n",
       "    <tr>\n",
       "      <td>aim</td>\n",
       "      <td>0.097074</td>\n",
       "      <td>0.096867</td>\n",
       "      <td>0.095437</td>\n",
       "      <td>0.102570</td>\n",
       "      <td>0.099681</td>\n",
       "      <td>0.092274</td>\n",
       "    </tr>\n",
       "    <tr>\n",
       "      <td>cas</td>\n",
       "      <td>0.105034</td>\n",
       "      <td>0.104402</td>\n",
       "      <td>0.103221</td>\n",
       "      <td>0.109182</td>\n",
       "      <td>0.102676</td>\n",
       "      <td>0.101350</td>\n",
       "    </tr>\n",
       "    <tr>\n",
       "      <td>covsal</td>\n",
       "      <td>0.093705</td>\n",
       "      <td>0.092729</td>\n",
       "      <td>0.094896</td>\n",
       "      <td>0.091953</td>\n",
       "      <td>0.092810</td>\n",
       "      <td>0.092794</td>\n",
       "    </tr>\n",
       "    <tr>\n",
       "      <td>gbvs</td>\n",
       "      <td>0.090192</td>\n",
       "      <td>0.089663</td>\n",
       "      <td>0.089510</td>\n",
       "      <td>0.090734</td>\n",
       "      <td>0.088410</td>\n",
       "      <td>0.089205</td>\n",
       "    </tr>\n",
       "    <tr>\n",
       "      <td>icf</td>\n",
       "      <td>0.107334</td>\n",
       "      <td>0.105246</td>\n",
       "      <td>0.108320</td>\n",
       "      <td>0.112955</td>\n",
       "      <td>0.107793</td>\n",
       "      <td>0.104413</td>\n",
       "    </tr>\n",
       "    <tr>\n",
       "      <td>ik</td>\n",
       "      <td>0.108968</td>\n",
       "      <td>0.108040</td>\n",
       "      <td>0.106926</td>\n",
       "      <td>0.115292</td>\n",
       "      <td>0.110668</td>\n",
       "      <td>0.108642</td>\n",
       "    </tr>\n",
       "    <tr>\n",
       "      <td>sun</td>\n",
       "      <td>0.098969</td>\n",
       "      <td>0.099154</td>\n",
       "      <td>0.098589</td>\n",
       "      <td>0.112098</td>\n",
       "      <td>0.106809</td>\n",
       "      <td>0.091018</td>\n",
       "    </tr>\n",
       "    <tr>\n",
       "      <td>dg</td>\n",
       "      <td>0.093391</td>\n",
       "      <td>0.090612</td>\n",
       "      <td>0.095205</td>\n",
       "      <td>0.094686</td>\n",
       "      <td>0.086958</td>\n",
       "      <td>0.089656</td>\n",
       "    </tr>\n",
       "  </tbody>\n",
       "</table>\n",
       "</div>"
      ],
      "text/plain": [
       "             all    person  no person    animal    sports  electronic\n",
       "aim     0.097074  0.096867   0.095437  0.102570  0.099681    0.092274\n",
       "cas     0.105034  0.104402   0.103221  0.109182  0.102676    0.101350\n",
       "covsal  0.093705  0.092729   0.094896  0.091953  0.092810    0.092794\n",
       "gbvs    0.090192  0.089663   0.089510  0.090734  0.088410    0.089205\n",
       "icf     0.107334  0.105246   0.108320  0.112955  0.107793    0.104413\n",
       "ik      0.108968  0.108040   0.106926  0.115292  0.110668    0.108642\n",
       "sun     0.098969  0.099154   0.098589  0.112098  0.106809    0.091018\n",
       "dg      0.093391  0.090612   0.095205  0.094686  0.086958    0.089656"
      ]
     },
     "execution_count": 12,
     "metadata": {},
     "output_type": "execute_result"
    }
   ],
   "source": [
    "AUC_std_noface"
   ]
  },
  {
   "cell_type": "code",
   "execution_count": 13,
   "metadata": {},
   "outputs": [],
   "source": [
    "AUC_std_noface.to_csv('AUC_std_noface.csv')\n",
    "AUC_std_face_03.to_csv('AUC_std_face_03.csv')\n",
    "AUC_std_face_05.to_csv('AUC_std_face_05.csv')\n",
    "AUC_std_face_07.to_csv('AUC_std_face_07.csv')\n",
    "\n",
    "AUC_mean_noface.to_csv('AUC_mean_noface.csv')\n",
    "AUC_mean_face_03.to_csv('AUC_mean_face_03.csv')\n",
    "AUC_mean_face_05.to_csv('AUC_mean_face_05.csv')\n",
    "AUC_mean_face_07.to_csv('AUC_mean_face_07.csv')"
   ]
  },
  {
   "cell_type": "markdown",
   "metadata": {},
   "source": [
    "## Calculate means"
   ]
  },
  {
   "cell_type": "code",
   "execution_count": 14,
   "metadata": {},
   "outputs": [],
   "source": [
    "A = AUC_mean_noface.values\n",
    "A = A[:-1,:]\n",
    "B = AUC_mean_face_03.values\n",
    "C = AUC_mean_face_05.values\n",
    "D = AUC_mean_face_07.values"
   ]
  },
  {
   "cell_type": "code",
   "execution_count": 15,
   "metadata": {},
   "outputs": [],
   "source": [
    "X = np.dstack([A, B, C, D])"
   ]
  },
  {
   "cell_type": "code",
   "execution_count": 16,
   "metadata": {},
   "outputs": [
    {
     "data": {
      "text/plain": [
       "(7, 6, 4)"
      ]
     },
     "execution_count": 16,
     "metadata": {},
     "output_type": "execute_result"
    }
   ],
   "source": [
    "np.shape(X)"
   ]
  },
  {
   "cell_type": "code",
   "execution_count": 17,
   "metadata": {},
   "outputs": [
    {
     "data": {
      "text/plain": [
       "['all', 'person', 'no person', 'animal', 'sports', 'electronic']"
      ]
     },
     "execution_count": 17,
     "metadata": {},
     "output_type": "execute_result"
    }
   ],
   "source": [
    "cxt"
   ]
  },
  {
   "cell_type": "code",
   "execution_count": 18,
   "metadata": {},
   "outputs": [
    {
     "data": {
      "text/plain": [
       "['aim', 'cas', 'covsal', 'gbvs', 'icf', 'ik', 'sun']"
      ]
     },
     "execution_count": 18,
     "metadata": {},
     "output_type": "execute_result"
    }
   ],
   "source": [
    "labels"
   ]
  },
  {
   "cell_type": "markdown",
   "metadata": {},
   "source": [
    "### Mean over contexts"
   ]
  },
  {
   "cell_type": "code",
   "execution_count": 19,
   "metadata": {},
   "outputs": [
    {
     "data": {
      "text/html": [
       "<div>\n",
       "<style scoped>\n",
       "    .dataframe tbody tr th:only-of-type {\n",
       "        vertical-align: middle;\n",
       "    }\n",
       "\n",
       "    .dataframe tbody tr th {\n",
       "        vertical-align: top;\n",
       "    }\n",
       "\n",
       "    .dataframe thead th {\n",
       "        text-align: right;\n",
       "    }\n",
       "</style>\n",
       "<table border=\"1\" class=\"dataframe\">\n",
       "  <thead>\n",
       "    <tr style=\"text-align: right;\">\n",
       "      <th></th>\n",
       "      <th>0.0</th>\n",
       "      <th>0.3</th>\n",
       "      <th>0.5</th>\n",
       "      <th>0.7</th>\n",
       "    </tr>\n",
       "  </thead>\n",
       "  <tbody>\n",
       "    <tr>\n",
       "      <td>aim</td>\n",
       "      <td>0.669199</td>\n",
       "      <td>0.673258</td>\n",
       "      <td>0.673903</td>\n",
       "      <td>0.674555</td>\n",
       "    </tr>\n",
       "    <tr>\n",
       "      <td>cas</td>\n",
       "      <td>0.698027</td>\n",
       "      <td>0.701093</td>\n",
       "      <td>0.702316</td>\n",
       "      <td>0.702949</td>\n",
       "    </tr>\n",
       "    <tr>\n",
       "      <td>covsal</td>\n",
       "      <td>0.745238</td>\n",
       "      <td>0.747885</td>\n",
       "      <td>0.748861</td>\n",
       "      <td>0.749940</td>\n",
       "    </tr>\n",
       "    <tr>\n",
       "      <td>gbvs</td>\n",
       "      <td>0.753542</td>\n",
       "      <td>0.755636</td>\n",
       "      <td>0.756215</td>\n",
       "      <td>0.756455</td>\n",
       "    </tr>\n",
       "    <tr>\n",
       "      <td>icf</td>\n",
       "      <td>0.714938</td>\n",
       "      <td>0.716318</td>\n",
       "      <td>0.716786</td>\n",
       "      <td>0.717377</td>\n",
       "    </tr>\n",
       "    <tr>\n",
       "      <td>ik</td>\n",
       "      <td>0.661012</td>\n",
       "      <td>0.665232</td>\n",
       "      <td>0.666213</td>\n",
       "      <td>0.666927</td>\n",
       "    </tr>\n",
       "    <tr>\n",
       "      <td>sun</td>\n",
       "      <td>0.620407</td>\n",
       "      <td>0.626062</td>\n",
       "      <td>0.627546</td>\n",
       "      <td>0.628355</td>\n",
       "    </tr>\n",
       "  </tbody>\n",
       "</table>\n",
       "</div>"
      ],
      "text/plain": [
       "             0.0       0.3       0.5       0.7\n",
       "aim     0.669199  0.673258  0.673903  0.674555\n",
       "cas     0.698027  0.701093  0.702316  0.702949\n",
       "covsal  0.745238  0.747885  0.748861  0.749940\n",
       "gbvs    0.753542  0.755636  0.756215  0.756455\n",
       "icf     0.714938  0.716318  0.716786  0.717377\n",
       "ik      0.661012  0.665232  0.666213  0.666927\n",
       "sun     0.620407  0.626062  0.627546  0.628355"
      ]
     },
     "execution_count": 19,
     "metadata": {},
     "output_type": "execute_result"
    }
   ],
   "source": [
    "mean_models = (X.mean(axis=1))\n",
    "\n",
    "AUC_mean_models = pd.DataFrame(data=mean_models, columns=[0, 0.3, 0.5, 0.7], index=labels)\n",
    "AUC_mean_models"
   ]
  },
  {
   "cell_type": "markdown",
   "metadata": {},
   "source": [
    "### Mean over models"
   ]
  },
  {
   "cell_type": "code",
   "execution_count": 20,
   "metadata": {},
   "outputs": [
    {
     "data": {
      "text/html": [
       "<div>\n",
       "<style scoped>\n",
       "    .dataframe tbody tr th:only-of-type {\n",
       "        vertical-align: middle;\n",
       "    }\n",
       "\n",
       "    .dataframe tbody tr th {\n",
       "        vertical-align: top;\n",
       "    }\n",
       "\n",
       "    .dataframe thead th {\n",
       "        text-align: right;\n",
       "    }\n",
       "</style>\n",
       "<table border=\"1\" class=\"dataframe\">\n",
       "  <thead>\n",
       "    <tr style=\"text-align: right;\">\n",
       "      <th></th>\n",
       "      <th>0.0</th>\n",
       "      <th>0.3</th>\n",
       "      <th>0.5</th>\n",
       "      <th>0.7</th>\n",
       "    </tr>\n",
       "  </thead>\n",
       "  <tbody>\n",
       "    <tr>\n",
       "      <td>all</td>\n",
       "      <td>0.692954</td>\n",
       "      <td>0.697078</td>\n",
       "      <td>0.698186</td>\n",
       "      <td>0.698951</td>\n",
       "    </tr>\n",
       "    <tr>\n",
       "      <td>person</td>\n",
       "      <td>0.700897</td>\n",
       "      <td>0.707177</td>\n",
       "      <td>0.708871</td>\n",
       "      <td>0.710029</td>\n",
       "    </tr>\n",
       "    <tr>\n",
       "      <td>no person</td>\n",
       "      <td>0.678114</td>\n",
       "      <td>0.678209</td>\n",
       "      <td>0.678224</td>\n",
       "      <td>0.678253</td>\n",
       "    </tr>\n",
       "    <tr>\n",
       "      <td>animal</td>\n",
       "      <td>0.686805</td>\n",
       "      <td>0.688359</td>\n",
       "      <td>0.688794</td>\n",
       "      <td>0.689179</td>\n",
       "    </tr>\n",
       "    <tr>\n",
       "      <td>sports</td>\n",
       "      <td>0.721396</td>\n",
       "      <td>0.723656</td>\n",
       "      <td>0.724362</td>\n",
       "      <td>0.724947</td>\n",
       "    </tr>\n",
       "    <tr>\n",
       "      <td>electronic</td>\n",
       "      <td>0.687574</td>\n",
       "      <td>0.693079</td>\n",
       "      <td>0.694568</td>\n",
       "      <td>0.695690</td>\n",
       "    </tr>\n",
       "  </tbody>\n",
       "</table>\n",
       "</div>"
      ],
      "text/plain": [
       "                 0.0       0.3       0.5       0.7\n",
       "all         0.692954  0.697078  0.698186  0.698951\n",
       "person      0.700897  0.707177  0.708871  0.710029\n",
       "no person   0.678114  0.678209  0.678224  0.678253\n",
       "animal      0.686805  0.688359  0.688794  0.689179\n",
       "sports      0.721396  0.723656  0.724362  0.724947\n",
       "electronic  0.687574  0.693079  0.694568  0.695690"
      ]
     },
     "execution_count": 20,
     "metadata": {},
     "output_type": "execute_result"
    }
   ],
   "source": [
    "mean_cxt = (X.mean(axis=0))\n",
    "\n",
    "AUC_mean_cxt = pd.DataFrame(data=mean_cxt, columns=[0, 0.3, 0.5, 0.7], index=cxt)\n",
    "AUC_mean_cxt"
   ]
  },
  {
   "cell_type": "code",
   "execution_count": 21,
   "metadata": {},
   "outputs": [],
   "source": [
    "AUC_mean_cxt.to_csv('AUC_mean_cxt.csv')\n",
    "AUC_mean_models.to_csv('AUC_mean_models.csv')\n"
   ]
  },
  {
   "cell_type": "code",
   "execution_count": null,
   "metadata": {},
   "outputs": [],
   "source": []
  }
 ],
 "metadata": {
  "kernelspec": {
   "display_name": "saliency",
   "language": "python",
   "name": "myenv"
  },
  "language_info": {
   "codemirror_mode": {
    "name": "ipython",
    "version": 3
   },
   "file_extension": ".py",
   "mimetype": "text/x-python",
   "name": "python",
   "nbconvert_exporter": "python",
   "pygments_lexer": "ipython3",
   "version": "3.7.1"
  }
 },
 "nbformat": 4,
 "nbformat_minor": 2
}
