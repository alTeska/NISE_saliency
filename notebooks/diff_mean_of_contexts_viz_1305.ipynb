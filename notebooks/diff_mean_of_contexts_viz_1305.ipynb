{
 "cells": [
  {
   "cell_type": "markdown",
   "metadata": {},
   "source": [
    "# Vizualize Diff Means of Contexts for Different Models\n",
    "* For all of the metrics\n",
    "* apply 3 different styles"
   ]
  },
  {
   "cell_type": "code",
   "execution_count": 1,
   "metadata": {},
   "outputs": [],
   "source": [
    "import os\n",
    "os.chdir('./data')"
   ]
  },
  {
   "cell_type": "code",
   "execution_count": 2,
   "metadata": {},
   "outputs": [],
   "source": [
    "import numpy as np\n",
    "import pickle\n",
    "import matplotlib.pyplot as plt\n",
    "import matplotlib.gridspec as gridspec\n",
    "import matplotlib\n",
    "\n",
    "import pandas as pd\n",
    "import seaborn as sns\n",
    "from glob import glob\n",
    "from tabulate import tabulate\n",
    "from IPython.display import Latex, display_html, display, HTML"
   ]
  },
  {
   "cell_type": "markdown",
   "metadata": {},
   "source": [
    "## Load Results for all Metrics"
   ]
  },
  {
   "cell_type": "code",
   "execution_count": 3,
   "metadata": {},
   "outputs": [],
   "source": [
    "SIM = pd.read_csv('scores_mean_contexts_' + 'SIM' + '.csv')\n",
    "NSS = pd.read_csv('scores_mean_contexts_' + 'NSS' + '.csv')\n",
    "AUC = pd.read_csv('scores_mean_contexts_' + 'AUC' + '.csv')\n",
    "IG = pd.read_csv('scores_mean_contexts_' + 'IG' + '.csv')"
   ]
  },
  {
   "cell_type": "markdown",
   "metadata": {},
   "source": [
    "#### Set Models as Index"
   ]
  },
  {
   "cell_type": "code",
   "execution_count": 4,
   "metadata": {},
   "outputs": [],
   "source": [
    "SIM.rename(columns={'Unnamed: 0':'models'}, inplace=True)\n",
    "SIM.set_index('models', inplace=True)\n",
    "\n",
    "NSS.rename(columns={'Unnamed: 0':'models'}, inplace=True)\n",
    "NSS.set_index('models', inplace=True)\n",
    "\n",
    "AUC.rename(columns={'Unnamed: 0':'models'}, inplace=True)\n",
    "AUC.set_index('models', inplace=True)\n",
    "\n",
    "IG.rename(columns={'Unnamed: 0':'models'}, inplace=True)\n",
    "IG.set_index('models', inplace=True)"
   ]
  },
  {
   "cell_type": "code",
   "execution_count": null,
   "metadata": {},
   "outputs": [],
   "source": [
    "df = pd.read_csv('scores_' + plot_metric + '.csv')\n",
    "df_feaces = pd.read_csv('scores_faces_' + plot_metric + '.csv')\n",
    "df_f03 = pd.read_csv('scores_f03_' + plot_metric + '.csv')\n",
    "df_f05 = pd.read_csv('scores_f05_' + plot_metric + '.csv')\n",
    "df_f07 = pd.read_csv('scores_f07_' + plot_metric + '.csv')"
   ]
  }
 ],
 "metadata": {
  "kernelspec": {
   "display_name": "saliency",
   "language": "python",
   "name": "myenv"
  },
  "language_info": {
   "codemirror_mode": {
    "name": "ipython",
    "version": 3
   },
   "file_extension": ".py",
   "mimetype": "text/x-python",
   "name": "python",
   "nbconvert_exporter": "python",
   "pygments_lexer": "ipython3",
   "version": "3.7.1"
  }
 },
 "nbformat": 4,
 "nbformat_minor": 2
}
