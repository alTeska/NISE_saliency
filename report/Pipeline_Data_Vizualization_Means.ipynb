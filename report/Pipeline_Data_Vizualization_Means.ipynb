{
 "cells": [
  {
   "cell_type": "markdown",
   "metadata": {},
   "source": [
    "# Vizualize And Analyze the Data \n",
    "File will analyze the means across different contexts and across different models including different influence of face saliency. Provides with plots of the results and saves them into chosen destination.\n",
    "\n",
    "You have to pick a metric and provide a string for saving the files."
   ]
  },
  {
   "cell_type": "code",
   "execution_count": null,
   "metadata": {},
   "outputs": [],
   "source": [
    "import os\n",
    "os.chdir('../saliency_model/')\n",
    "\n",
    "import numpy as np\n",
    "import pickle\n",
    "import matplotlib.pyplot as plt\n",
    "import matplotlib.gridspec as gridspec\n",
    "import matplotlib\n",
    "\n",
    "import pandas as pd\n",
    "import seaborn as sns\n",
    "from glob import glob\n",
    "\n",
    "matplotlib.rcParams.update({'font.size': 15})"
   ]
  },
  {
   "cell_type": "markdown",
   "metadata": {},
   "source": [
    "### Pick Metric\n",
    "NSS, SIM, IG, AUC"
   ]
  },
  {
   "cell_type": "code",
   "execution_count": null,
   "metadata": {},
   "outputs": [],
   "source": [
    "plot_metric = 'NSS'"
   ]
  },
  {
   "cell_type": "code",
   "execution_count": null,
   "metadata": {},
   "outputs": [],
   "source": [
    "# pick directory\n",
    "save_dir ='../report/plots/'"
   ]
  },
  {
   "cell_type": "code",
   "execution_count": null,
   "metadata": {},
   "outputs": [],
   "source": [
    "os.chdir('../results/')\n",
    "glob('*.p')"
   ]
  },
  {
   "cell_type": "markdown",
   "metadata": {},
   "source": [
    "## Pick the Dataset and Load Required Data"
   ]
  },
  {
   "cell_type": "code",
   "execution_count": null,
   "metadata": {},
   "outputs": [],
   "source": [
    "(summary, context, model, metric) = pickle.load(open( '19-02-01_results_plain_models.p', \"rb\"))"
   ]
  },
  {
   "cell_type": "code",
   "execution_count": null,
   "metadata": {},
   "outputs": [],
   "source": [
    "print(np.shape(summary))\n",
    "print(context)\n",
    "print(model)\n",
    "print(metric)"
   ]
  },
  {
   "cell_type": "code",
   "execution_count": null,
   "metadata": {},
   "outputs": [],
   "source": [
    "(summary_f03, context_f03, model_f03, metric_f03) = pickle.load(open( '19-02-01_results_face_03.p', \"rb\"))\n",
    "(summary_f05, context_f05, model_f05, metric_f05) = pickle.load(open( '19-02-01_results_face_05.p', \"rb\"))\n",
    "(summary_f07, context_f07, model_f07, metric_f07) = pickle.load(open( '19-02-01_results_face_07.p', \"rb\"))"
   ]
  },
  {
   "cell_type": "markdown",
   "metadata": {},
   "source": [
    "#### Vizualize the inside of one of the models"
   ]
  },
  {
   "cell_type": "code",
   "execution_count": null,
   "metadata": {},
   "outputs": [],
   "source": [
    "model_f03"
   ]
  },
  {
   "cell_type": "markdown",
   "metadata": {},
   "source": [
    "## Data Loading"
   ]
  },
  {
   "cell_type": "markdown",
   "metadata": {},
   "source": [
    "### Get ID of the Metric"
   ]
  },
  {
   "cell_type": "code",
   "execution_count": null,
   "metadata": {},
   "outputs": [],
   "source": [
    "if plot_metric == 'NSS':\n",
    "    metric_id = 0\n",
    "elif plot_metric == 'SIM':\n",
    "    metric_id = 1\n",
    "elif plot_metric == 'IG':\n",
    "    metric_id = 2\n",
    "elif plot_metric == 'AUC':\n",
    "    metric_id = 3\n",
    "else:\n",
    "    raise ValueError('Wrong metric name provided.')\n",
    "    \n",
    "metric_id"
   ]
  },
  {
   "cell_type": "markdown",
   "metadata": {},
   "source": [
    "### Load the scores"
   ]
  },
  {
   "cell_type": "code",
   "execution_count": null,
   "metadata": {},
   "outputs": [],
   "source": [
    "scores = summary[:,:,metric_id]\n",
    "f03_scores = summary_f03[:,:,metric_id]\n",
    "f05_scores = summary_f05[:,:,metric_id]\n",
    "f07_scores = summary_f07[:,:,metric_id]"
   ]
  },
  {
   "cell_type": "markdown",
   "metadata": {},
   "source": [
    "## Change scores into DataFrames\n",
    "### No Faces Data Frame"
   ]
  },
  {
   "cell_type": "code",
   "execution_count": null,
   "metadata": {},
   "outputs": [],
   "source": [
    "df = pd.DataFrame(data=scores, columns=model, index=context)\n",
    "df.columns.name='models'\n",
    "df.index.name='context'\n",
    "\n",
    "df = df.transpose()\n",
    "df"
   ]
  },
  {
   "cell_type": "markdown",
   "metadata": {},
   "source": [
    "#### Separate Faces From the rest of the results"
   ]
  },
  {
   "cell_type": "code",
   "execution_count": null,
   "metadata": {},
   "outputs": [],
   "source": [
    "faces = df.loc['faces']\n",
    "df = df.loc[['aim','cas', 'covsal', 'gbvs', 'icf', 'ik', 'sun', 'dg']]"
   ]
  },
  {
   "cell_type": "markdown",
   "metadata": {},
   "source": [
    "#### Get Mean Values across Contexts and Models"
   ]
  },
  {
   "cell_type": "code",
   "execution_count": null,
   "metadata": {},
   "outputs": [],
   "source": [
    "df['mean context'] = df.mean(axis=1)\n",
    "df = df.transpose()\n",
    "df['mean model'] = df.mean(axis=1)\n",
    "df = df.transpose()\n",
    "df"
   ]
  },
  {
   "cell_type": "code",
   "execution_count": null,
   "metadata": {},
   "outputs": [],
   "source": [
    "df_mean_model = df.loc['mean model']\n",
    "df_mean_context = df.transpose().loc['mean context']"
   ]
  },
  {
   "cell_type": "markdown",
   "metadata": {},
   "source": [
    "### Faces with $\\alpha$ = 0.3"
   ]
  },
  {
   "cell_type": "code",
   "execution_count": null,
   "metadata": {},
   "outputs": [],
   "source": [
    "df_f03 = pd.DataFrame(data=f03_scores, columns=model_f03, index=context_f03)\n",
    "df_f03.columns.name='models'\n",
    "df_f03.index.name='context'\n",
    "\n",
    "# Rename columns of the face plot\n",
    "col = {'aim_face_03':'aim', 'cas_face_03':'cas', 'covsal_face_03':'covsal', 'gbvs_face_03':'gbvs',\n",
    "       'icf_face_03':'icf', 'ik_10_face_03':'ik_10', 'sun_face_03':'sun', 'ik_face_03':'ik'}\n",
    "df_f03 = df_f03.rename(index=str, columns=col).transpose()\n",
    "\n",
    "df_f03"
   ]
  },
  {
   "cell_type": "markdown",
   "metadata": {},
   "source": [
    "#### Get Mean Values across Contexts and Models"
   ]
  },
  {
   "cell_type": "code",
   "execution_count": null,
   "metadata": {},
   "outputs": [],
   "source": [
    "df_f03['mean context'] = df_f03.mean(axis=1)\n",
    "df_f03 = df_f03.transpose()\n",
    "df_f03['mean model'] = df_f03.mean(axis=1)\n",
    "df_f03 = df_f03.transpose()\n",
    "df_f03"
   ]
  },
  {
   "cell_type": "code",
   "execution_count": null,
   "metadata": {},
   "outputs": [],
   "source": [
    "df_f03_mean_model = df_f03.loc['mean model']\n",
    "df_f03_mean_context = df_f03.transpose().loc['mean context']"
   ]
  },
  {
   "cell_type": "markdown",
   "metadata": {},
   "source": [
    "### Faces with $\\alpha$ = 0.5"
   ]
  },
  {
   "cell_type": "code",
   "execution_count": null,
   "metadata": {},
   "outputs": [],
   "source": [
    "df_f05 = pd.DataFrame(data=f05_scores, columns=model_f05, index=context_f05)\n",
    "df_f05.columns.name='models'\n",
    "df_f05.index.name='context'\n",
    "\n",
    "# Rename columns of the face plot\n",
    "col = {'aim_face_05':'aim', 'cas_face_05':'cas', 'covsal_face_05':'covsal', 'gbvs_face_05':'gbvs',\n",
    "       'icf_face_05':'icf', 'ik_10_face_05':'ik_10', 'sun_face_05':'sun', 'ik_face_05':'ik'}\n",
    "df_f05 = df_f05.rename(index=str, columns=col).transpose()\n",
    "\n",
    "df_f05"
   ]
  },
  {
   "cell_type": "markdown",
   "metadata": {},
   "source": [
    "#### Get Mean Values across Contexts and Models"
   ]
  },
  {
   "cell_type": "code",
   "execution_count": null,
   "metadata": {},
   "outputs": [],
   "source": [
    "df_f05['mean context'] = df_f05.mean(axis=1)\n",
    "df_f05 = df_f05.transpose()\n",
    "df_f05['mean model'] = df_f05.mean(axis=1)\n",
    "df_f05 = df_f05.transpose()\n",
    "df_f05"
   ]
  },
  {
   "cell_type": "code",
   "execution_count": null,
   "metadata": {},
   "outputs": [],
   "source": [
    "df_f05_mean_model = df_f05.loc['mean model']\n",
    "df_f05_mean_context = df_f05.transpose().loc['mean context']"
   ]
  },
  {
   "cell_type": "markdown",
   "metadata": {},
   "source": [
    "### Faces with $\\alpha$ = 0.7"
   ]
  },
  {
   "cell_type": "code",
   "execution_count": null,
   "metadata": {},
   "outputs": [],
   "source": [
    "df_f07 = pd.DataFrame(data=f07_scores, columns=model_f07, index=context_f07)\n",
    "df_f07.columns.name='models'\n",
    "df_f07.index.name='context'\n",
    "\n",
    "# Rename columns of the face plot\n",
    "col = {'aim_face_07':'aim', 'cas_face_07':'cas', 'covsal_face_07':'covsal', 'gbvs_face_07':'gbvs',\n",
    "       'icf_face_07':'icf', 'ik_10_face_07':'ik_10', 'sun_face_07':'sun', 'ik_face_07':'ik'}\n",
    "df_f07 = df_f07.rename(index=str, columns=col).transpose()\n",
    "\n",
    "df_f07"
   ]
  },
  {
   "cell_type": "code",
   "execution_count": null,
   "metadata": {},
   "outputs": [],
   "source": [
    "df_f07['mean context'] = df_f07.mean(axis=1)\n",
    "df_f07 = df_f07.transpose()\n",
    "df_f07['mean model'] = df_f07.mean(axis=1)\n",
    "df_f07 = df_f07.transpose()\n",
    "df_f07"
   ]
  },
  {
   "cell_type": "code",
   "execution_count": null,
   "metadata": {},
   "outputs": [],
   "source": [
    "df_f07_mean_model = df_f07.loc['mean model']\n",
    "df_f07_mean_context = df_f07.transpose().loc['mean context']"
   ]
  },
  {
   "cell_type": "markdown",
   "metadata": {},
   "source": [
    "### Create Mean Matrices"
   ]
  },
  {
   "cell_type": "code",
   "execution_count": null,
   "metadata": {},
   "outputs": [],
   "source": [
    "mean_models = pd.DataFrame([df_mean_model, df_f03_mean_model, df_f05_mean_model, df_f07_mean_model], index=[0,0.3,0.5,0.7])\n",
    "\n",
    "mean_models = mean_models.transpose()\n",
    "mean_models = mean_models.loc[['all', 'person', 'no person', 'animal', 'electronic', 'sports']]\n",
    "mean_models"
   ]
  },
  {
   "cell_type": "code",
   "execution_count": null,
   "metadata": {},
   "outputs": [],
   "source": [
    "mean_contexts = pd.DataFrame([df_mean_context, df_f03_mean_context, df_f05_mean_context, df_f07_mean_context], index=[0,0.3,0.5,0.7])\n",
    "\n",
    "mean_contexts = mean_contexts.transpose()\n",
    "mean_contexts = mean_contexts.loc[['aim', 'cas', 'covsal', 'gbvs', 'icf', 'ik', 'sun']]\n",
    "mean_contexts"
   ]
  },
  {
   "cell_type": "markdown",
   "metadata": {},
   "source": [
    "## Visualization of The Results"
   ]
  },
  {
   "cell_type": "code",
   "execution_count": null,
   "metadata": {},
   "outputs": [],
   "source": [
    "matplotlib.rcParams.update({'font.size': 15})\n",
    "\n",
    "f, ax = plt.subplots(figsize=(11, 9))\n",
    "sns.heatmap(df, annot=True, linewidths=.5, ax=ax, cmap='viridis');\n",
    "plt.title('{} results'.format(plot_metric));\n",
    "\n",
    "plt.savefig(save_dir+'{}_all.jpg'.format(plot_metric), bbox_inches='tight', pad_inches=0)"
   ]
  },
  {
   "cell_type": "code",
   "execution_count": null,
   "metadata": {},
   "outputs": [],
   "source": []
  }
 ],
 "metadata": {
  "kernelspec": {
   "display_name": "Python 3",
   "language": "python",
   "name": "python3"
  },
  "language_info": {
   "codemirror_mode": {
    "name": "ipython",
    "version": 3
   },
   "file_extension": ".py",
   "mimetype": "text/x-python",
   "name": "python",
   "nbconvert_exporter": "python",
   "pygments_lexer": "ipython3",
   "version": "3.6.8"
  }
 },
 "nbformat": 4,
 "nbformat_minor": 2
}
