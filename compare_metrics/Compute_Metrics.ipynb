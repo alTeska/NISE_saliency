{
 "cells": [
  {
   "cell_type": "markdown",
   "metadata": {},
   "source": [
    "# Computing the Metrics"
   ]
  },
  {
   "cell_type": "code",
   "execution_count": 1,
   "metadata": {},
   "outputs": [],
   "source": [
    "import numpy as np\n",
    "import pickle\n",
    "import matplotlib.pyplot as plt\n",
    "plt.rcParams['image.cmap'] = 'gray'\n",
    "\n",
    "import os"
   ]
  },
  {
   "cell_type": "code",
   "execution_count": 2,
   "metadata": {},
   "outputs": [],
   "source": [
    "os.chdir('../saliency_model/')\n",
    "from context_analysis import get_dataset_ids, ContextAnalysis"
   ]
  },
  {
   "cell_type": "code",
   "execution_count": 3,
   "metadata": {},
   "outputs": [],
   "source": [
    "# set dataset specific values\n",
    "dataDir='..\\\\..\\\\coco'\n",
    "context = ['all', 'person', 'no person', 'animal', 'sports', 'electronic']\n",
    "#models = ['aim', 'aim_face_03', 'aim_face_05', 'aim_face_07']\n",
    "models = ['cas', 'cas_face_03', 'cas_face_05', 'cas_face_07',\n",
    "          'covsal', 'covsal_face_03', 'covsal_face_05', 'covsal_face_07',\n",
    "          'icf', 'icf_face_03', 'icf_face_05', 'icf_face_07',\n",
    "          'ik', 'ik_face_03', 'ik_face_05', 'ik_face_07',\n",
    "          'sun', 'sun_face_03', 'sun_face_05', 'sun_face_07']\n",
    "          #'gbvs', 'gbvs_face_03', 'gbvs_face_05', 'gbvs_face_07', 'dg']\n",
    "metrics_to_use = ['nss', 'sim', 'ig', 'auc']\n",
    "baseline_models = ['none', 'none', 'none', 'none',\n",
    "                   'none', 'none', 'none', 'none',\n",
    "                   'none', 'none', 'none', 'none',\n",
    "                   'none', 'none', 'none', 'none',\n",
    "                   'none', 'none', 'none', 'none']\n",
    "\n",
    "#models = ['cas_face_03']\n",
    "#baseline_models = ['none']"
   ]
  },
  {
   "cell_type": "code",
   "execution_count": 4,
   "metadata": {},
   "outputs": [
    {
     "name": "stdout",
     "output_type": "stream",
     "text": [
      "loading annotations into memory...\n",
      "Done (t=8.42s)\n",
      "creating index...\n",
      "index created!\n",
      "Context: all, Model: cas, Baseline: none, Images found: 499\n"
     ]
    },
    {
     "name": "stderr",
     "output_type": "stream",
     "text": [
      "324it [05:58,  1.10s/it]"
     ]
    },
    {
     "name": "stdout",
     "output_type": "stream",
     "text": [
      "Fixation Matfile at path ..\\..\\coco\\fixations\\COCO_val2014_000000322163.mat could not be found.\n"
     ]
    },
    {
     "name": "stderr",
     "output_type": "stream",
     "text": [
      "499it [09:06,  1.02s/it]\n"
     ]
    },
    {
     "name": "stdout",
     "output_type": "stream",
     "text": [
      "Context: all, Model: cas_face_03, Baseline: none, Images found: 498\n"
     ]
    },
    {
     "name": "stderr",
     "output_type": "stream",
     "text": [
      "323it [05:49,  1.08s/it]"
     ]
    },
    {
     "name": "stdout",
     "output_type": "stream",
     "text": [
      "Fixation Matfile at path ..\\..\\coco\\fixations\\COCO_val2014_000000322163.mat could not be found.\n"
     ]
    },
    {
     "name": "stderr",
     "output_type": "stream",
     "text": [
      "498it [08:57,  1.01s/it]\n"
     ]
    },
    {
     "name": "stdout",
     "output_type": "stream",
     "text": [
      "Context: all, Model: cas_face_05, Baseline: none, Images found: 499\n"
     ]
    },
    {
     "name": "stderr",
     "output_type": "stream",
     "text": [
      "324it [05:55,  1.09s/it]"
     ]
    },
    {
     "name": "stdout",
     "output_type": "stream",
     "text": [
      "Fixation Matfile at path ..\\..\\coco\\fixations\\COCO_val2014_000000322163.mat could not be found.\n"
     ]
    },
    {
     "name": "stderr",
     "output_type": "stream",
     "text": [
      "499it [09:05,  1.03s/it]\n"
     ]
    },
    {
     "name": "stdout",
     "output_type": "stream",
     "text": [
      "Context: all, Model: cas_face_07, Baseline: none, Images found: 499\n"
     ]
    },
    {
     "name": "stderr",
     "output_type": "stream",
     "text": [
      "324it [05:51,  1.09s/it]"
     ]
    },
    {
     "name": "stdout",
     "output_type": "stream",
     "text": [
      "Fixation Matfile at path ..\\..\\coco\\fixations\\COCO_val2014_000000322163.mat could not be found.\n"
     ]
    },
    {
     "name": "stderr",
     "output_type": "stream",
     "text": [
      "499it [09:00,  1.03s/it]\n"
     ]
    },
    {
     "name": "stdout",
     "output_type": "stream",
     "text": [
      "Context: all, Model: covsal, Baseline: none, Images found: 499\n"
     ]
    },
    {
     "name": "stderr",
     "output_type": "stream",
     "text": [
      "324it [05:51,  1.09s/it]"
     ]
    },
    {
     "name": "stdout",
     "output_type": "stream",
     "text": [
      "Fixation Matfile at path ..\\..\\coco\\fixations\\COCO_val2014_000000322163.mat could not be found.\n"
     ]
    },
    {
     "name": "stderr",
     "output_type": "stream",
     "text": [
      "499it [09:00,  1.03s/it]\n"
     ]
    },
    {
     "name": "stdout",
     "output_type": "stream",
     "text": [
      "Context: all, Model: covsal_face_03, Baseline: none, Images found: 499\n"
     ]
    },
    {
     "name": "stderr",
     "output_type": "stream",
     "text": [
      "324it [05:53,  1.09s/it]"
     ]
    },
    {
     "name": "stdout",
     "output_type": "stream",
     "text": [
      "Fixation Matfile at path ..\\..\\coco\\fixations\\COCO_val2014_000000322163.mat could not be found.\n"
     ]
    },
    {
     "name": "stderr",
     "output_type": "stream",
     "text": [
      "499it [09:02,  1.04s/it]\n"
     ]
    },
    {
     "name": "stdout",
     "output_type": "stream",
     "text": [
      "Context: all, Model: covsal_face_05, Baseline: none, Images found: 499\n"
     ]
    },
    {
     "name": "stderr",
     "output_type": "stream",
     "text": [
      "324it [05:52,  1.09s/it]"
     ]
    },
    {
     "name": "stdout",
     "output_type": "stream",
     "text": [
      "Fixation Matfile at path ..\\..\\coco\\fixations\\COCO_val2014_000000322163.mat could not be found.\n"
     ]
    },
    {
     "name": "stderr",
     "output_type": "stream",
     "text": [
      "499it [09:00,  1.03s/it]\n"
     ]
    },
    {
     "name": "stdout",
     "output_type": "stream",
     "text": [
      "Context: all, Model: covsal_face_07, Baseline: none, Images found: 499\n"
     ]
    },
    {
     "name": "stderr",
     "output_type": "stream",
     "text": [
      "324it [05:50,  1.09s/it]"
     ]
    },
    {
     "name": "stdout",
     "output_type": "stream",
     "text": [
      "Fixation Matfile at path ..\\..\\coco\\fixations\\COCO_val2014_000000322163.mat could not be found.\n"
     ]
    },
    {
     "name": "stderr",
     "output_type": "stream",
     "text": [
      "499it [08:58,  1.02s/it]\n"
     ]
    },
    {
     "name": "stdout",
     "output_type": "stream",
     "text": [
      "Context: all, Model: icf, Baseline: none, Images found: 499\n"
     ]
    },
    {
     "name": "stderr",
     "output_type": "stream",
     "text": [
      "324it [05:51,  1.09s/it]"
     ]
    },
    {
     "name": "stdout",
     "output_type": "stream",
     "text": [
      "Fixation Matfile at path ..\\..\\coco\\fixations\\COCO_val2014_000000322163.mat could not be found.\n"
     ]
    },
    {
     "name": "stderr",
     "output_type": "stream",
     "text": [
      "499it [09:00,  1.02s/it]\n"
     ]
    },
    {
     "name": "stdout",
     "output_type": "stream",
     "text": [
      "Context: all, Model: icf_face_03, Baseline: none, Images found: 499\n"
     ]
    },
    {
     "name": "stderr",
     "output_type": "stream",
     "text": [
      "324it [05:53,  1.10s/it]"
     ]
    },
    {
     "name": "stdout",
     "output_type": "stream",
     "text": [
      "Fixation Matfile at path ..\\..\\coco\\fixations\\COCO_val2014_000000322163.mat could not be found.\n"
     ]
    },
    {
     "name": "stderr",
     "output_type": "stream",
     "text": [
      "499it [09:03,  1.04s/it]\n"
     ]
    },
    {
     "name": "stdout",
     "output_type": "stream",
     "text": [
      "Context: all, Model: icf_face_05, Baseline: none, Images found: 499\n"
     ]
    },
    {
     "name": "stderr",
     "output_type": "stream",
     "text": [
      "324it [05:54,  1.11s/it]"
     ]
    },
    {
     "name": "stdout",
     "output_type": "stream",
     "text": [
      "Fixation Matfile at path ..\\..\\coco\\fixations\\COCO_val2014_000000322163.mat could not be found.\n"
     ]
    },
    {
     "name": "stderr",
     "output_type": "stream",
     "text": [
      "499it [09:06,  1.03s/it]\n"
     ]
    },
    {
     "name": "stdout",
     "output_type": "stream",
     "text": [
      "Context: all, Model: icf_face_07, Baseline: none, Images found: 499\n"
     ]
    },
    {
     "name": "stderr",
     "output_type": "stream",
     "text": [
      "324it [05:53,  1.10s/it]"
     ]
    },
    {
     "name": "stdout",
     "output_type": "stream",
     "text": [
      "Fixation Matfile at path ..\\..\\coco\\fixations\\COCO_val2014_000000322163.mat could not be found.\n"
     ]
    },
    {
     "name": "stderr",
     "output_type": "stream",
     "text": [
      "499it [09:02,  1.02s/it]\n"
     ]
    },
    {
     "name": "stdout",
     "output_type": "stream",
     "text": [
      "Context: all, Model: ik, Baseline: none, Images found: 499\n"
     ]
    },
    {
     "name": "stderr",
     "output_type": "stream",
     "text": [
      "324it [05:52,  1.10s/it]"
     ]
    },
    {
     "name": "stdout",
     "output_type": "stream",
     "text": [
      "Fixation Matfile at path ..\\..\\coco\\fixations\\COCO_val2014_000000322163.mat could not be found.\n"
     ]
    },
    {
     "name": "stderr",
     "output_type": "stream",
     "text": [
      "499it [09:01,  1.02s/it]\n"
     ]
    },
    {
     "name": "stdout",
     "output_type": "stream",
     "text": [
      "Context: all, Model: ik_face_03, Baseline: none, Images found: 499\n"
     ]
    },
    {
     "name": "stderr",
     "output_type": "stream",
     "text": [
      "324it [05:53,  1.10s/it]"
     ]
    },
    {
     "name": "stdout",
     "output_type": "stream",
     "text": [
      "Fixation Matfile at path ..\\..\\coco\\fixations\\COCO_val2014_000000322163.mat could not be found.\n"
     ]
    },
    {
     "name": "stderr",
     "output_type": "stream",
     "text": [
      "499it [09:04,  1.03s/it]\n"
     ]
    },
    {
     "name": "stdout",
     "output_type": "stream",
     "text": [
      "Context: all, Model: ik_face_05, Baseline: none, Images found: 499\n"
     ]
    },
    {
     "name": "stderr",
     "output_type": "stream",
     "text": [
      "324it [05:55,  1.10s/it]"
     ]
    },
    {
     "name": "stdout",
     "output_type": "stream",
     "text": [
      "Fixation Matfile at path ..\\..\\coco\\fixations\\COCO_val2014_000000322163.mat could not be found.\n"
     ]
    },
    {
     "name": "stderr",
     "output_type": "stream",
     "text": [
      "499it [09:07,  1.03s/it]\n"
     ]
    },
    {
     "name": "stdout",
     "output_type": "stream",
     "text": [
      "Context: all, Model: ik_face_07, Baseline: none, Images found: 499\n"
     ]
    },
    {
     "name": "stderr",
     "output_type": "stream",
     "text": [
      "324it [05:55,  1.09s/it]"
     ]
    },
    {
     "name": "stdout",
     "output_type": "stream",
     "text": [
      "Fixation Matfile at path ..\\..\\coco\\fixations\\COCO_val2014_000000322163.mat could not be found.\n"
     ]
    },
    {
     "name": "stderr",
     "output_type": "stream",
     "text": [
      "499it [09:05,  1.02s/it]\n"
     ]
    },
    {
     "name": "stdout",
     "output_type": "stream",
     "text": [
      "Context: all, Model: sun, Baseline: none, Images found: 499\n"
     ]
    },
    {
     "name": "stderr",
     "output_type": "stream",
     "text": [
      "324it [05:53,  1.10s/it]"
     ]
    },
    {
     "name": "stdout",
     "output_type": "stream",
     "text": [
      "Fixation Matfile at path ..\\..\\coco\\fixations\\COCO_val2014_000000322163.mat could not be found.\n"
     ]
    },
    {
     "name": "stderr",
     "output_type": "stream",
     "text": [
      "499it [09:03,  1.03s/it]\n"
     ]
    },
    {
     "name": "stdout",
     "output_type": "stream",
     "text": [
      "Context: all, Model: sun_face_03, Baseline: none, Images found: 499\n"
     ]
    },
    {
     "name": "stderr",
     "output_type": "stream",
     "text": [
      "324it [05:53,  1.10s/it]"
     ]
    },
    {
     "name": "stdout",
     "output_type": "stream",
     "text": [
      "Fixation Matfile at path ..\\..\\coco\\fixations\\COCO_val2014_000000322163.mat could not be found.\n"
     ]
    },
    {
     "name": "stderr",
     "output_type": "stream",
     "text": [
      "499it [09:04,  1.03s/it]\n"
     ]
    },
    {
     "name": "stdout",
     "output_type": "stream",
     "text": [
      "Context: all, Model: sun_face_05, Baseline: none, Images found: 499\n"
     ]
    },
    {
     "name": "stderr",
     "output_type": "stream",
     "text": [
      "324it [05:56,  1.11s/it]"
     ]
    },
    {
     "name": "stdout",
     "output_type": "stream",
     "text": [
      "Fixation Matfile at path ..\\..\\coco\\fixations\\COCO_val2014_000000322163.mat could not be found.\n"
     ]
    },
    {
     "name": "stderr",
     "output_type": "stream",
     "text": [
      "499it [09:07,  1.03s/it]\n"
     ]
    },
    {
     "name": "stdout",
     "output_type": "stream",
     "text": [
      "Context: all, Model: sun_face_07, Baseline: none, Images found: 499\n"
     ]
    },
    {
     "name": "stderr",
     "output_type": "stream",
     "text": [
      "324it [05:54,  1.10s/it]"
     ]
    },
    {
     "name": "stdout",
     "output_type": "stream",
     "text": [
      "Fixation Matfile at path ..\\..\\coco\\fixations\\COCO_val2014_000000322163.mat could not be found.\n"
     ]
    },
    {
     "name": "stderr",
     "output_type": "stream",
     "text": [
      "499it [09:04,  1.02s/it]\n"
     ]
    },
    {
     "name": "stdout",
     "output_type": "stream",
     "text": [
      "Context: person, Model: cas, Baseline: none, Images found: 309\n"
     ]
    },
    {
     "name": "stderr",
     "output_type": "stream",
     "text": [
      "204it [03:41,  1.12s/it]"
     ]
    },
    {
     "name": "stdout",
     "output_type": "stream",
     "text": [
      "Fixation Matfile at path ..\\..\\coco\\fixations\\COCO_val2014_000000322163.mat could not be found.\n"
     ]
    },
    {
     "name": "stderr",
     "output_type": "stream",
     "text": [
      "309it [05:33,  1.02s/it]\n"
     ]
    },
    {
     "name": "stdout",
     "output_type": "stream",
     "text": [
      "Context: person, Model: cas_face_03, Baseline: none, Images found: 309\n"
     ]
    },
    {
     "name": "stderr",
     "output_type": "stream",
     "text": [
      "204it [03:39,  1.12s/it]"
     ]
    },
    {
     "name": "stdout",
     "output_type": "stream",
     "text": [
      "Fixation Matfile at path ..\\..\\coco\\fixations\\COCO_val2014_000000322163.mat could not be found.\n"
     ]
    },
    {
     "name": "stderr",
     "output_type": "stream",
     "text": [
      "309it [05:31,  1.03s/it]\n"
     ]
    },
    {
     "name": "stdout",
     "output_type": "stream",
     "text": [
      "Context: person, Model: cas_face_05, Baseline: none, Images found: 309\n"
     ]
    },
    {
     "name": "stderr",
     "output_type": "stream",
     "text": [
      "204it [03:38,  1.12s/it]"
     ]
    },
    {
     "name": "stdout",
     "output_type": "stream",
     "text": [
      "Fixation Matfile at path ..\\..\\coco\\fixations\\COCO_val2014_000000322163.mat could not be found.\n"
     ]
    },
    {
     "name": "stderr",
     "output_type": "stream",
     "text": [
      "309it [05:31,  1.02s/it]\n"
     ]
    },
    {
     "name": "stdout",
     "output_type": "stream",
     "text": [
      "Context: person, Model: cas_face_07, Baseline: none, Images found: 309\n"
     ]
    },
    {
     "name": "stderr",
     "output_type": "stream",
     "text": [
      "204it [03:41,  1.13s/it]"
     ]
    },
    {
     "name": "stdout",
     "output_type": "stream",
     "text": [
      "Fixation Matfile at path ..\\..\\coco\\fixations\\COCO_val2014_000000322163.mat could not be found.\n"
     ]
    },
    {
     "name": "stderr",
     "output_type": "stream",
     "text": [
      "309it [05:34,  1.02s/it]\n"
     ]
    },
    {
     "name": "stdout",
     "output_type": "stream",
     "text": [
      "Context: person, Model: covsal, Baseline: none, Images found: 309\n"
     ]
    },
    {
     "name": "stderr",
     "output_type": "stream",
     "text": [
      "204it [03:39,  1.13s/it]"
     ]
    },
    {
     "name": "stdout",
     "output_type": "stream",
     "text": [
      "Fixation Matfile at path ..\\..\\coco\\fixations\\COCO_val2014_000000322163.mat could not be found.\n"
     ]
    },
    {
     "name": "stderr",
     "output_type": "stream",
     "text": [
      "309it [05:31,  1.02s/it]\n"
     ]
    },
    {
     "name": "stdout",
     "output_type": "stream",
     "text": [
      "Context: person, Model: covsal_face_03, Baseline: none, Images found: 309\n"
     ]
    },
    {
     "name": "stderr",
     "output_type": "stream",
     "text": [
      "204it [03:39,  1.12s/it]"
     ]
    },
    {
     "name": "stdout",
     "output_type": "stream",
     "text": [
      "Fixation Matfile at path ..\\..\\coco\\fixations\\COCO_val2014_000000322163.mat could not be found.\n"
     ]
    },
    {
     "name": "stderr",
     "output_type": "stream",
     "text": [
      "309it [05:31,  1.02s/it]\n"
     ]
    },
    {
     "name": "stdout",
     "output_type": "stream",
     "text": [
      "Context: person, Model: covsal_face_05, Baseline: none, Images found: 309\n"
     ]
    },
    {
     "name": "stderr",
     "output_type": "stream",
     "text": [
      "204it [03:38,  1.12s/it]"
     ]
    },
    {
     "name": "stdout",
     "output_type": "stream",
     "text": [
      "Fixation Matfile at path ..\\..\\coco\\fixations\\COCO_val2014_000000322163.mat could not be found.\n"
     ]
    },
    {
     "name": "stderr",
     "output_type": "stream",
     "text": [
      "309it [05:31,  1.02s/it]\n"
     ]
    },
    {
     "name": "stdout",
     "output_type": "stream",
     "text": [
      "Context: person, Model: covsal_face_07, Baseline: none, Images found: 309\n"
     ]
    },
    {
     "name": "stderr",
     "output_type": "stream",
     "text": [
      "204it [03:39,  1.12s/it]"
     ]
    },
    {
     "name": "stdout",
     "output_type": "stream",
     "text": [
      "Fixation Matfile at path ..\\..\\coco\\fixations\\COCO_val2014_000000322163.mat could not be found.\n"
     ]
    },
    {
     "name": "stderr",
     "output_type": "stream",
     "text": [
      "309it [05:31,  1.02s/it]\n"
     ]
    },
    {
     "name": "stdout",
     "output_type": "stream",
     "text": [
      "Context: person, Model: icf, Baseline: none, Images found: 309\n"
     ]
    },
    {
     "name": "stderr",
     "output_type": "stream",
     "text": [
      "204it [03:40,  1.13s/it]"
     ]
    },
    {
     "name": "stdout",
     "output_type": "stream",
     "text": [
      "Fixation Matfile at path ..\\..\\coco\\fixations\\COCO_val2014_000000322163.mat could not be found.\n"
     ]
    },
    {
     "name": "stderr",
     "output_type": "stream",
     "text": [
      "309it [05:33,  1.03s/it]\n"
     ]
    },
    {
     "name": "stdout",
     "output_type": "stream",
     "text": [
      "Context: person, Model: icf_face_03, Baseline: none, Images found: 309\n"
     ]
    },
    {
     "name": "stderr",
     "output_type": "stream",
     "text": [
      "204it [03:40,  1.12s/it]"
     ]
    },
    {
     "name": "stdout",
     "output_type": "stream",
     "text": [
      "Fixation Matfile at path ..\\..\\coco\\fixations\\COCO_val2014_000000322163.mat could not be found.\n"
     ]
    },
    {
     "name": "stderr",
     "output_type": "stream",
     "text": [
      "309it [05:32,  1.02s/it]\n"
     ]
    },
    {
     "name": "stdout",
     "output_type": "stream",
     "text": [
      "Context: person, Model: icf_face_05, Baseline: none, Images found: 309\n"
     ]
    },
    {
     "name": "stderr",
     "output_type": "stream",
     "text": [
      "204it [03:40,  1.13s/it]"
     ]
    },
    {
     "name": "stdout",
     "output_type": "stream",
     "text": [
      "Fixation Matfile at path ..\\..\\coco\\fixations\\COCO_val2014_000000322163.mat could not be found.\n"
     ]
    },
    {
     "name": "stderr",
     "output_type": "stream",
     "text": [
      "309it [05:33,  1.03s/it]\n"
     ]
    },
    {
     "name": "stdout",
     "output_type": "stream",
     "text": [
      "Context: person, Model: icf_face_07, Baseline: none, Images found: 309\n"
     ]
    },
    {
     "name": "stderr",
     "output_type": "stream",
     "text": [
      "204it [03:38,  1.12s/it]"
     ]
    },
    {
     "name": "stdout",
     "output_type": "stream",
     "text": [
      "Fixation Matfile at path ..\\..\\coco\\fixations\\COCO_val2014_000000322163.mat could not be found.\n"
     ]
    },
    {
     "name": "stderr",
     "output_type": "stream",
     "text": [
      "309it [05:30,  1.02s/it]\n"
     ]
    },
    {
     "name": "stdout",
     "output_type": "stream",
     "text": [
      "Context: person, Model: ik, Baseline: none, Images found: 309\n"
     ]
    },
    {
     "name": "stderr",
     "output_type": "stream",
     "text": [
      "204it [03:39,  1.13s/it]"
     ]
    },
    {
     "name": "stdout",
     "output_type": "stream",
     "text": [
      "Fixation Matfile at path ..\\..\\coco\\fixations\\COCO_val2014_000000322163.mat could not be found.\n"
     ]
    },
    {
     "name": "stderr",
     "output_type": "stream",
     "text": [
      "309it [05:31,  1.02s/it]\n"
     ]
    },
    {
     "name": "stdout",
     "output_type": "stream",
     "text": [
      "Context: person, Model: ik_face_03, Baseline: none, Images found: 309\n"
     ]
    },
    {
     "name": "stderr",
     "output_type": "stream",
     "text": [
      "204it [03:39,  1.12s/it]"
     ]
    },
    {
     "name": "stdout",
     "output_type": "stream",
     "text": [
      "Fixation Matfile at path ..\\..\\coco\\fixations\\COCO_val2014_000000322163.mat could not be found.\n"
     ]
    },
    {
     "name": "stderr",
     "output_type": "stream",
     "text": [
      "309it [05:31,  1.03s/it]\n"
     ]
    },
    {
     "name": "stdout",
     "output_type": "stream",
     "text": [
      "Context: person, Model: ik_face_05, Baseline: none, Images found: 309\n"
     ]
    },
    {
     "name": "stderr",
     "output_type": "stream",
     "text": [
      "204it [03:40,  1.13s/it]"
     ]
    },
    {
     "name": "stdout",
     "output_type": "stream",
     "text": [
      "Fixation Matfile at path ..\\..\\coco\\fixations\\COCO_val2014_000000322163.mat could not be found.\n"
     ]
    },
    {
     "name": "stderr",
     "output_type": "stream",
     "text": [
      "309it [05:32,  1.07s/it]\n"
     ]
    },
    {
     "name": "stdout",
     "output_type": "stream",
     "text": [
      "Context: person, Model: ik_face_07, Baseline: none, Images found: 309\n"
     ]
    },
    {
     "name": "stderr",
     "output_type": "stream",
     "text": [
      "204it [03:38,  1.12s/it]"
     ]
    },
    {
     "name": "stdout",
     "output_type": "stream",
     "text": [
      "Fixation Matfile at path ..\\..\\coco\\fixations\\COCO_val2014_000000322163.mat could not be found.\n"
     ]
    },
    {
     "name": "stderr",
     "output_type": "stream",
     "text": [
      "309it [05:30,  1.03s/it]\n"
     ]
    },
    {
     "name": "stdout",
     "output_type": "stream",
     "text": [
      "Context: person, Model: sun, Baseline: none, Images found: 309\n"
     ]
    },
    {
     "name": "stderr",
     "output_type": "stream",
     "text": [
      "204it [03:42,  1.13s/it]"
     ]
    },
    {
     "name": "stdout",
     "output_type": "stream",
     "text": [
      "Fixation Matfile at path ..\\..\\coco\\fixations\\COCO_val2014_000000322163.mat could not be found.\n"
     ]
    },
    {
     "name": "stderr",
     "output_type": "stream",
     "text": [
      "309it [05:35,  1.03s/it]\n"
     ]
    },
    {
     "name": "stdout",
     "output_type": "stream",
     "text": [
      "Context: person, Model: sun_face_03, Baseline: none, Images found: 309\n"
     ]
    },
    {
     "name": "stderr",
     "output_type": "stream",
     "text": [
      "204it [03:39,  1.12s/it]"
     ]
    },
    {
     "name": "stdout",
     "output_type": "stream",
     "text": [
      "Fixation Matfile at path ..\\..\\coco\\fixations\\COCO_val2014_000000322163.mat could not be found.\n"
     ]
    },
    {
     "name": "stderr",
     "output_type": "stream",
     "text": [
      "309it [05:31,  1.03s/it]\n"
     ]
    },
    {
     "name": "stdout",
     "output_type": "stream",
     "text": [
      "Context: person, Model: sun_face_05, Baseline: none, Images found: 309\n"
     ]
    },
    {
     "name": "stderr",
     "output_type": "stream",
     "text": [
      "204it [03:39,  1.12s/it]"
     ]
    },
    {
     "name": "stdout",
     "output_type": "stream",
     "text": [
      "Fixation Matfile at path ..\\..\\coco\\fixations\\COCO_val2014_000000322163.mat could not be found.\n"
     ]
    },
    {
     "name": "stderr",
     "output_type": "stream",
     "text": [
      "309it [05:32,  1.03s/it]\n"
     ]
    },
    {
     "name": "stdout",
     "output_type": "stream",
     "text": [
      "Context: person, Model: sun_face_07, Baseline: none, Images found: 309\n"
     ]
    },
    {
     "name": "stderr",
     "output_type": "stream",
     "text": [
      "204it [03:39,  1.12s/it]"
     ]
    },
    {
     "name": "stdout",
     "output_type": "stream",
     "text": [
      "Fixation Matfile at path ..\\..\\coco\\fixations\\COCO_val2014_000000322163.mat could not be found.\n"
     ]
    },
    {
     "name": "stderr",
     "output_type": "stream",
     "text": [
      "309it [05:31,  1.02s/it]\n"
     ]
    },
    {
     "name": "stdout",
     "output_type": "stream",
     "text": [
      "Context: no person, Model: cas, Baseline: none, Images found: 190\n"
     ]
    },
    {
     "name": "stderr",
     "output_type": "stream",
     "text": [
      "190it [03:27,  1.07s/it]\n"
     ]
    },
    {
     "name": "stdout",
     "output_type": "stream",
     "text": [
      "Context: no person, Model: cas_face_03, Baseline: none, Images found: 189\n"
     ]
    },
    {
     "name": "stderr",
     "output_type": "stream",
     "text": [
      "189it [03:26,  1.07s/it]\n"
     ]
    },
    {
     "name": "stdout",
     "output_type": "stream",
     "text": [
      "Context: no person, Model: cas_face_05, Baseline: none, Images found: 190\n"
     ]
    },
    {
     "name": "stderr",
     "output_type": "stream",
     "text": [
      "190it [03:28,  1.07s/it]\n"
     ]
    },
    {
     "name": "stdout",
     "output_type": "stream",
     "text": [
      "Context: no person, Model: cas_face_07, Baseline: none, Images found: 190\n"
     ]
    },
    {
     "name": "stderr",
     "output_type": "stream",
     "text": [
      "190it [03:27,  1.07s/it]\n"
     ]
    },
    {
     "name": "stdout",
     "output_type": "stream",
     "text": [
      "Context: no person, Model: covsal, Baseline: none, Images found: 190\n"
     ]
    },
    {
     "name": "stderr",
     "output_type": "stream",
     "text": [
      "190it [03:27,  1.07s/it]\n"
     ]
    },
    {
     "name": "stdout",
     "output_type": "stream",
     "text": [
      "Context: no person, Model: covsal_face_03, Baseline: none, Images found: 190\n"
     ]
    },
    {
     "name": "stderr",
     "output_type": "stream",
     "text": [
      "190it [03:27,  1.07s/it]\n"
     ]
    },
    {
     "name": "stdout",
     "output_type": "stream",
     "text": [
      "Context: no person, Model: covsal_face_05, Baseline: none, Images found: 190\n"
     ]
    },
    {
     "name": "stderr",
     "output_type": "stream",
     "text": [
      "190it [03:27,  1.07s/it]\n"
     ]
    },
    {
     "name": "stdout",
     "output_type": "stream",
     "text": [
      "Context: no person, Model: covsal_face_07, Baseline: none, Images found: 190\n"
     ]
    },
    {
     "name": "stderr",
     "output_type": "stream",
     "text": [
      "190it [03:27,  1.08s/it]\n"
     ]
    },
    {
     "name": "stdout",
     "output_type": "stream",
     "text": [
      "Context: no person, Model: icf, Baseline: none, Images found: 190\n"
     ]
    },
    {
     "name": "stderr",
     "output_type": "stream",
     "text": [
      "190it [03:29,  1.07s/it]\n"
     ]
    },
    {
     "name": "stdout",
     "output_type": "stream",
     "text": [
      "Context: no person, Model: icf_face_03, Baseline: none, Images found: 190\n"
     ]
    },
    {
     "name": "stderr",
     "output_type": "stream",
     "text": [
      "190it [03:29,  1.07s/it]\n"
     ]
    },
    {
     "name": "stdout",
     "output_type": "stream",
     "text": [
      "Context: no person, Model: icf_face_05, Baseline: none, Images found: 190\n"
     ]
    },
    {
     "name": "stderr",
     "output_type": "stream",
     "text": [
      "190it [03:27,  1.08s/it]\n"
     ]
    },
    {
     "name": "stdout",
     "output_type": "stream",
     "text": [
      "Context: no person, Model: icf_face_07, Baseline: none, Images found: 190\n"
     ]
    },
    {
     "name": "stderr",
     "output_type": "stream",
     "text": [
      "190it [03:27,  1.07s/it]\n"
     ]
    },
    {
     "name": "stdout",
     "output_type": "stream",
     "text": [
      "Context: no person, Model: ik, Baseline: none, Images found: 190\n"
     ]
    },
    {
     "name": "stderr",
     "output_type": "stream",
     "text": [
      "190it [03:27,  1.07s/it]\n"
     ]
    },
    {
     "name": "stdout",
     "output_type": "stream",
     "text": [
      "Context: no person, Model: ik_face_03, Baseline: none, Images found: 190\n"
     ]
    },
    {
     "name": "stderr",
     "output_type": "stream",
     "text": [
      "190it [03:27,  1.07s/it]\n"
     ]
    },
    {
     "name": "stdout",
     "output_type": "stream",
     "text": [
      "Context: no person, Model: ik_face_05, Baseline: none, Images found: 190\n"
     ]
    },
    {
     "name": "stderr",
     "output_type": "stream",
     "text": [
      "190it [03:27,  1.07s/it]\n"
     ]
    },
    {
     "name": "stdout",
     "output_type": "stream",
     "text": [
      "Context: no person, Model: ik_face_07, Baseline: none, Images found: 190\n"
     ]
    },
    {
     "name": "stderr",
     "output_type": "stream",
     "text": [
      "190it [03:28,  1.08s/it]\n"
     ]
    },
    {
     "name": "stdout",
     "output_type": "stream",
     "text": [
      "Context: no person, Model: sun, Baseline: none, Images found: 190\n"
     ]
    },
    {
     "name": "stderr",
     "output_type": "stream",
     "text": [
      "190it [03:27,  1.07s/it]\n"
     ]
    },
    {
     "name": "stdout",
     "output_type": "stream",
     "text": [
      "Context: no person, Model: sun_face_03, Baseline: none, Images found: 190\n"
     ]
    },
    {
     "name": "stderr",
     "output_type": "stream",
     "text": [
      "190it [03:27,  1.07s/it]\n"
     ]
    },
    {
     "name": "stdout",
     "output_type": "stream",
     "text": [
      "Context: no person, Model: sun_face_05, Baseline: none, Images found: 190\n"
     ]
    },
    {
     "name": "stderr",
     "output_type": "stream",
     "text": [
      "190it [03:27,  1.07s/it]\n"
     ]
    },
    {
     "name": "stdout",
     "output_type": "stream",
     "text": [
      "Context: no person, Model: sun_face_07, Baseline: none, Images found: 190\n"
     ]
    },
    {
     "name": "stderr",
     "output_type": "stream",
     "text": [
      "190it [03:27,  1.07s/it]\n"
     ]
    },
    {
     "name": "stdout",
     "output_type": "stream",
     "text": [
      "Context: animal, Model: cas, Baseline: none, Images found: 72\n"
     ]
    },
    {
     "name": "stderr",
     "output_type": "stream",
     "text": [
      "72it [01:18,  1.09s/it]\n"
     ]
    },
    {
     "name": "stdout",
     "output_type": "stream",
     "text": [
      "Context: animal, Model: cas_face_03, Baseline: none, Images found: 72\n"
     ]
    },
    {
     "name": "stderr",
     "output_type": "stream",
     "text": [
      "72it [01:18,  1.08s/it]\n"
     ]
    },
    {
     "name": "stdout",
     "output_type": "stream",
     "text": [
      "Context: animal, Model: cas_face_05, Baseline: none, Images found: 72\n"
     ]
    },
    {
     "name": "stderr",
     "output_type": "stream",
     "text": [
      "72it [01:18,  1.09s/it]\n"
     ]
    },
    {
     "name": "stdout",
     "output_type": "stream",
     "text": [
      "Context: animal, Model: cas_face_07, Baseline: none, Images found: 72\n"
     ]
    },
    {
     "name": "stderr",
     "output_type": "stream",
     "text": [
      "72it [01:18,  1.08s/it]\n"
     ]
    },
    {
     "name": "stdout",
     "output_type": "stream",
     "text": [
      "Context: animal, Model: covsal, Baseline: none, Images found: 72\n"
     ]
    },
    {
     "name": "stderr",
     "output_type": "stream",
     "text": [
      "72it [01:18,  1.09s/it]\n"
     ]
    },
    {
     "name": "stdout",
     "output_type": "stream",
     "text": [
      "Context: animal, Model: covsal_face_03, Baseline: none, Images found: 72\n"
     ]
    },
    {
     "name": "stderr",
     "output_type": "stream",
     "text": [
      "72it [01:18,  1.08s/it]\n"
     ]
    },
    {
     "name": "stdout",
     "output_type": "stream",
     "text": [
      "Context: animal, Model: covsal_face_05, Baseline: none, Images found: 72\n"
     ]
    },
    {
     "name": "stderr",
     "output_type": "stream",
     "text": [
      "72it [01:17,  1.08s/it]\n"
     ]
    },
    {
     "name": "stdout",
     "output_type": "stream",
     "text": [
      "Context: animal, Model: covsal_face_07, Baseline: none, Images found: 72\n"
     ]
    },
    {
     "name": "stderr",
     "output_type": "stream",
     "text": [
      "72it [01:17,  1.08s/it]\n"
     ]
    },
    {
     "name": "stdout",
     "output_type": "stream",
     "text": [
      "Context: animal, Model: icf, Baseline: none, Images found: 72\n"
     ]
    },
    {
     "name": "stderr",
     "output_type": "stream",
     "text": [
      "72it [01:18,  1.08s/it]\n"
     ]
    },
    {
     "name": "stdout",
     "output_type": "stream",
     "text": [
      "Context: animal, Model: icf_face_03, Baseline: none, Images found: 72\n"
     ]
    },
    {
     "name": "stderr",
     "output_type": "stream",
     "text": [
      "72it [01:18,  1.08s/it]\n"
     ]
    },
    {
     "name": "stdout",
     "output_type": "stream",
     "text": [
      "Context: animal, Model: icf_face_05, Baseline: none, Images found: 72\n"
     ]
    },
    {
     "name": "stderr",
     "output_type": "stream",
     "text": [
      "72it [01:18,  1.09s/it]\n"
     ]
    },
    {
     "name": "stdout",
     "output_type": "stream",
     "text": [
      "Context: animal, Model: icf_face_07, Baseline: none, Images found: 72\n"
     ]
    },
    {
     "name": "stderr",
     "output_type": "stream",
     "text": [
      "72it [01:18,  1.08s/it]\n"
     ]
    },
    {
     "name": "stdout",
     "output_type": "stream",
     "text": [
      "Context: animal, Model: ik, Baseline: none, Images found: 72\n"
     ]
    },
    {
     "name": "stderr",
     "output_type": "stream",
     "text": [
      "72it [01:17,  1.08s/it]\n"
     ]
    },
    {
     "name": "stdout",
     "output_type": "stream",
     "text": [
      "Context: animal, Model: ik_face_03, Baseline: none, Images found: 72\n"
     ]
    },
    {
     "name": "stderr",
     "output_type": "stream",
     "text": [
      "72it [01:18,  1.08s/it]\n"
     ]
    },
    {
     "name": "stdout",
     "output_type": "stream",
     "text": [
      "Context: animal, Model: ik_face_05, Baseline: none, Images found: 72\n"
     ]
    },
    {
     "name": "stderr",
     "output_type": "stream",
     "text": [
      "72it [01:18,  1.08s/it]\n"
     ]
    },
    {
     "name": "stdout",
     "output_type": "stream",
     "text": [
      "Context: animal, Model: ik_face_07, Baseline: none, Images found: 72\n"
     ]
    },
    {
     "name": "stderr",
     "output_type": "stream",
     "text": [
      "72it [01:18,  1.09s/it]\n"
     ]
    },
    {
     "name": "stdout",
     "output_type": "stream",
     "text": [
      "Context: animal, Model: sun, Baseline: none, Images found: 72\n"
     ]
    },
    {
     "name": "stderr",
     "output_type": "stream",
     "text": [
      "72it [01:18,  1.08s/it]\n"
     ]
    },
    {
     "name": "stdout",
     "output_type": "stream",
     "text": [
      "Context: animal, Model: sun_face_03, Baseline: none, Images found: 72\n"
     ]
    },
    {
     "name": "stderr",
     "output_type": "stream",
     "text": [
      "72it [01:18,  1.09s/it]\n"
     ]
    },
    {
     "name": "stdout",
     "output_type": "stream",
     "text": [
      "Context: animal, Model: sun_face_05, Baseline: none, Images found: 72\n"
     ]
    },
    {
     "name": "stderr",
     "output_type": "stream",
     "text": [
      "72it [01:18,  1.09s/it]\n"
     ]
    },
    {
     "name": "stdout",
     "output_type": "stream",
     "text": [
      "Context: animal, Model: sun_face_07, Baseline: none, Images found: 72\n"
     ]
    },
    {
     "name": "stderr",
     "output_type": "stream",
     "text": [
      "72it [01:18,  1.10s/it]\n"
     ]
    },
    {
     "name": "stdout",
     "output_type": "stream",
     "text": [
      "Context: sports, Model: cas, Baseline: none, Images found: 79\n"
     ]
    },
    {
     "name": "stderr",
     "output_type": "stream",
     "text": [
      "79it [01:25,  1.14s/it]\n"
     ]
    },
    {
     "name": "stdout",
     "output_type": "stream",
     "text": [
      "Context: sports, Model: cas_face_03, Baseline: none, Images found: 79\n"
     ]
    },
    {
     "name": "stderr",
     "output_type": "stream",
     "text": [
      "79it [01:25,  1.14s/it]\n"
     ]
    },
    {
     "name": "stdout",
     "output_type": "stream",
     "text": [
      "Context: sports, Model: cas_face_05, Baseline: none, Images found: 79\n"
     ]
    },
    {
     "name": "stderr",
     "output_type": "stream",
     "text": [
      "79it [01:26,  1.14s/it]\n"
     ]
    },
    {
     "name": "stdout",
     "output_type": "stream",
     "text": [
      "Context: sports, Model: cas_face_07, Baseline: none, Images found: 79\n"
     ]
    },
    {
     "name": "stderr",
     "output_type": "stream",
     "text": [
      "79it [01:25,  1.14s/it]\n"
     ]
    },
    {
     "name": "stdout",
     "output_type": "stream",
     "text": [
      "Context: sports, Model: covsal, Baseline: none, Images found: 79\n"
     ]
    },
    {
     "name": "stderr",
     "output_type": "stream",
     "text": [
      "79it [01:25,  1.14s/it]\n"
     ]
    },
    {
     "name": "stdout",
     "output_type": "stream",
     "text": [
      "Context: sports, Model: covsal_face_03, Baseline: none, Images found: 79\n"
     ]
    },
    {
     "name": "stderr",
     "output_type": "stream",
     "text": [
      "79it [01:26,  1.14s/it]\n"
     ]
    },
    {
     "name": "stdout",
     "output_type": "stream",
     "text": [
      "Context: sports, Model: covsal_face_05, Baseline: none, Images found: 79\n"
     ]
    },
    {
     "name": "stderr",
     "output_type": "stream",
     "text": [
      "79it [01:26,  1.15s/it]\n"
     ]
    },
    {
     "name": "stdout",
     "output_type": "stream",
     "text": [
      "Context: sports, Model: covsal_face_07, Baseline: none, Images found: 79\n"
     ]
    },
    {
     "name": "stderr",
     "output_type": "stream",
     "text": [
      "79it [01:26,  1.15s/it]\n"
     ]
    },
    {
     "name": "stdout",
     "output_type": "stream",
     "text": [
      "Context: sports, Model: icf, Baseline: none, Images found: 79\n"
     ]
    },
    {
     "name": "stderr",
     "output_type": "stream",
     "text": [
      "79it [01:26,  1.18s/it]\n"
     ]
    },
    {
     "name": "stdout",
     "output_type": "stream",
     "text": [
      "Context: sports, Model: icf_face_03, Baseline: none, Images found: 79\n"
     ]
    },
    {
     "name": "stderr",
     "output_type": "stream",
     "text": [
      "79it [01:26,  1.14s/it]\n"
     ]
    },
    {
     "name": "stdout",
     "output_type": "stream",
     "text": [
      "Context: sports, Model: icf_face_05, Baseline: none, Images found: 79\n"
     ]
    },
    {
     "name": "stderr",
     "output_type": "stream",
     "text": [
      "79it [01:26,  1.14s/it]\n"
     ]
    },
    {
     "name": "stdout",
     "output_type": "stream",
     "text": [
      "Context: sports, Model: icf_face_07, Baseline: none, Images found: 79\n"
     ]
    },
    {
     "name": "stderr",
     "output_type": "stream",
     "text": [
      "79it [01:25,  1.14s/it]\n"
     ]
    },
    {
     "name": "stdout",
     "output_type": "stream",
     "text": [
      "Context: sports, Model: ik, Baseline: none, Images found: 79\n"
     ]
    },
    {
     "name": "stderr",
     "output_type": "stream",
     "text": [
      "79it [01:25,  1.14s/it]\n"
     ]
    },
    {
     "name": "stdout",
     "output_type": "stream",
     "text": [
      "Context: sports, Model: ik_face_03, Baseline: none, Images found: 79\n"
     ]
    },
    {
     "name": "stderr",
     "output_type": "stream",
     "text": [
      "79it [01:26,  1.14s/it]\n"
     ]
    },
    {
     "name": "stdout",
     "output_type": "stream",
     "text": [
      "Context: sports, Model: ik_face_05, Baseline: none, Images found: 79\n"
     ]
    },
    {
     "name": "stderr",
     "output_type": "stream",
     "text": [
      "79it [01:26,  1.14s/it]\n"
     ]
    },
    {
     "name": "stdout",
     "output_type": "stream",
     "text": [
      "Context: sports, Model: ik_face_07, Baseline: none, Images found: 79\n"
     ]
    },
    {
     "name": "stderr",
     "output_type": "stream",
     "text": [
      "79it [01:25,  1.15s/it]\n"
     ]
    },
    {
     "name": "stdout",
     "output_type": "stream",
     "text": [
      "Context: sports, Model: sun, Baseline: none, Images found: 79\n"
     ]
    },
    {
     "name": "stderr",
     "output_type": "stream",
     "text": [
      "79it [01:25,  1.15s/it]\n"
     ]
    },
    {
     "name": "stdout",
     "output_type": "stream",
     "text": [
      "Context: sports, Model: sun_face_03, Baseline: none, Images found: 79\n"
     ]
    },
    {
     "name": "stderr",
     "output_type": "stream",
     "text": [
      "79it [01:26,  1.14s/it]\n"
     ]
    },
    {
     "name": "stdout",
     "output_type": "stream",
     "text": [
      "Context: sports, Model: sun_face_05, Baseline: none, Images found: 79\n"
     ]
    },
    {
     "name": "stderr",
     "output_type": "stream",
     "text": [
      "79it [01:26,  1.14s/it]\n"
     ]
    },
    {
     "name": "stdout",
     "output_type": "stream",
     "text": [
      "Context: sports, Model: sun_face_07, Baseline: none, Images found: 79\n"
     ]
    },
    {
     "name": "stderr",
     "output_type": "stream",
     "text": [
      "79it [01:26,  1.14s/it]\n"
     ]
    },
    {
     "name": "stdout",
     "output_type": "stream",
     "text": [
      "Context: electronic, Model: cas, Baseline: none, Images found: 112\n"
     ]
    },
    {
     "name": "stderr",
     "output_type": "stream",
     "text": [
      "76it [01:22,  1.08s/it]"
     ]
    },
    {
     "name": "stdout",
     "output_type": "stream",
     "text": [
      "Fixation Matfile at path ..\\..\\coco\\fixations\\COCO_val2014_000000322163.mat could not be found.\n"
     ]
    },
    {
     "name": "stderr",
     "output_type": "stream",
     "text": [
      "112it [01:59,  1.06s/it]\n"
     ]
    },
    {
     "name": "stdout",
     "output_type": "stream",
     "text": [
      "Context: electronic, Model: cas_face_03, Baseline: none, Images found: 111\n"
     ]
    },
    {
     "name": "stderr",
     "output_type": "stream",
     "text": [
      "75it [01:21,  1.08s/it]"
     ]
    },
    {
     "name": "stdout",
     "output_type": "stream",
     "text": [
      "Fixation Matfile at path ..\\..\\coco\\fixations\\COCO_val2014_000000322163.mat could not be found.\n"
     ]
    },
    {
     "name": "stderr",
     "output_type": "stream",
     "text": [
      "111it [01:58,  1.07s/it]\n"
     ]
    },
    {
     "name": "stdout",
     "output_type": "stream",
     "text": [
      "Context: electronic, Model: cas_face_05, Baseline: none, Images found: 112\n"
     ]
    },
    {
     "name": "stderr",
     "output_type": "stream",
     "text": [
      "76it [01:22,  1.07s/it]"
     ]
    },
    {
     "name": "stdout",
     "output_type": "stream",
     "text": [
      "Fixation Matfile at path ..\\..\\coco\\fixations\\COCO_val2014_000000322163.mat could not be found.\n"
     ]
    },
    {
     "name": "stderr",
     "output_type": "stream",
     "text": [
      "112it [01:59,  1.06s/it]\n"
     ]
    },
    {
     "name": "stdout",
     "output_type": "stream",
     "text": [
      "Context: electronic, Model: cas_face_07, Baseline: none, Images found: 112\n"
     ]
    },
    {
     "name": "stderr",
     "output_type": "stream",
     "text": [
      "76it [01:22,  1.07s/it]"
     ]
    },
    {
     "name": "stdout",
     "output_type": "stream",
     "text": [
      "Fixation Matfile at path ..\\..\\coco\\fixations\\COCO_val2014_000000322163.mat could not be found.\n"
     ]
    },
    {
     "name": "stderr",
     "output_type": "stream",
     "text": [
      "112it [01:59,  1.06s/it]\n"
     ]
    },
    {
     "name": "stdout",
     "output_type": "stream",
     "text": [
      "Context: electronic, Model: covsal, Baseline: none, Images found: 112\n"
     ]
    },
    {
     "name": "stderr",
     "output_type": "stream",
     "text": [
      "76it [01:22,  1.07s/it]"
     ]
    },
    {
     "name": "stdout",
     "output_type": "stream",
     "text": [
      "Fixation Matfile at path ..\\..\\coco\\fixations\\COCO_val2014_000000322163.mat could not be found.\n"
     ]
    },
    {
     "name": "stderr",
     "output_type": "stream",
     "text": [
      "112it [01:59,  1.06s/it]\n"
     ]
    },
    {
     "name": "stdout",
     "output_type": "stream",
     "text": [
      "Context: electronic, Model: covsal_face_03, Baseline: none, Images found: 112\n"
     ]
    },
    {
     "name": "stderr",
     "output_type": "stream",
     "text": [
      "76it [01:22,  1.08s/it]"
     ]
    },
    {
     "name": "stdout",
     "output_type": "stream",
     "text": [
      "Fixation Matfile at path ..\\..\\coco\\fixations\\COCO_val2014_000000322163.mat could not be found.\n"
     ]
    },
    {
     "name": "stderr",
     "output_type": "stream",
     "text": [
      "112it [01:59,  1.06s/it]\n"
     ]
    },
    {
     "name": "stdout",
     "output_type": "stream",
     "text": [
      "Context: electronic, Model: covsal_face_05, Baseline: none, Images found: 112\n"
     ]
    },
    {
     "name": "stderr",
     "output_type": "stream",
     "text": [
      "76it [01:22,  1.08s/it]"
     ]
    },
    {
     "name": "stdout",
     "output_type": "stream",
     "text": [
      "Fixation Matfile at path ..\\..\\coco\\fixations\\COCO_val2014_000000322163.mat could not be found.\n"
     ]
    },
    {
     "name": "stderr",
     "output_type": "stream",
     "text": [
      "112it [01:59,  1.06s/it]\n"
     ]
    },
    {
     "name": "stdout",
     "output_type": "stream",
     "text": [
      "Context: electronic, Model: covsal_face_07, Baseline: none, Images found: 112\n"
     ]
    },
    {
     "name": "stderr",
     "output_type": "stream",
     "text": [
      "76it [01:22,  1.09s/it]"
     ]
    },
    {
     "name": "stdout",
     "output_type": "stream",
     "text": [
      "Fixation Matfile at path ..\\..\\coco\\fixations\\COCO_val2014_000000322163.mat could not be found.\n"
     ]
    },
    {
     "name": "stderr",
     "output_type": "stream",
     "text": [
      "112it [01:59,  1.06s/it]\n"
     ]
    },
    {
     "name": "stdout",
     "output_type": "stream",
     "text": [
      "Context: electronic, Model: icf, Baseline: none, Images found: 112\n"
     ]
    },
    {
     "name": "stderr",
     "output_type": "stream",
     "text": [
      "76it [01:22,  1.07s/it]"
     ]
    },
    {
     "name": "stdout",
     "output_type": "stream",
     "text": [
      "Fixation Matfile at path ..\\..\\coco\\fixations\\COCO_val2014_000000322163.mat could not be found.\n"
     ]
    },
    {
     "name": "stderr",
     "output_type": "stream",
     "text": [
      "112it [01:59,  1.06s/it]\n"
     ]
    },
    {
     "name": "stdout",
     "output_type": "stream",
     "text": [
      "Context: electronic, Model: icf_face_03, Baseline: none, Images found: 112\n"
     ]
    },
    {
     "name": "stderr",
     "output_type": "stream",
     "text": [
      "76it [01:22,  1.08s/it]"
     ]
    },
    {
     "name": "stdout",
     "output_type": "stream",
     "text": [
      "Fixation Matfile at path ..\\..\\coco\\fixations\\COCO_val2014_000000322163.mat could not be found.\n"
     ]
    },
    {
     "name": "stderr",
     "output_type": "stream",
     "text": [
      "112it [01:59,  1.06s/it]\n"
     ]
    },
    {
     "name": "stdout",
     "output_type": "stream",
     "text": [
      "Context: electronic, Model: icf_face_05, Baseline: none, Images found: 112\n"
     ]
    },
    {
     "name": "stderr",
     "output_type": "stream",
     "text": [
      "76it [01:22,  1.08s/it]"
     ]
    },
    {
     "name": "stdout",
     "output_type": "stream",
     "text": [
      "Fixation Matfile at path ..\\..\\coco\\fixations\\COCO_val2014_000000322163.mat could not be found.\n"
     ]
    },
    {
     "name": "stderr",
     "output_type": "stream",
     "text": [
      "112it [02:00,  1.04s/it]\n"
     ]
    },
    {
     "name": "stdout",
     "output_type": "stream",
     "text": [
      "Context: electronic, Model: icf_face_07, Baseline: none, Images found: 112\n"
     ]
    },
    {
     "name": "stderr",
     "output_type": "stream",
     "text": [
      "76it [01:22,  1.08s/it]"
     ]
    },
    {
     "name": "stdout",
     "output_type": "stream",
     "text": [
      "Fixation Matfile at path ..\\..\\coco\\fixations\\COCO_val2014_000000322163.mat could not be found.\n"
     ]
    },
    {
     "name": "stderr",
     "output_type": "stream",
     "text": [
      "112it [01:59,  1.05s/it]\n"
     ]
    },
    {
     "name": "stdout",
     "output_type": "stream",
     "text": [
      "Context: electronic, Model: ik, Baseline: none, Images found: 112\n"
     ]
    },
    {
     "name": "stderr",
     "output_type": "stream",
     "text": [
      "76it [01:23,  1.08s/it]"
     ]
    },
    {
     "name": "stdout",
     "output_type": "stream",
     "text": [
      "Fixation Matfile at path ..\\..\\coco\\fixations\\COCO_val2014_000000322163.mat could not be found.\n"
     ]
    },
    {
     "name": "stderr",
     "output_type": "stream",
     "text": [
      "112it [02:00,  1.05s/it]\n"
     ]
    },
    {
     "name": "stdout",
     "output_type": "stream",
     "text": [
      "Context: electronic, Model: ik_face_03, Baseline: none, Images found: 112\n"
     ]
    },
    {
     "name": "stderr",
     "output_type": "stream",
     "text": [
      "76it [01:22,  1.08s/it]"
     ]
    },
    {
     "name": "stdout",
     "output_type": "stream",
     "text": [
      "Fixation Matfile at path ..\\..\\coco\\fixations\\COCO_val2014_000000322163.mat could not be found.\n"
     ]
    },
    {
     "name": "stderr",
     "output_type": "stream",
     "text": [
      "112it [01:59,  1.06s/it]\n"
     ]
    },
    {
     "name": "stdout",
     "output_type": "stream",
     "text": [
      "Context: electronic, Model: ik_face_05, Baseline: none, Images found: 112\n"
     ]
    },
    {
     "name": "stderr",
     "output_type": "stream",
     "text": [
      "76it [01:22,  1.08s/it]"
     ]
    },
    {
     "name": "stdout",
     "output_type": "stream",
     "text": [
      "Fixation Matfile at path ..\\..\\coco\\fixations\\COCO_val2014_000000322163.mat could not be found.\n"
     ]
    },
    {
     "name": "stderr",
     "output_type": "stream",
     "text": [
      "112it [01:59,  1.05s/it]\n"
     ]
    },
    {
     "name": "stdout",
     "output_type": "stream",
     "text": [
      "Context: electronic, Model: ik_face_07, Baseline: none, Images found: 112\n"
     ]
    },
    {
     "name": "stderr",
     "output_type": "stream",
     "text": [
      "76it [01:22,  1.08s/it]"
     ]
    },
    {
     "name": "stdout",
     "output_type": "stream",
     "text": [
      "Fixation Matfile at path ..\\..\\coco\\fixations\\COCO_val2014_000000322163.mat could not be found.\n"
     ]
    },
    {
     "name": "stderr",
     "output_type": "stream",
     "text": [
      "112it [01:59,  1.06s/it]\n"
     ]
    },
    {
     "name": "stdout",
     "output_type": "stream",
     "text": [
      "Context: electronic, Model: sun, Baseline: none, Images found: 112\n"
     ]
    },
    {
     "name": "stderr",
     "output_type": "stream",
     "text": [
      "76it [01:22,  1.08s/it]"
     ]
    },
    {
     "name": "stdout",
     "output_type": "stream",
     "text": [
      "Fixation Matfile at path ..\\..\\coco\\fixations\\COCO_val2014_000000322163.mat could not be found.\n"
     ]
    },
    {
     "name": "stderr",
     "output_type": "stream",
     "text": [
      "112it [01:59,  1.05s/it]\n"
     ]
    },
    {
     "name": "stdout",
     "output_type": "stream",
     "text": [
      "Context: electronic, Model: sun_face_03, Baseline: none, Images found: 112\n"
     ]
    },
    {
     "name": "stderr",
     "output_type": "stream",
     "text": [
      "76it [01:22,  1.08s/it]"
     ]
    },
    {
     "name": "stdout",
     "output_type": "stream",
     "text": [
      "Fixation Matfile at path ..\\..\\coco\\fixations\\COCO_val2014_000000322163.mat could not be found.\n"
     ]
    },
    {
     "name": "stderr",
     "output_type": "stream",
     "text": [
      "112it [01:59,  1.05s/it]\n"
     ]
    },
    {
     "name": "stdout",
     "output_type": "stream",
     "text": [
      "Context: electronic, Model: sun_face_05, Baseline: none, Images found: 112\n"
     ]
    },
    {
     "name": "stderr",
     "output_type": "stream",
     "text": [
      "76it [01:22,  1.08s/it]"
     ]
    },
    {
     "name": "stdout",
     "output_type": "stream",
     "text": [
      "Fixation Matfile at path ..\\..\\coco\\fixations\\COCO_val2014_000000322163.mat could not be found.\n"
     ]
    },
    {
     "name": "stderr",
     "output_type": "stream",
     "text": [
      "112it [01:59,  1.06s/it]\n"
     ]
    },
    {
     "name": "stdout",
     "output_type": "stream",
     "text": [
      "Context: electronic, Model: sun_face_07, Baseline: none, Images found: 112\n"
     ]
    },
    {
     "name": "stderr",
     "output_type": "stream",
     "text": [
      "76it [01:22,  1.08s/it]"
     ]
    },
    {
     "name": "stdout",
     "output_type": "stream",
     "text": [
      "Fixation Matfile at path ..\\..\\coco\\fixations\\COCO_val2014_000000322163.mat could not be found.\n"
     ]
    },
    {
     "name": "stderr",
     "output_type": "stream",
     "text": [
      "112it [01:59,  1.06s/it]\n"
     ]
    },
    {
     "name": "stdout",
     "output_type": "stream",
     "text": [
      "[[[0.69923231 0.52147302 4.04258929 0.69205223 0.47971337 0.11411279\n",
      "   2.90003777 0.10537927]\n",
      "  [0.72403106 0.52572765 4.05892105 0.69576864 0.48494315 0.11106673\n",
      "   2.89814188 0.10534315]\n",
      "  [0.74954355 0.53047415 4.0653102  0.69759828 0.50143501 0.10920763\n",
      "   2.89356944 0.10556197]\n",
      "  [0.77145826 0.53844013 4.06610858 0.69854564 0.53204213 0.10723835\n",
      "   2.88723982 0.10571337]\n",
      "  [0.80860125 0.52837565 2.98837288 0.74677428 0.62733917 0.10207349\n",
      "   1.7501626  0.09157838]\n",
      "  [0.8446139  0.54086656 3.0407207  0.75054755 0.62964717 0.09724953\n",
      "   1.81843561 0.09190763]\n",
      "  [0.87128205 0.5503146  2.95329124 0.75173564 0.64277603 0.09692411\n",
      "   1.7920351  0.09221914]\n",
      "  [0.88258518 0.555271   2.78914945 0.75304913 0.65861836 0.09661862\n",
      "   1.90108277 0.0918298 ]\n",
      "  [0.75045342 0.54045039 3.96741466 0.70156753 0.57832584 0.11823992\n",
      "   2.9931694  0.10833264]\n",
      "  [0.77699135 0.54729078 3.9734495  0.70395452 0.58438391 0.11577936\n",
      "   2.99135876 0.10878737]\n",
      "  [0.79488578 0.55266073 3.96901867 0.70476155 0.5996638  0.11406201\n",
      "   2.98379049 0.10896899]\n",
      "  [0.80314599 0.55754612 3.92324342 0.70578167 0.62050156 0.11248184\n",
      "   2.98316391 0.10881854]\n",
      "  [0.60909373 0.48344292 3.78293164 0.66300771 0.48396874 0.10351697\n",
      "   2.91819131 0.10792318]\n",
      "  [0.64471822 0.49001875 3.8038145  0.66825095 0.49645326 0.10031462\n",
      "   2.91809908 0.10911861]\n",
      "  [0.67265349 0.49692459 3.79709557 0.66979406 0.52184178 0.09878351\n",
      "   2.92401183 0.10971963]\n",
      "  [0.68947909 0.50571772 3.77158063 0.67089189 0.55383612 0.09903409\n",
      "   2.92668718 0.10997125]\n",
      "  [0.38163633 0.43643592 3.68960443 0.60326442 0.39358354 0.12449354\n",
      "   3.04768159 0.10004446]\n",
      "  [0.42704793 0.44157795 3.72274995 0.6113473  0.41630007 0.12172845\n",
      "   3.04504643 0.10226957]\n",
      "  [0.46671337 0.44833915 3.7364565  0.61397647 0.45742115 0.12042247\n",
      "   3.04101477 0.10290063]\n",
      "  [0.49663826 0.45812267 3.73713636 0.61547889 0.50771136 0.12028033\n",
      "   3.03560452 0.10343838]]\n",
      "\n",
      " [[0.7512145  0.49648646 3.95703554 0.70385149 0.49340306 0.10793303\n",
      "   2.92844305 0.10195641]\n",
      "  [0.79426625 0.50329052 3.97804069 0.71062121 0.49550963 0.10491424\n",
      "   2.92199563 0.10078965]\n",
      "  [0.83421328 0.51150311 3.99471838 0.7133225  0.5155154  0.1030587\n",
      "   2.91704148 0.10079755]\n",
      "  [0.86930867 0.52425028 3.99642916 0.71477272 0.55682542 0.10177979\n",
      "   2.90680746 0.10089012]\n",
      "  [0.85843411 0.5209761  2.99049951 0.75400572 0.66168127 0.1053247\n",
      "   1.7825954  0.09155786]\n",
      "  [0.91554101 0.54049193 3.05123601 0.76014482 0.66155108 0.09893625\n",
      "   1.87587447 0.09155124]\n",
      "  [0.95749785 0.55550968 2.92375548 0.76201178 0.67709173 0.0984933\n",
      "   1.86988797 0.09187707]\n",
      "  [0.97500188 0.56368631 2.66702629 0.76389711 0.69870568 0.09767253\n",
      "   2.03388964 0.09112068]\n",
      "  [0.7985731  0.52081324 3.7613533  0.71114065 0.60403302 0.11650866\n",
      "   3.05859225 0.10742659]\n",
      "  [0.84110496 0.5318088  3.76919001 0.71521493 0.60884234 0.11422196\n",
      "   3.05512143 0.10764293]\n",
      "  [0.86994216 0.54040626 3.76198364 0.71654341 0.62908205 0.11243415\n",
      "   3.04258235 0.10779834]\n",
      "  [0.88357259 0.5481767  3.68861835 0.71801196 0.65970587 0.11054128\n",
      "   3.03688559 0.10751047]\n",
      "  [0.65624826 0.45822908 3.63073079 0.6732634  0.50910094 0.09420297\n",
      "   2.95706757 0.10744397]\n",
      "  [0.71465497 0.46897    3.6651093  0.68208884 0.52058354 0.09133635\n",
      "   2.95607621 0.10830311]\n",
      "  [0.75966122 0.4800398  3.65407275 0.68458753 0.55270957 0.09096049\n",
      "   2.96467584 0.10895153]\n",
      "  [0.78710439 0.4941444  3.61366251 0.68628228 0.59705241 0.09358752\n",
      "   2.96713599 0.10916704]\n",
      "  [0.37471604 0.40073017 3.50187867 0.59943059 0.41347427 0.11316341\n",
      "   3.08923304 0.10366136]\n",
      "  [0.45077608 0.40982047 3.55402517 0.61314977 0.44143908 0.11153723\n",
      "   3.08365663 0.10623908]\n",
      "  [0.51456955 0.4206495  3.5755796  0.61738418 0.49757153 0.1121446\n",
      "   3.07724125 0.10707822]\n",
      "  [0.56330412 0.43631657 3.57646563 0.61978641 0.56707492 0.11530325\n",
      "   3.06716547 0.10782164]]\n",
      "\n",
      " [[0.61496645 0.56197754 4.18127641 0.67292499 0.44390172 0.11222048\n",
      "   2.84793588 0.10799852]\n",
      "  [0.60957373 0.56229187 4.19072608 0.67156445 0.44401305 0.1111034\n",
      "   2.85393561 0.10808079]\n",
      "  [0.61228946 0.56122722 4.17974325 0.6721085  0.44470797 0.11186131\n",
      "   2.8513998  0.1081045 ]\n",
      "  [0.61283759 0.56144263 4.17906259 0.67224069 0.44569266 0.11177687\n",
      "   2.85161997 0.10803653]\n",
      "  [0.72781955 0.54037071 2.9849255  0.73505174 0.55789152 0.09535874\n",
      "   1.69626478 0.09039082]\n",
      "  [0.72963732 0.54147386 3.02367483 0.73498987 0.55525032 0.09444813\n",
      "   1.72112052 0.09034184]\n",
      "  [0.73152171 0.5418931  3.00117026 0.73507746 0.55511936 0.09371511\n",
      "   1.65696571 0.09032042]\n",
      "  [0.73277285 0.54162935 2.98711753 0.73546399 0.55613431 0.09328628\n",
      "   1.64426267 0.09023867]\n",
      "  [0.67244888 0.57228324 4.30145098 0.68604898 0.52473844 0.11402216\n",
      "   2.85251433 0.10799754]\n",
      "  [0.67305982 0.57238788 4.30456487 0.6857008  0.52605119 0.11387323\n",
      "   2.85411567 0.10815484]\n",
      "  [0.67321543 0.57252588 4.30463334 0.68566252 0.52636848 0.1138849\n",
      "   2.85421492 0.10814713]\n",
      "  [0.67277024 0.57273443 4.30358301 0.68595572 0.52552696 0.11393309\n",
      "   2.8532633  0.108003  ]\n",
      "  [0.53265377 0.52431588 4.02965722 0.6463827  0.42932494 0.10488029\n",
      "   2.83675055 0.10661999]\n",
      "  [0.53134708 0.52413989 4.02866294 0.645819   0.43116254 0.10473729\n",
      "   2.84111356 0.10668034]\n",
      "  [0.53160937 0.52429572 4.02894308 0.64581305 0.431723   0.10465702\n",
      "   2.84161204 0.10668093]\n",
      "  [0.53122334 0.52447867 4.02757419 0.64594326 0.43082862 0.1045913\n",
      "   2.84131715 0.10664406]\n",
      "  [0.39285448 0.49431681 3.99391775 0.60947927 0.35872247 0.12019461\n",
      "   2.95385584 0.09355252]\n",
      "  [0.38858335 0.4930585  3.99626169 0.6084254  0.36872651 0.11994307\n",
      "   2.96104043 0.09541255]\n",
      "  [0.38913597 0.49322554 3.99724643 0.60845241 0.37060322 0.11985276\n",
      "   2.96285499 0.09548406]\n",
      "  [0.3885694  0.49347151 3.99759208 0.60849617 0.36804782 0.11978192\n",
      "   2.96529601 0.09549638]]\n",
      "\n",
      " [[0.59850108 0.45922004 4.19336283 0.66708578 0.44584532 0.11697334\n",
      "   2.83827481 0.10648586]\n",
      "  [0.60896395 0.45974426 4.19950586 0.66849133 0.46072104 0.11662442\n",
      "   2.83842819 0.10830758]\n",
      "  [0.62054998 0.46110456 4.20528652 0.66893188 0.4790398  0.11664985\n",
      "   2.83724158 0.10888468]\n",
      "  [0.62983869 0.46373234 4.21012302 0.66923219 0.49716952 0.11736453\n",
      "   2.83604232 0.10910065]\n",
      "  [0.79935254 0.51624079 2.75136891 0.73344152 0.55346205 0.09470766\n",
      "   1.61020717 0.09269259]\n",
      "  [0.81408463 0.51967079 2.82084012 0.73568177 0.55875153 0.09210002\n",
      "   1.63853308 0.09317312]\n",
      "  [0.82697405 0.52258397 2.82734793 0.73645246 0.56558826 0.09081079\n",
      "   1.64529164 0.09360956]\n",
      "  [0.83429355 0.5245484  2.81213674 0.73708817 0.56728531 0.08920174\n",
      "   1.64446826 0.09382502]\n",
      "  [0.70339171 0.48050038 4.29066863 0.67990034 0.63421908 0.11870974\n",
      "   2.90410802 0.12279102]\n",
      "  [0.71762455 0.48203195 4.30062758 0.68045253 0.64102644 0.11871826\n",
      "   2.90595551 0.123412  ]\n",
      "  [0.72751949 0.48363611 4.30562663 0.6806184  0.6489099  0.11896433\n",
      "   2.90515553 0.12354652]\n",
      "  [0.73265181 0.48554422 4.30759187 0.68112132 0.65212938 0.11834837\n",
      "   2.90534352 0.12354548]\n",
      "  [0.57022169 0.44034871 3.79549586 0.65640551 0.4087059  0.10578665\n",
      "   2.86023391 0.09887287]\n",
      "  [0.58275538 0.44156053 3.80252965 0.65815497 0.42316313 0.10570729\n",
      "   2.86463161 0.10095236]\n",
      "  [0.59353869 0.4431887  3.80864081 0.65886769 0.43944068 0.1060107\n",
      "   2.86501624 0.10202423]\n",
      "  [0.60115778 0.44540106 3.81285144 0.659359   0.4555506  0.10654573\n",
      "   2.86648652 0.10248305]\n",
      "  [0.2318573  0.37497098 3.99762081 0.56042567 0.40976301 0.11590247\n",
      "   2.9641773  0.10981123]\n",
      "  [0.24436995 0.37509795 4.01158665 0.56247954 0.42816405 0.11531585\n",
      "   2.95760318 0.11315867]\n",
      "  [0.26381346 0.37673345 4.01905564 0.56375785 0.45356434 0.11531037\n",
      "   2.95428118 0.11398975]\n",
      "  [0.28235219 0.37985898 4.0245749  0.56443789 0.48259717 0.11626229\n",
      "   2.95081443 0.11440655]]\n",
      "\n",
      " [[0.91644296 0.49027402 3.88773356 0.7280633  0.58356071 0.10189545\n",
      "   3.18214525 0.10491727]\n",
      "  [0.93388197 0.49349859 3.89433254 0.72902482 0.60047803 0.1008665\n",
      "   3.18847864 0.10573032]\n",
      "  [0.94835666 0.49740847 3.89843992 0.72916293 0.61719792 0.10052153\n",
      "   3.19260229 0.10573155]\n",
      "  [0.9572939  0.50398256 3.89486068 0.72958219 0.62590318 0.10103591\n",
      "   3.19542559 0.10564813]\n",
      "  [0.99466292 0.50274384 2.8783263  0.76714237 0.70451227 0.11818557\n",
      "   1.921276   0.09516374]\n",
      "  [1.021776   0.51093357 2.887945   0.76892943 0.70173715 0.11363168\n",
      "   1.98576078 0.09532411]\n",
      "  [1.0438734  0.51860096 2.81941062 0.76964911 0.7096246  0.11101932\n",
      "   1.98344278 0.09565392]\n",
      "  [1.05599834 0.5248429  2.6698174  0.7708298  0.72752604 0.10833479\n",
      "   2.11646459 0.09583861]\n",
      "  [0.82759845 0.493894   3.11173153 0.71765002 0.59322263 0.12712008\n",
      "   3.65461832 0.09939458]\n",
      "  [0.84894436 0.50031887 3.10152157 0.71903727 0.60881097 0.12719577\n",
      "   3.67785654 0.0999104 ]\n",
      "  [0.85967489 0.50415557 3.07209953 0.71990146 0.61097769 0.12637576\n",
      "   3.65292315 0.10006489]\n",
      "  [0.85852377 0.50619844 2.97736715 0.72112039 0.60355442 0.12385042\n",
      "   3.64859804 0.10022219]\n",
      "  [0.82551936 0.43930324 3.32410421 0.68813339 0.60241485 0.0859557\n",
      "   3.33942589 0.1065196 ]\n",
      "  [0.84990644 0.44514371 3.33786875 0.690817   0.61833898 0.08465821\n",
      "   3.34874104 0.10925154]\n",
      "  [0.86572927 0.45106393 3.30726596 0.69130934 0.63340572 0.08506301\n",
      "   3.37676892 0.1099021 ]\n",
      "  [0.87276424 0.45977035 3.23839195 0.69206135 0.64716869 0.08847204\n",
      "   3.38706319 0.11012525]\n",
      "  [0.38137753 0.34743968 3.22462098 0.59578973 0.47035304 0.10768338\n",
      "   3.48475192 0.11351505]\n",
      "  [0.41203967 0.35019432 3.25041245 0.59977743 0.48029933 0.10686411\n",
      "   3.49876478 0.11500821]\n",
      "  [0.44699508 0.35503333 3.25931083 0.60167395 0.51017407 0.10704215\n",
      "   3.49924763 0.11523615]\n",
      "  [0.48002563 0.36389732 3.25933538 0.60299804 0.55796953 0.10941197\n",
      "   3.49122624 0.11531015]]\n",
      "\n",
      " [[0.60289106 0.52502035 4.65186268 0.67063787 0.41031417 0.11063442\n",
      "   2.69276927 0.0978658 ]\n",
      "  [0.64175102 0.53397056 4.68851538 0.67653824 0.41834092 0.10501097\n",
      "   2.68334567 0.09806394]\n",
      "  [0.68356913 0.54086967 4.67996105 0.68039303 0.44296087 0.10247985\n",
      "   2.67836953 0.09891482]\n",
      "  [0.71584125 0.55320755 4.66705357 0.68252646 0.48216036 0.09783162\n",
      "   2.67160815 0.09939158]\n",
      "  [0.67690071 0.50725104 3.44011323 0.7262567  0.50643736 0.10546946\n",
      "   1.87294302 0.08313788]\n",
      "  [0.73316237 0.52801204 3.49646468 0.73264009 0.51082175 0.09845524\n",
      "   2.04173367 0.08370298]\n",
      "  [0.77380909 0.5438656  3.32512339 0.734824   0.52467844 0.09817676\n",
      "   1.91894214 0.08452226]\n",
      "  [0.79072303 0.55177645 3.02735236 0.73712804 0.53200335 0.09512909\n",
      "   2.01914448 0.08454733]\n",
      "  [0.6801075  0.5343479  4.6313821  0.68297913 0.54569778 0.110645\n",
      "   2.69008239 0.10649599]\n",
      "  [0.71442382 0.54544372 4.64386049 0.68655912 0.5416093  0.10520745\n",
      "   2.68306312 0.10722968]\n",
      "  [0.73556147 0.55415401 4.64139686 0.68794499 0.55082761 0.1003846\n",
      "   2.68170598 0.10729416]\n",
      "  [0.74185869 0.56226028 4.56423479 0.6900019  0.56212752 0.09663403\n",
      "   2.70341746 0.1070572 ]\n",
      "  [0.54826447 0.49811633 4.46883646 0.6520149  0.43475461 0.10800783\n",
      "   2.71013596 0.09945779]\n",
      "  [0.60465891 0.50895352 4.49970443 0.66111116 0.45452056 0.10273616\n",
      "   2.71514878 0.10152772]\n",
      "  [0.64629925 0.51988599 4.48463145 0.66408431 0.48996242 0.0987057\n",
      "   2.74972405 0.10282061]\n",
      "  [0.66745808 0.53297922 4.47148741 0.66658116 0.51973446 0.09555972\n",
      "   2.76508232 0.10357273]\n",
      "  [0.34291238 0.4493117  4.34323724 0.589477   0.36753022 0.10595741\n",
      "   2.82783823 0.08737725]\n",
      "  [0.41680583 0.45857819 4.39339499 0.6018727  0.40626525 0.10030719\n",
      "   2.82791016 0.09301821]\n",
      "  [0.47359849 0.46972551 4.41594429 0.60571564 0.45856582 0.09663548\n",
      "   2.82477986 0.09497989]\n",
      "  [0.51200653 0.48528976 4.41788312 0.60847909 0.50674921 0.09424148\n",
      "   2.81985014 0.09651993]]]\n"
     ]
    }
   ],
   "source": [
    "# create context analysis object with the models and contexts to analyse\n",
    "ca = ContextAnalysis(dataDir)\n",
    "#summary = ca.run_context_analysis(return_all=True)\n",
    "(results, scores) = ca.run_context_analysis(models, context, metrics_to_use, baseline_models)\n",
    "\n",
    "print(results)"
   ]
  },
  {
   "cell_type": "code",
   "execution_count": 5,
   "metadata": {},
   "outputs": [],
   "source": [
    "# save to file for further usage\n",
    "os.chdir('../results/')\n",
    "pickle.dump((results, context, models, scores), open(\"2019-05-13_rest-with-std.p\", \"wb\"))"
   ]
  },
  {
   "cell_type": "markdown",
   "metadata": {},
   "source": [
    "## How to get access to the file..."
   ]
  },
  {
   "cell_type": "code",
   "execution_count": null,
   "metadata": {},
   "outputs": [],
   "source": [
    "# check loading the files\n",
    "os.chdir('../results/')\n",
    "(results_loaded, cxt, mod, labels) = pickle.load(open( \"2019-05-11_results-with-std.p\", \"rb\"))"
   ]
  }
 ],
 "metadata": {
  "kernelspec": {
   "display_name": "saliency",
   "language": "python",
   "name": "myenv"
  },
  "language_info": {
   "codemirror_mode": {
    "name": "ipython",
    "version": 3
   },
   "file_extension": ".py",
   "mimetype": "text/x-python",
   "name": "python",
   "nbconvert_exporter": "python",
   "pygments_lexer": "ipython3",
   "version": "3.7.1"
  }
 },
 "nbformat": 4,
 "nbformat_minor": 2
}
